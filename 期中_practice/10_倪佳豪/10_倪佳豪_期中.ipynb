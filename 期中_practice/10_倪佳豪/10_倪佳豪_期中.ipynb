{
 "cells": [
  {
   "cell_type": "markdown",
   "metadata": {},
   "source": [
    "# 1．打印出所有的\"水仙花数\"，所谓\"水仙花数\"是指一个三位数，其各位数字立方和等于该数本身。例如：153是一个\"水仙花数\"，因为153=1的三次方＋5的三次方＋3的三次方。"
   ]
  },
  {
   "cell_type": "code",
   "execution_count": 33,
   "metadata": {},
   "outputs": [
    {
     "name": "stdout",
     "output_type": "stream",
     "text": [
      "153 370 371 407 "
     ]
    }
   ],
   "source": [
    "import math\n",
    "for i in range(100,1000):\n",
    "    a = math.floor(i/100)\n",
    "    b = math.floor((i-a*100)/10)\n",
    "    c = i - math.floor(i/10)*10\n",
    "    if i == a**3 + b**3 + c**3:\n",
    "        print(i,end=' ')"
   ]
  },
  {
   "cell_type": "markdown",
   "metadata": {},
   "source": [
    "# 2. “回文”是指正读反读都能读通的句子，它是古今中外都有的一种修辞方式和文字游戏，如“我为人人，人人为我”等。在数学中也有这样一类数字有这样的特征，称为回文数（palindrome number），例如10001,9889等，设计一个函数f用于检查输入的数字是否为回文数，返回布尔类型"
   ]
  },
  {
   "cell_type": "code",
   "execution_count": 52,
   "metadata": {},
   "outputs": [
    {
     "name": "stdout",
     "output_type": "stream",
     "text": [
      "请输入数字：10001\n",
      "10001这个数是回文数\n"
     ]
    }
   ],
   "source": [
    "a = input(\"请输入数字：\")\n",
    "l = len(a)\n",
    "flag = True\n",
    "for i in range(1,l//2):\n",
    "    if a[i-1] != a[-1]:\n",
    "        flag = False\n",
    "        break\n",
    "\n",
    "if flag :\n",
    "    print(\"%s这个数是回文数\"%a)\n",
    "else:\n",
    "    print(\"%s这个数不是回文数\"%a)\n",
    "\n"
   ]
  },
  {
   "cell_type": "markdown",
   "metadata": {},
   "source": [
    "# 3. \n",
    "有三个学生stu1,stu2,stu3如下所示：\n",
    "stu1 = {\"大学英语\":98,\"色彩学基础\":99,\"普通话\":70}\n",
    "stu2 = {\"大学英语\":97,\"音乐鉴赏\":90,\"会计基础\":89}\n",
    "stu3 = {\"大学英语\":44,\"普通话\":63,\"网店运营\":90}\n",
    "请编程完成下列要求：\n",
    "（1）全校（假设仅3个学生）总共开了多少门课程\n",
    "（2）找出三个学生都选的课程\n",
    "（3）stu3的大学英文课程进行了补考，更新stu3的大学英语的成绩为60，之后计算该学生的平均分（15分）"
   ]
  },
  {
   "cell_type": "code",
   "execution_count": 21,
   "metadata": {},
   "outputs": [
    {
     "name": "stdout",
     "output_type": "stream",
     "text": [
      "['大学英语', '色彩学基础', '普通话', '音乐鉴赏', '会计基础', '网店运营']\n",
      "6\n"
     ]
    }
   ],
   "source": [
    "stu1 = {\"大学英语\":98,\"色彩学基础\":99,\"普通话\":70}\n",
    "stu2 = {\"大学英语\":97,\"音乐鉴赏\":90,\"会计基础\":89}\n",
    "stu3 = {\"大学英语\":44,\"普通话\":63,\"网店运营\":90}\n",
    "#(1)、\n",
    "list = []\n",
    "stud = []\n",
    "sum = 0\n",
    "for i in stu1,stu2,stu3:\n",
    "    for a in i.keys():\n",
    "        stud.append(a)\n",
    "        if a not in list:\n",
    "            list.append(a)\n",
    "        else:\n",
    "            pass\n",
    "print(list)\n",
    "print(len(list))"
   ]
  },
  {
   "cell_type": "code",
   "execution_count": 30,
   "metadata": {},
   "outputs": [
    {
     "data": {
      "text/plain": [
       "{'大学英语'}"
      ]
     },
     "execution_count": 30,
     "metadata": {},
     "output_type": "execute_result"
    }
   ],
   "source": [
    "#(2)、\n",
    "stu1.keys() & stu2.keys() & stu3.keys()"
   ]
  },
  {
   "cell_type": "code",
   "execution_count": 23,
   "metadata": {},
   "outputs": [
    {
     "name": "stdout",
     "output_type": "stream",
     "text": [
      "71.0\n"
     ]
    }
   ],
   "source": [
    "#(3)、\n",
    "stu3[\"大学英语\"] = 60\n",
    "print((stu3[\"大学英语\"] + stu3[\"普通话\"] + stu3[\"网店运营\"])/3)"
   ]
  },
  {
   "cell_type": "markdown",
   "metadata": {},
   "source": [
    "# 4.\n",
    "已知列表stus=[\n",
    "{\"NO\":\"2019201\",\"数学\":98,\"语文\":99},\n",
    "      {\"NO\":\"2019202\",\"数学\":97,\"语文\":90},\n",
    "      {\"NO\":\"2019203\",\"数学\":44,\"语文\":33},\n",
    "      {\"NO\":\"2019204\",\"数学\":44,\"语文\":60},...]\n",
    "存放着某班所有学生的学号、数学课成绩和语文课成绩。请编程完成下列要求：\n",
    "（1）分别求这个班数学和语文的平均分并输出。\n",
    "（2）找出两门课都不及格（<60）的学生，输出他们的学号和各科成绩。\n",
    "（3）找出两门课的平均分在90分以上的学生，输出他们的学号和各科成绩。\n",
    "建议用三个函数分别实现以上要求。"
   ]
  },
  {
   "cell_type": "code",
   "execution_count": 18,
   "metadata": {},
   "outputs": [
    {
     "name": "stdout",
     "output_type": "stream",
     "text": [
      "数学平均分：70.75\n",
      "语文平均分：70.5\n",
      "---------\n",
      "{'NO': '2019203', '数学': 44, '语文': 33}\n",
      "---------\n",
      "{'NO': '2019201', '数学': 98, '语文': 99}\n",
      "{'NO': '2019202', '数学': 97, '语文': 90}\n"
     ]
    }
   ],
   "source": [
    "stus=[{\"NO\":\"2019201\",\"数学\":98,\"语文\":99},\n",
    "      {\"NO\":\"2019202\",\"数学\":97,\"语文\":90},\n",
    "      {\"NO\":\"2019203\",\"数学\":44,\"语文\":33},\n",
    "      {\"NO\":\"2019204\",\"数学\":44,\"语文\":60}]\n",
    "#(1)、\n",
    "def avg():\n",
    "    math = 0\n",
    "    chinese = 0\n",
    "    for i in stus:\n",
    "        math = math + i[\"数学\"]\n",
    "        chinese = chinese + i[\"语文\"]\n",
    "    print(\"数学平均分：\" + str(math/4))\n",
    "    print(\"语文平均分：\" + str(chinese/4))\n",
    "\n",
    "\n",
    "#(2)、\n",
    "def n1():\n",
    "    for i in stus:\n",
    "        if((i[\"数学\"] < 60) and (i[\"语文\"] < 60)):\n",
    "            print(i)\n",
    "\n",
    "#(3)、\n",
    "def n2():\n",
    "    for i in stus:\n",
    "        if(i[\"数学\"] + i[\"语文\"] > 180):\n",
    "            print(i)\n",
    "\n",
    "avg()\n",
    "print(\"---------\")\n",
    "n1()\n",
    "print(\"---------\")\n",
    "n2()"
   ]
  },
  {
   "cell_type": "code",
   "execution_count": null,
   "metadata": {},
   "outputs": [],
   "source": []
  }
 ],
 "metadata": {
  "kernelspec": {
   "display_name": "Python 3",
   "language": "python",
   "name": "python3"
  },
  "language_info": {
   "codemirror_mode": {
    "name": "ipython",
    "version": 3
   },
   "file_extension": ".py",
   "mimetype": "text/x-python",
   "name": "python",
   "nbconvert_exporter": "python",
   "pygments_lexer": "ipython3",
   "version": "3.7.1"
  }
 },
 "nbformat": 4,
 "nbformat_minor": 2
}
