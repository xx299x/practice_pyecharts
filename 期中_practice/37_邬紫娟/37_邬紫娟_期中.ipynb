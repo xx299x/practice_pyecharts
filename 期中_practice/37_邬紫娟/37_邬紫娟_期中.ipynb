{
 "cells": [
  {
   "cell_type": "markdown",
   "metadata": {},
   "source": [
    "1．打印出所有的\"水仙花数\"，所谓\"水仙花数\"是指一个三位数，其各位数字立方和等于该数本身。例如：153是一个\"水仙花数\"，因为153=1的三次方＋5的三次方＋3的三次方。"
   ]
  },
  {
   "cell_type": "code",
   "execution_count": 1,
   "metadata": {},
   "outputs": [
    {
     "name": "stdout",
     "output_type": "stream",
     "text": [
      "水仙花: 153\n",
      "水仙花: 370\n",
      "水仙花: 371\n",
      "水仙花: 407\n"
     ]
    }
   ],
   "source": [
    "for a in range(1,10):\n",
    "    for b in range(0,10):\n",
    "        for c in range(0,10):\n",
    "            s1= a*100+b*10+c\n",
    "            s2= pow(a,3)+pow(b,3)+pow(c,3)\n",
    "            if s1==s2:\n",
    "                print('水仙花:%4d'%s1)"
   ]
  },
  {
   "cell_type": "markdown",
   "metadata": {},
   "source": [
    "2. “回文”是指正读反读都能读通的句子，它是古今中外都有的一种修辞方式和文字游戏，如“我为人人，人人为我”等。在数学中也有这样一类数字有这样的特征，称为回文数（palindrome number），例如10001,9889等，设计一个函数f用于检查输入的数字是否为回文数，返回布尔类型"
   ]
  },
  {
   "cell_type": "code",
   "execution_count": 10,
   "metadata": {},
   "outputs": [],
   "source": [
    "def is_hws(s):\n",
    "    if s == s[::-1]:\n",
    "        return True\n",
    "    return False"
   ]
  },
  {
   "cell_type": "markdown",
   "metadata": {},
   "source": [
    "3.有三个学生stu1,stu2,stu3如下所示：\n",
    "stu1 = {\"大学英语\":98,\"色彩学基础\":99,\"普通话\":70}\n",
    "stu2 = {\"大学英语\":97,\"音乐鉴赏\":90,\"会计基础\":89}\n",
    "stu3 = {\"大学英语\":44,\"普通话\":63,\"网店运营\":90}\n",
    "请编程完成下列要求：\n",
    "（1）全校（假设仅3个学生）总共开了多少门课程\n",
    "（2）找出三个学生都选的课程\n",
    "（3）stu3的大学英文课程进行了补考，更新stu3的大学英语的成绩为60，之后计算该学生的平均分（15分）"
   ]
  },
  {
   "cell_type": "code",
   "execution_count": 11,
   "metadata": {},
   "outputs": [
    {
     "name": "stdout",
     "output_type": "stream",
     "text": [
      "6\n"
     ]
    }
   ],
   "source": [
    "#（1）\n",
    "\n",
    "stu1 = {\"大学英语\":98,\"色彩学基础\":99,\"普通话\":70}\n",
    "\n",
    "stu2 = {\"大学英语\":97,\"音乐鉴赏\":90,\"会计基础\":89}\n",
    "\n",
    "stu3 = {\"大学英语\":44,\"普通话\":63,\"网店运营\":90}\n",
    "\n",
    "courses=[]\n",
    "\n",
    "stus = [stu1,stu2,stu3]\n",
    "\n",
    "for stu in stus:\n",
    "\n",
    "    courses.extend(stu.keys())\n",
    "\n",
    "print(len(set(courses)))\n",
    "\n"
   ]
  },
  {
   "cell_type": "code",
   "execution_count": 15,
   "metadata": {},
   "outputs": [
    {
     "name": "stdout",
     "output_type": "stream",
     "text": [
      "大学英语\n"
     ]
    }
   ],
   "source": [
    "#（2）\n",
    "\n",
    "a = set(stu1.keys())\n",
    "b = set(stu2.keys())\n",
    "c = set(stu3.keys())\n",
    "for course in (a&b&c):\n",
    "    print (course)"
   ]
  },
  {
   "cell_type": "code",
   "execution_count": 16,
   "metadata": {},
   "outputs": [
    {
     "name": "stdout",
     "output_type": "stream",
     "text": [
      "{'大学英语': 60, '普通话': 63, '网店运营': 90}\n",
      "71.0\n"
     ]
    }
   ],
   "source": [
    "#(3)\n",
    "\n",
    "stu3[\"大学英语\"]=60\n",
    "\n",
    "print(stu3)\n",
    "\n",
    "print(sum(stu3.values())/len(stu3.keys()))"
   ]
  },
  {
   "cell_type": "markdown",
   "metadata": {},
   "source": [
    "4:已知列表stus=[\n",
    "{\"NO\":\"2019201\",\"数学\":98,\"语文\":99},\n",
    "      {\"NO\":\"2019202\",\"数学\":97,\"语文\":90},\n",
    "      {\"NO\":\"2019203\",\"数学\":44,\"语文\":33},\n",
    "      {\"NO\":\"2019204\",\"数学\":44,\"语文\":60},...]\n",
    "存放着某班所有学生的学号、数学课成绩和语文课成绩。请编程完成下列要求：\n",
    "（1）分别求这个班数学和语文的平均分并输出。\n",
    "（2）找出两门课都不及格（<60）的学生，输出他们的学号和各科成绩。\n",
    "（3）找出两门课的平均分在90分以上的学生，输出他们的学号和各科成绩。\n",
    "建议用三个函数分别实现以上要求。"
   ]
  },
  {
   "cell_type": "code",
   "execution_count": 17,
   "metadata": {},
   "outputs": [
    {
     "name": "stdout",
     "output_type": "stream",
     "text": [
      "数学平均成绩: 70.75\n",
      "语文平均成绩: 70.5\n"
     ]
    }
   ],
   "source": [
    "#(1)\n",
    "stus=[\n",
    "\n",
    "{\"NO\":\"2019201\",\"数学\":98,\"语文\":99},\n",
    "\n",
    "      {\"NO\":\"2019202\",\"数学\":97,\"语文\":90},\n",
    "\n",
    "      {\"NO\":\"2019203\",\"数学\":44,\"语文\":33},\n",
    "\n",
    "      {\"NO\":\"2019204\",\"数学\":44,\"语文\":60}]\n",
    "\n",
    "print(\"数学平均成绩:\",sum([stu[\"数学\"] for stu in stus])/len(stus))\n",
    "\n",
    "print(\"语文平均成绩:\",sum([stu[\"语文\"] for stu in stus])/len(stus))\n",
    "\n",
    " "
   ]
  },
  {
   "cell_type": "code",
   "execution_count": 18,
   "metadata": {},
   "outputs": [
    {
     "name": "stdout",
     "output_type": "stream",
     "text": [
      "[{'NO': '2019203', '数学': 44, '语文': 33}]\n"
     ]
    }
   ],
   "source": [
    "#(2)\n",
    "\n",
    "lessthan60 = [stu for stu in stus if ((stu[\"数学\"]<60) and (stu[\"语文\"]<60))]\n",
    "\n",
    "print(lessthan60)"
   ]
  },
  {
   "cell_type": "code",
   "execution_count": 19,
   "metadata": {},
   "outputs": [
    {
     "name": "stdout",
     "output_type": "stream",
     "text": [
      "[{'NO': '2019201', '数学': 98, '语文': 99}, {'NO': '2019202', '数学': 97, '语文': 90}]\n"
     ]
    }
   ],
   "source": [
    "#(3)\n",
    "\n",
    "avg_greaterthan90 = [stu for stu in stus if ((stu[\"数学\"]+stu[\"语文\"])/2)>90]\n",
    "\n",
    "print(avg_greaterthan90)"
   ]
  }
 ],
 "metadata": {
  "kernelspec": {
   "display_name": "Python 3",
   "language": "python",
   "name": "python3"
  },
  "language_info": {
   "codemirror_mode": {
    "name": "ipython",
    "version": 3
   },
   "file_extension": ".py",
   "mimetype": "text/x-python",
   "name": "python",
   "nbconvert_exporter": "python",
   "pygments_lexer": "ipython3",
   "version": "3.7.1"
  }
 },
 "nbformat": 4,
 "nbformat_minor": 2
}
