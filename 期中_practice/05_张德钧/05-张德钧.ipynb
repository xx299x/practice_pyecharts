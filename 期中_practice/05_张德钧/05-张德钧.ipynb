{
 "cells": [
  {
   "cell_type": "markdown",
   "metadata": {},
   "source": [
    "# 1．打印出所有的\"水仙花数\"，所谓\"水仙花数\"是指一个三位数，其各位数字立方和等于该数本身。例如：153是一个\"水仙花数\"，因为153=1的三次方＋5的三次方＋3的三次方。"
   ]
  },
  {
   "cell_type": "code",
   "execution_count": 3,
   "metadata": {},
   "outputs": [
    {
     "name": "stdout",
     "output_type": "stream",
     "text": [
      "1\n",
      "2\n",
      "3\n",
      "4\n",
      "5\n",
      "6\n",
      "7\n",
      "8\n",
      "9\n",
      "153\n",
      "370\n",
      "371\n",
      "407\n",
      "1634\n",
      "8208\n",
      "9474\n",
      "54748\n",
      "92727\n",
      "93084\n",
      "548834\n",
      "1741725\n",
      "4210818\n",
      "9800817\n",
      "9926315\n"
     ]
    }
   ],
   "source": [
    "start = 1\n",
    "end = 10 ** 7\n",
    "for i in range(start, end + 1):\n",
    "    sm = 0\n",
    "    for j in str(i):\n",
    "        sm += (ord(j) - 48) ** len(str(i))\n",
    "    if sm == i:\n",
    "        print(i)"
   ]
  },
  {
   "cell_type": "markdown",
   "metadata": {},
   "source": [
    "# 2. “回文”是指正读反读都能读通的句子，它是古今中外都有的一种修辞方式和文字游戏，如“我为人人，人人为我”等。在数学中也有这样一类数字有这样的特征，称为回文数（palindrome number），例如10001,9889等，设计一个函数f用于检查输入的数字是否为回文数，返回布尔类型"
   ]
  },
  {
   "cell_type": "code",
   "execution_count": 1,
   "metadata": {},
   "outputs": [
    {
     "name": "stdin",
     "output_type": "stream",
     "text": [
      "输入一个数字： 2145612\n"
     ]
    },
    {
     "name": "stdout",
     "output_type": "stream",
     "text": [
      "这个数不是回文数\n"
     ]
    }
   ],
   "source": [
    "f=input(\"输入一个数字：\")\n",
    "if f == f[::-1]:\n",
    "    print(\"这个数是回文数\")\n",
    "else:\n",
    "    print(\"这个数不是回文数\")"
   ]
  },
  {
   "cell_type": "markdown",
   "metadata": {},
   "source": [
    "# 3. 有三个学生stu1,stu2,stu3如下所示：\n",
    "## stu1 = {\"大学英语\":98,\"色彩学基础\":99,\"普通话\":70}\n",
    "## stu2 = {\"大学英语\":97,\"音乐鉴赏\":90,\"会计基础\":89}\n",
    "## stu3 = {\"大学英语\":44,\"普通话\":63,\"网店运营\":90}\n",
    "# 请编程完成下列要求：\n",
    "## （1）全校（假设仅3个学生）总共开了多少门课程\n",
    "## （2）找出三个学生都选的课程\n",
    "## （3）stu3的大学英文课程进行了补考，更新stu3的大学英语的成绩为60，之后计算该学生的平均分（15分）"
   ]
  },
  {
   "cell_type": "code",
   "execution_count": 5,
   "metadata": {},
   "outputs": [
    {
     "name": "stdout",
     "output_type": "stream",
     "text": [
      "['大学英语', '色彩学基础', '普通话', '音乐鉴赏', '会计基础', '网店运营']\n",
      "6\n"
     ]
    },
    {
     "data": {
      "text/plain": [
       "71.0"
      ]
     },
     "execution_count": 5,
     "metadata": {},
     "output_type": "execute_result"
    }
   ],
   "source": [
    "# （1）\n",
    "stu1 = {\"大学英语\":98,\"色彩学基础\":99,\"普通话\":70}\n",
    "stu2 = {\"大学英语\":97,\"音乐鉴赏\":90,\"会计基础\":89}\n",
    "stu3 = {\"大学英语\":44,\"普通话\":63,\"网店运营\":90}\n",
    "list=[]\n",
    "stu=[]\n",
    "sum = 0\n",
    "for i in stu1,stu2,stu3:\n",
    "    for x in i.keys():\n",
    "        stud.append(x)\n",
    "        if x not in list:\n",
    "            list.append(x)\n",
    "        else:\n",
    "            pass\n",
    "print(list)\n",
    "print(len(list))\n",
    "# （2）\n",
    "stu1.keys()&stu2.keys()&stu3.keys()\n",
    "# （3）\n",
    "stu3[\"大学英语\"]=60\n",
    "a = (stu3[\"大学英语\"]+stu3[\"普通话\"]+stu3[\"网店运营\"])/3\n",
    "a"
   ]
  },
  {
   "cell_type": "markdown",
   "metadata": {},
   "source": [
    "# 4.已知列表stus=[{\"NO\":\"2019201\",\"数学\":98,\"语文\":99},\n",
    "#  {\"NO\":\"2019202\",\"数学\":97,\"语文\":90},\n",
    "# {\"NO\":\"2019203\",\"数学\":44,\"语文\":33},\n",
    "# {\"NO\":\"2019204\",\"数学\":44,\"语文\":60},...]\n",
    "# 存放着某班所有学生的学号、数学课成绩和语文课成绩。请编程完成下列要求：\n",
    "## （1）分别求这个班数学和语文的平均分并输出。\n",
    "## （2）找出两门课都不及格（<60）的学生，输出他们的学号和各科成绩。\n",
    "## （3）找出两门课的平均分在90分以上的学生，输出他们的学号和各科成绩。\n",
    "## 建议用三个函数分别实现以上要求。"
   ]
  },
  {
   "cell_type": "code",
   "execution_count": null,
   "metadata": {},
   "outputs": [],
   "source": []
  }
 ],
 "metadata": {
  "kernelspec": {
   "display_name": "Python 3",
   "language": "python",
   "name": "python3"
  },
  "language_info": {
   "codemirror_mode": {
    "name": "ipython",
    "version": 3
   },
   "file_extension": ".py",
   "mimetype": "text/x-python",
   "name": "python",
   "nbconvert_exporter": "python",
   "pygments_lexer": "ipython3",
   "version": "3.7.4"
  }
 },
 "nbformat": 4,
 "nbformat_minor": 4
}
