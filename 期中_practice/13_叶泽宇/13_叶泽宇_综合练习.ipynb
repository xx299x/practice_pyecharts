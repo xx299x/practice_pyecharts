{
 "cells": [
  {
   "cell_type": "markdown",
   "metadata": {},
   "source": [
    "# 综合测试"
   ]
  },
  {
   "cell_type": "markdown",
   "metadata": {},
   "source": [
    "## 1．打印出所有的\"水仙花数\"，所谓\"水仙花数\"是指一个三位数，其各位数字立方和等于该数本身。例如：153是一个\"水仙花数\"，因为153=1的三次方＋5的三次方＋3的三次方。"
   ]
  },
  {
   "cell_type": "code",
   "execution_count": 20,
   "metadata": {},
   "outputs": [
    {
     "name": "stdout",
     "output_type": "stream",
     "text": [
      "153\n",
      "370\n",
      "371\n",
      "407\n"
     ]
    }
   ],
   "source": [
    "def f(n):         # 定义一个立方的函数\n",
    "    return n*n*n\n",
    "\n",
    "for i in range(100,1000):\n",
    "    a = i % 10  \n",
    "    b = i // 1 % 10   \n",
    "    c = i // 100\n",
    "    if (f(a) + f(b) + f(c)) == i :\n",
    "        print(i)\n",
    "\n",
    "        "
   ]
  },
  {
   "cell_type": "markdown",
   "metadata": {},
   "source": [
    "## 2. “回文”是指正读反读都能读通的句子，它是古今中外都有的一种修辞方式和文字游戏，如“我为人人，人人为我”等。在数学中也有这样一类数字有这样的特征，称为回文数（palindrome number），例如10001,9889等，设计一个函数f用于检查输入的数字是否为回文数，返回布尔类型"
   ]
  },
  {
   "cell_type": "code",
   "execution_count": 14,
   "metadata": {},
   "outputs": [
    {
     "name": "stdout",
     "output_type": "stream",
     "text": [
      "True\n",
      "False\n",
      "False\n",
      "True\n"
     ]
    }
   ],
   "source": [
    "def f(num):\n",
    "    n = str(num)\n",
    "    x = True\n",
    "    for i in range(1,(len(n)//2+1)):\n",
    "        if n[i-1] != n[-i]:\n",
    "            x = False\n",
    "    print(x)\n",
    "\n",
    "f(1)\n",
    "f(12)\n",
    "f(123)\n",
    "f(121)\n"
   ]
  },
  {
   "cell_type": "markdown",
   "metadata": {},
   "source": [
    "## 3. 有三个学生stu1,stu2,stu3如下所示：stu1 = {\"大学英语\":98,\"色彩学基础\":99,\"普通话\":70}stu2 = {\"大学英语\":97,\"音乐鉴赏\":90,\"会计基础\":89}stu3 = {\"大学英语\":44,\"普通话\":63,\"网店运营\":90}请编程完成下列要求：\n",
    "### （1）全校（假设仅3个学生）总共开了多少门课程\n",
    "### （2）找出三个学生都选的课程\n",
    "### （3）stu3的大学英文课程进行了补考，更新stu3的大学英语的成绩为60，之后计算该学生的平均分（15分）"
   ]
  },
  {
   "cell_type": "code",
   "execution_count": 25,
   "metadata": {},
   "outputs": [
    {
     "name": "stdout",
     "output_type": "stream",
     "text": [
      "['大学英语', '色彩学基础', '普通话', '音乐鉴赏', '会计基础', '网店运营']\n",
      "6\n",
      "大学英语\n",
      "stu3的平均成绩是71.0\n"
     ]
    }
   ],
   "source": [
    "stu1 = {\"大学英语\":98,\"色彩学基础\":99,\"普通话\":70}\n",
    "stu2 = {\"大学英语\":97,\"音乐鉴赏\":90,\"会计基础\":89}\n",
    "stu3 = {\"大学英语\":44,\"普通话\":63,\"网店运营\":90}\n",
    "list = []\n",
    "_class = []\n",
    "sum = 0 \n",
    "'''\n",
    "第一题\n",
    "'''\n",
    "for j in stu1 , stu2 , stu3:\n",
    "    for i in j.keys():\n",
    "        _class.append(i)\n",
    "        if i not in list:\n",
    "            list.append(i)\n",
    "        else:\n",
    "            pass\n",
    "print(list)\n",
    "print(len(list))\n",
    "'''\n",
    "第二题\n",
    "'''        \n",
    "for a in list:\n",
    "    if _class.count(a) == 3:\n",
    "        print(a)\n",
    "    else:\n",
    "        pass\n",
    "'''\n",
    "第三题\n",
    "'''    \n",
    "stu3[\"大学英语\"] = 60\n",
    "for b in stu3.values():\n",
    "    sum += b\n",
    "print(\"stu3的平均成绩是\"+str(sum/3))"
   ]
  },
  {
   "cell_type": "markdown",
   "metadata": {},
   "source": [
    "## 已知列表stus=[{\"NO\":\"2019201\",\"数学\":98,\"语文\":99},{\"NO\":\"2019202\",\"数学\":97,\"语文\":90},{\"NO\":\"2019203\",\"数学\":44,\"语文\":33},{\"NO\":\"2019204\",\"数学\":44,\"语文\":60},...]存放着某班所有学生的学号、数学课成绩和语文课成绩。请编程完成下列要求：\n",
    "### （1）分别求这个班数学和语文的平均分并输出。\n",
    "### （2）找出两门课都不及格（<60）的学生，输出他们的学号和各科成绩。\n",
    "### （3）找出两门课的平均分在90分以上的学生，输出他们的学号和各科成绩。\n",
    "### 建议用三个函数分别实现以上要求。"
   ]
  },
  {
   "cell_type": "code",
   "execution_count": 32,
   "metadata": {},
   "outputs": [
    {
     "name": "stdout",
     "output_type": "stream",
     "text": [
      "数学平均分为70.75  语文平均分为70.5\n",
      "{'NO': '2019203', '数学': 44, '语文': 33}\n",
      "{'NO': '2019201', '数学': 98, '语文': 99}\n"
     ]
    }
   ],
   "source": [
    "stus=[{\"NO\":\"2019201\",\"数学\":98,\"语文\":99},\n",
    "      {\"NO\":\"2019202\",\"数学\":97,\"语文\":90},\n",
    "      {\"NO\":\"2019203\",\"数学\":44,\"语文\":33},\n",
    "      {\"NO\":\"2019204\",\"数学\":44,\"语文\":60}]\n",
    "def f1():                                   #第一题\n",
    "    chinese = 0\n",
    "    math = 0\n",
    "    for stu in stus:\n",
    "        math += stu[\"数学\"]\n",
    "        chinese += stu[\"语文\"]\n",
    "    print(\"数学平均分为\" + str(math/4) + \"  语文平均分为\"+str(chinese/4))    \n",
    "\n",
    "def f2():                                   #第二题\n",
    "    for stu in stus:\n",
    "        if (stu[\"数学\"] < 60) and (stu[\"语文\"] < 60) :\n",
    "            print(stu)\n",
    "\n",
    "def f3():                                   #第三题\n",
    "    for stu in stus:\n",
    "        if (stu[\"数学\"] > 90) and (stu[\"语文\"] > 90) :\n",
    "            print(stu)\n",
    "\n",
    "f1()\n",
    "f2()\n",
    "f3()\n",
    "            "
   ]
  },
  {
   "cell_type": "code",
   "execution_count": null,
   "metadata": {},
   "outputs": [],
   "source": []
  },
  {
   "cell_type": "code",
   "execution_count": null,
   "metadata": {},
   "outputs": [],
   "source": []
  }
 ],
 "metadata": {
  "kernelspec": {
   "display_name": "Python 3",
   "language": "python",
   "name": "python3"
  },
  "language_info": {
   "codemirror_mode": {
    "name": "ipython",
    "version": 3
   },
   "file_extension": ".py",
   "mimetype": "text/x-python",
   "name": "python",
   "nbconvert_exporter": "python",
   "pygments_lexer": "ipython3",
   "version": "3.7.4"
  }
 },
 "nbformat": 4,
 "nbformat_minor": 4
}
