{
 "cells": [
  {
   "cell_type": "markdown",
   "metadata": {},
   "source": [
    "# 练习五"
   ]
  },
  {
   "cell_type": "markdown",
   "metadata": {},
   "source": [
    "## 1.定义一个数学中的复数类Complex,它有一个构造函数与一个 显示函数,建立一 个Complex对象并调用该显示函数显示。"
   ]
  },
  {
   "cell_type": "code",
   "execution_count": 4,
   "metadata": {},
   "outputs": [
    {
     "name": "stdout",
     "output_type": "stream",
     "text": [
      "1+2j\n"
     ]
    }
   ],
   "source": [
    "class Complex:\n",
    "    def __init__(self,a,b):\n",
    "        self.a = a\n",
    "        self.b = b\n",
    "    def show(self):\n",
    "        print(self.a+\"+\"+self.b)\n",
    "c = Complex(\"1\",\"2j\")\n",
    "c.show()"
   ]
  },
  {
   "cell_type": "markdown",
   "metadata": {},
   "source": [
    "## 2.定义一个计算机类MyComputer，它包含CPU类型(String类型)、RAM内存大小(Integer类型)、HD硬盘大小(Integer类型)，设计它的构造函数，并设计一个显示函数，建立一个MyComputer对象并调用该显示函数显示。"
   ]
  },
  {
   "cell_type": "code",
   "execution_count": 12,
   "metadata": {},
   "outputs": [
    {
     "name": "stdout",
     "output_type": "stream",
     "text": [
      "9100F 16 1080\n"
     ]
    }
   ],
   "source": [
    "class MyComputer:\n",
    "    def __init__(self,c,r,h):\n",
    "        self.CPU = c\n",
    "        self.RAM = r\n",
    "        self.HD = h\n",
    "        \n",
    "    def show(self):\n",
    "        print(self.CPU,self.RAM,self.HD)\n",
    "\n",
    "m1 = MyComputer(\"9100F\",16,1080)\n",
    "\n",
    "m1.show()\n",
    "  "
   ]
  },
  {
   "cell_type": "markdown",
   "metadata": {},
   "source": [
    "## 3.设计一个整数类MyInteger,它有一个整数变量，并有一个Value属性，可以通过为Value存取该变量的值，还有一个转二进制字符串的成员函数toBin及转十六进制字符串的成员函数toHex。"
   ]
  },
  {
   "cell_type": "code",
   "execution_count": 32,
   "metadata": {},
   "outputs": [
    {
     "name": "stdout",
     "output_type": "stream",
     "text": [
      "00110111\n",
      "d431\n"
     ]
    }
   ],
   "source": [
    "class MyInteger:\n",
    "    def tobin(self,Int):        #转二进制\n",
    "        self.value = Int\n",
    "        print(\"%08d\"%int(bin(self.value).replace('0b','')))\n",
    "        \n",
    "    def tohex(self,Int):        #转十六进制\n",
    "        self.value = Int\n",
    "        dict = {10: 'a', 11: 'b', 12: 'c', 13: 'd', 14: 'e', 15: 'f'}\n",
    "        sixteen = \"\"\n",
    "        while self.value >= 16:\n",
    "            x = self.value % 16\n",
    "            sixteen = dict.get(x, str(x)) + sixteen\n",
    "            self.value //= 16\n",
    "        sixteen = dict.get(self.value, str(self.value)) + sixteen\n",
    "        print(sixteen)\n",
    "    \n",
    "m2 = MyInteger()\n",
    "\n",
    "m2.tobin(55)\n",
    "\n",
    "m2.tohex(54321)"
   ]
  },
  {
   "cell_type": "markdown",
   "metadata": {},
   "source": [
    "## 4.建立一个普通人员类Person,包含姓名(m. name)、性别(m_ sex) 、年龄(m_ age) 成员变量。\n",
    "## (1) 建立Person类，包含Private成员m_ _name、 m_ sex、m_ age成员变量;\n",
    "## (2)建立Person的构造函数; \n",
    "## (3)建立-一个显示过程Show()，显示该对象的数据;\n",
    "## (4)派生一个学生类Student,增加班级(m_ class)， 专业(m_ major)， 设计这些类的构造函数;\n",
    "## (5)建立m_ _class、 m_ major 对应的属性函数sClass()、sMajor() ;\n",
    "## (6)建立显示成员函数Show()，显示该学生对象所有成员数据;"
   ]
  },
  {
   "cell_type": "code",
   "execution_count": 40,
   "metadata": {},
   "outputs": [
    {
     "name": "stdout",
     "output_type": "stream",
     "text": [
      "张三 男 18 181班 商务\n"
     ]
    }
   ],
   "source": [
    "class person:\n",
    "    def __init__(self,n,s,a):\n",
    "        self.m_name = n\n",
    "        self.m_sex = s\n",
    "        self.m_age = a\n",
    "        \n",
    "    def show(self,end='\\n'):\n",
    "        print(self.m_name,self.m_sex,self.m_age,end=end)\n",
    "\n",
    "class student(person):\n",
    "    def __init__(self,n,s,a,c,m):\n",
    "        person.__init__(self,n,s,a)\n",
    "        self.m_class = c\n",
    "        self.m_major = m\n",
    "    \n",
    "    def show(self):\n",
    "        person.show(self,'')\n",
    "        print(self.m_class,self.m_major)\n",
    "        \n",
    "p = student(\"张三\",\"男\",18,\" 181班\",\"商务\")\n",
    "\n",
    "p.show()"
   ]
  },
  {
   "cell_type": "markdown",
   "metadata": {},
   "source": [
    "## 5.建立一个时间类Time,它包含时hour,分minute，秒second的实例属性\n",
    "## (1)设计时间显示函数show (self);\n",
    "## (2)设计两个时间大小比较函数compare(self,t)，其中t是另外- -个时间;"
   ]
  },
  {
   "cell_type": "code",
   "execution_count": 69,
   "metadata": {},
   "outputs": [
    {
     "name": "stdout",
     "output_type": "stream",
     "text": [
      "02:30:40\n",
      "02:12:12比较小\n"
     ]
    }
   ],
   "source": [
    "class time:\n",
    "    def __init__(self,h,m,s):\n",
    "        self.hour = h\n",
    "        self.minute = m\n",
    "        self.second = s\n",
    "        \n",
    "    def show(self):\n",
    "        print(\"%02d:%02d:%02d\"%(self.hour,self.minute,self.second)) \n",
    "    \n",
    "    def compare(self,t):\n",
    "        hour2 = int(t[0:2])\n",
    "        minute2 = int(t[3:5])\n",
    "        second2 = int(t[6:8])\n",
    "        \n",
    "        if self.hour > hour2:         #比较小时的大小\n",
    "            print(t+\"比较小\")\n",
    "        elif self.hour < hour2:\n",
    "            print(t+\"比较大\")\n",
    "        elif self.hour == hour2:\n",
    "            \n",
    "            if self.minute > minute2:      #比较分钟的大小\n",
    "                print(t+\"比较小\")\n",
    "            elif self.minute < minute2:\n",
    "                print(t+\"比较大\")\n",
    "            elif self.minute == minute2:\n",
    "                \n",
    "                if self.second > second2:       #比较秒的大小\n",
    "                    print(t+\"比较小\")\n",
    "                elif self.second < second2:\n",
    "                    print(t+\"比较大\")\n",
    "                elif self.second == second2:\n",
    "                    print(\"两个时间相同\")\n",
    "t = time(2,30,40)\n",
    "t.show()\n",
    "t.compare('02:12:12')"
   ]
  },
  {
   "cell_type": "code",
   "execution_count": null,
   "metadata": {},
   "outputs": [],
   "source": []
  },
  {
   "cell_type": "code",
   "execution_count": null,
   "metadata": {},
   "outputs": [],
   "source": []
  }
 ],
 "metadata": {
  "kernelspec": {
   "display_name": "Python 3",
   "language": "python",
   "name": "python3"
  },
  "language_info": {
   "codemirror_mode": {
    "name": "ipython",
    "version": 3
   },
   "file_extension": ".py",
   "mimetype": "text/x-python",
   "name": "python",
   "nbconvert_exporter": "python",
   "pygments_lexer": "ipython3",
   "version": "3.7.4"
  }
 },
 "nbformat": 4,
 "nbformat_minor": 4
}
