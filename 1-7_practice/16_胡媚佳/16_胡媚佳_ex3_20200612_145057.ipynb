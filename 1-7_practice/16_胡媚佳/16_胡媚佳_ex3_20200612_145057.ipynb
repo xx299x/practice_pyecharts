{
 "cells": [
  {
   "cell_type": "markdown",
   "metadata": {},
   "source": [
    "# 1.计算1+2+4.....+100的和。"
   ]
  },
  {
   "cell_type": "code",
   "execution_count": 1,
   "metadata": {},
   "outputs": [
    {
     "name": "stdout",
     "output_type": "stream",
     "text": [
      "5050\n"
     ]
    }
   ],
   "source": [
    "sum = 0\n",
    "for i in range(1,101):\n",
    "    sum=sum+i\n",
    "print(sum)"
   ]
  },
  {
   "cell_type": "markdown",
   "metadata": {},
   "source": [
    "# 2.计算1+1/3+1/5....+1/99的和"
   ]
  },
  {
   "cell_type": "code",
   "execution_count": 2,
   "metadata": {},
   "outputs": [
    {
     "name": "stdout",
     "output_type": "stream",
     "text": [
      "2.937774848474907\n"
     ]
    }
   ],
   "source": [
    "sum=0\n",
    "for i in range(100):\n",
    "    if(i%2)==1:\n",
    "        sum=sum+1/i\n",
    "print(sum)"
   ]
  },
  {
   "cell_type": "markdown",
   "metadata": {},
   "source": [
    "# 3.从键盘输入一个字符串，直到回车结束，统计字符串中的大小写英文字母各有多少个"
   ]
  },
  {
   "cell_type": "code",
   "execution_count": 3,
   "metadata": {},
   "outputs": [
    {
     "name": "stdout",
     "output_type": "stream",
     "text": [
      "请输入一个字符串:111\n",
      "您输入的字符串统计结果是: 3\n",
      "有0个大写字母\n",
      "有0个小写字母\n",
      "有3个其他字母\n"
     ]
    }
   ],
   "source": [
    "s = input(\"请输入一个字符串:\")\n",
    "a = 0\n",
    "b = 0\n",
    "c = 0\n",
    "for i in s:\n",
    "    if 'A' <= i <= 'Z':\n",
    "        a=a+1\n",
    "    elif 'a' <= i <= 'z':\n",
    "        b=b+1\n",
    "    else:\n",
    "        c=c+1\n",
    "print(\"您输入的字符串统计结果是:\",len(str(s)))\n",
    "print(f\"有{a}个大写字母\")\n",
    "print(f\"有{b}个小写字母\")\n",
    "print(f\"有{c}个其他字母\")"
   ]
  },
  {
   "cell_type": "markdown",
   "metadata": {},
   "source": [
    "# 5.有一分数序列: 2/1, 3/2, 5/3,8/5, 13/8, 21/13...，. 求出这个数列的前20项之和。"
   ]
  },
  {
   "cell_type": "code",
   "execution_count": 4,
   "metadata": {},
   "outputs": [
    {
     "name": "stdout",
     "output_type": "stream",
     "text": [
      "32.66026079864164\n"
     ]
    }
   ],
   "source": [
    "sum = 0\n",
    "a=2\n",
    "b=1\n",
    "for i in range(20):\n",
    "    sum = sum + a/b\n",
    "    a = a + b\n",
    "    b = a - b\n",
    "print(sum)"
   ]
  },
  {
   "cell_type": "markdown",
   "metadata": {},
   "source": [
    "# 6.输入若干个同学的成绩,计算平均成绩,输入的成绩为负数或大于100时表示结束输入。"
   ]
  },
  {
   "cell_type": "code",
   "execution_count": 5,
   "metadata": {},
   "outputs": [
    {
     "name": "stdout",
     "output_type": "stream",
     "text": [
      "第1个成绩: 453\n",
      "数据不合理，请重新输入:\n",
      "第2个成绩: 88\n",
      "第3个成绩: 76\n",
      "第4个成绩: 76\n",
      "第5个成绩: 86\n",
      "平均成绩: 155.8\n"
     ]
    }
   ],
   "source": [
    "s=0\n",
    "i=1\n",
    "while i<6:\n",
    "    m=input(\"第\"+str(i)+\"个成绩: \")\n",
    "    m=float(m)\n",
    "    if m<0 or m>100:\n",
    "        print(\"数据不合理，请重新输入:\")\n",
    "    s=s+m\n",
    "    i=i+1\n",
    "print(\"平均成绩:\",s/(i-1))"
   ]
  },
  {
   "cell_type": "markdown",
   "metadata": {},
   "source": [
    "# 7.输入三个正整数a、b、n,精确计算a/b的结果到小数后n位。"
   ]
  },
  {
   "cell_type": "code",
   "execution_count": 6,
   "metadata": {},
   "outputs": [
    {
     "name": "stdout",
     "output_type": "stream",
     "text": [
      "Enter p: 699\n",
      "Enter q: 86\n",
      "Enter n: 690\n",
      "699/86=8.127907\n",
      "699/86=8.127906976744186046511627906976744186046511627906976744186046511627906976744186046511627906976744186046511627906976744186046511627906976744186046511627906976744186046511627906976744186046511627906976744186046511627906976744186046511627906976744186046511627906976744186046511627906976744186046511627906976744186046511627906976744186046511627906976744186046511627906976744186046511627906976744186046511627906976744186046511627906976744186046511627906976744186046511627906976744186046511627906976744186046511627906976744186046511627906976744186046511627906976744186046511627906976744186046511627906976744186046511627906976744186046511627906976744186046511627906976744186046511627906976744186046\n"
     ]
    }
   ],
   "source": [
    "p = 0\n",
    "while p <= 0:\n",
    "    p = input(\"Enter p: \")\n",
    "    p = int(p)\n",
    "q = 0\n",
    "while q <= 0:\n",
    "    q = input(\"Enter q: \")\n",
    "    q = int(q)\n",
    "n = 0\n",
    "while n <= 0:\n",
    "    n = input(\"Enter n: \")\n",
    "    n = int(n)\n",
    "s = str(p // q)\n",
    "r = p % q\n",
    "if r != 0:\n",
    "    s = s+\".\"\n",
    "i = 0\n",
    "while r != 0 and i < n:\n",
    "    r = 10*r\n",
    "    s = s + str(r//q)\n",
    "    r = r % q\n",
    "    i = i + 1\n",
    "print(\"%d/%d=%f\" % (p,q,p/q))\n",
    "print(\"%d/%d=%s\" % (p,q,s))"
   ]
  },
  {
   "cell_type": "markdown",
   "metadata": {},
   "source": [
    "# 8.一个猴子第一天摘下若干个桃子，当即吃了一半，还不过瘾，又多吃了一个。第二天早上又将剩下的桃子吃掉一半, 又多吃了一个。以后每天早上都吃了前一天剩下的一半零一个。到第10天早上想再吃时，见只剩下一个桃子了。求第一天共摘了多少。"
   ]
  },
  {
   "cell_type": "code",
   "execution_count": 7,
   "metadata": {},
   "outputs": [
    {
     "name": "stdout",
     "output_type": "stream",
     "text": [
      "1534\n"
     ]
    }
   ],
   "source": [
    "n = 1\n",
    "s = 1\n",
    "while n <= 9:\n",
    "    s = (s + 1) * 2\n",
    "    n = n + 1\n",
    "print(s)"
   ]
  },
  {
   "cell_type": "markdown",
   "metadata": {},
   "source": [
    "# 9.有一序列: 1, 3, 5，8，13, 21..用while循环求出这个数列的前20项之和"
   ]
  },
  {
   "cell_type": "code",
   "execution_count": 8,
   "metadata": {},
   "outputs": [
    {
     "name": "stdout",
     "output_type": "stream",
     "text": [
      "28653\n"
     ]
    }
   ],
   "source": [
    "n = 1\n",
    "a = 3\n",
    "b = 5\n",
    "c = a + b\n",
    "s = 1 + c\n",
    "while n <= 16:\n",
    "    s = s + c\n",
    "    c = c + b\n",
    "    n = n + 1\n",
    "    b = c - b\n",
    "print(s)"
   ]
  },
  {
   "cell_type": "markdown",
   "metadata": {},
   "source": [
    "# 10.一个数如正好等于它的所有因子之和,则称为完数,例如6的因子有1、2、3,而6=1+2+3,因此6是一个完数。编程序找出1000之内的所有完数"
   ]
  },
  {
   "cell_type": "code",
   "execution_count": 9,
   "metadata": {},
   "outputs": [
    {
     "name": "stdout",
     "output_type": "stream",
     "text": [
      "6\n",
      "[1, 2, 3]\n",
      "28\n",
      "[1, 2, 4, 7, 14]\n",
      "496\n",
      "[1, 2, 4, 8, 16, 31, 62, 124, 248]\n"
     ]
    }
   ],
   "source": [
    "from functools import reduce\n",
    "def sum(a,b):\n",
    "    return a+b\n",
    "for i in range(2,1001):\n",
    "    l = [1]\n",
    "    for j in range(2,int(i/2+1)):\n",
    "        if i%j==0:\n",
    "            l.append(j)\n",
    "    if i == reduce(sum,l):\n",
    "        print(i)\n",
    "        print(l)\n",
    "        "
   ]
  },
  {
   "cell_type": "markdown",
   "metadata": {},
   "source": [
    "# 11.有近千名学生排队，7人- -行余3人，5人一行余2人，3人一行余1人，编写程序求学生人数。"
   ]
  },
  {
   "cell_type": "code",
   "execution_count": 10,
   "metadata": {},
   "outputs": [
    {
     "name": "stdout",
     "output_type": "stream",
     "text": [
      "997\n"
     ]
    }
   ],
   "source": [
    "for i in range(900,1000):\n",
    "    if (((i % 5) == 2) and ((i % 7) == 3) and ((i % 3) == 1)):\n",
    "        print(i)"
   ]
  },
  {
   "cell_type": "markdown",
   "metadata": {},
   "source": [
    "# 12.小华今年12岁，他妈妈比他大20岁，编写程序计算多少年后他妈妈年龄比他大-一倍"
   ]
  },
  {
   "cell_type": "code",
   "execution_count": 11,
   "metadata": {},
   "outputs": [
    {
     "name": "stdout",
     "output_type": "stream",
     "text": [
      "8\n"
     ]
    }
   ],
   "source": [
    "for i in range(1,100):\n",
    "    if ((i + 12) * 2) == (i +32):\n",
    "        print(i)"
   ]
  },
  {
   "cell_type": "markdown",
   "metadata": {},
   "source": [
    "# 13.两个乒乓球队进行比赛，各出三人。甲队为a,b,c三人，乙队为x,y,z三人。已抽签决定比赛名单。有人向队员打听比赛的名单。a说他不和x比，c说他不和x,z比，请编程序找出三队赛手的名单。"
   ]
  },
  {
   "cell_type": "code",
   "execution_count": 12,
   "metadata": {},
   "outputs": [
    {
     "name": "stdout",
     "output_type": "stream",
     "text": [
      "a vs z, b vs x, c vs y\n"
     ]
    }
   ],
   "source": [
    "import itertools \n",
    "for i in itertools.permutations('xyz'):\n",
    "    if i[0] != 'x' and i[2] != 'x' and i[2] != 'z':\n",
    "        print('a vs %s, b vs %s, c vs %s' % (i[0], i[1], i[2]))"
   ]
  },
  {
   "cell_type": "markdown",
   "metadata": {},
   "source": [
    "# 14. 目前世界人口是60亿，如每年按1.5%的比例增长， 则多少年后是80亿?"
   ]
  },
  {
   "cell_type": "code",
   "execution_count": 13,
   "metadata": {},
   "outputs": [
    {
     "name": "stdout",
     "output_type": "stream",
     "text": [
      "80.81130039300321 20\n"
     ]
    }
   ],
   "source": [
    "x = 60\n",
    "year = 1\n",
    "while 1:#非0都是True\n",
    "    x =x * 1.015\n",
    "    if x >= 80:\n",
    "        print(x,year)\n",
    "        break\n",
    "    else:\n",
    "        year = year+1"
   ]
  },
  {
   "cell_type": "markdown",
   "metadata": {},
   "source": [
    "# 15.一球从80米高度自由下落，每次落地后返回原高度的一半，再落下。求它在第10次落地时共经过多少米?第10次反弹多高"
   ]
  },
  {
   "cell_type": "code",
   "execution_count": 15,
   "metadata": {},
   "outputs": [
    {
     "name": "stdout",
     "output_type": "stream",
     "text": [
      "0.078125\n",
      "0.234375\n"
     ]
    }
   ],
   "source": [
    "times = 10\n",
    "h = 80\n",
    "total = 0\n",
    "for i in range(10):\n",
    "    h/=2\n",
    "print(h)\n",
    "print(h*3)"
   ]
  },
  {
   "cell_type": "code",
   "execution_count": null,
   "metadata": {},
   "outputs": [],
   "source": []
  },
  {
   "cell_type": "code",
   "execution_count": null,
   "metadata": {},
   "outputs": [],
   "source": []
  },
  {
   "cell_type": "code",
   "execution_count": null,
   "metadata": {},
   "outputs": [],
   "source": []
  }
 ],
 "metadata": {
  "kernelspec": {
   "display_name": "Python 3",
   "language": "python",
   "name": "python3"
  },
  "language_info": {
   "codemirror_mode": {
    "name": "ipython",
    "version": 3
   },
   "file_extension": ".py",
   "mimetype": "text/x-python",
   "name": "python",
   "nbconvert_exporter": "python",
   "pygments_lexer": "ipython3",
   "version": "3.7.1"
  }
 },
 "nbformat": 4,
 "nbformat_minor": 2
}
