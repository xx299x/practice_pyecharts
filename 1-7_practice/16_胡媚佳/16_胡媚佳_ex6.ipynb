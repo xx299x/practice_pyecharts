{
 "cells": [
  {
   "cell_type": "markdown",
   "metadata": {},
   "source": [
    "# 1.编写一个程序建立一个文本文件abc.txt，向其中写入“abc\\n”并存盘，查看abc.txt是几个字节的文件，说明为什么。"
   ]
  },
  {
   "cell_type": "code",
   "execution_count": null,
   "metadata": {},
   "outputs": [],
   "source": [
    "##4个字节"
   ]
  },
  {
   "cell_type": "markdown",
   "metadata": {},
   "source": [
    "# 2.用Windows记事本编写一个文本文件xyz.txt，在其中存入“123”后打“enter”键换行，存盘后查看文件应是5个字节长，用read（1）读该文件，看看要读5次还是4次就把文件读完，为什么？编写程序验证。"
   ]
  },
  {
   "cell_type": "code",
   "execution_count": null,
   "metadata": {},
   "outputs": [],
   "source": []
  },
  {
   "cell_type": "markdown",
   "metadata": {},
   "source": [
    "# 3.编写程序查找某个单词（键盘输入）所出现的行号及该行的内容，并统计该单词在文件共出现多少次。"
   ]
  },
  {
   "cell_type": "code",
   "execution_count": null,
   "metadata": {},
   "outputs": [],
   "source": [
    "def checkword(s):\n",
    "    words=[]\n",
    "    i = 0\n",
    "    w=\"\"\n",
    "    while i < len(s):\n",
    "        if s[i].lower() >= \"a\" and s[i].lower() <= \"z\":\n",
    "            w = w + s[i]\n",
    "        else:\n",
    "            if w :\n",
    "                words.append(w)\n",
    "                w=\"\"\n",
    "        i = i + 1\n",
    "    if w :\n",
    "        words.append(w)\n",
    "    return words\n",
    "def countword(word,words):\n",
    "    n = 0\n",
    "    for w in words:\n",
    "        if w == words:\n",
    "            n = n + 1\n",
    "        return n\n",
    "def countwordinfile(word,filename):\n",
    "    count = 0\n",
    "    a = open (filename,\"r\")\n",
    "    rows = a.readlines()\n",
    "    no = 0\n",
    "    for row in rows:\n",
    "        no = no + 1\n",
    "        words = checkword(row)\n",
    "        if word in words:\n",
    "            print(no,row,end=\"\")\n",
    "            count += countword(word,words)\n",
    "    a.close()\n",
    "    print(\"总数\",count)\n",
    "filename = input(\"文件：\")\n",
    "word = input(\"请输入单词：\")\n",
    "countwordinfile(word,filename)"
   ]
  },
  {
   "cell_type": "markdown",
   "metadata": {},
   "source": [
    "# 4.设一个文本文件marks.txt中存储了学生的姓名及成绩如下：\n",
    "# 张三  96\n",
    "# 李四  95\n",
    "# ......\n",
    "# 每行为学生姓名与成绩，编写一个程序读取这些学生的姓名与成绩并按成绩的从高到低的顺序输出到另一个文件sorted.txt中。"
   ]
  },
  {
   "cell_type": "code",
   "execution_count": null,
   "metadata": {},
   "outputs": [],
   "source": [
    "def read(filename):\n",
    "    stu=[]\n",
    "    a = open(filename,\"r\")\n",
    "    rows = a.readlines()\n",
    "    for row in rows:\n",
    "        s = row.strip(\"\\n\").split(\"\")\n",
    "        if len(s) = 2:\n",
    "            b = {\"name\":s[0],\"mark\":float(s[1])}\n",
    "            stu.append(b)\n",
    "    a.close()\n",
    "    return stu\n",
    "def  sort(stu):\n",
    "    for i in range(len(stu)):\n",
    "        for j in range(i+1,len(stu)):\n",
    "            if stu[j][\"mark\"] < stu[i][\"mark\"]:\n",
    "                t = stu[i]\n",
    "                stu[i] = stu[j]\n",
    "                stu[j] = t\n",
    "    return stu\n",
    "def save(stu):\n",
    "    c = open(\"\")"
   ]
  },
  {
   "cell_type": "markdown",
   "metadata": {
    "jupyter": {
     "source_hidden": true
    }
   },
   "source": [
    "# 5.用二进制方式创建文件并写入“abc\\r\\nxyz\\n\\r123\\r456\\n”字符串，查看该文件有多少个字节，再用文本文件的方式打开此文件并用fgetc来读，看看每次读出的是什么字符。"
   ]
  },
  {
   "cell_type": "code",
   "execution_count": null,
   "metadata": {},
   "outputs": [],
   "source": []
  },
  {
   "cell_type": "markdown",
   "metadata": {},
   "source": [
    "# 6.用文本文件方式创建文件并写入“abc\\nxyz\\r\\n123\\r”字符串，再用二进制方式打开读取每个字节，看看每个字节是什么。"
   ]
  },
  {
   "cell_type": "code",
   "execution_count": 1,
   "metadata": {},
   "outputs": [
    {
     "ename": "NameError",
     "evalue": "name 'sencode' is not defined",
     "output_type": "error",
     "traceback": [
      "\u001b[1;31m---------------------------------------------------------------------------\u001b[0m",
      "\u001b[1;31mNameError\u001b[0m                                 Traceback (most recent call last)",
      "\u001b[1;32m<ipython-input-1-222b42b17d12>\u001b[0m in \u001b[0;36m<module>\u001b[1;34m\u001b[0m\n\u001b[0;32m     10\u001b[0m     \u001b[0mprint\u001b[0m\u001b[1;33m(\u001b[0m\u001b[0ms\u001b[0m\u001b[1;33m)\u001b[0m\u001b[1;33m\u001b[0m\u001b[1;33m\u001b[0m\u001b[0m\n\u001b[0;32m     11\u001b[0m \u001b[0ms\u001b[0m \u001b[1;33m=\u001b[0m \u001b[1;34m\"abc\\nxyz\\r\\n123\\r\"\u001b[0m\u001b[1;33m\u001b[0m\u001b[1;33m\u001b[0m\u001b[0m\n\u001b[1;32m---> 12\u001b[1;33m \u001b[0msave\u001b[0m\u001b[1;33m(\u001b[0m\u001b[0ms\u001b[0m\u001b[1;33m)\u001b[0m\u001b[1;33m\u001b[0m\u001b[1;33m\u001b[0m\u001b[0m\n\u001b[0m\u001b[0;32m     13\u001b[0m \u001b[0mread\u001b[0m\u001b[1;33m(\u001b[0m\u001b[1;33m)\u001b[0m\u001b[1;33m\u001b[0m\u001b[1;33m\u001b[0m\u001b[0m\n",
      "\u001b[1;32m<ipython-input-1-222b42b17d12>\u001b[0m in \u001b[0;36msave\u001b[1;34m(a)\u001b[0m\n\u001b[0;32m      1\u001b[0m \u001b[1;32mdef\u001b[0m \u001b[0msave\u001b[0m\u001b[1;33m(\u001b[0m\u001b[0ma\u001b[0m\u001b[1;33m)\u001b[0m\u001b[1;33m:\u001b[0m\u001b[1;33m\u001b[0m\u001b[1;33m\u001b[0m\u001b[0m\n\u001b[0;32m      2\u001b[0m     \u001b[0mf\u001b[0m \u001b[1;33m=\u001b[0m \u001b[0mopen\u001b[0m\u001b[1;33m(\u001b[0m\u001b[1;34m\"C:\\\\Users\\\\wanglijuan\\\\Desktop\\\\abc.txt\"\u001b[0m\u001b[1;33m,\u001b[0m\u001b[1;34m\"wb\"\u001b[0m\u001b[1;33m)\u001b[0m\u001b[1;33m\u001b[0m\u001b[1;33m\u001b[0m\u001b[0m\n\u001b[1;32m----> 3\u001b[1;33m     \u001b[0mf\u001b[0m\u001b[1;33m.\u001b[0m\u001b[0mwrite\u001b[0m\u001b[1;33m(\u001b[0m\u001b[0msencode\u001b[0m\u001b[1;33m(\u001b[0m\u001b[1;33m)\u001b[0m\u001b[1;33m)\u001b[0m\u001b[1;33m\u001b[0m\u001b[1;33m\u001b[0m\u001b[0m\n\u001b[0m\u001b[0;32m      4\u001b[0m     \u001b[0mf\u001b[0m\u001b[1;33m.\u001b[0m\u001b[0mclose\u001b[0m\u001b[1;33m(\u001b[0m\u001b[1;33m)\u001b[0m\u001b[1;33m\u001b[0m\u001b[1;33m\u001b[0m\u001b[0m\n\u001b[0;32m      5\u001b[0m \u001b[1;32mdef\u001b[0m \u001b[0mread\u001b[0m\u001b[1;33m(\u001b[0m\u001b[1;33m)\u001b[0m\u001b[1;33m:\u001b[0m\u001b[1;33m\u001b[0m\u001b[1;33m\u001b[0m\u001b[0m\n",
      "\u001b[1;31mNameError\u001b[0m: name 'sencode' is not defined"
     ]
    }
   ],
   "source": [
    "def save(a):\n",
    "    f = open(\"C:\\\\Users\\\\wanglijuan\\\\Desktop\\\\abc.txt\",\"wb\")\n",
    "    f.write(sencode())\n",
    "    f.close()\n",
    "def read():\n",
    "    f = open(\"C:\\\\Users\\\\wanglijuan\\\\Desktop\\\\abc.txt\",\"rb\")\n",
    "    data = f.read()\n",
    "    s = data.decode()\n",
    "    f.close()\n",
    "    print(s)\n",
    "s = \"abc\\nxyz\\r\\n123\\r\"\n",
    "save(s)\n",
    "read()"
   ]
  },
  {
   "cell_type": "markdown",
   "metadata": {},
   "source": [
    "# 7.编写一个程序，它能统计一篇英文文章中的a~z各个字母出现的次数（不分大小写），并按出现次数的多少按顺序输出。"
   ]
  },
  {
   "cell_type": "code",
   "execution_count": null,
   "metadata": {},
   "outputs": [],
   "source": []
  }
 ],
 "metadata": {
  "kernelspec": {
   "display_name": "Python 3",
   "language": "python",
   "name": "python3"
  },
  "language_info": {
   "codemirror_mode": {
    "name": "ipython",
    "version": 3
   },
   "file_extension": ".py",
   "mimetype": "text/x-python",
   "name": "python",
   "nbconvert_exporter": "python",
   "pygments_lexer": "ipython3",
   "version": "3.7.4"
  }
 },
 "nbformat": 4,
 "nbformat_minor": 4
}
