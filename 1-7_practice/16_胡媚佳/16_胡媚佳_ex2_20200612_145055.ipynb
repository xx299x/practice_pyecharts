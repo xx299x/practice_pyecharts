{
 "cells": [
  {
   "cell_type": "markdown",
   "metadata": {},
   "source": [
    "# 输入a、b、c三个参数，求解ax2+bx+c=0的两个根，假定b2-4ac>0\n"
   ]
  },
  {
   "cell_type": "code",
   "execution_count": 5,
   "metadata": {},
   "outputs": [
    {
     "data": {
      "text/plain": [
       "(-2.0, -8.0)"
      ]
     },
     "execution_count": 5,
     "metadata": {},
     "output_type": "execute_result"
    }
   ],
   "source": [
    "import math\n",
    "def get_result(a,b,c):\n",
    "    x = b*b - 4*a*c\n",
    "    if x <=0:\n",
    "        return \"error\"\n",
    "    x1 = (-b+math.sqrt(x))/2*a\n",
    "    x2 = (-b-math.sqrt(x))/2*a\n",
    "    return (x1,x2)\n",
    "\n",
    "get_result(2,5,2)"
   ]
  },
  {
   "cell_type": "markdown",
   "metadata": {},
   "source": [
    "# 2.输入a、b、c三个参数，以它们作为三角形的三边，判断是否可以构成一一个三角形，如能则进一步计算其面积。三角形的面积s可以用以下公式计算: s=sqrt(p* (p- a)(p-b)(p-c))其中p= (a+b+c)/2。"
   ]
  },
  {
   "cell_type": "code",
   "execution_count": 6,
   "metadata": {},
   "outputs": [
    {
     "data": {
      "text/plain": [
       "2.9047375096555625"
      ]
     },
     "execution_count": 6,
     "metadata": {},
     "output_type": "execute_result"
    }
   ],
   "source": [
    "import math\n",
    "def get_result(a,b,c):\n",
    "    x = a + b\n",
    "    y = a + c\n",
    "    z = b + c\n",
    "    p = (a+b+c)/2\n",
    "    if x<c and y<b and z<a:\n",
    "        return \"error\"\n",
    "    else:\n",
    "        m = math.sqrt(p*(p-a)*(p-b)*(p-c))\n",
    "    return m\n",
    "get_result(2,3,4)"
   ]
  },
  {
   "cell_type": "markdown",
   "metadata": {},
   "source": [
    "# 3.输入一个字母，判断它是否为小写英文字母。"
   ]
  },
  {
   "cell_type": "code",
   "execution_count": 19,
   "metadata": {
    "scrolled": true
   },
   "outputs": [
    {
     "name": "stdout",
     "output_type": "stream",
     "text": [
      "A不是小写字母\n"
     ]
    }
   ],
   "source": [
    "def f(str):\n",
    "    if 97>ord(str) or ord(str)>122:\n",
    "        print(\"%s不是小写字母\"%str)\n",
    "    else:\n",
    "        print(\"%s是小写字母\"%str)\n",
    "f(\"A\")"
   ]
  },
  {
   "cell_type": "markdown",
   "metadata": {},
   "source": [
    "# 4.从键盘输入5个字符，统计’0’字符出现的次数。"
   ]
  },
  {
   "cell_type": "code",
   "execution_count": 20,
   "metadata": {},
   "outputs": [
    {
     "name": "stdout",
     "output_type": "stream",
     "text": [
      "2\n"
     ]
    }
   ],
   "source": [
    "def f(s):\n",
    "    count=0\n",
    "    for i in str(s):\n",
    "        if i=='0':\n",
    "            count = count +1\n",
    "    return count\n",
    "print(f(23402044))   "
   ]
  },
  {
   "cell_type": "markdown",
   "metadata": {},
   "source": [
    "# 5.输入两个整数，判断哪个大并输出结果"
   ]
  },
  {
   "cell_type": "code",
   "execution_count": 32,
   "metadata": {},
   "outputs": [
    {
     "name": "stdout",
     "output_type": "stream",
     "text": [
      "9 大\n"
     ]
    }
   ],
   "source": [
    "def f(x,y):\n",
    "    max = x\n",
    "    if x<y:\n",
    "        max = str(y)+\" 大\"\n",
    "    else :\n",
    "        max = str(x)+\" 大\"\n",
    "    return max\n",
    "print(f(9,5))"
   ]
  },
  {
   "cell_type": "markdown",
   "metadata": {},
   "source": [
    "# 6.输入一个字母，如它是一一个小写英文字母，则把它变为对应大写字母输出。"
   ]
  },
  {
   "cell_type": "code",
   "execution_count": 23,
   "metadata": {},
   "outputs": [
    {
     "name": "stdout",
     "output_type": "stream",
     "text": [
      "Q\n"
     ]
    }
   ],
   "source": [
    "def f(str):\n",
    "    if 97>ord(str) or ord(str)>122:\n",
    "        x = \"不是小写字母\"\n",
    "    else :\n",
    "        x = chr(ord(str)+(ord(\"A\")-ord(\"a\")))\n",
    "    return x\n",
    "print(f(\"q\"))"
   ]
  },
  {
   "cell_type": "markdown",
   "metadata": {},
   "source": [
    "# 7.输入-一个年份，判断它是否为闰年。"
   ]
  },
  {
   "cell_type": "code",
   "execution_count": 28,
   "metadata": {},
   "outputs": [
    {
     "name": "stdout",
     "output_type": "stream",
     "text": [
      "2008是闰年\n"
     ]
    }
   ],
   "source": [
    "def f(year):\n",
    "    if year%4==0 and year%100!=0:\n",
    "        print(str(year)+\"是闰年\")\n",
    "    else:\n",
    "        print(str(year)+\"不是闰年\")\n",
    "f(2008)"
   ]
  },
  {
   "cell_type": "markdown",
   "metadata": {},
   "source": [
    "# 8.从键盘输入a、b两个数，按大小顺序输出他们。"
   ]
  },
  {
   "cell_type": "code",
   "execution_count": 31,
   "metadata": {},
   "outputs": [
    {
     "name": "stdout",
     "output_type": "stream",
     "text": [
      "3\n",
      "1\n"
     ]
    }
   ],
   "source": [
    "def f(x,y):\n",
    "    max = x\n",
    "    min = y\n",
    "    if x<y:\n",
    "        max = y\n",
    "        min = x\n",
    "    print(max)\n",
    "    print(min)\n",
    "\n",
    "f(1,3)"
   ]
  },
  {
   "cell_type": "markdown",
   "metadata": {},
   "source": [
    "# 9.输入a、b、c三个整数，找出最小的数。"
   ]
  },
  {
   "cell_type": "code",
   "execution_count": 34,
   "metadata": {},
   "outputs": [
    {
     "name": "stdout",
     "output_type": "stream",
     "text": [
      "5是最小的数\n"
     ]
    }
   ],
   "source": [
    "def f(x,y,z):\n",
    "    min = x\n",
    "    if y<x:\n",
    "        if z<y:\n",
    "            min = z\n",
    "        else:\n",
    "            min = y\n",
    "    print(str(min) + \"是最小的数\")\n",
    "f(5,7,8)"
   ]
  },
  {
   "cell_type": "markdown",
   "metadata": {},
   "source": [
    "# 10.某企业发放的奖金根据利润提成。利润低于或等于10 万元时，奖金可提12%;利润高于10万元，低于20万元时，高于10万元的部分，可提成8.5%;20万到40万之间时，高于20万元的部分，可提成6%; 40 万到60万之间时高于40万元的部分，可提成4%; 60 万到100万之间时，高于60万元的部分，可提成2.5%，高于100万元时，超过100万元的部分按1%提成，从键盘输入当月利润，求应发放奖金总数?"
   ]
  },
  {
   "cell_type": "code",
   "execution_count": 35,
   "metadata": {},
   "outputs": [
    {
     "data": {
      "text/plain": [
       "1040000.0"
      ]
     },
     "execution_count": 35,
     "metadata": {},
     "output_type": "execute_result"
    }
   ],
   "source": [
    "def f(x):\n",
    "    if x<=100000:\n",
    "        y = x+x*0.12\n",
    "    elif 100000<x<200000:\n",
    "        y = 100000+(x-100000)*0.085\n",
    "    elif 200000<x<400000:\n",
    "        y = 200000+(x-200000)*0.06\n",
    "    elif 400000<x<600000:\n",
    "        y = 400000+(x-400000)*0.04\n",
    "    elif 600000<x<1000000:\n",
    "        y = 600000+(x-600000)*0.025\n",
    "    else:\n",
    "        y = 1000000+(x-1000000)*0.01\n",
    "    return y\n",
    "f(5000000)"
   ]
  },
  {
   "cell_type": "markdown",
   "metadata": {},
   "source": [
    "# 11.平面上有四个圆，圆心分别为(2，2)， (-2, 2)，(-2， -2)，(2, -2)，圆半径为1。今输入任一点的坐标，判断该点是否在这四个圆中，如在则给出是在哪一个圆中"
   ]
  },
  {
   "cell_type": "code",
   "execution_count": 36,
   "metadata": {},
   "outputs": [
    {
     "name": "stdout",
     "output_type": "stream",
     "text": [
      "在（2，-2）的圆里\n",
      "该点不在四个圆里\n",
      "在（2，2）的圆里\n",
      "在（-2，-2）的圆里\n"
     ]
    }
   ],
   "source": [
    "def f(x,y):\n",
    "    q1 = (x-2)**2+(y-2)**2\n",
    "    q2 = (x-2)**2+(y+2)**2\n",
    "    q3 = (x+2)**2+(y-2)**2\n",
    "    q4 = (x+2)**2+(y+2)**2\n",
    "    if q1 <=1:\n",
    "        print(\"在（2，2）的圆里\")\n",
    "    elif q2 <=1: \n",
    "        print(\"在（2，-2）的圆里\")\n",
    "    elif q3 <=1:\n",
    "        print(\"在（-2，2）的圆里\")\n",
    "    elif q4 <=1:\n",
    "        print(\"在（-2，-2）的圆里\")\n",
    "    else:\n",
    "        print(\"该点不在四个圆里\")\n",
    "    \n",
    "f(1,-2)  \n",
    "f(4,-1)\n",
    "f(2,3)\n",
    "f(-2,-3)"
   ]
  },
  {
   "cell_type": "code",
   "execution_count": null,
   "metadata": {},
   "outputs": [],
   "source": []
  },
  {
   "cell_type": "code",
   "execution_count": null,
   "metadata": {},
   "outputs": [],
   "source": []
  }
 ],
 "metadata": {
  "kernelspec": {
   "display_name": "Python 3",
   "language": "python",
   "name": "python3"
  },
  "language_info": {
   "codemirror_mode": {
    "name": "ipython",
    "version": 3
   },
   "file_extension": ".py",
   "mimetype": "text/x-python",
   "name": "python",
   "nbconvert_exporter": "python",
   "pygments_lexer": "ipython3",
   "version": "3.7.1"
  }
 },
 "nbformat": 4,
 "nbformat_minor": 2
}
