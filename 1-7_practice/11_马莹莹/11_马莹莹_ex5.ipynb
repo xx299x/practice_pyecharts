{
 "cells": [
  {
   "cell_type": "markdown",
   "metadata": {},
   "source": [
    "1:定义一个数学中的复数类 Complex，它有一个构造函数与一个显示函数,建立一个\n",
    "Complex 对象并调用该显示函数显示。"
   ]
  },
  {
   "cell_type": "code",
   "execution_count": 2,
   "metadata": {},
   "outputs": [
    {
     "name": "stdout",
     "output_type": "stream",
     "text": [
      "11 32\n"
     ]
    }
   ],
   "source": [
    "class Complex:\n",
    "    def __init__(self,a,b):\n",
    "        self.a = a\n",
    "        self.b = b\n",
    "        \n",
    "    def info(self):\n",
    "        print(self.a,self.b)\n",
    "        \n",
    "C = Complex(11,32)\n",
    "C.info()"
   ]
  },
  {
   "cell_type": "markdown",
   "metadata": {},
   "source": [
    "2.定义一个计算机类 MyComputer，它包含 CPU 类型(String 类型）、RAM 内存大小(Integer\n",
    "类型)、HD 硬盘大小(Integer 类型)，设计它的构造函数，并设计一个显示函数，建立一个\n",
    "MyComputer 对象并调用该显示函数显示。\n"
   ]
  },
  {
   "cell_type": "code",
   "execution_count": 4,
   "metadata": {},
   "outputs": [
    {
     "name": "stdout",
     "output_type": "stream",
     "text": [
      "CPU:i5-5300HQ  RAM:50  HD:400\n"
     ]
    }
   ],
   "source": [
    "class MyComputer:\n",
    "    def __init__(self,cup,ram,hd):\n",
    "        self.cup = str(cup)\n",
    "        self.ram = int(ram)\n",
    "        self.hd = int(hd)\n",
    "        \n",
    "    def info(self):\n",
    "        temp = f\"CPU:{self.cup}  RAM:{self.ram}  HD:{self.hd}\"\n",
    "        return temp\n",
    "\n",
    "C = MyComputer(\"i5-5300HQ\",50,400)\n",
    "print(C.info())"
   ]
  },
  {
   "cell_type": "markdown",
   "metadata": {},
   "source": [
    "\n",
    "3.设计一个整数类MyInteger，它有一个整数变量，并有一个Value属性，可以通过为Value存取该变量的值，还有一个转二进制字符串的成员函数toBin及转十六进制字符串的成员函数 toHex。\n"
   ]
  },
  {
   "cell_type": "code",
   "execution_count": 5,
   "metadata": {},
   "outputs": [
    {
     "name": "stdout",
     "output_type": "stream",
     "text": [
      "56\n",
      "0b111000\n",
      "0x38\n"
     ]
    }
   ],
   "source": [
    "class MyInteger:\n",
    "    def __init__(self,v):\n",
    "        self.Value = v\n",
    "    \n",
    "    def toBin(self):\n",
    "        return(bin(self.Value))\n",
    "    \n",
    "    def toHex(self):\n",
    "        return(hex(self.Value))\n",
    "        \n",
    "C = MyInteger(56)\n",
    "print(C.Value)\n",
    "print(C.toBin())\n",
    "print(C.toHex())\n",
    "\n"
   ]
  },
  {
   "cell_type": "markdown",
   "metadata": {},
   "source": [
    "\n",
    "4.建立一个普通人员类Person，包含姓名（m_name）、性别（m_sex）、年龄（m_age）成员变量。\n",
    "（1）建立Person 类，包含Private 成员m_name、m_sex、m_age成员变量；\n",
    "\n",
    "（2）建立Person 的构造函数；\n",
    "（3）建立一个显示过程Show()，显示该对象的数据；\n",
    "4）派生一个学生类 Student，增加班级(m_class)，专业（m_major），设计这些类的构造函数；\n",
    "（5）建立m_class、m_major对应的属性函数sClass()、sMajor();\n",
    "（6）建立显示成员函数Show()，显示该学生对象所有成员数据；\n"
   ]
  },
  {
   "cell_type": "markdown",
   "metadata": {},
   "source": [
    "5.建立一个时间类Time，它包含时hour,分minute，秒second的实例属性\n",
    "（1）设计时间显示函数 show(self）;class Time:\n",
    "（2）设计两个时间大小比较函数compare(self，t），其中t是另外一个时间；"
   ]
  },
  {
   "cell_type": "code",
   "execution_count": 6,
   "metadata": {},
   "outputs": [
    {
     "name": "stdout",
     "output_type": "stream",
     "text": [
      "21:03:43\n"
     ]
    }
   ],
   "source": [
    "class Time:\n",
    "    def __init__(self,h,m,s):\n",
    "        self.hour = h\n",
    "        self.minute = m\n",
    "        self.second = s\n",
    "        \n",
    "    def show(self):\n",
    "        print(\"%02d:%02d:%02d\" %(self.hour,self.minute,self.second))\n",
    "        \n",
    "C = Time(21,3,43)\n",
    "C.show()"
   ]
  },
  {
   "cell_type": "code",
   "execution_count": null,
   "metadata": {},
   "outputs": [],
   "source": []
  }
 ],
 "metadata": {
  "kernelspec": {
   "display_name": "Python 3",
   "language": "python",
   "name": "python3"
  },
  "language_info": {
   "codemirror_mode": {
    "name": "ipython",
    "version": 3
   },
   "file_extension": ".py",
   "mimetype": "text/x-python",
   "name": "python",
   "nbconvert_exporter": "python",
   "pygments_lexer": "ipython3",
   "version": "3.7.1"
  }
 },
 "nbformat": 4,
 "nbformat_minor": 2
}
