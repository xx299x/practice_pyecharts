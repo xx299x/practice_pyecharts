{
 "cells": [
  {
   "cell_type": "markdown",
   "metadata": {},
   "source": [
    "1.编写一个程序建立-一个文本文件abc.txt, 向其中写入”abc\\n”并存盘，查看abc.txt是几.个字节的文件，说明为什么"
   ]
  },
  {
   "cell_type": "code",
   "execution_count": null,
   "metadata": {},
   "outputs": [],
   "source": [
    "with open('abc.txt', 'w+') as f:\n",
    "    f.write('abc\\n')\n",
    "# 5 字节 "
   ]
  },
  {
   "cell_type": "markdown",
   "metadata": {},
   "source": [
    "2． 用 Windows 记事本编写一个文本文件 xyz.txt，在其中存入”123”后打”Enter”键换行，存盘后查看文件应是 5 个字节长，用 read(1)读该文件，看看要读 5 次还是 4 次就把文件读完，为什么？编写程序验证。"
   ]
  },
  {
   "cell_type": "markdown",
   "metadata": {},
   "source": [
    "5．用二进制方式创建文件 abc 并写入”abc\\r\\nxyz\\n\\r123\\r456\\n”的字符串，查看该文件有多少个字节，再用文本文件的方式打开此文件并用 fgetc 来读，看看每次读出的是什么字符。"
   ]
  },
  {
   "cell_type": "code",
   "execution_count": 27,
   "metadata": {},
   "outputs": [
    {
     "name": "stdout",
     "output_type": "stream",
     "text": [
      "abc\r\n",
      "xyz\n",
      "\r",
      "123\r",
      "456\n",
      "\n"
     ]
    }
   ],
   "source": [
    "def write():\n",
    "    f=open(\"abc\",\"wb\")\n",
    "    f.write(\"abc\\r\\nxyz\\n\\r123\\r456\\n\".encode())\n",
    "    f.close()\n",
    "def read():\n",
    "    f=open(\"abc\",\"rb\")\n",
    "    data=f.read()\n",
    "    s=data.decode()\n",
    "    f.close()\n",
    "    print(s)\n",
    "\n",
    "\n",
    "write()\n",
    "read()"
   ]
  },
  {
   "cell_type": "markdown",
   "metadata": {},
   "source": [
    "6.用文本文件方式创建文件并写入”abc\\nxyz\\r\\n123\\r” 字符串，再用二进制方式打开读取每个字节，看看每个字节是什么。\n"
   ]
  },
  {
   "cell_type": "code",
   "execution_count": 3,
   "metadata": {},
   "outputs": [
    {
     "name": "stdout",
     "output_type": "stream",
     "text": [
      "b'a'\n",
      "b'b'\n",
      "b'c'\n",
      "b'\\r'\n",
      "b'\\n'\n",
      "b'x'\n",
      "b'y'\n",
      "b'z'\n",
      "b'\\r'\n",
      "b'\\r'\n",
      "b'\\n'\n",
      "b'1'\n",
      "b'2'\n",
      "b'3'\n",
      "b'\\r'\n"
     ]
    }
   ],
   "source": [
    "with open('test6.txt','w') as f:\n",
    "    f.write('abc\\nxyz\\r\\n123\\r')\n",
    "with open('test6.txt','rb') as f:\n",
    "    a = f.read(1)\n",
    "    while a:\n",
    "        print(a)\n",
    "        a = f.read(1)"
   ]
  },
  {
   "cell_type": "markdown",
   "metadata": {},
   "source": [
    "7.编写一个程序，它能统计- -篇英文文章中的a ~z各个字母出现的次数(不分大小写)，并按出现次数的多少按顺序输出。\n"
   ]
  }
 ],
 "metadata": {
  "kernelspec": {
   "display_name": "Python 3",
   "language": "python",
   "name": "python3"
  },
  "language_info": {
   "codemirror_mode": {
    "name": "ipython",
    "version": 3
   },
   "file_extension": ".py",
   "mimetype": "text/x-python",
   "name": "python",
   "nbconvert_exporter": "python",
   "pygments_lexer": "ipython3",
   "version": "3.7.1"
  }
 },
 "nbformat": 4,
 "nbformat_minor": 2
}
