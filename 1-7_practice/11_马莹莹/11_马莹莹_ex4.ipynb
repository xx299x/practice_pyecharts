{
 "cells": [
  {
   "cell_type": "markdown",
   "metadata": {},
   "source": [
    "# 练习四"
   ]
  },
  {
   "cell_type": "markdown",
   "metadata": {},
   "source": [
    "1.能直接修改字符串的某个字符吗？例如s=\"abc\"，s[0]=\"1\"可以吗？\n",
    "2.输入一个字符串，输出它所包含的所有数字，例如输入\"23me3e\",输出\"233\"\n",
    "3.设计一个字符串函数reverse（s），它返回字符串s的反串，例如reverse（\"abc\"）返回\"cba\"\n",
    "4.元组与列表有什么不同\n",
    "5.一个列表中的元素类型要求一致吗？例如list=[1,\"a\"]是正确的吗？\n",
    "6.列表是否还可以嵌套别的列表？列举一个例子说明\n",
    "7.用一个字典描述一个日期，包含年year、月month、日day的键字\n",
    "8.Python的字典数据类型与json数据类型有很多相似的地方，说明有哪些共同点。\n",
    "9.写出下列程序执行的结果：\n",
    "d={\"students\":[{\"name\":\"A\",\"sex\":\"M\"},{\"name\":\"B\",\"sex\":\"C\"}]}\n",
    "for k1 in d.keys():\n",
    "   for k2 in d[k1]:\n",
    "      for k3 in k2.key():\n",
    "          print(k3,k2[k3])\n",
    "10.如果使用字典描述一个时间，例如t={\"hour\":12,\"minute\":23,\"second\":34}表示时间\"12:23:34\"，设计一个函数interval（t1，t2），计算时间t1与t2的时间差，返回相同结构的一个字典时间。"
   ]
  },
  {
   "cell_type": "markdown",
   "metadata": {},
   "source": [
    "## 1.能直接修改字符串的某个字符吗？例如s=\"abc\"，s[0]=\"1\"可以吗？"
   ]
  },
  {
   "cell_type": "code",
   "execution_count": null,
   "metadata": {},
   "outputs": [],
   "source": [
    "#不能"
   ]
  },
  {
   "cell_type": "markdown",
   "metadata": {},
   "source": [
    "## 2.输入一个字符串，输出它所包含的所有数字，例如输入\"23me3e\",输出\"233\""
   ]
  },
  {
   "cell_type": "code",
   "execution_count": 1,
   "metadata": {},
   "outputs": [
    {
     "name": "stdin",
     "output_type": "stream",
     "text": [
      " 2556ashc\n"
     ]
    },
    {
     "name": "stdout",
     "output_type": "stream",
     "text": [
      "2\n",
      "5\n",
      "5\n",
      "6\n"
     ]
    }
   ],
   "source": [
    "a = input()\n",
    "for b in a:\n",
    "    if b >=\"0\" and b <=\"9\":\n",
    "        print(b)"
   ]
  },
  {
   "cell_type": "markdown",
   "metadata": {},
   "source": [
    "## 3.设计一个字符串函数reverse（s），它返回字符串s的反串，例如reverse（\"abc\"）返回\"cba\""
   ]
  },
  {
   "cell_type": "code",
   "execution_count": 1,
   "metadata": {},
   "outputs": [
    {
     "data": {
      "text/plain": [
       "'cba'"
      ]
     },
     "execution_count": 1,
     "metadata": {},
     "output_type": "execute_result"
    }
   ],
   "source": [
    "def reverse(s):\n",
    "    t = \"\"\n",
    "    for a in s:\n",
    "        t = a + t\n",
    "    return t\n",
    "reverse(\"abc\")\n",
    "        "
   ]
  },
  {
   "cell_type": "markdown",
   "metadata": {},
   "source": [
    "## 4.元组与列表有什么不同"
   ]
  },
  {
   "cell_type": "markdown",
   "metadata": {},
   "source": [
    "#元组是不一样的数据结构组成的，而列表是同类型的序列。元组不能被修改，但列表能修改。"
   ]
  },
  {
   "cell_type": "markdown",
   "metadata": {},
   "source": [
    "## 5.一个列表中的元素类型要求一致吗？例如list=[1,\"a\"]是正确的吗？"
   ]
  },
  {
   "cell_type": "markdown",
   "metadata": {},
   "source": [
    "#要求一致，不正确，1是数值型，“a”是字符串。"
   ]
  },
  {
   "cell_type": "markdown",
   "metadata": {},
   "source": [
    "## 6.列表是否还可以嵌套别的列表？列举一个例子说明"
   ]
  },
  {
   "cell_type": "markdown",
   "metadata": {},
   "source": [
    "#可以的。"
   ]
  },
  {
   "cell_type": "markdown",
   "metadata": {},
   "source": [
    "## 7.用一个字典描述一个日期，包含年year、月month、日day的键字"
   ]
  },
  {
   "cell_type": "markdown",
   "metadata": {},
   "source": [
    "dic = {'year':'1999','month':'11','day':'17'}\n",
    "print(dic)"
   ]
  },
  {
   "cell_type": "markdown",
   "metadata": {},
   "source": [
    "## 8.Python的字典数据类型与json数据类型有很多相似的地方，说明有哪些共同点。"
   ]
  },
  {
   "cell_type": "markdown",
   "metadata": {},
   "source": [
    "#共同点有：转置函数一样的。"
   ]
  },
  {
   "cell_type": "markdown",
   "metadata": {},
   "source": [
    "## 9.写出下列程序执行的结果："
   ]
  },
  {
   "cell_type": "markdown",
   "metadata": {},
   "source": [
    "d={\"students\":[{\"name\":\"A\",\"sex\":\"M\"},{\"name\":\"B\",\"sex\":\"C\"}]}\n",
    "for k1 in d.keys():\n",
    "   for k2 in d[k1]:\n",
    "      for k3 in k2.key():\n",
    "          print(k3,k2[k3])"
   ]
  },
  {
   "cell_type": "markdown",
   "metadata": {},
   "source": [
    "输出的结果为：\n",
    "name A\n",
    "sex M\n",
    "name B\n",
    "sex C"
   ]
  },
  {
   "cell_type": "markdown",
   "metadata": {},
   "source": [
    "## 10.如果使用字典描述一个时间，例如t={\"hour\":12,\"minute\":23,\"second\":34}表示时间\"12:23:34\"，设计一个函数interval（t1，t2），计算时间t1与t2的时间差，返回相同结构的一个字典时间。"
   ]
  },
  {
   "cell_type": "code",
   "execution_count": null,
   "metadata": {},
   "outputs": [],
   "source": []
  }
 ],
 "metadata": {
  "kernelspec": {
   "display_name": "Python 3",
   "language": "python",
   "name": "python3"
  },
  "language_info": {
   "codemirror_mode": {
    "name": "ipython",
    "version": 3
   },
   "file_extension": ".py",
   "mimetype": "text/x-python",
   "name": "python",
   "nbconvert_exporter": "python",
   "pygments_lexer": "ipython3",
   "version": "3.7.1"
  }
 },
 "nbformat": 4,
 "nbformat_minor": 4
}
