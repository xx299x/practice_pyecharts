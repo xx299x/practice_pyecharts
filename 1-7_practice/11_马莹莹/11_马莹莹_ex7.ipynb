{
 "cells": [
  {
   "cell_type": "markdown",
   "metadata": {},
   "source": [
    "### 1.简述Python链接MySQL数据库的方法"
   ]
  },
  {
   "cell_type": "code",
   "execution_count": null,
   "metadata": {},
   "outputs": [],
   "source": [
    "Python没有自带对MySQL数据库的支持，必须另外安装。安装也很简单，进入Python的安装目录的scripts子目录，找到pip.exe文件执行：\n",
    "    pip install pumysql\n",
    "就可以安装pymysql的驱动程序，在Python中就可以使用import pymysql引入这个模块驱动 MySQL 数据库。\n",
    "Python 连接 MySQL 数据库的方法如下：\n",
    "    con=pymysql.connect(host=\"127.0.0.1\",port=3306,user=\"root”,passwd=\"123456,db=\"mydb\",charset=\"utf8\")"
   ]
  },
  {
   "cell_type": "markdown",
   "metadata": {},
   "source": [
    "### 2.fetchone()怎么样判断读到数据库末尾"
   ]
  },
  {
   "cell_type": "code",
   "execution_count": null,
   "metadata": {},
   "outputs": [],
   "source": [
    "fetchone()获取一行数据，第一次执行时得到第一行数据，再次执行时得到第二行数据，以此类推，如果到了记录集的最后再次执行fetchone()返回None。\n",
    "如果返回None时，就是读到了末尾。"
   ]
  },
  {
   "cell_type": "markdown",
   "metadata": {},
   "source": [
    "### 3.fetchall()与fetchone()有什么区别"
   ]
  },
  {
   "cell_type": "code",
   "execution_count": null,
   "metadata": {},
   "outputs": [],
   "source": [
    "fetchall()一次可以读取所有的行，读取后一般再次使用for循环取出每一行。\n",
    "fetchone()获取一行数据，第一次执行时得到第一行数据，再次执行时得到第二行数据，以此类推，如果到了记录集的最后再次执行fetchone()返回None。"
   ]
  },
  {
   "cell_type": "markdown",
   "metadata": {},
   "source": [
    "### 4.rowcount()返回值代表什么"
   ]
  },
  {
   "cell_type": "code",
   "execution_count": null,
   "metadata": {},
   "outputs": [],
   "source": [
    "类的对象。"
   ]
  },
  {
   "cell_type": "markdown",
   "metadata": {},
   "source": [
    "### 5.MySQL中怎么样使用带参数的SQL命令"
   ]
  },
  {
   "cell_type": "code",
   "execution_count": null,
   "metadata": {},
   "outputs": [],
   "source": [
    "这种命令基本形式是：\n",
    "    cursor.execute(带参数的 SQL 命令，(参数列表))\n",
    "其中带参数的SQL命令是SQL命令中把不确定的值用参数表示，MySQL数据库参数统一用\"%s\"表示,参数列表是对应参数的具体值,它们放在一个元组或者列表中"
   ]
  },
  {
   "cell_type": "markdown",
   "metadata": {},
   "source": [
    "### 6.数据库操作完成后为什么要调用commit()函数"
   ]
  },
  {
   "cell_type": "code",
   "execution_count": null,
   "metadata": {},
   "outputs": [],
   "source": [
    "如果不调用commit()函数的话，更新的数据只在内存中，没有真正更新到数据库文件中"
   ]
  },
  {
   "cell_type": "markdown",
   "metadata": {},
   "source": [
    "### 7.什么是游标cursor，它有什么作用"
   ]
  },
  {
   "cell_type": "code",
   "execution_count": null,
   "metadata": {},
   "outputs": [],
   "source": [
    "游标（cursor）是系统为用户开设的一个数据缓冲区，存放SQL语句的执行结果。\n",
    "cursor用来读取数据库中的信息。cursor指向一条记录，cursor.next()能取到下一条记录"
   ]
  },
  {
   "cell_type": "markdown",
   "metadata": {},
   "source": [
    "### 8.Python怎样连接Sqlite数据库"
   ]
  },
  {
   "cell_type": "code",
   "execution_count": null,
   "metadata": {},
   "outputs": [],
   "source": [
    "1 将SQLite作为一个模块导入，模块名称为sqlite3（如果使用的是标准库）。\n",
    "之后可以创建一个到数据库文件的连接——如果文件不存在就会自动生成——通过提供一个文件名（可以是文件的绝对路径或相对路径）：\n",
    "import sqlite3\n",
    "conn = sqlite3.connect('F:/test/data.db')\n",
    "2 之后就能获得连接的游标：\n",
    "curs = conn.cursor()\n",
    "3 这个游标可以用来执行SQL查询。完成查询并且做出某些更改后确保已经进行了提交，这样才可以将这些修改真正的保存到文件中：\n",
    "conn.commit()\n",
    "4 可以在每次修改数据后都进行提交，准备关闭数据库时，使用close方法：\n",
    "conn.close()\n"
   ]
  }
 ],
 "metadata": {
  "kernelspec": {
   "display_name": "Python 3",
   "language": "python",
   "name": "python3"
  },
  "language_info": {
   "codemirror_mode": {
    "name": "ipython",
    "version": 3
   },
   "file_extension": ".py",
   "mimetype": "text/x-python",
   "name": "python",
   "nbconvert_exporter": "python",
   "pygments_lexer": "ipython3",
   "version": "3.7.1"
  }
 },
 "nbformat": 4,
 "nbformat_minor": 2
}
