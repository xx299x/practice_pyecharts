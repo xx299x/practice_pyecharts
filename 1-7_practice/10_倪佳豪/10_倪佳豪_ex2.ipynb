{
 "cells": [
  {
   "cell_type": "markdown",
   "metadata": {},
   "source": [
    "1.输入a、b、c三个参数，求解ax2+bx+c=0的两个根，假定b2-4ac>0."
   ]
  },
  {
   "cell_type": "code",
   "execution_count": 65,
   "metadata": {},
   "outputs": [
    {
     "data": {
      "text/plain": [
       "(-6.0, -9.0)"
      ]
     },
     "execution_count": 65,
     "metadata": {},
     "output_type": "execute_result"
    }
   ],
   "source": [
    "import math\n",
    "def get_result(a,b,c):\n",
    "    x = b*b - 4*a*c\n",
    "    if x <=0:\n",
    "        return \"error\"\n",
    "    x1 = (-b+math.sqrt(x))/2*a\n",
    "    x2 = (-b-math.sqrt(x))/2*a\n",
    "    return (x1,x2)\n",
    "\n",
    "get_result(3,5,2)"
   ]
  },
  {
   "cell_type": "markdown",
   "metadata": {},
   "source": [
    "2.输入a、b、c三个参数，以它们作为三角形的三边，判断是否可以构成一一个三角形，如能则进一步计算其面积。三角形的面积s可以用以下公式计算: s=sqrt(p* (p- a)*(p-b)*(p-c))其中p= (a+b+e)/2。\n"
   ]
  },
  {
   "cell_type": "code",
   "execution_count": 8,
   "metadata": {},
   "outputs": [
    {
     "data": {
      "text/plain": [
       "6.0"
      ]
     },
     "execution_count": 8,
     "metadata": {},
     "output_type": "execute_result"
    }
   ],
   "source": [
    "import math\n",
    "def get_result(a,b,c):\n",
    "    x = a + b\n",
    "    y = a + c\n",
    "    z = b + c\n",
    "    p = (a+b+c)/2\n",
    "    if x<c and y<b and z<a:\n",
    "        return \"error\"\n",
    "    else:\n",
    "        s = math.sqrt(p*(p-a)*(p-b)*(p-c))\n",
    "    return s\n",
    "get_result(3,4,5)"
   ]
  },
  {
   "cell_type": "markdown",
   "metadata": {},
   "source": [
    "3.输入一个字母，判断它是否为小写英文字母。"
   ]
  },
  {
   "cell_type": "code",
   "execution_count": 14,
   "metadata": {},
   "outputs": [
    {
     "name": "stdout",
     "output_type": "stream",
     "text": [
      "m是小写字母\n"
     ]
    }
   ],
   "source": [
    "def f(str):\n",
    "    if 97<=ord(str)<=122:\n",
    "        print(\"%s是小写字母\"%str)\n",
    "    else:\n",
    "        print(\"%s不是小写字母\"%str)\n",
    "f(\"m\")"
   ]
  },
  {
   "cell_type": "markdown",
   "metadata": {},
   "source": [
    "4.从键盘输入5个字符，统计’0’字符出现的次数。"
   ]
  },
  {
   "cell_type": "code",
   "execution_count": 25,
   "metadata": {},
   "outputs": [
    {
     "name": "stdout",
     "output_type": "stream",
     "text": [
      "3\n"
     ]
    }
   ],
   "source": [
    "def f(a):\n",
    "    count=0\n",
    "    for i in str(a):\n",
    "        if i=='0':\n",
    "            count = count +1\n",
    "    return count\n",
    "print(f(20500))    \n"
   ]
  },
  {
   "cell_type": "markdown",
   "metadata": {},
   "source": [
    "5.输入两个整数，判断哪个大并输出结果。"
   ]
  },
  {
   "cell_type": "code",
   "execution_count": 67,
   "metadata": {},
   "outputs": [
    {
     "name": "stdout",
     "output_type": "stream",
     "text": [
      "4 大\n"
     ]
    }
   ],
   "source": [
    "def f(a,b):\n",
    "    max = a\n",
    "    if a<b:\n",
    "        max = str(b)+\" 大\"\n",
    "    else :\n",
    "        max = str(a)+\" 大\"\n",
    "    return max\n",
    "print(f(3,4))"
   ]
  },
  {
   "cell_type": "markdown",
   "metadata": {},
   "source": [
    "6.输入一个字母，如它是一一个小写英文字母，则把它变为对应大写字母输出。"
   ]
  },
  {
   "cell_type": "code",
   "execution_count": 68,
   "metadata": {},
   "outputs": [
    {
     "data": {
      "text/plain": [
       "'P'"
      ]
     },
     "execution_count": 68,
     "metadata": {},
     "output_type": "execute_result"
    }
   ],
   "source": [
    "def f(word):\n",
    "    if 97<=ord(word)<=122:\n",
    "        x = chr(ord(word)+(ord(\"A\")-ord(\"a\")))\n",
    "    else :\n",
    "        x = \"不是小写字母\"\n",
    "    return x\n",
    "print(f(\"p\"))"
   ]
  },
  {
   "cell_type": "markdown",
   "metadata": {},
   "source": [
    "7.输入-一个年份，判断它是否为闰年。"
   ]
  },
  {
   "cell_type": "code",
   "execution_count": 45,
   "metadata": {},
   "outputs": [
    {
     "name": "stdout",
     "output_type": "stream",
     "text": [
      "2001不是闰年\n"
     ]
    }
   ],
   "source": [
    "def f(year):\n",
    "    if year%400==0:\n",
    "        print(str(year)+\"是闰年\")\n",
    "    elif year%4==0 and year%100!=0:\n",
    "        print(str(year)+\"是闰年\")\n",
    "    else:\n",
    "        print(str(year)+\"不是闰年\")\n",
    "f(2001)"
   ]
  },
  {
   "cell_type": "markdown",
   "metadata": {},
   "source": [
    "8.从键盘输入a、b两个数，按大小顺序输出他们。"
   ]
  },
  {
   "cell_type": "code",
   "execution_count": 50,
   "metadata": {},
   "outputs": [
    {
     "name": "stdout",
     "output_type": "stream",
     "text": [
      "4\n",
      "3\n"
     ]
    }
   ],
   "source": [
    "def f(a,b):\n",
    "    max = a\n",
    "    min = b\n",
    "    if b>a:\n",
    "        max = b\n",
    "        min = a\n",
    "    print(max)\n",
    "    print(min)\n",
    "\n",
    "f(4,3)"
   ]
  },
  {
   "cell_type": "markdown",
   "metadata": {},
   "source": [
    "9.输入a、b、c三个整数，找出最小的数。"
   ]
  },
  {
   "cell_type": "code",
   "execution_count": 53,
   "metadata": {},
   "outputs": [
    {
     "name": "stdout",
     "output_type": "stream",
     "text": [
      "6是最小的数\n"
     ]
    }
   ],
   "source": [
    "def f(a,b,c):\n",
    "    min = a\n",
    "    if b<a:\n",
    "        if c<b:\n",
    "            min = c\n",
    "        else:\n",
    "            min = b\n",
    "    print(str(min) + \"是最小的数\")\n",
    "f(7,6,9)"
   ]
  },
  {
   "cell_type": "markdown",
   "metadata": {},
   "source": [
    "10.某企业发放的奖金根据利润提成。利润低于或等于10 万元时，奖金可提12%;利润高于10万元，低于20万元时，高于10万元的部分，可提成8.5%;20万到40万之间时，高于20万元的部分，可提成6%; 40 万到60万之间时高于40万元的部分，可提成4%; 60 万到100万之间时，高于60万元的部分，可提成2.5%，高于100万元时，超过100万元的部分按1%提成，从键盘输入当月利润，求应发放奖金总数?"
   ]
  },
  {
   "cell_type": "code",
   "execution_count": 56,
   "metadata": {},
   "outputs": [
    {
     "data": {
      "text/plain": [
       "1010000.0"
      ]
     },
     "execution_count": 56,
     "metadata": {},
     "output_type": "execute_result"
    }
   ],
   "source": [
    "def f(m):\n",
    "    if m<=100000:\n",
    "        x = m+m*0.12\n",
    "    elif m<200000:\n",
    "        x = 100000+(m-100000)*0.085\n",
    "    elif m<400000:\n",
    "        x = 200000+(m-200000)*0.06\n",
    "    elif m<600000:\n",
    "        x = 400000+(m-400000)*0.04\n",
    "    elif m<1000000:\n",
    "        x = 600000+(m-600000)*0.025\n",
    "    else:\n",
    "        x = 1000000+(m-1000000)*0.01\n",
    "    return x\n",
    "f(2000000)"
   ]
  },
  {
   "cell_type": "markdown",
   "metadata": {},
   "source": [
    "11.平面上有四个圆，圆心分别为(2，2)， (-2, 2)，(-2， -2)，(2, -2)，圆半径为1。今输入任一点的坐标，判断该点是否在这四个圆中，如在则给出是在哪一个圆中。"
   ]
  },
  {
   "cell_type": "code",
   "execution_count": 63,
   "metadata": {},
   "outputs": [
    {
     "name": "stdout",
     "output_type": "stream",
     "text": [
      "在（-2，-2）的圆里\n",
      "在（2，2）的圆里\n",
      "该点不在四个圆里\n",
      "在（2，-2）的圆里\n"
     ]
    }
   ],
   "source": [
    "def f(a,b):\n",
    "    q1 = (a-2)**2+(b-2)**2\n",
    "    q2 = (a-2)**2+(b+2)**2\n",
    "    q3 = (a+2)**2+(b-2)**2\n",
    "    q4 = (a+2)**2+(b+2)**2\n",
    "    if q1 <=1:\n",
    "        print(\"在（2，2）的圆里\")\n",
    "    elif q2 <=1: \n",
    "        print(\"在（2，-2）的圆里\")\n",
    "    elif q3 <=1:\n",
    "        print(\"在（-2，2）的圆里\")\n",
    "    elif q4 <=1:\n",
    "        print(\"在（-2，-2）的圆里\")\n",
    "    else:\n",
    "        print(\"该点不在四个圆里\")\n",
    "    \n",
    "f(-3,-2)  \n",
    "f(3,2)\n",
    "f(3,5)\n",
    "f(2,-3)"
   ]
  },
  {
   "cell_type": "code",
   "execution_count": null,
   "metadata": {},
   "outputs": [],
   "source": []
  }
 ],
 "metadata": {
  "kernelspec": {
   "display_name": "Python 3",
   "language": "python",
   "name": "python3"
  },
  "language_info": {
   "codemirror_mode": {
    "name": "ipython",
    "version": 3
   },
   "file_extension": ".py",
   "mimetype": "text/x-python",
   "name": "python",
   "nbconvert_exporter": "python",
   "pygments_lexer": "ipython3",
   "version": "3.7.1"
  }
 },
 "nbformat": 4,
 "nbformat_minor": 4
}
