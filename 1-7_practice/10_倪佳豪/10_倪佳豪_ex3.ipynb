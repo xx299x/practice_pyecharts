{
 "cells": [
  {
   "cell_type": "markdown",
   "metadata": {},
   "source": [
    "# 1.计算1+2+4+...+100 的和。"
   ]
  },
  {
   "cell_type": "code",
   "execution_count": 12,
   "metadata": {},
   "outputs": [
    {
     "name": "stdout",
     "output_type": "stream",
     "text": [
      "2551\n"
     ]
    }
   ],
   "source": [
    "a = 0\n",
    "s = range(2,101)\n",
    "for i in range(2,101,2):\n",
    "    a += i\n",
    "a = a+1\n",
    "print(a)\n"
   ]
  },
  {
   "cell_type": "markdown",
   "metadata": {},
   "source": [
    "# 2.计算1+1/3+1/5+....+1/99 的和。"
   ]
  },
  {
   "cell_type": "code",
   "execution_count": 1,
   "metadata": {},
   "outputs": [
    {
     "name": "stdout",
     "output_type": "stream",
     "text": [
      "2.937774848474907\n"
     ]
    }
   ],
   "source": [
    "z = 1\n",
    "m = 1\n",
    "s = 0\n",
    "for i in range(1,51):\n",
    "    s = s + (z/m)\n",
    "    m = m + 2\n",
    "print(s)"
   ]
  },
  {
   "cell_type": "code",
   "execution_count": 3,
   "metadata": {},
   "outputs": [
    {
     "name": "stdout",
     "output_type": "stream",
     "text": [
      "2.937774848474907\n"
     ]
    }
   ],
   "source": [
    "s = 0\n",
    "for i in range(1,100,2):\n",
    "    s = s + (1 / i)\n",
    "print(s)"
   ]
  },
  {
   "cell_type": "markdown",
   "metadata": {},
   "source": [
    "# 3.从键盘输入一个字符串，直到回车结束，统计字符串中的大小写英文字母各有多少个。"
   ]
  },
  {
   "cell_type": "code",
   "execution_count": 5,
   "metadata": {},
   "outputs": [
    {
     "name": "stdout",
     "output_type": "stream",
     "text": [
      "Enter:GDSJAHDJKSAHJKsadssac\n",
      "小写： 7 大写： 14\n"
     ]
    }
   ],
   "source": [
    "text = input(\"Enter:\")\n",
    "a = 0\n",
    "b = 0\n",
    "for x in text:\n",
    "    if x >=\"a\" and x <=\"z\":\n",
    "        a = a + 1\n",
    "    elif x >=\"A\" and x <=\"Z\":\n",
    "        b = b + 1\n",
    "print(\"小写：\",a,\"大写：\",b)"
   ]
  },
  {
   "cell_type": "markdown",
   "metadata": {},
   "source": [
    "# 5.有一分数序列:2/1， 3/2， 5/3,8/5, 13/8，21/13.求出这个数列的前20项之和。"
   ]
  },
  {
   "cell_type": "code",
   "execution_count": 15,
   "metadata": {},
   "outputs": [
    {
     "name": "stdout",
     "output_type": "stream",
     "text": [
      "32.66026079864164\n"
     ]
    }
   ],
   "source": [
    "sum = 0\n",
    "a = 2\n",
    "b = 1\n",
    "for i in range(20):\n",
    "    sum = sum + a/b\n",
    "    a = a + b\n",
    "    b = a - b\n",
    "print(sum)"
   ]
  },
  {
   "cell_type": "code",
   "execution_count": 16,
   "metadata": {},
   "outputs": [
    {
     "name": "stdout",
     "output_type": "stream",
     "text": [
      "32.66026079864164\n"
     ]
    }
   ],
   "source": [
    "sum = 0\n",
    "a = 2\n",
    "b = 1\n",
    "n = 1\n",
    "while n <21:\n",
    "    sum = sum + a/b\n",
    "    a = a + b\n",
    "    b = a - b\n",
    "    n = n + 1\n",
    "print(sum)"
   ]
  },
  {
   "cell_type": "markdown",
   "metadata": {},
   "source": [
    "# 6.输入若干个同学的成绩，计算平均成绩，输入的成绩为负数或大于100时表示结束输入。"
   ]
  },
  {
   "cell_type": "code",
   "execution_count": 7,
   "metadata": {},
   "outputs": [
    {
     "name": "stdout",
     "output_type": "stream",
     "text": [
      "98\n",
      "45\n",
      "36\n",
      "78\n",
      "-1\n",
      "平均: 64.25\n"
     ]
    }
   ],
   "source": [
    "s = 0\n",
    "n = 0\n",
    "while True:\n",
    "    m = float(input())\n",
    "    if m < 0 or m > 100:\n",
    "        break\n",
    "    s = s + m\n",
    "    n = n + 1\n",
    "print(\"平均:\",s/n)"
   ]
  },
  {
   "cell_type": "markdown",
   "metadata": {},
   "source": [
    "# 7.输入三个正整数a、b、n，精确计算a/b的结果到小数后n位。"
   ]
  },
  {
   "cell_type": "code",
   "execution_count": 3,
   "metadata": {},
   "outputs": [
    {
     "name": "stdout",
     "output_type": "stream",
     "text": [
      "请输入正整数a:9\n",
      "请输入正整数b:3\n",
      "请输入正整数n:2\n",
      "3.00\n"
     ]
    }
   ],
   "source": [
    "a = int(input('请输入正整数a:'))\n",
    "b = int(input('请输入正整数b:'))\n",
    "n = int(input('请输入正整数n:'))\n",
    "\n",
    "num = a/b\n",
    "d='%.{}f'.format(n)\n",
    "\n",
    "print(d %num)"
   ]
  },
  {
   "cell_type": "markdown",
   "metadata": {},
   "source": [
    "# 8.一个猴子第一天摘下若干个桃子，当即吃了一半，还不过瘾，又多吃了一个。第二天早上又将剩下的桃子吃掉一半，又多吃了一个。以后每天早上都吃了前一天剩下的一半零一个。到第10天早上想再吃时，见只剩下一个桃子了。求第一天共摘了多少。"
   ]
  },
  {
   "cell_type": "code",
   "execution_count": 1,
   "metadata": {},
   "outputs": [
    {
     "name": "stdout",
     "output_type": "stream",
     "text": [
      "第1天共摘了1534个桃子\n"
     ]
    }
   ],
   "source": [
    "p = 1\n",
    "for i in range(1, 10):\n",
    "    p = (p+1) * 2\n",
    "print(\"第1天共摘了\" + str(p) + \"个桃子\")"
   ]
  },
  {
   "cell_type": "markdown",
   "metadata": {},
   "source": [
    "# 9.有一序列:1,3,5,8,13,21...用 while循环求出这个数列的前 20项之和。"
   ]
  },
  {
   "cell_type": "code",
   "execution_count": 10,
   "metadata": {},
   "outputs": [
    {
     "name": "stdout",
     "output_type": "stream",
     "text": [
      "46364\n"
     ]
    }
   ],
   "source": [
    "a = 3\n",
    "b = 5\n",
    "s = 1 + 3 + 5\n",
    "i = 0\n",
    "while i < 17:\n",
    "    c = a + b\n",
    "    s = s + c\n",
    "    a = b\n",
    "    b = c\n",
    "    i = i + 1\n",
    "print(s)\n",
    "    "
   ]
  },
  {
   "cell_type": "markdown",
   "metadata": {},
   "source": [
    "# 10.一个数如正好等于它的所有因子之和，则称为完数，例如6的因子有1、2.3,而6-1+2+3，因此6是一个完数。编程序找出 1000 之内的所有完数。"
   ]
  },
  {
   "cell_type": "code",
   "execution_count": null,
   "metadata": {},
   "outputs": [],
   "source": []
  },
  {
   "cell_type": "markdown",
   "metadata": {},
   "source": [
    "# 11.有近千名学生排队，7人一行余3人5人一行余2人，3人一行余1人，编写程序求学生人数"
   ]
  },
  {
   "cell_type": "code",
   "execution_count": 15,
   "metadata": {},
   "outputs": [
    {
     "name": "stdout",
     "output_type": "stream",
     "text": [
      "997\n"
     ]
    }
   ],
   "source": [
    "m = 1000\n",
    "while 1:\n",
    "    if m%7 == 3 and m%5 == 2 and m%3 == 1:\n",
    "        print(m)\n",
    "        break\n",
    "    m = m - 1\n",
    "        "
   ]
  },
  {
   "cell_type": "markdown",
   "metadata": {},
   "source": [
    "# 12.小华今年12岁，他妈妈比他大20岁，编写程序计算多少年后他妈妈年龄比他大一倍。"
   ]
  },
  {
   "cell_type": "code",
   "execution_count": 8,
   "metadata": {},
   "outputs": [
    {
     "name": "stdout",
     "output_type": "stream",
     "text": [
      "8\n"
     ]
    }
   ],
   "source": [
    "y = 1\n",
    "while y < 100:\n",
    "    if 32 + y == 2 * (12 + y):\n",
    "        print(y)\n",
    "    y = y + 1"
   ]
  },
  {
   "cell_type": "markdown",
   "metadata": {},
   "source": [
    "# 13.两个乒乓球队进行比赛，各出三人。甲队为a，b，c三人，乙队为x，y,z三人。已抽签决定比赛名单。有人向队员打听比赛的名单。a说他不和x比，c说他不和x，z比，请编程序找出三队赛手的名单。"
   ]
  },
  {
   "cell_type": "code",
   "execution_count": 22,
   "metadata": {},
   "outputs": [
    {
     "name": "stdout",
     "output_type": "stream",
     "text": [
      "a vs z b vs x c vs y\n"
     ]
    }
   ],
   "source": [
    "for a in ['x','y','z']:\n",
    "    for b in ['x','y','z']:\n",
    "        for c in ['x','y','z']:\n",
    "            if a!=b and a!=c and b!=c and a!='x' and c!='x' and c!='z':\n",
    "                print(\"a vs\",a,\"b vs\",b,\"c vs\",c)"
   ]
  },
  {
   "cell_type": "markdown",
   "metadata": {},
   "source": [
    "# 14.目前世界人口是60亿，如每年按1.5%的比例增长，则多少年后是80亿?"
   ]
  },
  {
   "cell_type": "code",
   "execution_count": 22,
   "metadata": {},
   "outputs": [
    {
     "name": "stdout",
     "output_type": "stream",
     "text": [
      "80.81130039300321 20\n"
     ]
    }
   ],
   "source": [
    "x = 60\n",
    "goal = 80\n",
    "year = 1\n",
    "while 1: \n",
    "    x = x * 1.015 \n",
    "    if x >= goal: \n",
    "        print(x,year) \n",
    "        break \n",
    "    else: \n",
    "         year += 1"
   ]
  },
  {
   "cell_type": "markdown",
   "metadata": {},
   "source": [
    "# 15.一球从80米高度自由下落，每次落地后返回原高度的一半，再落下。求它在第10次落地时共经过多少米？第10次反弹多高?"
   ]
  },
  {
   "cell_type": "code",
   "execution_count": 5,
   "metadata": {},
   "outputs": [
    {
     "name": "stdout",
     "output_type": "stream",
     "text": [
      "239.8828125\n",
      "0.0390625\n"
     ]
    }
   ],
   "source": [
    "h = 80\n",
    "s = 0\n",
    "for i in range(11):\n",
    "    l = h/2\n",
    "    s = s + h + l\n",
    "    h = l\n",
    "print(s)\n",
    "print(l)"
   ]
  },
  {
   "cell_type": "code",
   "execution_count": 32,
   "metadata": {},
   "outputs": [
    {
     "name": "stdout",
     "output_type": "stream",
     "text": [
      "hello world\n"
     ]
    }
   ],
   "source": [
    "print(\"hello world\")"
   ]
  },
  {
   "cell_type": "code",
   "execution_count": null,
   "metadata": {},
   "outputs": [],
   "source": []
  }
 ],
 "metadata": {
  "kernelspec": {
   "display_name": "Python 3",
   "language": "python",
   "name": "python3"
  },
  "language_info": {
   "codemirror_mode": {
    "name": "ipython",
    "version": 3
   },
   "file_extension": ".py",
   "mimetype": "text/x-python",
   "name": "python",
   "nbconvert_exporter": "python",
   "pygments_lexer": "ipython3",
   "version": "3.7.1"
  }
 },
 "nbformat": 4,
 "nbformat_minor": 2
}
