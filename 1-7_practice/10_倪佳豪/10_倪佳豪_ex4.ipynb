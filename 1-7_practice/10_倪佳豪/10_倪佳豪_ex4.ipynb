{
 "cells": [
  {
   "cell_type": "markdown",
   "metadata": {},
   "source": [
    "#   1. 能直接修改字符串的某个字符吗?例如s=\"abc\", s[0]= \"1”可以吗?"
   ]
  },
  {
   "cell_type": "code",
   "execution_count": null,
   "metadata": {},
   "outputs": [],
   "source": [
    "#不能    不可以"
   ]
  },
  {
   "cell_type": "markdown",
   "metadata": {},
   "source": [
    "# 2. 输入一个字符串，输出它所包含的所有数字，例如输入\"23me3e\", 输出”233\""
   ]
  },
  {
   "cell_type": "code",
   "execution_count": 10,
   "metadata": {},
   "outputs": [
    {
     "name": "stdout",
     "output_type": "stream",
     "text": [
      "23me3e\n",
      "233"
     ]
    }
   ],
   "source": [
    "s = input()\n",
    "for x in s:\n",
    "    if x >= \"0\" and x <= \"9\":\n",
    "        print(x, end = \"\")\n",
    "\n"
   ]
  },
  {
   "cell_type": "markdown",
   "metadata": {},
   "source": [
    "# 3. 设计一个字符串函数reverse(s)， 它返回字符串s的反串，例如reverse(\"abc\")返回”cba\"."
   ]
  },
  {
   "cell_type": "code",
   "execution_count": 14,
   "metadata": {},
   "outputs": [
    {
     "data": {
      "text/plain": [
       "'cba'"
      ]
     },
     "execution_count": 14,
     "metadata": {},
     "output_type": "execute_result"
    }
   ],
   "source": [
    "def reverse(s):\n",
    "    t = \"\"\n",
    "    for a in s:\n",
    "        t = a + t\n",
    "    return t\n",
    "reverse(\"abc\")"
   ]
  },
  {
   "cell_type": "markdown",
   "metadata": {},
   "source": [
    "# 4. 元祖与列表有什么不同?"
   ]
  },
  {
   "cell_type": "code",
   "execution_count": null,
   "metadata": {},
   "outputs": [],
   "source": [
    "#元组不能被修改，列表可以进行删除、添加等操作。"
   ]
  },
  {
   "cell_type": "markdown",
   "metadata": {},
   "source": [
    "# 5. 一个列表中的元素类型要求一致吗?例如list=[1, \"a\"]是正确的吗?"
   ]
  },
  {
   "cell_type": "code",
   "execution_count": null,
   "metadata": {},
   "outputs": [],
   "source": [
    "#不需要一致     正确"
   ]
  },
  {
   "cell_type": "markdown",
   "metadata": {},
   "source": [
    "# 6. 列表是否还可以嵌套别的列表?列举一个例子说明。"
   ]
  },
  {
   "cell_type": "code",
   "execution_count": 9,
   "metadata": {},
   "outputs": [
    {
     "name": "stdout",
     "output_type": "stream",
     "text": [
      "[['A1', 'A2', 'A3'], ['B1', 'B2', 'B3'], ['C1', 'C2', 'C3']]\n"
     ]
    }
   ],
   "source": [
    "#可以\n",
    "group = [['A1','A2','A3'],['B1','B2','B3'],['C1','C2','C3']]\n",
    "print(group)"
   ]
  },
  {
   "cell_type": "markdown",
   "metadata": {},
   "source": [
    "# 7. 用一个字典描述一一个日期，包含年year、 月month、 日day的键字。"
   ]
  },
  {
   "cell_type": "code",
   "execution_count": 2,
   "metadata": {},
   "outputs": [
    {
     "name": "stdout",
     "output_type": "stream",
     "text": [
      "{'year': '2020', 'month': '03', 'day': '05'}\n"
     ]
    }
   ],
   "source": [
    "dic = {'year':'2020','month':'03','day':'05'}\n",
    "print(dic)"
   ]
  },
  {
   "cell_type": "markdown",
   "metadata": {},
   "source": [
    "# 8. Python 的字典数据类型与JSON数据类有很多相似的地方，说明有哪些共同点。"
   ]
  },
  {
   "cell_type": "code",
   "execution_count": null,
   "metadata": {},
   "outputs": [],
   "source": []
  },
  {
   "cell_type": "markdown",
   "metadata": {},
   "source": [
    "# 9. 写出下列程序执行的结果:\n",
    "\n",
    "      d={\"students\" :[(\"name\":\"A\", \"sex\":\"M\"}, (\"name\":\"B\"，\"sex\":\"C\"}]}for k1 in d. keys():\n",
    "\n",
    "      for k2 in d[k1]:\n",
    "\n",
    "      for k3 in k2. keysO:\n",
    "\n",
    "      print (k3, k2[k3])\n"
   ]
  },
  {
   "cell_type": "code",
   "execution_count": 18,
   "metadata": {},
   "outputs": [
    {
     "name": "stdout",
     "output_type": "stream",
     "text": [
      "name A\n",
      "sex M\n",
      "name B\n",
      "sex C\n"
     ]
    }
   ],
   "source": [
    "dic = {\"students\":[{\"name\":\"A\",\"sex\":\"M\"}, {\"name\":\"B\",\"sex\":\"C\"}]}\n",
    "for k1 in d. keys():\n",
    "    for k2 in d[k1]:\n",
    "        for k3 in k2.keys():\n",
    "            print(k3, k2[k3])"
   ]
  },
  {
   "cell_type": "markdown",
   "metadata": {},
   "source": [
    "# 10. 如果使用字典描述一个时间， 例如t={”hour\":12, \"minute\" :23, \"second\":34)表示时间\"12:23:34\"，设计一个函数 interval (t1, t2)，计算时间t1与t2的时间差，返回相同结构的一个字典时间。"
   ]
  },
  {
   "cell_type": "code",
   "execution_count": 1,
   "metadata": {},
   "outputs": [],
   "source": []
  },
  {
   "cell_type": "code",
   "execution_count": null,
   "metadata": {},
   "outputs": [],
   "source": []
  }
 ],
 "metadata": {
  "kernelspec": {
   "display_name": "Python 3",
   "language": "python",
   "name": "python3"
  },
  "language_info": {
   "codemirror_mode": {
    "name": "ipython",
    "version": 3
   },
   "file_extension": ".py",
   "mimetype": "text/x-python",
   "name": "python",
   "nbconvert_exporter": "python",
   "pygments_lexer": "ipython3",
   "version": "3.7.1"
  }
 },
 "nbformat": 4,
 "nbformat_minor": 2
}
