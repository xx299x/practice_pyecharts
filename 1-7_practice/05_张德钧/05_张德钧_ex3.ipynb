{
 "cells": [
  {
   "cell_type": "markdown",
   "metadata": {},
   "source": [
    "# 3.从键盘输入-一个字符串，直到回车结束，统计字符串中的大小写英文字母各有多少个。"
   ]
  },
  {
   "cell_type": "code",
   "execution_count": 1,
   "metadata": {},
   "outputs": [
    {
     "name": "stdout",
     "output_type": "stream",
     "text": [
      "输入一段字符:jhkjhkjhkj\n",
      "小写:  10 大写： 0\n"
     ]
    }
   ],
   "source": [
    "s = input('输入一段字符:')\n",
    "a = 0\n",
    "b = 0\n",
    "for x in s:\n",
    "    if x >='a' and x<='z':\n",
    "        a+=1\n",
    "    elif x>='A' and x<='Z':\n",
    "        b+=1\n",
    "print('小写: ',a,'大写：',b)"
   ]
  },
  {
   "cell_type": "markdown",
   "metadata": {},
   "source": [
    "# 5.有一分数序列: 2/1，3/2， 5/3, 8/5，13/8, 21/13.., 求出这个数列的前20项之和。"
   ]
  },
  {
   "cell_type": "code",
   "execution_count": 4,
   "metadata": {},
   "outputs": [
    {
     "name": "stdout",
     "output_type": "stream",
     "text": [
      "2/1+3/2+5/3+8/5+13/8+21/13+34/21+55/34+89/55+144/89+233/144+377/233+610/377+987/610+1597/987+2584/1597+4181/2584+6765/4181+10946/6765+17711/10946=32.66026079864164\n"
     ]
    }
   ],
   "source": [
    "s=0\n",
    "a=1\n",
    "b=2\n",
    "t=\"\"\n",
    "for i in range (20):\n",
    "    t=t+str(b)+\"/\"+str(a)\n",
    "    if i<19:\n",
    "        t=t+\"+\"\n",
    "    else:\n",
    "        t = t+\"=\"\n",
    "    s=s+b/a\n",
    "    c=a+b\n",
    "    a=b\n",
    "    b=c\n",
    "print(t+str(s))"
   ]
  },
  {
   "cell_type": "markdown",
   "metadata": {},
   "source": [
    "# 6.输入若干个同学的成绩,计算平均成绩，输入的成绩为负数或大于100时表示结束输入。"
   ]
  },
  {
   "cell_type": "code",
   "execution_count": 6,
   "metadata": {},
   "outputs": [
    {
     "name": "stdout",
     "output_type": "stream",
     "text": [
      "22\n",
      "22\n",
      "22\n",
      "545\n",
      "平均： 22.0\n"
     ]
    }
   ],
   "source": [
    "s = 0\n",
    "n = 0\n",
    "while True:\n",
    "    m = float(input())\n",
    "    if m<0 or m>100:\n",
    "        break\n",
    "    s=s+m\n",
    "    n=n+1\n",
    "print(\"平均：\",s/n)"
   ]
  },
  {
   "cell_type": "markdown",
   "metadata": {},
   "source": [
    "# 7.输入三个正整数a、b、n,精确计算a/b的结果到小数后n位"
   ]
  },
  {
   "cell_type": "code",
   "execution_count": 16,
   "metadata": {},
   "outputs": [
    {
     "name": "stdout",
     "output_type": "stream",
     "text": [
      "a= 2\n",
      "b= 2\n",
      "n= 5\n",
      "1.0\n"
     ]
    }
   ],
   "source": [
    "import math\n",
    "a = int(input(\"a= \"))\n",
    "b = int(input(\"b= \"))\n",
    "n = int(input(\"n= \"))\n",
    "s = a/b\n",
    "print( round(s,n))"
   ]
  },
  {
   "cell_type": "markdown",
   "metadata": {},
   "source": [
    "# 8.一个猴子第一天摘下若干个桃子，当即吃了一半，还不过瘾，又多吃了一个。 第二天早上又将剩下的桃子吃掉一半,又多吃了一个。以后每天早.上都吃了前一天剩下的一半零一个。到第10天早上想再吃时，见只剩下一个桃子了。求第一天共摘了多少。"
   ]
  },
  {
   "cell_type": "code",
   "execution_count": null,
   "metadata": {},
   "outputs": [],
   "source": []
  },
  {
   "cell_type": "markdown",
   "metadata": {},
   "source": [
    "# 9.有一序列: 1, 3，5, 8，13，2.... 用while循环求出这个数列的前20项之和。"
   ]
  },
  {
   "cell_type": "code",
   "execution_count": 20,
   "metadata": {},
   "outputs": [
    {
     "name": "stdout",
     "output_type": "stream",
     "text": [
      "1+3+5+8+13+21+34+55+89+144+233+377+610+987+1597+2584+4181+6765+10946+17711=46364\n"
     ]
    }
   ],
   "source": [
    "a=1\n",
    "b=2\n",
    "s=1\n",
    "t=\"1+\"\n",
    "i=0\n",
    "while i < 19:\n",
    "    c = a+b\n",
    "    s = s+c\n",
    "    t = t+str(c)\n",
    "    if(i<18):\n",
    "        t =t+\"+\"\n",
    "    a = b\n",
    "    b = c\n",
    "    i = i+1\n",
    "print(t+\"=\"+str(s))"
   ]
  },
  {
   "cell_type": "markdown",
   "metadata": {},
   "source": [
    "# 10.一个数如正好等于它的所有因子之和,则称为完数,例如6的因子有1.2、3,而6=1+2+3,因此6是一个完数。编程序找出1000之内的所有完数。"
   ]
  },
  {
   "cell_type": "code",
   "execution_count": null,
   "metadata": {},
   "outputs": [],
   "source": []
  },
  {
   "cell_type": "markdown",
   "metadata": {},
   "source": [
    "# 11.有近千名学生排队，7人1行余3人，5人一行余2人，3人一行余1人，编写程序求学生人数。"
   ]
  },
  {
   "cell_type": "code",
   "execution_count": 3,
   "metadata": {},
   "outputs": [
    {
     "name": "stdout",
     "output_type": "stream",
     "text": [
      "997\n"
     ]
    }
   ],
   "source": [
    "m=1000\n",
    "n=1000\n",
    "while True:\n",
    "    if m%7==3 and m%5==2 and m%3==1:\n",
    "        print(m)\n",
    "        break\n",
    "    if n%7==3 and n%5==2 and n%3==1:\n",
    "        print(n)\n",
    "        break\n",
    "    n=n+1  \n",
    "    m=m-1"
   ]
  },
  {
   "cell_type": "markdown",
   "metadata": {},
   "source": [
    "# 12.小华今年12岁，他妈妈比他大20岁，编写程序计算多少年后他妈妈年龄比他大 1倍。"
   ]
  },
  {
   "cell_type": "code",
   "execution_count": null,
   "metadata": {},
   "outputs": [],
   "source": [
    "xiaohua = 12\n",
    "mama = 12+20\n",
    "year = 0\n",
    "while True:\n",
    "    year+=1\n",
    "    xiaohua+=1\n",
    "    mama+=1\n",
    "    if mama==2*xiaohua:\n",
    "        break\n",
    "print(year,\"年后:\",xiaohua,mama)\n",
    "    \n",
    "    "
   ]
  },
  {
   "cell_type": "markdown",
   "metadata": {},
   "source": [
    "# 13.两个乒乓球队进行比赛，各出三人。甲队为a,b,c三人，乙队为x,y,z三人。已抽签决定比赛名单。有人向队员打听比赛的名单。a说他不和x比，c说他不和x,z比，请编程序找出三队赛手的名单。"
   ]
  },
  {
   "cell_type": "code",
   "execution_count": null,
   "metadata": {},
   "outputs": [],
   "source": []
  },
  {
   "cell_type": "markdown",
   "metadata": {},
   "source": [
    "# 14.目前世界人口是60亿，如每年按1.5%的比例增长，则多少年后是80亿?"
   ]
  },
  {
   "cell_type": "code",
   "execution_count": 6,
   "metadata": {},
   "outputs": [
    {
     "name": "stdout",
     "output_type": "stream",
     "text": [
      "20\n"
     ]
    }
   ],
   "source": [
    "a=60 \n",
    "b=0\n",
    "while True:\n",
    "    b+=1\n",
    "    a=a*1.015\n",
    "    if a>=80:\n",
    "        break\n",
    "print(b)"
   ]
  },
  {
   "cell_type": "markdown",
   "metadata": {},
   "source": [
    "# 15.-球从80米高度自由下落，每次落地后返回原高度的-一半，冉落下。求它在第10次落地时共经过多少米?第10次反弹多高?"
   ]
  },
  {
   "cell_type": "code",
   "execution_count": 37,
   "metadata": {},
   "outputs": [
    {
     "name": "stdout",
     "output_type": "stream",
     "text": [
      "80+80+40.0+20.0+10.0+5.0+2.5+1.25+0.625+0.3125 = 239.6875\n",
      "第10次:  0.078125\n"
     ]
    }
   ],
   "source": [
    "h=80\n",
    "s=80\n",
    "t=str(h)+\"+\"\n",
    "z=80\n",
    "for i in range(9):\n",
    "    s=s+h \n",
    "    t=t+str(h)+\"+\"\n",
    "    h=h/2\n",
    "print(t. strip(\"+\"),\"=\",s)\n",
    "for i in range(10):\n",
    "    z=z/2\n",
    "print(\"第10次: \",z)"
   ]
  },
  {
   "cell_type": "markdown",
   "metadata": {},
   "source": [
    "# 1.计算1++.....+100的和。"
   ]
  },
  {
   "cell_type": "code",
   "execution_count": 38,
   "metadata": {},
   "outputs": [
    {
     "name": "stdout",
     "output_type": "stream",
     "text": [
      "2551\n"
     ]
    }
   ],
   "source": [
    "sum=1\n",
    "for i in range(2,102,2):\n",
    "    sum=sum+i\n",
    "print(sum)"
   ]
  },
  {
   "cell_type": "markdown",
   "metadata": {},
   "source": [
    "# 2.计算1+1/3+15....+1/99的和。"
   ]
  },
  {
   "cell_type": "code",
   "execution_count": 39,
   "metadata": {},
   "outputs": [
    {
     "name": "stdout",
     "output_type": "stream",
     "text": [
      "2.937774848474907\n"
     ]
    }
   ],
   "source": [
    "i=1\n",
    "sum=0\n",
    "while i<=99:\n",
    "    sum=sum+1/i        \n",
    "    i=i+2                     \n",
    "print(sum)"
   ]
  },
  {
   "cell_type": "markdown",
   "metadata": {},
   "source": [
    "# 3.从键盘输入一个字符串，直到回车结束，统计字符串中的大小写英文字母各有多少个。"
   ]
  },
  {
   "cell_type": "code",
   "execution_count": 40,
   "metadata": {},
   "outputs": [
    {
     "name": "stdout",
     "output_type": "stream",
     "text": [
      "输入一段字符:jggkgktu\n",
      "小写:  8 大写： 0\n"
     ]
    }
   ],
   "source": [
    "s = input('输入一段字符:')\n",
    "a = 0\n",
    "b = 0\n",
    "for x in s:\n",
    "    if x >='a' and x<='z':\n",
    "        a+=1\n",
    "    elif x>='A' and x<='Z':\n",
    "        b+=1\n",
    "print('小写: ',a,'大写：',b)"
   ]
  },
  {
   "cell_type": "code",
   "execution_count": null,
   "metadata": {},
   "outputs": [],
   "source": []
  }
 ],
 "metadata": {
  "kernelspec": {
   "display_name": "Python 3",
   "language": "python",
   "name": "python3"
  },
  "language_info": {
   "codemirror_mode": {
    "name": "ipython",
    "version": 3
   },
   "file_extension": ".py",
   "mimetype": "text/x-python",
   "name": "python",
   "nbconvert_exporter": "python",
   "pygments_lexer": "ipython3",
   "version": "3.7.4"
  }
 },
 "nbformat": 4,
 "nbformat_minor": 2
}
