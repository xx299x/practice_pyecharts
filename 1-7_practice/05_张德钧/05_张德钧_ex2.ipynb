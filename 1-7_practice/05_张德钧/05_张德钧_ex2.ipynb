{
 "cells": [
  {
   "cell_type": "markdown",
   "metadata": {},
   "source": [
    "1.输入a、b、c三个参数，求解ax2+bx+c=0的两个根，假定b2-4ac>0"
   ]
  },
  {
   "cell_type": "code",
   "execution_count": 1,
   "metadata": {},
   "outputs": [
    {
     "name": "stdout",
     "output_type": "stream",
     "text": [
      "(-2.0916730868040165, -12.908326913195985)\n"
     ]
    }
   ],
   "source": [
    "#2.1\n",
    "import math\n",
    "def get_result(a,b,c):\n",
    "    x = b*b - 4*a*c\n",
    "    if x <=0:\n",
    "        return \"error\"\n",
    "    #一元二次方程\n",
    "    x1 = (-b+math.sqrt(x))/2*a\n",
    "    x2 = (-b-math.sqrt(x))/2*a\n",
    "    return (x1,x2)\n",
    "\n",
    "\n",
    "print(get_result(3,5,1))"
   ]
  },
  {
   "cell_type": "markdown",
   "metadata": {},
   "source": [
    "2.输入a、b、c三个参数，以它们作为三角形的三边，判断是否可以构成一一个三角形，如能则进一步计算其面积。三角形的面积s可以用以下公式计算: s=sqrt(p* (p- a)(p-b)(p-c))其中p= (a+b+e)/2。"
   ]
  },
  {
   "cell_type": "code",
   "execution_count": 2,
   "metadata": {},
   "outputs": [
    {
     "name": "stdout",
     "output_type": "stream",
     "text": [
      "34.977671449083054\n"
     ]
    }
   ],
   "source": [
    "#2.2\n",
    "import math\n",
    "def x(a,b,c): \n",
    "    p = (a+b+c)/2\n",
    "    if ((a+b)>c)&((a+c)>b)&((b+c)>a):\n",
    "        s = math.sqrt(p*(p-a)*(p-b)*(p-c))\n",
    "    else:\n",
    "        print(\"无法构成\")\n",
    "    return s\n",
    "print(x(7,10,12))"
   ]
  },
  {
   "cell_type": "markdown",
   "metadata": {},
   "source": [
    "\n",
    "3.输入一个字母，判断它是否为小写英文字母。"
   ]
  },
  {
   "cell_type": "code",
   "execution_count": 8,
   "metadata": {
    "scrolled": true
   },
   "outputs": [
    {
     "name": "stdout",
     "output_type": "stream",
     "text": [
      "a是小写字母\n"
     ]
    }
   ],
   "source": [
    "#2.3\n",
    "def f(str):\n",
    "    if 97<=ord(str)<=122:\n",
    "        print(\"%s是小写字母\"%str)\n",
    "    else:\n",
    "        print(\"%s不是小写字母\"%str)\n",
    "f(\"a\")"
   ]
  },
  {
   "cell_type": "markdown",
   "metadata": {},
   "source": [
    "4.从键盘输入5个字符，统计’0’字符出现的次数。"
   ]
  },
  {
   "cell_type": "code",
   "execution_count": 11,
   "metadata": {},
   "outputs": [],
   "source": [
    "def f(x):"
   ]
  },
  {
   "cell_type": "markdown",
   "metadata": {},
   "source": [
    "5.输入两个整数，判断哪个大并输出结果。"
   ]
  },
  {
   "cell_type": "code",
   "execution_count": 13,
   "metadata": {},
   "outputs": [
    {
     "name": "stdout",
     "output_type": "stream",
     "text": [
      "72大\n"
     ]
    }
   ],
   "source": [
    "#2.5\n",
    "def f(a,b):\n",
    "    max = a\n",
    "    if a<b:\n",
    "        max = str(b)+\"大\"\n",
    "    return max\n",
    "print(f(10,72))"
   ]
  },
  {
   "cell_type": "markdown",
   "metadata": {},
   "source": [
    "\n",
    "6.输入一个字母，如它是一一个小写英文字母，则把它变为对应大写字母输出。"
   ]
  },
  {
   "cell_type": "code",
   "execution_count": 14,
   "metadata": {},
   "outputs": [
    {
     "name": "stdout",
     "output_type": "stream",
     "text": [
      "F\n"
     ]
    }
   ],
   "source": [
    "#2.6\n",
    "def f(word):\n",
    "    if 97<=ord(word)<=122:\n",
    "        x = chr(ord(word)+(ord(\"A\")-ord(\"a\")))\n",
    "    return x\n",
    "print(f(\"f\"))"
   ]
  },
  {
   "cell_type": "markdown",
   "metadata": {},
   "source": [
    "7.输入一个年份，判断它是否为闰年。"
   ]
  },
  {
   "cell_type": "code",
   "execution_count": 95,
   "metadata": {},
   "outputs": [
    {
     "name": "stdout",
     "output_type": "stream",
     "text": [
      "2008不是闰年\n"
     ]
    }
   ],
   "source": [
    "#2.7\n",
    "def f(year):\n",
    "    if year%100==0 & year%400==0:\n",
    "        print(str(year)+\"是闰年\")\n",
    "    if year%4==0 & year%100!=0:\n",
    "        print(str(year)+\"是闰年\")\n",
    "    else:\n",
    "        print(str(year)+\"不是闰年\")\n",
    "f(2008)"
   ]
  },
  {
   "cell_type": "markdown",
   "metadata": {},
   "source": [
    "\n",
    "8.从键盘输入a、b两个数，按大小顺序输出他们。"
   ]
  },
  {
   "cell_type": "code",
   "execution_count": 21,
   "metadata": {},
   "outputs": [
    {
     "name": "stdout",
     "output_type": "stream",
     "text": [
      "234234\n",
      "56\n"
     ]
    }
   ],
   "source": [
    "#2.8\n",
    "def f(a,b):\n",
    "    max = a\n",
    "    min = b\n",
    "    if b>a:\n",
    "        max = b\n",
    "        min = a\n",
    "    print(max)\n",
    "    print(min)\n",
    "f(56,234234)"
   ]
  },
  {
   "cell_type": "markdown",
   "metadata": {},
   "source": [
    "\n",
    "9.输入a、b、c三个整数，找出最小的数。"
   ]
  },
  {
   "cell_type": "code",
   "execution_count": 67,
   "metadata": {},
   "outputs": [
    {
     "name": "stdout",
     "output_type": "stream",
     "text": [
      "2是最小的数\n"
     ]
    }
   ],
   "source": [
    "#2.9\n",
    "def f(a,b,c):\n",
    "    min = a\n",
    "    if a>b>c:\n",
    "        min = c\n",
    "    if a>b & b<c:\n",
    "        min = b\n",
    "    print(str(min)+\"是最小的数\")\n",
    "f(8,2,3)"
   ]
  },
  {
   "cell_type": "markdown",
   "metadata": {},
   "source": [
    "10.某企业发放的奖金根据利润提成。利润低于或等于10 万元时，奖金可提12%;利润高于10万元，低于20万元时，高于10万元的部分，可提成8.5%;20万到40万之间时，高于20万元的部分，可提成6%; 40 万到60万之间时高于40万元的部分，可提成4%; 60 万到100万之间时，高于60万元的部分，可提成2.5%，高于100万元时，超过100万元的部分按1%提成，从键盘输入当月利润，求应发放奖金总数?"
   ]
  },
  {
   "cell_type": "code",
   "execution_count": 85,
   "metadata": {},
   "outputs": [
    {
     "data": {
      "text/plain": [
       "404000.0"
      ]
     },
     "execution_count": 85,
     "metadata": {},
     "output_type": "execute_result"
    }
   ],
   "source": [
    "def f(a):\n",
    "    if a<=100000:\n",
    "        x = a+a*0.12\n",
    "    elif a<200000:\n",
    "        x = 100000+(a-100000)*0.085\n",
    "    elif a<400000:\n",
    "        x = 200000+(a-200000)*0.06\n",
    "    elif a<600000:\n",
    "        x = 400000+(a-400000)*0.04\n",
    "    elif a<1000000:\n",
    "        x = 600000+(a-600000)*0.025\n",
    "    else:\n",
    "        x = 1000000+(a-1000000)*0.01\n",
    "    return x\n",
    "f(500000)"
   ]
  },
  {
   "cell_type": "markdown",
   "metadata": {},
   "source": [
    "11.平面上有四个圆，圆心分别为(2，2)， (-2, 2)，(-2， -2)，(2, -2)，圆半径为1。今输入任一点的坐标，判断该点是否在这四个圆中，如在则给出是在哪一个圆中。"
   ]
  },
  {
   "cell_type": "code",
   "execution_count": null,
   "metadata": {},
   "outputs": [],
   "source": [
    "def f(a,b):"
   ]
  }
 ],
 "metadata": {
  "kernelspec": {
   "display_name": "Python 3",
   "language": "python",
   "name": "python3"
  },
  "language_info": {
   "codemirror_mode": {
    "name": "ipython",
    "version": 3
   },
   "file_extension": ".py",
   "mimetype": "text/x-python",
   "name": "python",
   "nbconvert_exporter": "python",
   "pygments_lexer": "ipython3",
   "version": "3.7.1"
  }
 },
 "nbformat": 4,
 "nbformat_minor": 2
}
