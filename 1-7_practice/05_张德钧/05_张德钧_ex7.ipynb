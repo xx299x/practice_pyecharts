{
 "cells": [
  {
   "cell_type": "markdown",
   "metadata": {},
   "source": [
    "## 1.简述python连接MySQL数据库的方法？"
   ]
  },
  {
   "cell_type": "code",
   "execution_count": 6,
   "metadata": {},
   "outputs": [
    {
     "ename": "SyntaxError",
     "evalue": "invalid syntax (<ipython-input-6-d9949310c4e8>, line 6)",
     "output_type": "error",
     "traceback": [
      "\u001b[1;36m  File \u001b[1;32m\"<ipython-input-6-d9949310c4e8>\"\u001b[1;36m, line \u001b[1;32m6\u001b[0m\n\u001b[1;33m    except Exception as err:\u001b[0m\n\u001b[1;37m         ^\u001b[0m\n\u001b[1;31mSyntaxError\u001b[0m\u001b[1;31m:\u001b[0m invalid syntax\n"
     ]
    }
   ],
   "source": [
    "import pymysql\n",
    "try:\n",
    "    con=pymysql.connect(host=\"127.0.0.1\",port=3306,user=\"root\",passwd=\"123456\",db=\"mydb\",charset=\"utf8\")\n",
    "    print(\"连接成功\")\n",
    "    con.close()\n",
    "    except Exception as err:\n",
    "        print(err)"
   ]
  },
  {
   "cell_type": "markdown",
   "metadata": {},
   "source": [
    "## 2.fetchone（）怎么样判断读到数据库末尾？"
   ]
  },
  {
   "cell_type": "markdown",
   "metadata": {},
   "source": [
    "#### fetchone()获取第一行数据，第一次执行时得到第一行数据，再次执行时得到第二行数据，以此类推，如果得到最后的数据会返回None。"
   ]
  },
  {
   "cell_type": "code",
   "execution_count": 5,
   "metadata": {},
   "outputs": [
    {
     "name": "stdout",
     "output_type": "stream",
     "text": [
      "(2003, \"Can't connect to MySQL server on '127.0.0.1' ([WinError 10061] 由于目标计算机积极拒绝，无法连接。)\")\n"
     ]
    }
   ],
   "source": [
    "import pymysql\n",
    "try:\n",
    "    con=pymysql.connect(host=\"127.0.0.1\",port=3306,user=\"root\",passwd=\"123456\",db=\"mydb\",charset=\"utf8\")\n",
    "    cursor = con.cursor(pymysql.cursor.DictCursor)\n",
    "    curssor.execute(\"select*from product\")\n",
    "    while True:\n",
    "        row = cursor.fetchone()\n",
    "        print(row)\n",
    "        if not row:\n",
    "            break\n",
    "    con.close\n",
    "except Exception as err:\n",
    "    print(err)"
   ]
  },
  {
   "cell_type": "markdown",
   "metadata": {},
   "source": [
    "## 3.fetchall（)与fetchone（）有什么区别？"
   ]
  },
  {
   "cell_type": "markdown",
   "metadata": {},
   "source": [
    "#### fetchall（）是一次性读完所有数据的，fetchone（)是一条一条读取时数据。"
   ]
  },
  {
   "cell_type": "code",
   "execution_count": null,
   "metadata": {},
   "outputs": [],
   "source": [
    "import pymysql\n",
    "try:\n",
    "    con=pymysql.connect(host=\"127.0.0.1\",port=3306,user=\"root\",passwd=\"123456\",db=\"mydb\",charset=\"utf8\")\n",
    "    cursor = con.cursor(pymysql.cursor.DictCursor)\n",
    "    curssor.execute(\"select*from product\")\n",
    "    row = cursor.fetchall()\n",
    "    print(row)\n",
    "    \n",
    "    con.close\n",
    "except Exception as err:\n",
    "    print(err)"
   ]
  },
  {
   "cell_type": "markdown",
   "metadata": {},
   "source": [
    "## 4.rowcount()返回值代表什么？"
   ]
  },
  {
   "cell_type": "markdown",
   "metadata": {},
   "source": [
    "#### 是获取的数据行数"
   ]
  },
  {
   "cell_type": "code",
   "execution_count": null,
   "metadata": {},
   "outputs": [],
   "source": [
    "import pymysql\n",
    "try:\n",
    "    con=pymysql.connect(host=\"127.0.0.1\",port=3306,user=\"root\",passwd=\"123456\",db=\"mydb\",charset=\"utf8\")\n",
    "    cursor = con.cursor(pymysql.cursor.DictCursor)\n",
    "    curssor.execute(\"select*from product\")\n",
    "    print(cursor.rowcount)\n",
    "    \n",
    "    con.close\n",
    "except Exception as err:\n",
    "    print(err)"
   ]
  },
  {
   "cell_type": "markdown",
   "metadata": {},
   "source": [
    "## 5.MySQL中怎么样使用带参数的SQL命令？"
   ]
  },
  {
   "cell_type": "markdown",
   "metadata": {},
   "source": [
    "#### "
   ]
  },
  {
   "cell_type": "markdown",
   "metadata": {},
   "source": [
    "## 6.数据库操作完成后为什么要调用commit（）函数？"
   ]
  },
  {
   "cell_type": "markdown",
   "metadata": {},
   "source": [
    "#### 需要commit（）来对数据进行立即修改的工作。"
   ]
  },
  {
   "cell_type": "markdown",
   "metadata": {},
   "source": [
    "## 7.什么是游标cursor，他有什么作用？"
   ]
  },
  {
   "cell_type": "markdown",
   "metadata": {},
   "source": [
    "#### 游标是由连接创建的对象；它的作用是用它查询对象，返回格式。"
   ]
  },
  {
   "cell_type": "markdown",
   "metadata": {},
   "source": [
    "## 8.python怎么样链接sqlite数据库？"
   ]
  },
  {
   "cell_type": "code",
   "execution_count": 3,
   "metadata": {},
   "outputs": [
    {
     "name": "stdout",
     "output_type": "stream",
     "text": [
      "连接成功\n"
     ]
    }
   ],
   "source": [
    "import sqlite3\n",
    "try:\n",
    "    con=sqlite3.connect(\"student.db\")\n",
    "    print(\"连接成功\")\n",
    "    con.close()\n",
    "except Exception as err:\n",
    "    print(err)"
   ]
  },
  {
   "cell_type": "code",
   "execution_count": null,
   "metadata": {},
   "outputs": [],
   "source": []
  }
 ],
 "metadata": {
  "kernelspec": {
   "display_name": "Python 3",
   "language": "python",
   "name": "python3"
  },
  "language_info": {
   "codemirror_mode": {
    "name": "ipython",
    "version": 3
   },
   "file_extension": ".py",
   "mimetype": "text/x-python",
   "name": "python",
   "nbconvert_exporter": "python",
   "pygments_lexer": "ipython3",
   "version": "3.7.4"
  }
 },
 "nbformat": 4,
 "nbformat_minor": 4
}
