{
 "cells": [
  {
   "cell_type": "markdown",
   "metadata": {},
   "source": [
    "# 1.简述Python连接MySQL数据库的方法? "
   ]
  },
  {
   "cell_type": "markdown",
   "metadata": {},
   "source": [
    "Python没有自带对MySQL数据库的支持，必须另外安装。进入Python的安装目录的scripts子目录，找到pip.exe文件执行:“pip install pumysql”就可以安装pymysql的驱动程序，在Python中就可以使用import pymysql 引入这个模块驱动MySQL数据库。\n",
    "Python连接MySQL数据库的方法如下:"
   ]
  },
  {
   "cell_type": "code",
   "execution_count": null,
   "metadata": {},
   "outputs": [],
   "source": [
    "#示例\n",
    "import pymysql\n",
    "try:\n",
    "    con = pymysql.connect (host=\" 127.0.0.1\",port=3306, user=\"root\", passwd=\"123456\",db=\"mydb\", charset=\"utf8\")    #connect是pymysql的连接函数\n",
    "    print(\"连接成功\")           #如果MySQL是正常开启的而且pymysql正确安装，输出“连接成功”                               #port=3306是MySQL数据库的默认端口号\n",
    "    con.close ()\n",
    "except Exception as err:\n",
    "    print (err)"
   ]
  },
  {
   "cell_type": "markdown",
   "metadata": {},
   "source": [
    "# 2.fetchone ()怎么样判断读到数据库末尾?"
   ]
  },
  {
   "cell_type": "code",
   "execution_count": null,
   "metadata": {},
   "outputs": [],
   "source": [
    "#示例\n",
    "import pymysql\n",
    "try:\n",
    "    con = pymysql.connect (host=\"127.0.0.1\", port=3306, user=\"root\", passwd=\"123456\",db=\"mydb\",charset=\"utf8\")\n",
    "    cursor = con.cursor (pymysql.cursors.DictCursor)\n",
    "    cursor. execute(\"select * from students\")\n",
    "    while True:\n",
    "        row=cursor.fetchone ()\n",
    "        print (row)\n",
    "        if not row:\n",
    "            break\n",
    "    con.close ()\n",
    "except Exception as err:\n",
    "    print (err)"
   ]
  },
  {
   "cell_type": "markdown",
   "metadata": {},
   "source": [
    "当执行fetchone()返回值为None时,fetchone()读到数据库末尾了"
   ]
  },
  {
   "cell_type": "markdown",
   "metadata": {},
   "source": [
    "# 3.fetchall ()与fetchone()有什么区别?"
   ]
  },
  {
   "cell_type": "markdown",
   "metadata": {},
   "source": [
    "fetchone()函数的返回值是单个的元组,也就是一行记录如果没有结果,那就会返回null"
   ]
  },
  {
   "cell_type": "markdown",
   "metadata": {},
   "source": [
    "fetchall()函数的返回值是多个元组,即返回多个行记录，如果没有结果,返回的是(), fetchall()一次可以读取所有的行，读取后一般再次使用for循环取出每一行。\n"
   ]
  },
  {
   "cell_type": "markdown",
   "metadata": {},
   "source": [
    "# 4.rowcount()返回值代表什么?"
   ]
  },
  {
   "cell_type": "markdown",
   "metadata": {},
   "source": [
    "返回值为满足条件的行数"
   ]
  },
  {
   "cell_type": "markdown",
   "metadata": {},
   "source": [
    "# 5.MySQL中怎么样使用带参数的SQL命令?"
   ]
  },
  {
   "cell_type": "markdown",
   "metadata": {},
   "source": [
    "cursor.execute(带参数的SQL命令,(参数列表))，其中带参数的SQL命令是SQL命令中把不确定的值用参数表示，MySQL数据库参数统一用“%s”表示，参数列表是对应参数的具体值，它们放在一个元组或者列表中。\n",
    "cursor.execute(\" insert into students (pNo,pName) values (%s,%s)\" ,('1','R''J'))\n",
    "在执行时pNo,pName的值时参数%s,%s表示的，具体的值由后面的(1,R\"J')提供，因此pNo='1', pName='R''J'。\n"
   ]
  },
  {
   "cell_type": "code",
   "execution_count": null,
   "metadata": {},
   "outputs": [],
   "source": [
    "#示例\n",
    "def update(cursor,pNo,pName,pGender;pAge):\n",
    "    try:\n",
    "        sql=\"update students set pName=%s,pGender=%s,pAge=%s where pNo=%s\"\n",
    "        cursor.execute(sql,(pName,pGender,pAge,pNo))\n",
    "        print(cursor.rowcount,\"row updated\")\n",
    "    except Exception as err:\n",
    "        print(err)"
   ]
  },
  {
   "cell_type": "markdown",
   "metadata": {},
   "source": [
    "# 6.数据库操作完成后为什么要调用commit()函数?"
   ]
  },
  {
   "cell_type": "markdown",
   "metadata": {},
   "source": [
    "操作完数据库后调用commit()提交所有的操作，把更新写入数据库文件。不然插入的记录还在内存中，没有真正写到数据库表中。"
   ]
  },
  {
   "cell_type": "markdown",
   "metadata": {},
   "source": [
    "# 7.什么是游标cursor，它有什么作用?"
   ]
  },
  {
   "cell_type": "markdown",
   "metadata": {},
   "source": [
    "cursor是一个重要的对象，可以使用它执行各种各样的SQL命令,方法是:cursor.execute (SQL),其中execute是cursor的方法，用来执行SQL命令"
   ]
  },
  {
   "cell_type": "markdown",
   "metadata": {},
   "source": [
    "# 8.Python怎么样连接Sqlite数据库?"
   ]
  },
  {
   "cell_type": "markdown",
   "metadata": {},
   "source": [
    "Python自带对sqlite3数据库的支持,即安装了Python 后就已经有了sqlite3数据库驱动。Python要连接sqlite3数据库，要先引入sqlite3模块，然后使用connect方法连接，\n",
    "            例如:\n",
    "import sqlite3  "
   ]
  },
  {
   "cell_type": "markdown",
   "metadata": {},
   "source": [
    "con=sqlite3 .connect (\"test.db\")"
   ]
  },
  {
   "cell_type": "markdown",
   "metadata": {},
   "source": [
    "其中connect是sqlite3 的一个方法,test.db 是sqlite3数据库文件，文件名称与扩展名可以任意，test.db 对应当前目录下的一个数据库文件。如果test.db不存在就创建它，并打开对\n",
    "它的连接，如果test.db已经存在就打开连接。connect 返回的对象con时一个数据库连接对象，用它可以操作数据库。"
   ]
  },
  {
   "cell_type": "code",
   "execution_count": null,
   "metadata": {},
   "outputs": [],
   "source": [
    "#示例\n",
    "import pymysql\n",
    "try:\n",
    "    con=sqlite3.connect (\"students.db\")\n",
    "    print(\"连接成功\")        #如果看到“连接成功”，如果students.db不存在就建立这个文件，并建立连接，如果students.db已经存在就仅仅建立连接\n",
    "    con.close ()\n",
    "except Exception as err:\n",
    "    print (err)"
   ]
  }
 ],
 "metadata": {
  "kernelspec": {
   "display_name": "Python 3",
   "language": "python",
   "name": "python3"
  },
  "language_info": {
   "codemirror_mode": {
    "name": "ipython",
    "version": 3
   },
   "file_extension": ".py",
   "mimetype": "text/x-python",
   "name": "python",
   "nbconvert_exporter": "python",
   "pygments_lexer": "ipython3",
   "version": "3.7.0"
  }
 },
 "nbformat": 4,
 "nbformat_minor": 2
}
