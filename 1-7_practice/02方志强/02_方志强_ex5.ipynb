{
 "cells": [
  {
   "cell_type": "markdown",
   "metadata": {},
   "source": [
    "# 1.定义一个数学中的复数类Complex,它有一个构造函数与一个显示函数,建立一个Complex对象并调用该显示函数显示。"
   ]
  },
  {
   "cell_type": "code",
   "execution_count": 2,
   "metadata": {},
   "outputs": [
    {
     "name": "stdout",
     "output_type": "stream",
     "text": [
      "3\n"
     ]
    }
   ],
   "source": [
    "class Complex:\n",
    "    def __init__(self,x,y):\n",
    "        self.x=x\n",
    "        self.y=y\n",
    "    def show(self):\n",
    "        return self.x + self.y\n",
    "a = Complex(1,2)\n",
    "print(a.show())"
   ]
  },
  {
   "cell_type": "markdown",
   "metadata": {},
   "source": [
    "# 2.定义一一个计算机类MyComputer，它包含CPU类型(String类型)、RAM内存大小(Integer类型)、HD硬盘大小(Integer类型)，设计它的构造函数，并设计一个显示函数，建立一个MyComputer对象并调用该显示函数显示。"
   ]
  },
  {
   "cell_type": "code",
   "execution_count": 21,
   "metadata": {},
   "outputs": [
    {
     "name": "stdout",
     "output_type": "stream",
     "text": [
      "Intel Core i-5 124 100\n"
     ]
    }
   ],
   "source": [
    "class Computer:\n",
    "    def __init__ (self,CPU,RAM,HD):\n",
    "        self.CPU=CPU\n",
    "        self.RAM=RAM\n",
    "        self.HD=HD\n",
    "    def show (self):\n",
    "        print (self. CPU, self. RAM, self. HD)\n",
    "c=Computer(\"Intel Core i-5\", 124, 100)\n",
    "c. show ()"
   ]
  },
  {
   "cell_type": "markdown",
   "metadata": {},
   "source": [
    "# 3.设计一个整数类MyInteger,它有一个 整数变量，并有一个 Value属性，可以通过为Value存取该变量的值，还有一个转二进制字符串的成员函数toBin及转十六进制字符串的成员函数toHex。"
   ]
  },
  {
   "cell_type": "code",
   "execution_count": 15,
   "metadata": {},
   "outputs": [
    {
     "name": "stdout",
     "output_type": "stream",
     "text": [
      "2\n",
      "0x2 0b10\n"
     ]
    }
   ],
   "source": [
    "class MyInteger:\n",
    "    def __init__(self,f):\n",
    "        self.Value=f\n",
    "    def show(self):\n",
    "        print(self.Value)\n",
    "    def toBin(self):\n",
    "        return bin (self.Value)\n",
    "    def toHex(self):\n",
    "        return hex (self.Value)\n",
    "i=MyInteger(2)\n",
    "i.show()\n",
    "print(i.toHex(),i.toBin())"
   ]
  },
  {
   "cell_type": "markdown",
   "metadata": {},
   "source": [
    "# 4.建立一个普通人员类Person,包含姓名(m_ name)、性别(m_ sex) 、年龄(m. age)成员变量。\n",
    "# (1) 建立Person类，包含Private成员m_ name、m_ sex、 m_ age成员变量;\n",
    "# (2)建立Person的构造函数;\n",
    "# (3)建立一个显示过程Show()，显示该对象的数据;\n",
    "# (4) 派生一个学生类Student，增加班级(m_ class)，专业(m_ _major)，设计这些类的构造函数;\n",
    "# (5)建立m_class、 m_major对应的属性函数sClass()、sMajor() ;\n",
    "# (6)建立显示成员函数Show()，显示该学生对象所有成员数据;"
   ]
  },
  {
   "cell_type": "code",
   "execution_count": 11,
   "metadata": {},
   "outputs": [
    {
     "name": "stdout",
     "output_type": "stream",
     "text": [
      "楼倩波 女 21\n",
      "商务数据181 商务数据分析与应用\n"
     ]
    }
   ],
   "source": [
    "class Person:\n",
    "    def __init__(self,name,sex,age):\n",
    "        self.m_name=name\n",
    "        self.m_sex=sex\n",
    "        self.m_age=age\n",
    "    def show(self):\n",
    "        print (self.m_name, self.m_sex, self.m_age)\n",
    "z=Person(\"楼倩波\",\"女\",21)\n",
    "z.show()\n",
    "\n",
    "\n",
    "\n",
    "class Student (Person):\n",
    "    def __init__ (self,name,sex,age,mclass,major):\n",
    "        Person.__init__(self,name,sex,age)\n",
    "        self.m_class=mclass\n",
    "        self.m_major=major\n",
    "    def sClass(self):\n",
    "        return self.m_class\n",
    "    def sMajor(self):\n",
    "        return self.m_major\n",
    "    def show(self):\n",
    "        print(self.m_class,self.m_major)\n",
    "s=Student(\"楼倩波\", \"女\",21, \"商务数据181\",\"商务数据分析与应用\")\n",
    "s.show()"
   ]
  },
  {
   "cell_type": "markdown",
   "metadata": {},
   "source": [
    "# 5.建立一个时间类Time，它包含时hour, 分minute，秒second的实例属性\n",
    "# (1)设计时间显示函数show (self); \n",
    "# (2)设计两个时间大小比较函数compare(self,t),其中t是另外一个时间;"
   ]
  },
  {
   "cell_type": "code",
   "execution_count": 19,
   "metadata": {},
   "outputs": [
    {
     "name": "stdout",
     "output_type": "stream",
     "text": [
      "22 57 30\n"
     ]
    }
   ],
   "source": [
    "class Time:\n",
    "    def __init__ (self,hour,minute,second):\n",
    "        self.hour=hour\n",
    "        self.minute=minute\n",
    "        self.second=second\n",
    "    def show (self):\n",
    "        print (self.hour, self.minute, self.second)\n",
    "h=Time(22, 57, 30)\n",
    "h.show ()"
   ]
  },
  {
   "cell_type": "code",
   "execution_count": 21,
   "metadata": {},
   "outputs": [
    {
     "ename": "SyntaxError",
     "evalue": "invalid syntax (<ipython-input-21-24fc07c65c01>, line 7)",
     "output_type": "error",
     "traceback": [
      "\u001b[1;36m  File \u001b[1;32m\"<ipython-input-21-24fc07c65c01>\"\u001b[1;36m, line \u001b[1;32m7\u001b[0m\n\u001b[1;33m    if (self.hour == t.hour,self.minute=t.minute,self.second=t.second):\u001b[0m\n\u001b[1;37m                                       ^\u001b[0m\n\u001b[1;31mSyntaxError\u001b[0m\u001b[1;31m:\u001b[0m invalid syntax\n"
     ]
    }
   ],
   "source": [
    "class Time:\n",
    "    def __init__ (self,hour,minute,second):\n",
    "        self.hour=hour\n",
    "        self.minute=minute\n",
    "        self.second=second\n",
    "    def compare(self,t):\n",
    "        if (self.hour=t.hour,self.minute=t.minute,self.second=t.second):\n",
    "            return 0\n",
    "        else:\n",
    "            return self.second - t.second\n",
    "        else:\n",
    "            return self.minute - t.minute\n",
    "        else: \n",
    "            return self.hour - t.hour\n",
    "    def compare2(i):\n",
    "        if(i=0):\n",
    "            return \"=\"\n",
    "        elif(i<0):\n",
    "            return \"<\"\n",
    "        else:\n",
    "            return \">\"\n",
    "t1=time(22,57,30)\n",
    "t2=time(20,57,30)\n"
   ]
  },
  {
   "cell_type": "code",
   "execution_count": null,
   "metadata": {},
   "outputs": [],
   "source": []
  }
 ],
 "metadata": {
  "kernelspec": {
   "display_name": "Python 3",
   "language": "python",
   "name": "python3"
  },
  "language_info": {
   "codemirror_mode": {
    "name": "ipython",
    "version": 3
   },
   "file_extension": ".py",
   "mimetype": "text/x-python",
   "name": "python",
   "nbconvert_exporter": "python",
   "pygments_lexer": "ipython3",
   "version": "3.7.0"
  }
 },
 "nbformat": 4,
 "nbformat_minor": 2
}
