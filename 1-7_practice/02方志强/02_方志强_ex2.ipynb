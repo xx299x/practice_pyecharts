{
 "cells": [
  {
   "cell_type": "markdown",
   "metadata": {},
   "source": [
    "# 1.输入a、b、c三个参数，求解ax2+bx+c=0的两个根，假定b2-4ac>0。"
   ]
  },
  {
   "cell_type": "code",
   "execution_count": 1,
   "metadata": {},
   "outputs": [
    {
     "name": "stdout",
     "output_type": "stream",
     "text": [
      "(-6.0, -36.0)\n"
     ]
    }
   ],
   "source": [
    "import math\n",
    "def get_result(a,b,c):\n",
    "    x = b*b - 4*a*c\n",
    "    if x <=0:\n",
    "        return \"error\"\n",
    "    #一元二次方程\n",
    "    x1 = (-b+math.sqrt(x))/2*a\n",
    "    x2 = (-b-math.sqrt(x))/2*a\n",
    "    return (x1,x2)\n",
    "print(get_result(6,7,1))"
   ]
  },
  {
   "cell_type": "markdown",
   "metadata": {},
   "source": [
    "# 2.输入 a、b、c三个参数，以它们作为三角形的三边，判断是否可以构成一个三角形，如能则进一步计算其面积。三角形的面积s可以用以下公式计算：\n",
    "# s=sqrt(p*(p-a)*(p-b)*(p-c)）\n",
    "# 其中p=（a+b+c）/2。"
   ]
  },
  {
   "cell_type": "code",
   "execution_count": 2,
   "metadata": {},
   "outputs": [
    {
     "name": "stdin",
     "output_type": "stream",
     "text": [
      "a=  3\n",
      "b=  4\n",
      "c=  5\n"
     ]
    },
    {
     "name": "stdout",
     "output_type": "stream",
     "text": [
      "这是一个三角形\n",
      "6.0\n"
     ]
    }
   ],
   "source": [
    "import math\n",
    "a = input(\"a= \")\n",
    "b = input(\"b= \")\n",
    "c = input(\"c= \")\n",
    "a = float(a)\n",
    "b = float(b)\n",
    "c = float(c)\n",
    "if a<0 or b<0 or c<0:\n",
    "    print(\"a/b/c<0\")\n",
    "    brake\n",
    "if (a+b>c) and (a-b<c):\n",
    "    print(\"这是一个三角形\")\n",
    "else:\n",
    "    print(\"这不是一个三角形\")\n",
    "p = (a+b+c)/2\n",
    "s = math.sqrt(p*(p-a)*(p-b)*(p-c))\n",
    "print(s)"
   ]
  },
  {
   "cell_type": "markdown",
   "metadata": {},
   "source": [
    "# 3.输入一个字母，判断它是否为小写英文字母。"
   ]
  },
  {
   "cell_type": "code",
   "execution_count": 6,
   "metadata": {},
   "outputs": [
    {
     "name": "stdin",
     "output_type": "stream",
     "text": [
      "输入一个字母： w\n"
     ]
    },
    {
     "name": "stdout",
     "output_type": "stream",
     "text": [
      "您输入的 w 为小写字母\n"
     ]
    }
   ],
   "source": [
    "x = input(\"输入一个字母：\")\n",
    "num = ord(x)\n",
    "if 65 <= num <= 90:\n",
    "    print(\"您输入的 %s 为大写字母\"%x)\n",
    "elif 97 <= num <= 122:\n",
    "    print(\"您输入的 %s 为小写字母\"%x)\n",
    "else:\n",
    "    print(\"您的输入有误\")"
   ]
  },
  {
   "cell_type": "markdown",
   "metadata": {},
   "source": [
    "# 4.从键盘输入5个字符，统计’0’字符出现的次数。"
   ]
  },
  {
   "cell_type": "code",
   "execution_count": 1,
   "metadata": {},
   "outputs": [
    {
     "name": "stdin",
     "output_type": "stream",
     "text": [
      "输入5个字符： 1,3,0,h,0\n"
     ]
    },
    {
     "name": "stdout",
     "output_type": "stream",
     "text": [
      "2\n"
     ]
    }
   ],
   "source": [
    "m=input(\"输入5个字符：\")\n",
    "print(m.count(\"0\"))"
   ]
  },
  {
   "cell_type": "markdown",
   "metadata": {},
   "source": [
    "# 5.输入两个整数，判断哪个大并输出结果。"
   ]
  },
  {
   "cell_type": "code",
   "execution_count": 2,
   "metadata": {},
   "outputs": [
    {
     "name": "stdin",
     "output_type": "stream",
     "text": [
      "a= 5\n",
      "b= 8\n"
     ]
    },
    {
     "name": "stdout",
     "output_type": "stream",
     "text": [
      "b\n"
     ]
    }
   ],
   "source": [
    "a = input(\"a=\")\n",
    "b = input(\"b=\")\n",
    "a = int(a)\n",
    "b = int(b)\n",
    "if a > b:\n",
    "    print(\"a\")\n",
    "if b > a:\n",
    "    print(\"b\")"
   ]
  },
  {
   "cell_type": "markdown",
   "metadata": {},
   "source": [
    "# 6.输入一个字母，如它是一个小写英文字母，则把它变为对应大写字母输出。"
   ]
  },
  {
   "cell_type": "code",
   "execution_count": 3,
   "metadata": {},
   "outputs": [
    {
     "name": "stdin",
     "output_type": "stream",
     "text": [
      "请输入一个小写英文字母: q\n"
     ]
    },
    {
     "name": "stdout",
     "output_type": "stream",
     "text": [
      "Q\n"
     ]
    }
   ],
   "source": [
    "i = input(\"请输入一个小写英文字母:\");\n",
    "if(ord(i) >= ord('a') and ord(i) <= ord('z')):\n",
    "    print(i.upper());\n",
    "else:\n",
    "    print(\"不是小写字母!\")"
   ]
  },
  {
   "cell_type": "markdown",
   "metadata": {},
   "source": [
    "# 7.输入一个年份，判断它是否为闰年。"
   ]
  },
  {
   "cell_type": "code",
   "execution_count": 4,
   "metadata": {},
   "outputs": [
    {
     "name": "stdin",
     "output_type": "stream",
     "text": [
      "请输入一个年份： 1999\n"
     ]
    },
    {
     "name": "stdout",
     "output_type": "stream",
     "text": [
      "1999不是闰年\n"
     ]
    }
   ],
   "source": [
    "i = input(\"请输入一个年份：\")\n",
    "i = int(i)\n",
    "if i % 4 == 0 and i % 100 != 0:\n",
    "    print(\"%s是闰年\"%i)\n",
    "else:\n",
    "    print(\"%s不是闰年\"%i)"
   ]
  },
  {
   "cell_type": "markdown",
   "metadata": {},
   "source": [
    "# 8.从键盘输入a、b两个数，按大小顺序输出它们。"
   ]
  },
  {
   "cell_type": "code",
   "execution_count": 5,
   "metadata": {},
   "outputs": [
    {
     "name": "stdin",
     "output_type": "stream",
     "text": [
      "a=  3\n",
      "b=  9\n"
     ]
    },
    {
     "name": "stdout",
     "output_type": "stream",
     "text": [
      "9 3\n"
     ]
    }
   ],
   "source": [
    "a = input(\"a= \")\n",
    "b = input(\"b= \")\n",
    "a = int(a)\n",
    "b = int(b)\n",
    "if a > b:\n",
    "    print(a,b)\n",
    "if b > a:\n",
    "    print(b,a)"
   ]
  },
  {
   "cell_type": "markdown",
   "metadata": {},
   "source": [
    "# 9.输入a、b、c三个整数，找出最小的数。"
   ]
  },
  {
   "cell_type": "code",
   "execution_count": 6,
   "metadata": {},
   "outputs": [
    {
     "name": "stdin",
     "output_type": "stream",
     "text": [
      "a=  3\n",
      "b=  6\n",
      "c=  11\n"
     ]
    },
    {
     "name": "stdout",
     "output_type": "stream",
     "text": [
      "3\n"
     ]
    }
   ],
   "source": [
    "a = input(\"a= \")\n",
    "b = input(\"b= \")\n",
    "c = input(\"c= \")\n",
    "a = int(a)\n",
    "b = int(b)\n",
    "c = int(c)\n",
    "h = min(a,b,c)\n",
    "print(h)"
   ]
  },
  {
   "cell_type": "markdown",
   "metadata": {},
   "source": [
    "# 10.某企业发放的奖金根据利润提成。利润低于或等于10万元时，奖金可提12%；利润高10万元，低于20万元时，高于10万元的部分，可提成8.5%；20万到40万之间时，高于20万元的部分，可提成6%；40万到60万之间时高于40万元的部分，可提成4%；60万到100万之间时，高于60万元的部分，可提成2.5%，高于100万元时，超过100万元的部分按1%提成，从键盘输入当月利润，求应发放奖金总数？"
   ]
  },
  {
   "cell_type": "code",
   "execution_count": 3,
   "metadata": {},
   "outputs": [
    {
     "name": "stdin",
     "output_type": "stream",
     "text": [
      "请输入本月的利润(万):  666\n"
     ]
    },
    {
     "name": "stdout",
     "output_type": "stream",
     "text": [
      "应发放奖金总数:671.66(万)\n"
     ]
    }
   ],
   "source": [
    "a = input(\"请输入本月的利润(万): \")\n",
    "a = float(a)\n",
    "if a <= 10:\n",
    "    a = a*(1+0.12)\n",
    "    print(\"应发放奖金总数:%s(万)\"%a) \n",
    "elif a > 10 and a <20:\n",
    "    a = a + (a-10)*0.085\n",
    "    print(\"应发放奖金总数:%s(万)\"%a)\n",
    "elif a >= 20 and a < 40:\n",
    "    a = a + (a-20)*0.06\n",
    "    print(\"应发放奖金总数:%s(万)\"%a)\n",
    "elif a >= 40 and a < 60:\n",
    "    a = a + (a-40)*0.04\n",
    "    print(\"应发放奖金总数:%s(万)\"%a)\n",
    "elif a >= 60 and a<100:\n",
    "    a = a + (a-60)*0.025\n",
    "    print(\"应发放奖金总数:%s(万)\"%a)\n",
    "elif a >= 100:\n",
    "    a = a + (a-100)*0.01\n",
    "    print(\"应发放奖金总数:%s(万)\"%a)"
   ]
  },
  {
   "cell_type": "markdown",
   "metadata": {},
   "source": [
    "# 11.平面上有四个圆，圆心分别为（2，2），（-2，2），（-2，-2），（2，-2），圆半径为1。今输入任一点的坐标，判断该点是否在这四个圆中，如在则给出是在哪一个圆中。"
   ]
  },
  {
   "cell_type": "code",
   "execution_count": 28,
   "metadata": {},
   "outputs": [
    {
     "name": "stdout",
     "output_type": "stream",
     "text": [
      "该点是在这四个圆中，且在圆心为（2，-2）的圆中\n"
     ]
    }
   ],
   "source": [
    "import numpy as np\n",
    "import math\n",
    "p1 = np.array([2,2])\n",
    "p2 = np.array([-2,2])\n",
    "p3 = np.array([-2,-2])\n",
    "p4 = np.array([2,-2])\n",
    "p5 = np.array([2,-3])\n",
    "d = p5-p1\n",
    "s = math.hypot(d[0],d[1])\n",
    "s = float(s)\n",
    "if s <=1:\n",
    "    print(\"该点是在这四个圆中，且在圆心为（2，2）的圆中\")\n",
    "d = p5-p2\n",
    "s = math.hypot(d[0],d[1])\n",
    "s = float(s)\n",
    "if s <=1:\n",
    "    print(\"该点是在这四个圆中，且在圆心为（-2，2）的圆中\")\n",
    "d = p5-p3\n",
    "s = math.hypot(d[0],d[1])\n",
    "s = float(s)\n",
    "if s <=1:\n",
    "    print(\"该点不在这四个圆中\")\n",
    "d = p5-p4\n",
    "s = math.hypot(d[0],d[1])\n",
    "s = float(s)\n",
    "if s <=1:\n",
    "    print(\"该点是在这四个圆中，且在圆心为（2，-2）的圆中\")\n",
    "else:\n",
    "    print(\"该点不在这四个圆中\")"
   ]
  }
 ],
 "metadata": {
  "kernelspec": {
   "display_name": "Python 3",
   "language": "python",
   "name": "python3"
  },
  "language_info": {
   "codemirror_mode": {
    "name": "ipython",
    "version": 3
   },
   "file_extension": ".py",
   "mimetype": "text/x-python",
   "name": "python",
   "nbconvert_exporter": "python",
   "pygments_lexer": "ipython3",
   "version": "3.7.0"
  }
 },
 "nbformat": 4,
 "nbformat_minor": 2
}
