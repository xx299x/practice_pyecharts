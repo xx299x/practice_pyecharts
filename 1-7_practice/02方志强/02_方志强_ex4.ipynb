{
 "cells": [
  {
   "cell_type": "markdown",
   "metadata": {},
   "source": [
    "# 1.能直接修改字符串的某个字符吗?例如s=”abc\" , s[0]= \"1\" 可以吗?"
   ]
  },
  {
   "cell_type": "markdown",
   "metadata": {},
   "source": [
    "# 不能"
   ]
  },
  {
   "cell_type": "markdown",
   "metadata": {},
   "source": [
    "# 2. 输入一个字符串，输出它所包含的所有数字，例如输入\"23me3e\"，输出”233”"
   ]
  },
  {
   "cell_type": "code",
   "execution_count": 2,
   "metadata": {},
   "outputs": [
    {
     "name": "stdin",
     "output_type": "stream",
     "text": [
      " 23me3e\n"
     ]
    },
    {
     "name": "stdout",
     "output_type": "stream",
     "text": [
      "233\n"
     ]
    }
   ],
   "source": [
    "s=input()\n",
    "for x in s:\n",
    "    if x>=\"0\" and x<=\"9\":\n",
    "        print(x,end=\"\")\n",
    "print()"
   ]
  },
  {
   "cell_type": "markdown",
   "metadata": {},
   "source": [
    "# 3. 设计一个字符串函数reverse(s),它返回字符串s的反串，例如reverse(' abc\")返回”cba”。"
   ]
  },
  {
   "cell_type": "code",
   "execution_count": 7,
   "metadata": {},
   "outputs": [
    {
     "name": "stdin",
     "output_type": "stream",
     "text": [
      "请您输入一个字符串： abc\n"
     ]
    },
    {
     "name": "stdout",
     "output_type": "stream",
     "text": [
      "cba\n"
     ]
    }
   ],
   "source": [
    "def reverse(s):\n",
    "    t = \"\"\n",
    "    for i in s:\n",
    "        t=i+t\n",
    "    return t\n",
    "s = input(\"请您输入一个字符串：\")\n",
    "print(reverse(s))"
   ]
  },
  {
   "cell_type": "markdown",
   "metadata": {},
   "source": [
    "# 4.元祖与列表有什么不同?"
   ]
  },
  {
   "cell_type": "markdown",
   "metadata": {},
   "source": [
    "#  （1）元祖不可变，列表可变\n",
    "#  （2）列表存储同构数据（即具有相同意义的数据），元祖可以存储异构数据"
   ]
  },
  {
   "cell_type": "markdown",
   "metadata": {},
   "source": [
    "# 5.一个列表中的元素类型要求一致吗?例如list=[1,\"a\"]是正确的吗?"
   ]
  },
  {
   "cell_type": "markdown",
   "metadata": {},
   "source": [
    "# 列表的元素类型可以不同，正确"
   ]
  },
  {
   "cell_type": "markdown",
   "metadata": {},
   "source": [
    "# 6.列表是否还可以嵌套别的列表?列举一个例子说明。"
   ]
  },
  {
   "cell_type": "code",
   "execution_count": 17,
   "metadata": {},
   "outputs": [
    {
     "name": "stdout",
     "output_type": "stream",
     "text": [
      "[[1, 2, 3], [4, 5, 6], [7, 8, 9]]\n"
     ]
    }
   ],
   "source": [
    "a = [[1,2,3],[4,5,6],[7,8,9]]\n",
    "print(a)"
   ]
  },
  {
   "cell_type": "markdown",
   "metadata": {},
   "source": [
    "# 7. 用一个字典描述一一个日期，包含年year、 月month、 日day的键字。"
   ]
  },
  {
   "cell_type": "code",
   "execution_count": 9,
   "metadata": {},
   "outputs": [
    {
     "name": "stdout",
     "output_type": "stream",
     "text": [
      "2020 3 20\n"
     ]
    }
   ],
   "source": [
    "dict = {'year':'2020','month':'3','day':'20'}\n",
    "print(dict['year'],dict['month'],dict['day'])"
   ]
  },
  {
   "cell_type": "markdown",
   "metadata": {},
   "source": [
    "# 8. Python 的字典数据类型与JSON数据类有很多相似的地方，说明有哪些共同点。"
   ]
  },
  {
   "cell_type": "markdown",
   "metadata": {},
   "source": [
    "# 都为 key : value 的形式,字典是一种数据结构，json是一种格式"
   ]
  },
  {
   "cell_type": "markdown",
   "metadata": {},
   "source": [
    "# 9. 写出下列程序执行的结果: ."
   ]
  },
  {
   "cell_type": "code",
   "execution_count": 10,
   "metadata": {},
   "outputs": [
    {
     "name": "stdout",
     "output_type": "stream",
     "text": [
      "name A\n",
      "sex M\n",
      "name B\n",
      "sex C\n"
     ]
    }
   ],
   "source": [
    "d={\"students\" :[{\"name\" :\"A\", \"sex\":\"M\"}, {\"name\":\"B\", \"sex\":\"C\"}]}\n",
    "for k1 in d. keys():\n",
    "    for k2 in d[k1]:\n",
    "        for k3 in k2. keys() :\n",
    "            print (k3, k2 [k3]) "
   ]
  },
  {
   "cell_type": "markdown",
   "metadata": {},
   "source": [
    "# 10.如果使用字典描述一个时间，例如t={”hour\" :12，\"minute\" :23，” second\" :34}表示时间\" 12:23:34\",设计一个函数interval(t1, t2)，计算时间t1与t2的时间差，返回相同结构的一个字典时间。"
   ]
  },
  {
   "cell_type": "code",
   "execution_count": 1,
   "metadata": {},
   "outputs": [
    {
     "name": "stdout",
     "output_type": "stream",
     "text": [
      "{'hour': 2, 'minute': 30, 'second': 30}\n"
     ]
    }
   ],
   "source": [
    "def inerval(t1, t2):\n",
    "    time1 = t1['hour'] * 3600 + t1['minute'] * 60 + t1['second']\n",
    "    time2 = t2['hour'] * 3600 + t2['minute'] * 60 + t2['second']\n",
    "    second = abs(time1-time2) % 60\n",
    "    hour = (abs(time1-time2) - second) // 3600\n",
    "    minute = (abs(time1-time2) - second - hour * 3600) // 60\n",
    "    return {'hour': hour, 'minute': minute, 'second': second}\n",
    "\n",
    "t1 = {'hour': 10, 'minute': 0, 'second': 0}\n",
    "t2 = {'hour': 12, 'minute': 30, 'second': 30}\n",
    "print(inerval(t1, t2))"
   ]
  },
  {
   "cell_type": "code",
   "execution_count": null,
   "metadata": {},
   "outputs": [],
   "source": []
  }
 ],
 "metadata": {
  "kernelspec": {
   "display_name": "Python 3",
   "language": "python",
   "name": "python3"
  },
  "language_info": {
   "codemirror_mode": {
    "name": "ipython",
    "version": 3
   },
   "file_extension": ".py",
   "mimetype": "text/x-python",
   "name": "python",
   "nbconvert_exporter": "python",
   "pygments_lexer": "ipython3",
   "version": "3.7.0"
  }
 },
 "nbformat": 4,
 "nbformat_minor": 2
}
