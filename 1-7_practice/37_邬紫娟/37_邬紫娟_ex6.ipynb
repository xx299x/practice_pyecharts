{
 "cells": [
  {
   "cell_type": "markdown",
   "metadata": {},
   "source": [
    "3．编写程序查找某个单词（键盘输入）所出现的行号及该行的内容，并统计该单词在文件 共出现多少次。 "
   ]
  },
  {
   "cell_type": "code",
   "execution_count": 22,
   "metadata": {},
   "outputs": [
    {
     "name": "stdout",
     "output_type": "stream",
     "text": [
      "输入文件：txt\n",
      "输入单词：f\n"
     ]
    },
    {
     "ename": "FileNotFoundError",
     "evalue": "[Errno 2] No such file or directory: 'txt'",
     "output_type": "error",
     "traceback": [
      "\u001b[1;31m---------------------------------------------------------------------------\u001b[0m",
      "\u001b[1;31mFileNotFoundError\u001b[0m                         Traceback (most recent call last)",
      "\u001b[1;32m<ipython-input-22-7ce770748b04>\u001b[0m in \u001b[0;36m<module>\u001b[1;34m\u001b[0m\n\u001b[0;32m     38\u001b[0m \u001b[0mfileName\u001b[0m\u001b[1;33m=\u001b[0m\u001b[0minput\u001b[0m\u001b[1;33m(\u001b[0m \u001b[1;34m\"输入文件：\"\u001b[0m\u001b[1;33m)\u001b[0m\u001b[1;33m\u001b[0m\u001b[1;33m\u001b[0m\u001b[0m\n\u001b[0;32m     39\u001b[0m \u001b[0mword\u001b[0m\u001b[1;33m=\u001b[0m\u001b[0minput\u001b[0m\u001b[1;33m(\u001b[0m \u001b[1;34m\"输入单词：\"\u001b[0m\u001b[1;33m)\u001b[0m\u001b[1;33m\u001b[0m\u001b[1;33m\u001b[0m\u001b[0m\n\u001b[1;32m---> 40\u001b[1;33m \u001b[0mcountWordInFile\u001b[0m\u001b[1;33m(\u001b[0m\u001b[0mword\u001b[0m\u001b[1;33m,\u001b[0m\u001b[0mfileName\u001b[0m\u001b[1;33m)\u001b[0m\u001b[1;33m\u001b[0m\u001b[1;33m\u001b[0m\u001b[0m\n\u001b[0m\u001b[0;32m     41\u001b[0m \u001b[1;33m\u001b[0m\u001b[0m\n",
      "\u001b[1;32m<ipython-input-22-7ce770748b04>\u001b[0m in \u001b[0;36mcountWordInFile\u001b[1;34m(word, fileName)\u001b[0m\n\u001b[0;32m     24\u001b[0m \u001b[1;32mdef\u001b[0m \u001b[0mcountWordInFile\u001b[0m\u001b[1;33m(\u001b[0m\u001b[0mword\u001b[0m\u001b[1;33m,\u001b[0m\u001b[0mfileName\u001b[0m\u001b[1;33m)\u001b[0m\u001b[1;33m:\u001b[0m\u001b[1;33m\u001b[0m\u001b[1;33m\u001b[0m\u001b[0m\n\u001b[0;32m     25\u001b[0m     \u001b[0mcount\u001b[0m\u001b[1;33m=\u001b[0m\u001b[1;36m0\u001b[0m\u001b[1;33m\u001b[0m\u001b[1;33m\u001b[0m\u001b[0m\n\u001b[1;32m---> 26\u001b[1;33m     \u001b[0mf\u001b[0m\u001b[1;33m=\u001b[0m\u001b[0mopen\u001b[0m\u001b[1;33m(\u001b[0m\u001b[0mfileName\u001b[0m\u001b[1;33m,\u001b[0m\u001b[1;34m\"r\"\u001b[0m\u001b[1;33m)\u001b[0m\u001b[1;33m\u001b[0m\u001b[1;33m\u001b[0m\u001b[0m\n\u001b[0m\u001b[0;32m     27\u001b[0m     \u001b[0mrows\u001b[0m\u001b[1;33m=\u001b[0m\u001b[0mf\u001b[0m\u001b[1;33m.\u001b[0m\u001b[0mreadlines\u001b[0m\u001b[1;33m(\u001b[0m\u001b[1;33m)\u001b[0m\u001b[1;33m\u001b[0m\u001b[1;33m\u001b[0m\u001b[0m\n\u001b[0;32m     28\u001b[0m     \u001b[0mno\u001b[0m\u001b[1;33m=\u001b[0m\u001b[1;36m0\u001b[0m\u001b[1;33m\u001b[0m\u001b[1;33m\u001b[0m\u001b[0m\n",
      "\u001b[1;31mFileNotFoundError\u001b[0m: [Errno 2] No such file or directory: 'txt'"
     ]
    }
   ],
   "source": [
    "1． 编写一个程序建立一个文本文件 abc.txt，向其中写入”abc\\n”并存盘，查看 abc.txt 是几个字节的文件，说明为什么。\n",
    "In [2]:\n",
    "def scanWord(s): \n",
    "    words=[]  \n",
    "    i=0   \n",
    "    w=\"\"  \n",
    "    while i<len(s): \n",
    "       if s[i].lower()>=\"a\" and s[i].lower()<=\"z\":   \n",
    "          w=w+s[i]    \n",
    "       else:       \n",
    "         if w:  \n",
    "            words.append(w)    \n",
    "            w=\"\"\n",
    "       i=i+1 \n",
    "    if w:\n",
    "       words.append(w)  \n",
    "    return words \n",
    "\n",
    "def countWord(word,words):\n",
    "    n=0\n",
    "    for w in words:  \n",
    "        if w==word:\n",
    "           n+=1\n",
    "    return n\n",
    "\n",
    "def countWordInFile(word,fileName): \n",
    "    count=0 \n",
    "    f=open(fileName,\"r\")  \n",
    "    rows=f.readlines()  \n",
    "    no=0   \n",
    "    for row in rows:    \n",
    "        no+=1      \n",
    "    words=scanWord(row) \n",
    "    if word in words:   \n",
    "       print(no,row,end=\"\")     \n",
    "       count+=countWord(word,words)    \n",
    "    f.close() \n",
    "    print(\"fileName \",count)    \n",
    "\n",
    "fileName=input( \"输入文件：\")\n",
    "word=input( \"输入单词：\") \n",
    "countWordInFile(word,fileName) \n",
    " "
   ]
  },
  {
   "cell_type": "markdown",
   "metadata": {},
   "source": [
    "1． 编写一个程序建立一个文本文件 abc.txt，向其中写入”abc\\n”并存盘，查看 abc.txt 是几个字节的文件，说明为什么。\n",
    "\n"
   ]
  },
  {
   "cell_type": "code",
   "execution_count": 25,
   "metadata": {},
   "outputs": [
    {
     "name": "stdout",
     "output_type": "stream",
     "text": [
      "abc\n",
      " 4\n"
     ]
    }
   ],
   "source": [
    "def writeFile():\n",
    "    f=open(\"abc.txt\",\"wt\")\n",
    "    f.write(\"abc\\n\")             \n",
    "    f.close()\n",
    "def readFile():\n",
    "    f=open(\"abc.txt\",\"rt\")\n",
    "    s=f.readline()\n",
    "    print(s,len(s))\n",
    "    f.close()\n",
    "writeFile()\n",
    "readFile()"
   ]
  },
  {
   "cell_type": "markdown",
   "metadata": {},
   "source": [
    "2． 用 Windows 记事本编写一个文本文件 xyz.txt，在其中存入”123”后打”Enter”键换行，存盘后查看文件应是 5 个字节长，用 read(1)读该文件，看看要读 5 次还是 4 次就把文件读完，为什么？编写程序验证。"
   ]
  },
  {
   "cell_type": "markdown",
   "metadata": {},
   "source": [
    "5．用二进制方式创建文件 abc 并写入”abc\\r\\nxyz\\n\\r123\\r456\\n”的字符串，查看该文件有多少个字节，再用文本文件的方式打开此文件并用 fgetc 来读，看看每次读出的是什么字符。"
   ]
  },
  {
   "cell_type": "code",
   "execution_count": 27,
   "metadata": {},
   "outputs": [
    {
     "name": "stdout",
     "output_type": "stream",
     "text": [
      "abc\r\n",
      "xyz\n",
      "\r",
      "123\r",
      "456\n",
      "\n"
     ]
    }
   ],
   "source": [
    "def write():\n",
    "    f=open(\"abc\",\"wb\")\n",
    "    f.write(\"abc\\r\\nxyz\\n\\r123\\r456\\n\".encode())\n",
    "    f.close()\n",
    "def read():\n",
    "    f=open(\"abc\",\"rb\")\n",
    "    data=f.read()\n",
    "    s=data.decode()\n",
    "    f.close()\n",
    "    print(s)\n",
    "\n",
    "\n",
    "write()\n",
    "read()"
   ]
  },
  {
   "cell_type": "code",
   "execution_count": null,
   "metadata": {},
   "outputs": [],
   "source": []
  }
 ],
 "metadata": {
  "kernelspec": {
   "display_name": "Python 3",
   "language": "python",
   "name": "python3"
  },
  "language_info": {
   "codemirror_mode": {
    "name": "ipython",
    "version": 3
   },
   "file_extension": ".py",
   "mimetype": "text/x-python",
   "name": "python",
   "nbconvert_exporter": "python",
   "pygments_lexer": "ipython3",
   "version": "3.7.1"
  }
 },
 "nbformat": 4,
 "nbformat_minor": 2
}
