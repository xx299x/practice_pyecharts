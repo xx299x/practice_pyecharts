{
 "cells": [
  {
   "cell_type": "markdown",
   "metadata": {},
   "source": [
    "1:能直接修改字符串的某个字符吗？例如 s=\"abc\",s[0]=\"1\"可以吗？"
   ]
  },
  {
   "cell_type": "code",
   "execution_count": 61,
   "metadata": {},
   "outputs": [
    {
     "name": "stdout",
     "output_type": "stream",
     "text": [
      "abc\n"
     ]
    },
    {
     "ename": "TypeError",
     "evalue": "'str' object does not support item assignment",
     "output_type": "error",
     "traceback": [
      "\u001b[1;31m---------------------------------------------------------------------------\u001b[0m",
      "\u001b[1;31mTypeError\u001b[0m                                 Traceback (most recent call last)",
      "\u001b[1;32m<ipython-input-61-ef8fd96ebffd>\u001b[0m in \u001b[0;36m<module>\u001b[1;34m\u001b[0m\n\u001b[0;32m      1\u001b[0m \u001b[0ms\u001b[0m\u001b[1;33m=\u001b[0m\u001b[1;33m(\u001b[0m\u001b[1;34m\"abc\"\u001b[0m\u001b[1;33m)\u001b[0m\u001b[1;33m\u001b[0m\u001b[1;33m\u001b[0m\u001b[0m\n\u001b[0;32m      2\u001b[0m \u001b[0mprint\u001b[0m\u001b[1;33m(\u001b[0m\u001b[0ms\u001b[0m\u001b[1;33m)\u001b[0m\u001b[1;33m\u001b[0m\u001b[1;33m\u001b[0m\u001b[0m\n\u001b[1;32m----> 3\u001b[1;33m \u001b[0ms\u001b[0m\u001b[1;33m[\u001b[0m\u001b[1;36m0\u001b[0m\u001b[1;33m]\u001b[0m\u001b[1;33m=\u001b[0m\u001b[1;34m\"1\"\u001b[0m\u001b[1;33m\u001b[0m\u001b[1;33m\u001b[0m\u001b[0m\n\u001b[0m\u001b[0;32m      4\u001b[0m \u001b[0mprint\u001b[0m\u001b[1;33m(\u001b[0m\u001b[0ms\u001b[0m\u001b[1;33m)\u001b[0m\u001b[1;33m\u001b[0m\u001b[1;33m\u001b[0m\u001b[0m\n",
      "\u001b[1;31mTypeError\u001b[0m: 'str' object does not support item assignment"
     ]
    }
   ],
   "source": [
    "s=(\"abc\")\n",
    "print(s)\n",
    "s[0]=\"1\"\n",
    "print(s)"
   ]
  },
  {
   "cell_type": "markdown",
   "metadata": {},
   "source": [
    "2:输入一个字符串，输出它所包含的所有数字，例如输入\"23me3e\",输出\"233\"。"
   ]
  },
  {
   "cell_type": "code",
   "execution_count": 54,
   "metadata": {},
   "outputs": [
    {
     "name": "stdout",
     "output_type": "stream",
     "text": [
      "233\n"
     ]
    }
   ],
   "source": [
    "import re\n",
    "s=\"23me3e\"\n",
    "str=re.sub(\"\\D\",\"\",s)\n",
    "print(str)\n"
   ]
  },
  {
   "cell_type": "markdown",
   "metadata": {},
   "source": [
    "3:设计一个字符串函数reverse(s),它返回字符串，例如reverse(\"abc\")返回\"cba\""
   ]
  },
  {
   "cell_type": "code",
   "execution_count": 1,
   "metadata": {
    "scrolled": true
   },
   "outputs": [
    {
     "name": "stdout",
     "output_type": "stream",
     "text": [
      "请输入一个字符串:abc\n",
      "cba\n"
     ]
    }
   ],
   "source": [
    " string=input('请输入一个字符串:')\n",
    " lst=list(string) \n",
    " lst.reverse()\n",
    " print(''.join(lst))"
   ]
  },
  {
   "cell_type": "markdown",
   "metadata": {},
   "source": [
    "4:元组和列表有什么不同？"
   ]
  },
  {
   "cell_type": "code",
   "execution_count": 18,
   "metadata": {},
   "outputs": [
    {
     "data": {
      "text/plain": [
       "[12, 2, 3, 4, 5, 6]"
      ]
     },
     "execution_count": 18,
     "metadata": {},
     "output_type": "execute_result"
    }
   ],
   "source": [
    "#列表\n",
    "l = [1, 2, 3, 4, 5, 6]\n",
    "l[0] = l[2] * l[3]\n",
    "l\n",
    " #列表我们创建后可以随意改变它的内容，例如添加新数据增加其大小\n"
   ]
  },
  {
   "cell_type": "code",
   "execution_count": 14,
   "metadata": {},
   "outputs": [
    {
     "data": {
      "text/plain": [
       "7"
      ]
     },
     "execution_count": 14,
     "metadata": {},
     "output_type": "execute_result"
    }
   ],
   "source": [
    "len(l)\n",
    "6\n",
    "l.append(7)\n",
    "l\n",
    "[12, 2, 3, 4, 5, 6, 7]\n",
    "len(l)\n"
   ]
  },
  {
   "cell_type": "code",
   "execution_count": 35,
   "metadata": {},
   "outputs": [
    {
     "data": {
      "text/plain": [
       "(1, 2, 3, 4, 5, 6, 7, 8)"
      ]
     },
     "execution_count": 35,
     "metadata": {},
     "output_type": "execute_result"
    }
   ],
   "source": [
    "#元组不支持改变大小，但是我们可以将两个元组合并成一个新元组。\n",
    "t1 = (1, 2, 3, 4)\n",
    "t2 = (5, 6, 7, 8)\n",
    "t1 + t2\n",
    "\n",
    "\n",
    "\n"
   ]
  },
  {
   "cell_type": "markdown",
   "metadata": {},
   "source": [
    "5：一个列表中的元素类型要求一致吗？例如list=[1,\"a\"]是正确的吗？"
   ]
  },
  {
   "cell_type": "code",
   "execution_count": 37,
   "metadata": {},
   "outputs": [
    {
     "name": "stdout",
     "output_type": "stream",
     "text": [
      "[1, 'a']\n"
     ]
    }
   ],
   "source": [
    "list=[1,\"a\"]\n",
    "print(list)  #结果所示，一个列表中的元素类型可以不同。"
   ]
  },
  {
   "cell_type": "markdown",
   "metadata": {},
   "source": [
    "6：列表是否还可以嵌套别的列表？列举一个例子说明。"
   ]
  },
  {
   "cell_type": "code",
   "execution_count": 46,
   "metadata": {},
   "outputs": [
    {
     "data": {
      "text/plain": [
       "1"
      ]
     },
     "execution_count": 46,
     "metadata": {},
     "output_type": "execute_result"
    }
   ],
   "source": [
    "#可以\n",
    "\n",
    "a = [[1,2],[3,4]]\n",
    "\n",
    "a[:][0]\n",
    "\n",
    "a[0][:]\n",
    "\n",
    "a[:-1]\n",
    "\n",
    "a[0][0]\n",
    "\n"
   ]
  },
  {
   "cell_type": "markdown",
   "metadata": {},
   "source": [
    "7：用一个字典描述一个日期，包含年year，包含月month，包含天day的键字。"
   ]
  },
  {
   "cell_type": "code",
   "execution_count": 47,
   "metadata": {},
   "outputs": [
    {
     "name": "stdout",
     "output_type": "stream",
     "text": [
      "{'年': 2020, '月': 6, '日': 6}\n"
     ]
    }
   ],
   "source": [
    "dic={}\n",
    "dic[\"年\"] = 2020\n",
    "dic[\"月\"] = 6\n",
    "dic[\"日\"] = 6\n",
    "print(dic)"
   ]
  },
  {
   "cell_type": "markdown",
   "metadata": {},
   "source": [
    "8：Python的字典数据类型与JSON数据类型有很多相似的地方，说明有哪些共同点。"
   ]
  },
  {
   "cell_type": "code",
   "execution_count": 50,
   "metadata": {},
   "outputs": [
    {
     "name": "stdout",
     "output_type": "stream",
     "text": [
      "{'a': '1', 'b': '2'}\n"
     ]
    }
   ],
   "source": [
    "#形式上的相近也让python提供了json.loads()转换函数，方便json数据的调用。例如：\n",
    "\n",
    "import json\n",
    "a=json.loads('{\"a\":\"1\",\"b\":\"2\"}')\n",
    "print(a)\n"
   ]
  },
  {
   "cell_type": "markdown",
   "metadata": {},
   "source": [
    "9：写出下列程序执行的结果。"
   ]
  },
  {
   "cell_type": "code",
   "execution_count": 53,
   "metadata": {},
   "outputs": [
    {
     "name": "stdout",
     "output_type": "stream",
     "text": [
      "name A\n",
      "sex M\n",
      "name B\n",
      "sex C\n"
     ]
    }
   ],
   "source": [
    "d={\"students\":[{\"name\":\"A\",\"sex\":\"M\"},{\"name\":\"B\",\"sex\":\"C\"}]}\n",
    "for k1 in d.keys():\n",
    "    for k2 in d[k1]:\n",
    "        for k3 in k2.keys():\n",
    "            print(k3,k2[k3])"
   ]
  },
  {
   "cell_type": "markdown",
   "metadata": {},
   "source": [
    "10："
   ]
  }
 ],
 "metadata": {
  "kernelspec": {
   "display_name": "Python 3",
   "language": "python",
   "name": "python3"
  },
  "language_info": {
   "codemirror_mode": {
    "name": "ipython",
    "version": 3
   },
   "file_extension": ".py",
   "mimetype": "text/x-python",
   "name": "python",
   "nbconvert_exporter": "python",
   "pygments_lexer": "ipython3",
   "version": "3.7.1"
  }
 },
 "nbformat": 4,
 "nbformat_minor": 2
}
