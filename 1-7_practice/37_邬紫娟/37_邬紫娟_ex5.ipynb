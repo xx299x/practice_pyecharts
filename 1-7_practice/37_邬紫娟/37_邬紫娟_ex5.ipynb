{
 "cells": [
  {
   "cell_type": "markdown",
   "metadata": {},
   "source": [
    "1:定义一个数学中的复数类 Complex，它有一个构造函数与一个显示函数,建立一个\n",
    "Complex 对象并调用该显示函数显示。"
   ]
  },
  {
   "cell_type": "code",
   "execution_count": 32,
   "metadata": {},
   "outputs": [
    {
     "name": "stdout",
     "output_type": "stream",
     "text": [
      "(5,6)\n"
     ]
    }
   ],
   "source": [
    "class Complex:\n",
    " def __init__(self,x,y):\n",
    "    self.x=x\n",
    "    self.y=y\n",
    " def show(self):\n",
    "    print(\"(\"+str(self.x)+\",\"+str(self.y)+\")\")\n",
    "c=Complex(5,6)\n",
    "c.show()\n",
    "\n"
   ]
  },
  {
   "cell_type": "markdown",
   "metadata": {},
   "source": [
    "2.定义一个计算机类 MyComputer，它包含 CPU 类型(String 类型）、RAM 内存大小(Integer\n",
    "类型)、HD 硬盘大小(Integer 类型)，设计它的构造函数，并设计一个显示函数，建立一个\n",
    "MyComputer 对象并调用该显示函数显示。\n"
   ]
  },
  {
   "cell_type": "code",
   "execution_count": 73,
   "metadata": {},
   "outputs": [
    {
     "name": "stdout",
     "output_type": "stream",
     "text": [
      "i-5 8 256\n"
     ]
    }
   ],
   "source": [
    "class MyComputer:\n",
    " def __init__(self,CPU,RAM,HD):\n",
    "    self.CPU=CPU\n",
    "    self.RAM=RAM\n",
    "    self.HD=HD\n",
    " def show(self):\n",
    "     print(self.CPU,self.RAM,self.HD)\n",
    "c=MyComputer(\"i-5\",8,256)\n",
    "c.show()\n",
    "\n"
   ]
  },
  {
   "cell_type": "markdown",
   "metadata": {},
   "source": [
    "4. 建立一个普通人员类 Person，包含姓名(m_name)、性别(m_sex)、年龄(m_age)成员变量。\n",
    "(1) 建立 Person 类，包含 Private 成员 m_name、m_sex、m_age 成员变量；\n",
    "(2) 建立 Person 的构造函数；\n",
    "(3) 建立一个显示过程 Show()，显示该对象的数据；\n",
    "(4) 派生一个学生类 Student，增加班级(m_class)，专业(m_major)，设计这些类的构造函\n",
    "数；\n",
    "(5) 建立 m_class、m_major 对应的属性函数 sClass()、sMajor()；\n",
    "(6) 建立显示成员函数 Show()，显示该学生对象所有成员数据；"
   ]
  },
  {
   "cell_type": "code",
   "execution_count": 113,
   "metadata": {},
   "outputs": [
    {
     "name": "stdout",
     "output_type": "stream",
     "text": [
      "邬 女 19\n"
     ]
    }
   ],
   "source": [
    "class Person:\n",
    " def __init__(self,name,sex,age):\n",
    "    self.m_name=name\n",
    "    self.m_sex=sex\n",
    "    self.m_age=age\n",
    " def show(self):\n",
    "    print(self.m_name,self.m_sex,self.m_age)\n",
    "c=Person(\"邬\",\"女\",19)\n",
    "c.show()\n",
    "  \n",
    "\n"
   ]
  },
  {
   "cell_type": "code",
   "execution_count": null,
   "metadata": {},
   "outputs": [],
   "source": []
  }
 ],
 "metadata": {
  "kernelspec": {
   "display_name": "Python 3",
   "language": "python",
   "name": "python3"
  },
  "language_info": {
   "codemirror_mode": {
    "name": "ipython",
    "version": 3
   },
   "file_extension": ".py",
   "mimetype": "text/x-python",
   "name": "python",
   "nbconvert_exporter": "python",
   "pygments_lexer": "ipython3",
   "version": "3.7.1"
  }
 },
 "nbformat": 4,
 "nbformat_minor": 2
}
