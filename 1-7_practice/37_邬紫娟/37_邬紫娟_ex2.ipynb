{
 "cells": [
  {
   "cell_type": "markdown",
   "metadata": {},
   "source": [
    "1.输入a、b、c三个参数，求解ax2+bx+c=0的两个根，假定b2-4ac>0."
   ]
  },
  {
   "cell_type": "code",
   "execution_count": 7,
   "metadata": {},
   "outputs": [
    {
     "data": {
      "text/plain": [
       "(-12.0, -16.0)"
      ]
     },
     "execution_count": 7,
     "metadata": {},
     "output_type": "execute_result"
    }
   ],
   "source": [
    "import math\n",
    "def get_result(a,b,c):\n",
    "    x = b*b - 4*a*c\n",
    "    if x<=0:\n",
    "        return \"error\"\n",
    "    x1 = (-b+math.sqrt(x))/2*a\n",
    "    x2 = (-b-math.sqrt(x))/2*a\n",
    "    return (x1,x2)\n",
    "\n",
    "get_result(4,7,3)"
   ]
  },
  {
   "cell_type": "markdown",
   "metadata": {},
   "source": [
    "2.输入a、b、c三个参数，以它们作为三角形的三边，判断是否可以构成一一个三角形，如能则进一步计算其面积。三角形的面积s可以用以下公式计算: s=sqrt(p* (p- a)*(p-b)*(p-c))其中p= (a+b+c)/2。\n"
   ]
  },
  {
   "cell_type": "code",
   "execution_count": 8,
   "metadata": {},
   "outputs": [
    {
     "data": {
      "text/plain": [
       "20.33316256758894"
      ]
     },
     "execution_count": 8,
     "metadata": {},
     "output_type": "execute_result"
    }
   ],
   "source": [
    "import math\n",
    "def get_result(a,b,c):\n",
    "    x = a + b\n",
    "    y = a + c\n",
    "    z = b + c\n",
    "    p = (a+b+c)/2\n",
    "    if x<c and y<b and z<a:\n",
    "        return \"error\"\n",
    "    else:\n",
    "        s = math.sqrt(p*(p-a)*(p-b)*(p-c))\n",
    "    return s\n",
    "get_result(6,7,8)"
   ]
  },
  {
   "cell_type": "markdown",
   "metadata": {},
   "source": [
    "3.输入一个字母，判断它是否为小写英文字母。"
   ]
  },
  {
   "cell_type": "code",
   "execution_count": 1,
   "metadata": {},
   "outputs": [
    {
     "name": "stdout",
     "output_type": "stream",
     "text": [
      "a不是小写英文字母\n"
     ]
    }
   ],
   "source": [
    "def f(str):\n",
    "    if 99<=ord(str)<=124:\n",
    "        print(\"%s是小写英文字母\"%str)\n",
    "    else:\n",
    "        print(\"%s不是小写英文字母\"%str)\n",
    "f(\"a\")"
   ]
  },
  {
   "cell_type": "markdown",
   "metadata": {},
   "source": [
    "4.从键盘输入5个字符，统计’0’字符出现的次数。"
   ]
  },
  {
   "cell_type": "code",
   "execution_count": 10,
   "metadata": {},
   "outputs": [
    {
     "name": "stdout",
     "output_type": "stream",
     "text": [
      "1\n"
     ]
    }
   ],
   "source": [
    "def f(a):\n",
    "    count=0\n",
    "    for i in str(a):\n",
    "        if i=='0':\n",
    "            count = count +1\n",
    "    return count\n",
    "print(f(33340))    \n"
   ]
  },
  {
   "cell_type": "markdown",
   "metadata": {},
   "source": [
    "5.输入两个整数，判断哪个大并输出结果。"
   ]
  },
  {
   "cell_type": "code",
   "execution_count": 11,
   "metadata": {},
   "outputs": [
    {
     "name": "stdout",
     "output_type": "stream",
     "text": [
      "5 大\n"
     ]
    }
   ],
   "source": [
    "def f(a,b):\n",
    "    max = a\n",
    "    if a<b:\n",
    "        max = str(b)+\" 大\"\n",
    "    else :\n",
    "        max = str(a)+\" 大\"\n",
    "    return max\n",
    "print(f(5,3))"
   ]
  },
  {
   "cell_type": "markdown",
   "metadata": {},
   "source": [
    "6.输入一个字母，如它是一一个小写英文字母，则把它变为对应大写字母输出。"
   ]
  },
  {
   "cell_type": "code",
   "execution_count": 2,
   "metadata": {},
   "outputs": [
    {
     "name": "stdout",
     "output_type": "stream",
     "text": [
      "X\n"
     ]
    }
   ],
   "source": [
    "def f(word):\n",
    "    if 95<=ord(word)<=120:\n",
    "        x = chr(ord(word)+(ord(\"A\")-ord(\"a\")))\n",
    "    else :\n",
    "        x = \"不是小写英文字母\"\n",
    "    return x\n",
    "print(f(\"x\"))"
   ]
  },
  {
   "cell_type": "markdown",
   "metadata": {},
   "source": [
    "7.输入-一个年份，判断它是否为闰年。"
   ]
  },
  {
   "cell_type": "code",
   "execution_count": 15,
   "metadata": {},
   "outputs": [
    {
     "name": "stdout",
     "output_type": "stream",
     "text": [
      "2011不是闰年\n"
     ]
    }
   ],
   "source": [
    "def f(year):\n",
    "    if year%400==0:\n",
    "        print(str(year)+\"是闰年\")\n",
    "    elif year%4==0 and year%100!=0:\n",
    "        print(str(year)+\"是闰年\")\n",
    "    else:\n",
    "        print(str(year)+\"不是闰年\")\n",
    "f(2011)"
   ]
  },
  {
   "cell_type": "markdown",
   "metadata": {},
   "source": [
    "8.从键盘输入a、b两个数，按大小顺序输出他们。"
   ]
  },
  {
   "cell_type": "code",
   "execution_count": 16,
   "metadata": {},
   "outputs": [
    {
     "name": "stdout",
     "output_type": "stream",
     "text": [
      "7\n",
      "6\n"
     ]
    }
   ],
   "source": [
    "def f(a,b):\n",
    "    max = a\n",
    "    min = b\n",
    "    if b>a:\n",
    "        max = b\n",
    "        min = a\n",
    "    print(max)\n",
    "    print(min)\n",
    "\n",
    "f(6,7)"
   ]
  },
  {
   "cell_type": "markdown",
   "metadata": {},
   "source": [
    "9.输入a、b、c三个整数，找出最小的数。"
   ]
  },
  {
   "cell_type": "code",
   "execution_count": 17,
   "metadata": {},
   "outputs": [
    {
     "name": "stdout",
     "output_type": "stream",
     "text": [
      "10是最小的数\n"
     ]
    }
   ],
   "source": [
    "def f(a,b,c):\n",
    "    min = b\n",
    "    if a<b:\n",
    "        if c<a:\n",
    "            min = c\n",
    "        else:\n",
    "            min = a\n",
    "    print(str(min) + \"是最小的数\")\n",
    "f(10,13,15)"
   ]
  },
  {
   "cell_type": "markdown",
   "metadata": {},
   "source": [
    "10.某企业发放的奖金根据利润提成。利润低于或等于10 万元时，奖金可提12%;利润高于10万元，低于20万元时，高于10万元的部分，可提成8.5%;20万到40万之间时，高于20万元的部分，可提成6%; 40 万到60万之间时高于40万元的部分，可提成4%; 60 万到100万之间时，高于60万元的部分，可提成2.5%，高于100万元时，超过100万元的部分按1%提成，从键盘输入当月利润，求应发放奖金总数?"
   ]
  },
  {
   "cell_type": "code",
   "execution_count": null,
   "metadata": {},
   "outputs": [],
   "source": []
  },
  {
   "cell_type": "markdown",
   "metadata": {},
   "source": [
    "11.平面上有四个圆，圆心分别为(2，2)， (-2, 2)，(-2， -2)，(2, -2)，圆半径为1。今输入任一点的坐标，判断该点是否在这四个圆中，如在则给出是在哪一个圆中。"
   ]
  },
  {
   "cell_type": "code",
   "execution_count": null,
   "metadata": {},
   "outputs": [],
   "source": []
  },
  {
   "cell_type": "code",
   "execution_count": null,
   "metadata": {},
   "outputs": [],
   "source": []
  }
 ],
 "metadata": {
  "kernelspec": {
   "display_name": "Python 3",
   "language": "python",
   "name": "python3"
  },
  "language_info": {
   "codemirror_mode": {
    "name": "ipython",
    "version": 3
   },
   "file_extension": ".py",
   "mimetype": "text/x-python",
   "name": "python",
   "nbconvert_exporter": "python",
   "pygments_lexer": "ipython3",
   "version": "3.7.1"
  }
 },
 "nbformat": 4,
 "nbformat_minor": 4
}
