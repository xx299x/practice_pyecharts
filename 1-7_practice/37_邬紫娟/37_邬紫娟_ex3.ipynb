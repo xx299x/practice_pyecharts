{
 "cells": [
  {
   "cell_type": "markdown",
   "metadata": {},
   "source": [
    "# 1.计算1+2+4.....+100的和。"
   ]
  },
  {
   "cell_type": "code",
   "execution_count": 1,
   "metadata": {},
   "outputs": [
    {
     "name": "stdout",
     "output_type": "stream",
     "text": [
      "5050\n"
     ]
    }
   ],
   "source": [
    "a= 0\n",
    "for i in range(1,101):\n",
    "    a=a+i\n",
    "print(a)"
   ]
  },
  {
   "cell_type": "markdown",
   "metadata": {},
   "source": [
    "# 2.计算1+1/3+1/5....+1/99的和。"
   ]
  },
  {
   "cell_type": "code",
   "execution_count": 1,
   "metadata": {},
   "outputs": [
    {
     "name": "stdout",
     "output_type": "stream",
     "text": [
      "2.937774848474907\n"
     ]
    }
   ],
   "source": [
    "a=0 \n",
    "for i in range(1,100,2):\n",
    "    a=a+1/i\n",
    "    \n",
    "print(a)"
   ]
  },
  {
   "cell_type": "markdown",
   "metadata": {},
   "source": [
    "# 3.从键盘输入一个字符串，直到回车结束，统计字符串中的大小写英文字母各有多少个。"
   ]
  },
  {
   "cell_type": "code",
   "execution_count": 2,
   "metadata": {},
   "outputs": [
    {
     "name": "stdout",
     "output_type": "stream",
     "text": [
      "2 3\n"
     ]
    }
   ],
   "source": [
    "words=\"12~!AaBbc \"\n",
    "#设置初始值\n",
    "upper_cnt = 0\n",
    "lower_cnt = 0\n",
    "for char in words:\n",
    "    if ord('a')<=ord(char)<=ord('z'):\n",
    "        lower_cnt += 1 # 等价于 lower_cnt = lower_cnt + 1\n",
    "    if ord('A')<=ord(char)<=ord('Z'):\n",
    "        upper_cnt += 1 # 等价于 upper_cnt = upper_cnt + 1\n",
    "print(upper_cnt,lower_cnt)"
   ]
  },
  {
   "cell_type": "markdown",
   "metadata": {},
   "source": [
    "# 4.有一分数序列: 2/1, 3/2, 5/3,8/5, 13/8, 21/13...，. 求出这个数列的前20项之和。"
   ]
  },
  {
   "cell_type": "code",
   "execution_count": 3,
   "metadata": {},
   "outputs": [
    {
     "name": "stdout",
     "output_type": "stream",
     "text": [
      "1\n",
      "2\n",
      "3\n",
      "4\n",
      "5\n",
      "6\n",
      "7\n",
      "8\n",
      "9\n",
      "10\n",
      "11\n",
      "12\n",
      "13\n",
      "14\n",
      "15\n",
      "16\n",
      "17\n",
      "18\n",
      "19\n",
      "20\n",
      "32.66026079864164\n"
     ]
    }
   ],
   "source": [
    "a=2\n",
    "b=1\n",
    "\n",
    "c=0\n",
    "for i in range(1,21):\n",
    "    print(i)\n",
    "    c = c + a/b\n",
    "    t = a\n",
    "    a = a + b\n",
    "    b = t\n",
    "    \n",
    "print(c)"
   ]
  },
  {
   "cell_type": "markdown",
   "metadata": {},
   "source": [
    "# 5.输入若干个同学的成绩,计算平均成绩,输入的成绩为负数或大于100时表示结束输入。"
   ]
  },
  {
   "cell_type": "code",
   "execution_count": 24,
   "metadata": {},
   "outputs": [
    {
     "name": "stdout",
     "output_type": "stream",
     "text": [
      "第1个成绩: 88\n",
      "第2个成绩: 89\n",
      "第3个成绩: 90\n",
      "第4个成绩: 91\n",
      "第5个成绩: 92\n",
      "平均成绩: 90.0\n"
     ]
    }
   ],
   "source": [
    "s=0\n",
    "i=1\n",
    "while i<6:\n",
    "    m=input(\"第\"+str(i)+\"个成绩: \")\n",
    "    m=float(m)\n",
    "    if m<0 or m>100:\n",
    "        print(\"数据不合理，请重新输入:\")\n",
    "    s=s+m\n",
    "    i=i+1\n",
    "print(\"平均成绩:\",s/(i-1))"
   ]
  },
  {
   "cell_type": "markdown",
   "metadata": {},
   "source": [
    "# 6.输入三个正整数a、b、n,精确计算a/b的结果到小数后n位。"
   ]
  },
  {
   "cell_type": "code",
   "execution_count": 5,
   "metadata": {},
   "outputs": [
    {
     "name": "stdout",
     "output_type": "stream",
     "text": [
      "请输入正整数a:5\n",
      "请输入正整数b:4\n",
      "请输入正整数n:3\n",
      "%.3f\n",
      "1.250\n"
     ]
    }
   ],
   "source": [
    "a=int(input('请输入正整数a:'))\n",
    "b=int(input('请输入正整数b:'))\n",
    "n=int(input('请输入正整数n:'))\n",
    "\n",
    "num=a/b\n",
    "\n",
    "s='%.{}f'.format(n)\n",
    "print(s)\n",
    "\n",
    "print(s %num)"
   ]
  },
  {
   "cell_type": "markdown",
   "metadata": {},
   "source": [
    "# 7.一个猴子第一天摘下若干个桃子，当即吃了一半，还不过瘾，又多吃了一个。第二天早上又将剩下的桃子吃掉一半, 又多吃了一个。以后每天早上都吃了前一天剩下的一半零一个。到第10天早上想再吃时，见只剩下一个桃子了。求第一天共摘了多少。"
   ]
  },
  {
   "cell_type": "code",
   "execution_count": 7,
   "metadata": {},
   "outputs": [
    {
     "name": "stdout",
     "output_type": "stream",
     "text": [
      "10\n",
      "1534\n"
     ]
    }
   ],
   "source": [
    "days = int(input())\n",
    "s = 1\n",
    "for i in range(days-1):\n",
    "    s = (s+1)*2\n",
    "print(s)"
   ]
  },
  {
   "cell_type": "markdown",
   "metadata": {},
   "source": [
    "# 8.有一序列: 1, 3, 5，8，13, 21..用while循环求出这个数列的前20项之和。"
   ]
  },
  {
   "cell_type": "code",
   "execution_count": 15,
   "metadata": {},
   "outputs": [
    {
     "name": "stdout",
     "output_type": "stream",
     "text": [
      "36\n"
     ]
    }
   ],
   "source": [
    "n = 1\n",
    "a = 3\n",
    "b = 5\n",
    "c = a + b\n",
    "s = b + c\n",
    "while n <= 20:\n",
    "    s = b + c\n",
    "    c = a + b\n",
    "    n = n + 1\n",
    "    b = n - a\n",
    "print(s)"
   ]
  },
  {
   "cell_type": "markdown",
   "metadata": {},
   "source": [
    "# 9.一个数如正好等于它的所有因子之和,则称为完数,例如6的因子有1、2、3,而6=1+2+3,因此6是一个完数。编程序找出1000之内的所有完数。"
   ]
  },
  {
   "cell_type": "code",
   "execution_count": 25,
   "metadata": {},
   "outputs": [
    {
     "name": "stdout",
     "output_type": "stream",
     "text": [
      "6是一个完数，分解因子为：\n",
      "[1, 2, 3]\n",
      "28是一个完数，分解因子为：\n",
      "[1, 2, 4, 7, 14]\n",
      "496是一个完数，分解因子为：\n",
      "[1, 2, 4, 8, 16, 31, 62, 124, 248]\n"
     ]
    }
   ],
   "source": [
    "for n in range (1,1000):\n",
    "    numbers = [ ]\n",
    "    for a in range (1,n):\n",
    "        if n%a ==0:\n",
    "            numbers.append(a)\n",
    "    if sum(numbers)==n:\n",
    "        print (str(n)+'是一个完数，分解因子为：')\n",
    "        print (numbers)"
   ]
  },
  {
   "cell_type": "markdown",
   "metadata": {},
   "source": [
    "# 10.有近千名学生排队，7人- -行余3人，5人一行余2人，3人一行余1人，编写程序求学生人数。"
   ]
  },
  {
   "cell_type": "code",
   "execution_count": 29,
   "metadata": {},
   "outputs": [
    {
     "name": "stdout",
     "output_type": "stream",
     "text": [
      "997\n"
     ]
    }
   ],
   "source": [
    "for i in range(900,1000):\n",
    "    if (((i % 5) == 2) and ((i % 7) == 3) and ((i % 3) == 1)):\n",
    "        print(i)"
   ]
  },
  {
   "cell_type": "markdown",
   "metadata": {},
   "source": [
    "# 11.小华今年12岁，他妈妈比他大20岁，编写程序计算多少年后他妈妈年龄比他大-一倍。"
   ]
  },
  {
   "cell_type": "code",
   "execution_count": 26,
   "metadata": {},
   "outputs": [
    {
     "name": "stdout",
     "output_type": "stream",
     "text": [
      "8\n"
     ]
    }
   ],
   "source": [
    "for a in range(1,100):\n",
    "    if ((a + 12) * 2) == (a +32):\n",
    "        print(a)"
   ]
  },
  {
   "cell_type": "markdown",
   "metadata": {},
   "source": [
    "# 12.两个乒乓球队进行比赛，各出三人。甲队为a,b,c三人，乙队为x,y,z三人。已抽签决定比赛名单。有人向队员打听比赛的名单。a说他不和x比，c说他不和x,z比，请编程序找出三队赛手的名单。"
   ]
  },
  {
   "cell_type": "code",
   "execution_count": 27,
   "metadata": {},
   "outputs": [
    {
     "name": "stdout",
     "output_type": "stream",
     "text": [
      "a vs z, b vs x, c vs y\n"
     ]
    }
   ],
   "source": [
    "for i in range(ord('x'), ord('z')+1):  #假设a,b,c的对手分别是i,j,k\n",
    "    for j in range(ord('x'), ord('z')+1):  #用3个for穷举i,j,k可能出现的所有组合\n",
    "        for k in range(ord('x'), ord('z')+1):\n",
    "            if i != j and j != k and k != i:  #条件1：i,j,k不能同时出现\n",
    "                if i != ord('x') and k != ord('x') and k != ord('z'):  #条件2：a不对x，c不对x,z\n",
    "                    print('a vs %s, b vs %s, c vs %s' % (chr(i), chr(j), chr(k)))"
   ]
  },
  {
   "cell_type": "markdown",
   "metadata": {},
   "source": [
    "# 13. 目前世界人口是60亿，如每年按1.5%的比例增长， 则多少年后是80亿?"
   ]
  },
  {
   "cell_type": "code",
   "execution_count": 3,
   "metadata": {},
   "outputs": [
    {
     "name": "stdout",
     "output_type": "stream",
     "text": [
      "80.81130039300321 20\n"
     ]
    }
   ],
   "source": [
    "x = 60\n",
    "year = 1\n",
    "while 1:#非0都是True\n",
    "    x =x * 1.015\n",
    "    if x >= 80:\n",
    "        print(x,year)\n",
    "        break\n",
    "    else:\n",
    "        year = year+1"
   ]
  },
  {
   "cell_type": "markdown",
   "metadata": {},
   "source": [
    "# 14.一球从80米高度自由下落，每次落地后返回原高度的一半，再落下。求它在第10次落地时共经过多少米?第10次反弹多高?"
   ]
  },
  {
   "cell_type": "code",
   "execution_count": 28,
   "metadata": {},
   "outputs": [
    {
     "name": "stdout",
     "output_type": "stream",
     "text": [
      "0.078125\n",
      "0.234375\n"
     ]
    }
   ],
   "source": [
    "times = 10\n",
    "h = 80\n",
    "total = 0\n",
    "for i in range(10):\n",
    "    h/=2\n",
    "print(h)\n",
    "print(h*3)"
   ]
  }
 ],
 "metadata": {
  "kernelspec": {
   "display_name": "Python 3",
   "language": "python",
   "name": "python3"
  },
  "language_info": {
   "codemirror_mode": {
    "name": "ipython",
    "version": 3
   },
   "file_extension": ".py",
   "mimetype": "text/x-python",
   "name": "python",
   "nbconvert_exporter": "python",
   "pygments_lexer": "ipython3",
   "version": "3.7.1"
  }
 },
 "nbformat": 4,
 "nbformat_minor": 2
}
