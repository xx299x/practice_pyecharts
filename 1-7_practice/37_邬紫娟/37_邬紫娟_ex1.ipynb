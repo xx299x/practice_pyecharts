{
 "cells": [
  {
   "cell_type": "markdown",
   "metadata": {},
   "source": [
    "1.输入矩形的长与宽，计算矩形面积"
   ]
  },
  {
   "cell_type": "code",
   "execution_count": 16,
   "metadata": {},
   "outputs": [
    {
     "name": "stdout",
     "output_type": "stream",
     "text": [
      "30\n"
     ]
    },
    {
     "data": {
      "text/plain": [
       "30"
      ]
     },
     "execution_count": 16,
     "metadata": {},
     "output_type": "execute_result"
    }
   ],
   "source": [
    "l=5\n",
    "w=6\n",
    "s=l*w\n",
    "print(s)\n",
    "def area(l,w):\n",
    "    return l*w \n",
    "area(5,6)"
   ]
  },
  {
   "cell_type": "markdown",
   "metadata": {},
   "source": [
    "2.输入一个时间值s，它是距当日午夜的秒值，计算目前的时间，时间按 HH:MM:SS 格式\n",
    "输出。"
   ]
  },
  {
   "cell_type": "code",
   "execution_count": 13,
   "metadata": {},
   "outputs": [
    {
     "name": "stdout",
     "output_type": "stream",
     "text": [
      "22:03:20\n"
     ]
    }
   ],
   "source": [
    "def convert(s):\n",
    "    left = 3600*24 - s\n",
    "    m = left//60\n",
    "    s = left%60\n",
    "    h = 0\n",
    "    if m > 59 :\n",
    "        h = m//60\n",
    "        m = m%60\n",
    "    if h < 10:\n",
    "        h = '0'+ str(h)\n",
    "    if m < 10:\n",
    "        m = '0' + str(m)\n",
    "    if s < 10:\n",
    "        s = '0' + str(s)\n",
    "    return str(h)+\":\"+str(m)+\":\"+str(s)\n",
    "        \n",
    "\n",
    "#     return \"23:00:00\"\n",
    "\n",
    "print(convert(7000))\n"
   ]
  },
  {
   "cell_type": "markdown",
   "metadata": {},
   "source": [
    "3.如a=1、b=2、c=3、d=0写出下列的逻辑值:"
   ]
  },
  {
   "cell_type": "code",
   "execution_count": 5,
   "metadata": {},
   "outputs": [
    {
     "name": "stdout",
     "output_type": "stream",
     "text": [
      "False\n",
      "True\n",
      "True\n",
      "0\n",
      "True\n",
      "True\n",
      "True\n",
      "True\n"
     ]
    }
   ],
   "source": [
    "a=1\n",
    "b=2\n",
    "c=3\n",
    "d=0\n",
    "print(a>b and b>c or a+b<c)\n",
    "print(a-b<c or b>c and not c)\n",
    "print(not d or b>c+a or a)\n",
    "print(d and b and c>d and a*b>c)\n",
    "print(not(a>b and c>d))\n",
    "print(a*b>c or b+c>d and not d)\n",
    "print(c+d<=b+d and d<c or 2*b>c)\n",
    "print(d<b or c>a+b+d and b<c+a)"
   ]
  },
  {
   "cell_type": "markdown",
   "metadata": {},
   "source": [
    "4.有一个数x在区间[-5.0]内，写出其条件表达式。"
   ]
  },
  {
   "cell_type": "code",
   "execution_count": 11,
   "metadata": {},
   "outputs": [
    {
     "name": "stdout",
     "output_type": "stream",
     "text": [
      "在区间内\n"
     ]
    }
   ],
   "source": [
    "x=-4\n",
    "if -5<=x and x<=0 :\n",
    "    print(\"在区间内\")\n",
    "else :\n",
    "    print(\"在区间外\")"
   ]
  },
  {
   "cell_type": "markdown",
   "metadata": {},
   "source": [
    "5.写出下面表达式的值(设a=1,b=2,c=3,x=4, y=3)"
   ]
  },
  {
   "cell_type": "code",
   "execution_count": 12,
   "metadata": {},
   "outputs": [
    {
     "name": "stdout",
     "output_type": "stream",
     "text": [
      "False\n",
      "False\n",
      "-1\n",
      "False\n",
      "False\n",
      "1\n"
     ]
    }
   ],
   "source": [
    "a=1\n",
    "b=2\n",
    "c=3\n",
    "x=4\n",
    "y=3\n",
    "print(a+b>c and b==c)\n",
    "print(not a<b and b  !=c or x+y<=3)\n",
    "print(a+(b>=x+y) and c-a and y-x)\n",
    "print(not (x==a) and (y==b) and 0)\n",
    "print(not (a+b)+c-1 and b+c/2)\n",
    "print(a or 1+'a' and b and'c')"
   ]
  },
  {
   "cell_type": "code",
   "execution_count": null,
   "metadata": {},
   "outputs": [],
   "source": []
  }
 ],
 "metadata": {
  "kernelspec": {
   "display_name": "Python 3",
   "language": "python",
   "name": "python3"
  },
  "language_info": {
   "codemirror_mode": {
    "name": "ipython",
    "version": 3
   },
   "file_extension": ".py",
   "mimetype": "text/x-python",
   "name": "python",
   "nbconvert_exporter": "python",
   "pygments_lexer": "ipython3",
   "version": "3.7.1"
  }
 },
 "nbformat": 4,
 "nbformat_minor": 2
}
