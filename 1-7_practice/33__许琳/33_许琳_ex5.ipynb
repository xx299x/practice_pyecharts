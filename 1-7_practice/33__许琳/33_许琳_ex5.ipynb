{
 "cells": [
  {
   "cell_type": "raw",
   "metadata": {},
   "source": [
    "1.定义一个数学中的复数类Complex，它有一个构造函数与一个显示函数，建立一个Complex对象并调用该显示函数显示。"
   ]
  },
  {
   "cell_type": "code",
   "execution_count": 43,
   "metadata": {},
   "outputs": [
    {
     "name": "stdout",
     "output_type": "stream",
     "text": [
      "(1,2)\n"
     ]
    }
   ],
   "source": [
    "    class Complex:\n",
    "        def __init__(self,x,y):\n",
    "            self.x=x\n",
    "            self.y=y\n",
    "        def show(self):\n",
    "            print(\"(\"+str(self.x)+\",\"+str(self.y)+\")\")\n",
    "            \n",
    "    c=Complex(1,2)\n",
    "c.show()\n"
   ]
  },
  {
   "cell_type": "raw",
   "metadata": {},
   "source": [
    "2.定义一个计算机类MyComputer，它包含CPU类型(String类型)，RAM内存大小(Integer类型)、HD硬盘大小(Integer类型)，设计它的构造函数，并设计一个显示函数，建立一个MyComputer对象并调用该显示函数显示。"
   ]
  },
  {
   "cell_type": "code",
   "execution_count": 42,
   "metadata": {},
   "outputs": [
    {
     "name": "stdout",
     "output_type": "stream",
     "text": [
      "Intel i-7 10 256\n"
     ]
    }
   ],
   "source": [
    "class MyComputer:\n",
    "    def __init__(self,CPU,RAM,HD):\n",
    "        self.CPU=CPU\n",
    "        self.RAM=RAM\n",
    "        self.HD=HD\n",
    "    def show(self):\n",
    "        print(self.CPU,self.RAM,self.HD)\n",
    "        \n",
    "c=MyComputer(\"Intel i-7\",10,256)\n",
    "c.show()"
   ]
  },
  {
   "cell_type": "raw",
   "metadata": {},
   "source": [
    "3.设计一个整数类MyInteger，它有一个整数变量，并有一个Value属性，可以通过为Value存取该变量的值，还有一个转二进制字符串的成员函数toBin及转十六进制字符串的成员函数toHex。"
   ]
  },
  {
   "cell_type": "code",
   "execution_count": 58,
   "metadata": {},
   "outputs": [
    {
     "name": "stdout",
     "output_type": "stream",
     "text": [
      "10\n",
      "0xa\n",
      "0b1010\n"
     ]
    }
   ],
   "source": [
    "    class MyInteger:\n",
    "        def __init__(self,v):\n",
    "            self.Value=v\n",
    "        def show(self):\n",
    "            print(self.Value)\n",
    "        def toHex(self):\n",
    "            return hex(self.Value)\n",
    "        def toBin(self):\n",
    "            return bin(self.Value)\n",
    "        \n",
    "    i=MyInteger(10)\n",
    "    i.show()\n",
    "    print(i.toHex())\n",
    "print(i.toBin())"
   ]
  },
  {
   "cell_type": "raw",
   "metadata": {},
   "source": [
    "4.建立一个普通人员类Person，包含姓名(m_name)、性别(m_sex)、年龄(m_age)成员变量。\n",
    "(1)建立Person类，包含private成员m_name、m_sex、m_age成员变量；\n",
    "(2)建立Person的构造函数；\n",
    "(3)建立一个显示过程Show()，显示该对象的数据；\n",
    "(4)派生一个学生类Student，增加班级(m_class)，专业(m_major),设计这些类的构造函数；\n",
    "(5)建立m_class、m_major对应的属性函数sClass()、sMajor();\n",
    "(6)建立显示成员函数Show()，显示该学生对象所有成员数据；"
   ]
  },
  {
   "cell_type": "code",
   "execution_count": 75,
   "metadata": {},
   "outputs": [
    {
     "name": "stdout",
     "output_type": "stream",
     "text": [
      "A M 20 Class A Computer\n"
     ]
    }
   ],
   "source": [
    "class Person:\n",
    "    def __init__(self,name,sex,age):\n",
    "        self.__m_name=name\n",
    "        self.__m_sex=sex\n",
    "        self.__m_age=age\n",
    "    def show(self,end=\"\\n\"):\n",
    "        print(self.__m_name,self.__m_sex,self.__m_age,end=end)\n",
    "        \n",
    "class Student(Person):\n",
    "    def __init__(self,name,sex,age,mclass,major):\n",
    "        Person.__init__(self,name,sex,age)\n",
    "        self.__m_class=mclass\n",
    "        self.__m_major=major\n",
    "    def sClass(self):\n",
    "        return self.__m_class\n",
    "    def sMajor(self):\n",
    "        return self.__m_major\n",
    "    def show(self):\n",
    "        Person.show(self,end=\" \")\n",
    "        print(self.__m_class,self.__m_major)\n",
    "        \n",
    "s=Student(\"A\",\"M\",20,\"Class A\",\"Computer\")\n",
    "s.show()"
   ]
  },
  {
   "cell_type": "raw",
   "metadata": {},
   "source": [
    "5.建立一个时间类Time，它包含时hour，分minute，秒second的实例属性\n",
    "(1)设计时间显示函数show(self)；\n",
    "(2)设计两个时间大小比较函数compare(self,t)，其中t是另外一个时间。"
   ]
  },
  {
   "cell_type": "code",
   "execution_count": 85,
   "metadata": {},
   "outputs": [
    {
     "name": "stdout",
     "output_type": "stream",
     "text": [
      "12:23:01\n",
      "10:06:34\n",
      "12:23:01 is later than 10:06:34\n"
     ]
    }
   ],
   "source": [
    "class Time:\n",
    "    def __init__(self,h,m,s):\n",
    "        self.hour=h\n",
    "        self.minute=m\n",
    "        self.second=s\n",
    "    def show(self):\n",
    "        s=\"{:02d}:{:02d}:{:02d}\".format(self.hour,self.minute,self.second)\n",
    "        print(s)\n",
    "        return s\n",
    "    \n",
    "    def compare(self,t):\n",
    "        a=self.hour*3600+self.minute*60+self.second\n",
    "        b=t.hour*3600+t.minute*60+t.second\n",
    "        if a>b:\n",
    "            return 1\n",
    "        elif a==b:\n",
    "            return 0\n",
    "        else:\n",
    "            return -1\n",
    "        \n",
    "a=Time(12,23,1)\n",
    "b=Time(10,6,34)\n",
    "c=a.compare(b)\n",
    "if c==0:\n",
    "    print(a.show(),\"is same as\",b.show())\n",
    "elif c>0:\n",
    "    print(a.show(),\"is later than\",b.show())\n",
    "else:\n",
    "    print(a.show(),\"is earlier than\",b.show())    \n",
    "    "
   ]
  },
  {
   "cell_type": "code",
   "execution_count": null,
   "metadata": {},
   "outputs": [],
   "source": []
  }
 ],
 "metadata": {
  "kernelspec": {
   "display_name": "Python 3",
   "language": "python",
   "name": "python3"
  },
  "language_info": {
   "codemirror_mode": {
    "name": "ipython",
    "version": 3
   },
   "file_extension": ".py",
   "mimetype": "text/x-python",
   "name": "python",
   "nbconvert_exporter": "python",
   "pygments_lexer": "ipython3",
   "version": "3.7.4"
  }
 },
 "nbformat": 4,
 "nbformat_minor": 2
}
