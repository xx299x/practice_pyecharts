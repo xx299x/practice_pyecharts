{
 "cells": [
  {
   "cell_type": "markdown",
   "metadata": {},
   "source": [
    "# 1.\n",
    "编写一个程序建立一个文本文件 abc.txt，向其中写入”abc\\n”并存盘，查看 abc.txt 是\n",
    "几个字节的文件，说明为什么。"
   ]
  },
  {
   "cell_type": "code",
   "execution_count": null,
   "metadata": {},
   "outputs": [],
   "source": [
    "4字节"
   ]
  },
  {
   "cell_type": "markdown",
   "metadata": {},
   "source": [
    "# 2.\n",
    "用 Windows 记事本编写一个文本文件 xyz.txt，在其中存入”123”后打”Enter”键换行，\n",
    "存盘后查看文件应是 5 个字节长，用 read(1)读该文件，看看要读 5 次还是 4 次就把文\n",
    "件读完，为什么？编写程序验证。"
   ]
  },
  {
   "cell_type": "code",
   "execution_count": null,
   "metadata": {},
   "outputs": [],
   "source": [
    "5字节"
   ]
  },
  {
   "cell_type": "markdown",
   "metadata": {},
   "source": [
    "# 3．\n",
    "编写程序查找某个单词（键盘输入）所出现的行号及该行的内容，并统计该单词在文件\n",
    "共出现多少次。"
   ]
  },
  {
   "cell_type": "code",
   "execution_count": null,
   "metadata": {},
   "outputs": [],
   "source": [
    "def scanWord(s):\n",
    "    words=[]\n",
    "    i=0\n",
    "    w=\"\"\n",
    "    while i<len(s):\n",
    "        if s[i].lower()>=\"a\" and s[i].lower()<=\"z\":\n",
    "            w=w+s[i]\n",
    "        else:\n",
    "            if w:\n",
    "                words.append(w)\n",
    "                w=\"\"\n",
    "                i=i+1\n",
    "                if w:\n",
    "                    words.append(w)\n",
    "                    return words\n",
    "\n",
    "def countWord(word,words):\n",
    "    n=0\n",
    "    for w in words:\n",
    "        if w==word:\n",
    "            n+=1\n",
    "    return n\n",
    "\n",
    "def countWordInFile(word,fileName):\n",
    "    count=0\n",
    "    f=open(fileName,\"r\")\n",
    "    rows=f.readlines()\n",
    "    no=0\n",
    "    for row in rows:\n",
    "        no+=1\n",
    "        words=scanWord(row)\n",
    "        if word in words:\n",
    "            print(no,row,end=\"\")\n",
    "            count+=countWord(word,words)\n",
    "    f.close()\n",
    "    print(\"Total \",count)\n",
    "\n",
    "fileName=input( \"输入文件：\")\n",
    "word=input( \"输入单词：\")\n",
    "countWordInFile(word,fileName)"
   ]
  },
  {
   "cell_type": "markdown",
   "metadata": {},
   "source": [
    "# 4．\n",
    "设一个文本文件 marks.txt 中存储了学生的姓名及成绩如下：\n",
    "张三 96\n",
    "李四 95\n",
    "……\n",
    "每行为学生姓名与成绩，编写一个程序读取这些学生的姓名与成绩并按成绩的从高到低的顺\n",
    "序输出到另外一个文件 sorted.txt 中。"
   ]
  },
  {
   "cell_type": "code",
   "execution_count": 5,
   "metadata": {},
   "outputs": [
    {
     "ename": "FileNotFoundError",
     "evalue": "[Errno 2] No such file or directory: 'f:\\\\marks.txt'",
     "output_type": "error",
     "traceback": [
      "\u001b[1;31m---------------------------------------------------------------------------\u001b[0m",
      "\u001b[1;31mFileNotFoundError\u001b[0m                         Traceback (most recent call last)",
      "\u001b[1;32m<ipython-input-5-dbd416aeb440>\u001b[0m in \u001b[0;36m<module>\u001b[1;34m\u001b[0m\n\u001b[0;32m     27\u001b[0m \u001b[1;33m\u001b[0m\u001b[0m\n\u001b[0;32m     28\u001b[0m \u001b[0mfileName\u001b[0m\u001b[1;33m=\u001b[0m\u001b[1;34m\"f:\\\\marks.txt\"\u001b[0m\u001b[1;33m\u001b[0m\u001b[1;33m\u001b[0m\u001b[0m\n\u001b[1;32m---> 29\u001b[1;33m \u001b[0mst\u001b[0m\u001b[1;33m=\u001b[0m\u001b[0mread\u001b[0m\u001b[1;33m(\u001b[0m\u001b[0mfileName\u001b[0m\u001b[1;33m)\u001b[0m\u001b[1;33m\u001b[0m\u001b[1;33m\u001b[0m\u001b[0m\n\u001b[0m\u001b[0;32m     30\u001b[0m \u001b[0mst\u001b[0m\u001b[1;33m=\u001b[0m\u001b[0msort\u001b[0m\u001b[1;33m(\u001b[0m\u001b[0mst\u001b[0m\u001b[1;33m)\u001b[0m\u001b[1;33m\u001b[0m\u001b[1;33m\u001b[0m\u001b[0m\n\u001b[0;32m     31\u001b[0m \u001b[0msave\u001b[0m\u001b[1;33m(\u001b[0m\u001b[0mst\u001b[0m\u001b[1;33m)\u001b[0m\u001b[1;33m\u001b[0m\u001b[1;33m\u001b[0m\u001b[0m\n",
      "\u001b[1;32m<ipython-input-5-dbd416aeb440>\u001b[0m in \u001b[0;36mread\u001b[1;34m(fileName)\u001b[0m\n\u001b[0;32m      1\u001b[0m \u001b[1;32mdef\u001b[0m \u001b[0mread\u001b[0m\u001b[1;33m(\u001b[0m\u001b[0mfileName\u001b[0m\u001b[1;33m)\u001b[0m\u001b[1;33m:\u001b[0m\u001b[1;33m\u001b[0m\u001b[1;33m\u001b[0m\u001b[0m\n\u001b[0;32m      2\u001b[0m     \u001b[0mst\u001b[0m\u001b[1;33m=\u001b[0m\u001b[1;33m[\u001b[0m\u001b[1;33m]\u001b[0m\u001b[1;33m\u001b[0m\u001b[1;33m\u001b[0m\u001b[0m\n\u001b[1;32m----> 3\u001b[1;33m     \u001b[0mf\u001b[0m\u001b[1;33m=\u001b[0m\u001b[0mopen\u001b[0m\u001b[1;33m(\u001b[0m\u001b[0mfileName\u001b[0m\u001b[1;33m,\u001b[0m\u001b[1;34m\"r\"\u001b[0m\u001b[1;33m)\u001b[0m\u001b[1;33m\u001b[0m\u001b[1;33m\u001b[0m\u001b[0m\n\u001b[0m\u001b[0;32m      4\u001b[0m     \u001b[0mrows\u001b[0m\u001b[1;33m=\u001b[0m\u001b[0mf\u001b[0m\u001b[1;33m.\u001b[0m\u001b[0mreadlines\u001b[0m\u001b[1;33m(\u001b[0m\u001b[1;33m)\u001b[0m\u001b[1;33m\u001b[0m\u001b[1;33m\u001b[0m\u001b[0m\n\u001b[0;32m      5\u001b[0m     \u001b[1;32mfor\u001b[0m \u001b[0mrow\u001b[0m \u001b[1;32min\u001b[0m \u001b[0mrows\u001b[0m\u001b[1;33m:\u001b[0m\u001b[1;33m\u001b[0m\u001b[1;33m\u001b[0m\u001b[0m\n",
      "\u001b[1;31mFileNotFoundError\u001b[0m: [Errno 2] No such file or directory: 'f:\\\\marks.txt'"
     ]
    }
   ],
   "source": [
    "def read(fileName):\n",
    "    st=[]\n",
    "    f=open(fileName,\"r\")\n",
    "    rows=f.readlines()\n",
    "    for row in rows:\n",
    "        s=row.strip(\"\\n\").split(\" \")\n",
    "        if len(s)==2:\n",
    "            d={\"Name\":s[0],\"Mark\":float(s[1])}\n",
    "            st.append(d)\n",
    "    f.close()\n",
    "    return st\n",
    "\n",
    "def sort(st):\n",
    "    for i in range(len(st)):\n",
    "        for j in range(i+1,len(st)):\n",
    "            if st[j][\"Mark\"]<st[i][\"Mark\"]:\n",
    "                t=st[i]\n",
    "                st[i]=st[j]\n",
    "                st[j]=t\n",
    "    return st\n",
    "\n",
    "def save(st):\n",
    "    f=open(\"f:\\\\sorted.txt\",\"w\")\n",
    "    for s in st:\n",
    "        f.write(s[\"Name\"]+\" \"+str(s[\"Mark\"])+\"\\n\")\n",
    "    f.close()\n",
    "    \n",
    "fileName=\"f:\\\\marks.txt\"\n",
    "st=read(fileName)\n",
    "st=sort(st)\n",
    "save(st)"
   ]
  },
  {
   "cell_type": "markdown",
   "metadata": {},
   "source": [
    "# 5．\n",
    "用二进制方式创建文件 abc 并写入”abc\\r\\nxyz\\n\\r123\\r456\\n”的字符串，查看该文件\n",
    "有多少个字节，再用文本文件的方式打开此文件并用 fgetc 来读，看看每次读出的是什么字\n",
    "符。\n",
    "\n"
   ]
  },
  {
   "cell_type": "code",
   "execution_count": 6,
   "metadata": {},
   "outputs": [
    {
     "name": "stdout",
     "output_type": "stream",
     "text": [
      "abc\r\n",
      "xyz\n",
      "456\n",
      "\n"
     ]
    }
   ],
   "source": [
    "def save(s):\n",
    "    f=open(\"f:\\\\data.txt\",\"wb\")\n",
    "    #wb: write binary\n",
    "    f.write(s.encode())\n",
    "    f.close()\n",
    "def read():\n",
    "    f=open(\"f:\\\\data.txt\",\"rb\")\n",
    "    #rb: read binary\n",
    "    data=f.read()\n",
    "    s=data.decode()\n",
    "    f.close()\n",
    "    print(s)\n",
    "\n",
    "s=\"abc\\r\\nxyz\\n\\r123\\r456\\n\"\n",
    "save(s)\n",
    "read()"
   ]
  },
  {
   "cell_type": "markdown",
   "metadata": {},
   "source": [
    "# 6．\n",
    "用文本文件方式创建文件并写入”abc\\nxyz\\r\\n123\\r”字符串，再用二进制方式打开读\n",
    "取每个字节，看看每个字节是什么。"
   ]
  },
  {
   "cell_type": "code",
   "execution_count": 7,
   "metadata": {},
   "outputs": [
    {
     "name": "stdout",
     "output_type": "stream",
     "text": [
      "0x20 0x61 0x62 0x63 0xd 0xa 0x78 0x79 0x7a 0xd 0xd 0xa 0x31 0x32 0x33 0xd 0x20 "
     ]
    }
   ],
   "source": [
    "def save(s):\n",
    "    f=open(\"f:\\\\data.txt\",\"w\")\n",
    "    f.write(s)\n",
    "    f.close()\n",
    "def read():\n",
    "    f=open(\"f:\\\\data.txt\",\"rb\")\n",
    "    #rb: read binary\n",
    "    data=f.read()\n",
    "    for d in data:\n",
    "        print(hex(d),end=\" \")\n",
    "    f.close()\n",
    "\n",
    "s=\" abc\\nxyz\\r\\n123\\r \"\n",
    "save(s)\n",
    "read()"
   ]
  },
  {
   "cell_type": "markdown",
   "metadata": {},
   "source": [
    "# 7.\n",
    "编写一个程序，它能统计一篇英文文章中的 a~z 各个字母出现的次数（不分大小写），并\n",
    "按出现次数的多少按顺序输出。"
   ]
  },
  {
   "cell_type": "code",
   "execution_count": null,
   "metadata": {},
   "outputs": [],
   "source": [
    "def count(fileName):\n",
    "    no={}\n",
    "    for i in range(26):\n",
    "        x=chr(ord('a')+i)\n",
    "        no[x]=0\n",
    "        f=open(fileName,\"r\")\n",
    "        rows=f.readlines()\n",
    "        for row in rows:\n",
    "            s=row.strip(\"\\n\")\n",
    "            for x in s:\n",
    "                y=x.lower()\n",
    "                if y>='a' and y<='z':\n",
    "                    no[y]=no[y]+1\n",
    "        f.close()\n",
    "        print(no)\n",
    "        \n",
    "fileName=input( \"输入文件：\")\n",
    "count(fileName)"
   ]
  },
  {
   "cell_type": "code",
   "execution_count": null,
   "metadata": {},
   "outputs": [],
   "source": []
  }
 ],
 "metadata": {
  "kernelspec": {
   "display_name": "Python 3",
   "language": "python",
   "name": "python3"
  },
  "language_info": {
   "codemirror_mode": {
    "name": "ipython",
    "version": 3
   },
   "file_extension": ".py",
   "mimetype": "text/x-python",
   "name": "python",
   "nbconvert_exporter": "python",
   "pygments_lexer": "ipython3",
   "version": "3.7.4"
  }
 },
 "nbformat": 4,
 "nbformat_minor": 2
}
