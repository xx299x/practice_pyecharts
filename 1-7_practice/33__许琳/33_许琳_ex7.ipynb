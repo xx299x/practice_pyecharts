{
 "cells": [
  {
   "cell_type": "markdown",
   "metadata": {},
   "source": [
    "# 1.简述 Python 连接 MySQL 数据库的方法"
   ]
  },
  {
   "cell_type": "markdown",
   "metadata": {},
   "source": [
    "安装Python连接MySQL的工具----PyMySQL，它是在 Python3.x 版本中用于连接MySQL服务器的一个库，Python2中则使用mysqldb。PyMySQL安装方法：在Windows命令行下进入到python安装目录下的Script目录下，运行命令：pip install PyMySQL。\n",
    "连接到MySQL数据库，在python的shell命令行输入：db = pymysql.connect(\"localhost\",\"root\",\"123456\",\"world\" )，这里括号内的4个参数分别为：数据库所在的服务器地址（这里是本地主机），登陆用户名，登陆密码，要连接的数据库（这里是MySQL自带的一个示例数据库）。如果没有任何错误提示，则说明连接成功。"
   ]
  },
  {
   "cell_type": "markdown",
   "metadata": {},
   "source": [
    "# 2.fetchone()怎么样判断读到数据库末尾"
   ]
  },
  {
   "cell_type": "markdown",
   "metadata": {},
   "source": [
    "返回单个的元组，也就是一条记录(row)，如果没有结果，则返回 None。"
   ]
  },
  {
   "cell_type": "markdown",
   "metadata": {},
   "source": [
    "# 3.fetchall()与 fetchone()有什么区别"
   ]
  },
  {
   "cell_type": "markdown",
   "metadata": {},
   "source": [
    "fetchone() ：返回单个的元组\n",
    "fetchall() ：返回多个元组"
   ]
  },
  {
   "cell_type": "markdown",
   "metadata": {},
   "source": [
    "# 4.rowcount()返回值代表什么"
   ]
  },
  {
   "cell_type": "markdown",
   "metadata": {},
   "source": [
    "主要意义是只会记录未被提交的最后一条SQL语句的影响行数"
   ]
  },
  {
   "cell_type": "markdown",
   "metadata": {},
   "source": [
    "# 5.MySQL 中怎么样使用带参数的 SQL 命令"
   ]
  },
  {
   "cell_type": "markdown",
   "metadata": {},
   "source": [
    "cursor.execute (带参数的SQL命令，(參数列表))其中带参数的SQL命令是SQL命令中把不确定的值用参数表示，MySQL数据库参数统-用\"%s\"表示，参数列表是对应参数的具体值，它们放在-一个元组或者列表中，例如:\n",
    "    cursor.execute (”insert into students (pNo, pName) values (%s, %s)\", (' 1',' R\"J'))"
   ]
  },
  {
   "cell_type": "markdown",
   "metadata": {},
   "source": [
    "# 6.数据库操作完成后为什么要调用 commit()函数"
   ]
  },
  {
   "cell_type": "markdown",
   "metadata": {},
   "source": [
    "调用commit()函数才会对数据进行更新，不然他会回滚到原来的数据，就好像你并没有保存那样"
   ]
  },
  {
   "cell_type": "markdown",
   "metadata": {},
   "source": [
    "# 7.什么是游标 cursor，它有什么作用"
   ]
  },
  {
   "cell_type": "markdown",
   "metadata": {},
   "source": [
    "游标(Cursor)它使用户可逐行访问由SQL Server返回的结果集\n",
    "作用:  \n",
    "1）允许程序对由查询语句select返回的行集合中的每一行执行相同或不同的操作，而不是对整个行集合执行同一个操作。\n",
    "2）提供对基于游标位置的表中的行进行删除和更新的能力。\n",
    "3）游标实际上作为面向集合的数据库管理系统（RDBMS）和面向行的程序设计之间的桥梁，使这两种处理方式通过游标沟通起来。"
   ]
  },
  {
   "cell_type": "markdown",
   "metadata": {},
   "source": [
    "# 8.Python 怎么样连接 Sqlite 数据库"
   ]
  },
  {
   "cell_type": "raw",
   "metadata": {},
   "source": [
    "# 导入SQLite\n",
    "import sqlite3\n",
    "# (Python DB-api)\n",
    "# 连接到SQLite数据库\n",
    "# 这里的数据库文件是test.db\n",
    "# 如果文件不存在，会自动在当前的目录创建\n",
    "conn = sqlite3.connect('test.db')\n",
    "# 创建一个cursor 游标（用于执行SQL语句）\n",
    "cursor = conn.cursor()\n",
    "# 执行SQL语句\n",
    "# 创建user表\n",
    "cursor.execute('create table user (id varchar(20) primary key, name varchar(20))')\n",
    "# 向表中插入数据\n",
    "cursor.execute('insert into user (id, name) values (\\'1\\', \\'seven bai\\')')\n",
    "# 执行查询语句\n",
    "cursor.execute('select * from user where id=?', ('1',))\n",
    "# rowcount返回影响的行数（可以在执行update，delete，inset后执行查看）\n",
    "cursor.rowcount\n",
    "# 查询结果\n",
    "values = cursor.fetchall()\n",
    "print(values)\n",
    "# 关闭cursor\n",
    "cursor.close()\n",
    "# 提交事务\n",
    "conn.commit()\n",
    "# 关闭数据库连接\n",
    "conn.close()"
   ]
  }
 ],
 "metadata": {
  "kernelspec": {
   "display_name": "Python 3",
   "language": "python",
   "name": "python3"
  },
  "language_info": {
   "codemirror_mode": {
    "name": "ipython",
    "version": 3
   },
   "file_extension": ".py",
   "mimetype": "text/x-python",
   "name": "python",
   "nbconvert_exporter": "python",
   "pygments_lexer": "ipython3",
   "version": "3.7.1"
  }
 },
 "nbformat": 4,
 "nbformat_minor": 4
}
