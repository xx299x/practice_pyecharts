{
 "cells": [
  {
   "cell_type": "raw",
   "metadata": {},
   "source": [
    "1.输入a、b、c三个参数，求解ax2+bx+c=0的两个根，假定b2-4ac>0。"
   ]
  },
  {
   "cell_type": "code",
   "execution_count": 22,
   "metadata": {},
   "outputs": [
    {
     "data": {
      "text/plain": [
       "(-10.0, -25.0)"
      ]
     },
     "execution_count": 22,
     "metadata": {},
     "output_type": "execute_result"
    }
   ],
   "source": [
    "import math\n",
    "def get_result(a,b,c):\n",
    "    x = b*b - 4*a*c\n",
    "    if x <=0:\n",
    "        return \"error\"\n",
    "    x1 = (-b+math.sqrt(x))/2*a\n",
    "    x2 = (-b-math.sqrt(x))/2*a\n",
    "    return (x1,x2)\n",
    "\n",
    "get_result(5,7,2)"
   ]
  },
  {
   "cell_type": "raw",
   "metadata": {},
   "source": [
    "2.输入a、b、c三个参数，以它们作为三角形的三边，判断是否可以构成一个三角形，\n",
    "如能则进一步计算其面积。三角形的面积s可以用以下公式计算:\n",
    "s=sqrt(p* (p- a)(p-b)(p-c))其中p= (a+b+c)/2。"
   ]
  },
  {
   "cell_type": "code",
   "execution_count": 23,
   "metadata": {},
   "outputs": [
    {
     "data": {
      "text/plain": [
       "24.0"
      ]
     },
     "execution_count": 23,
     "metadata": {},
     "output_type": "execute_result"
    }
   ],
   "source": [
    "import math\n",
    "def get_result(a,b,c):\n",
    "    x = a + b\n",
    "    y = a + c\n",
    "    z = b + c\n",
    "    p = (a+b+c)/2\n",
    "    if x<c and y<b and z<a:\n",
    "        return \"error\"\n",
    "    else:\n",
    "        s = math.sqrt(p*(p-a)*(p-b)*(p-c))\n",
    "    return s\n",
    "get_result(6,8,10)"
   ]
  },
  {
   "cell_type": "raw",
   "metadata": {},
   "source": [
    "3.输入一个字母，判断它是否为小写英文字母。"
   ]
  },
  {
   "cell_type": "code",
   "execution_count": 35,
   "metadata": {},
   "outputs": [
    {
     "name": "stdout",
     "output_type": "stream",
     "text": [
      "W不是小写字母\n",
      "a是小写字母\n"
     ]
    }
   ],
   "source": [
    "def f(str):\n",
    "    if 97<=ord(str)<=122:\n",
    "        print(\"%s是小写字母\"%str)\n",
    "    else:\n",
    "        print(\"%s不是小写字母\"%str)\n",
    "f(\"W\")\n",
    "f(\"a\")"
   ]
  },
  {
   "cell_type": "raw",
   "metadata": {},
   "source": [
    "4.从键盘输入5个字符，统计’0’字符出现的次数。"
   ]
  },
  {
   "cell_type": "code",
   "execution_count": 34,
   "metadata": {},
   "outputs": [
    {
     "name": "stdout",
     "output_type": "stream",
     "text": [
      "0\n",
      "2\n"
     ]
    }
   ],
   "source": [
    "def f(a):\n",
    "    count=0\n",
    "    for i in str(a):\n",
    "        if i=='0':\n",
    "            count = count +1\n",
    "    return count\n",
    "print(f(29585))    \n",
    "print(f(20025)) "
   ]
  },
  {
   "cell_type": "raw",
   "metadata": {},
   "source": [
    "5.输入两个整数，判断哪个大并输出结果。"
   ]
  },
  {
   "cell_type": "code",
   "execution_count": 65,
   "metadata": {},
   "outputs": [
    {
     "name": "stdout",
     "output_type": "stream",
     "text": [
      "7 大\n",
      "97 大\n"
     ]
    }
   ],
   "source": [
    "def f(a,b):\n",
    "    max = a\n",
    "    if a<b:\n",
    "        max = str(b)+\" 大\"\n",
    "    else :\n",
    "        max = str(a)+\" 大\"\n",
    "    return max\n",
    "print(f(3,7))\n",
    "print(f(85,97))"
   ]
  },
  {
   "cell_type": "raw",
   "metadata": {},
   "source": [
    "6.输入一个字母，如它是一个小写英文字母，则把它变为对应大写字母输出。"
   ]
  },
  {
   "cell_type": "code",
   "execution_count": 40,
   "metadata": {},
   "outputs": [
    {
     "name": "stdout",
     "output_type": "stream",
     "text": [
      "W\n",
      "不是小写字母\n",
      "L\n"
     ]
    }
   ],
   "source": [
    "def f(word):\n",
    "    if 97<=ord(word)<=122:\n",
    "        x = chr(ord(word)+(ord(\"A\")-ord(\"a\")))\n",
    "    else :\n",
    "        x = \"不是小写字母\"\n",
    "    return x\n",
    "print(f(\"w\"))\n",
    "print(f(\"L\"))\n",
    "print(f(\"l\"))"
   ]
  },
  {
   "cell_type": "raw",
   "metadata": {},
   "source": [
    "7.输入一个年份，判断它是否为闰年。"
   ]
  },
  {
   "cell_type": "code",
   "execution_count": 51,
   "metadata": {},
   "outputs": [
    {
     "name": "stdout",
     "output_type": "stream",
     "text": [
      "2002不是闰年\n",
      "2008是闰年\n"
     ]
    }
   ],
   "source": [
    "def f(year):\n",
    "    if year%400==0:\n",
    "        print(str(year)+\"是闰年\")\n",
    "    elif year%4==0 and year%100!=0:\n",
    "        print(str(year)+\"是闰年\")\n",
    "    else:\n",
    "        print(str(year)+\"不是闰年\")\n",
    "f(2002)\n",
    "f(2008)"
   ]
  },
  {
   "cell_type": "raw",
   "metadata": {},
   "source": [
    "8.从键盘输入a、b两个数，按大小顺序输出他们。"
   ]
  },
  {
   "cell_type": "code",
   "execution_count": 61,
   "metadata": {},
   "outputs": [
    {
     "name": "stdout",
     "output_type": "stream",
     "text": [
      "8\n",
      "1\n",
      "95\n",
      "93\n"
     ]
    }
   ],
   "source": [
    "def f(a,b):\n",
    "    max = a\n",
    "    min = b\n",
    "    if b>a:\n",
    "        max = b\n",
    "        min = a\n",
    "    print(max)\n",
    "    print(min)\n",
    "\n",
    "f(8,1)\n",
    "f(93,95)"
   ]
  },
  {
   "cell_type": "raw",
   "metadata": {},
   "source": [
    "9.输入a、b、c三个整数，找出最小的数。"
   ]
  },
  {
   "cell_type": "code",
   "execution_count": 67,
   "metadata": {},
   "outputs": [
    {
     "name": "stdout",
     "output_type": "stream",
     "text": [
      "3是最小的数\n",
      "85是最小的数\n"
     ]
    }
   ],
   "source": [
    "def f(a,b,c):\n",
    "    min = a\n",
    "    if b<a:\n",
    "        if c<b:\n",
    "            min = c\n",
    "        else:\n",
    "            min = b\n",
    "    print(str(min) + \"是最小的数\")\n",
    "f(3,9,5)\n",
    "f(99,95,85)"
   ]
  },
  {
   "cell_type": "raw",
   "metadata": {},
   "source": [
    "10.某企业发放的奖金根据利润提成。利润低于或等于10万元时，奖金可提12%;利润高于10万元，\n",
    "低于20万元时，高于10万元的部分，可提成8.5%;20万到40万之间时，高于20万元的部分，\n",
    "可提成6%; 40 万到60万之间时高于40万元的部分，可提成4%; 60 万到100万之间时，\n",
    "高于60万元的部分，可提成2.5%，高于100万元时，超过100万元的部分按1%提成，\n",
    "从键盘输入当月利润，求应发放奖金总数?"
   ]
  },
  {
   "cell_type": "code",
   "execution_count": 87,
   "metadata": {},
   "outputs": [
    {
     "data": {
      "text/plain": [
       "608750.0"
      ]
     },
     "execution_count": 87,
     "metadata": {},
     "output_type": "execute_result"
    }
   ],
   "source": [
    "def f(m):\n",
    "    if m<=100000:\n",
    "        x = m+m*0.12\n",
    "    elif m<200000:\n",
    "        x = 100000+(m-100000)*0.085\n",
    "    elif m<400000:\n",
    "        x = 200000+(m-200000)*0.06\n",
    "    elif m<600000:\n",
    "        x = 400000+(m-400000)*0.04\n",
    "    elif m<1000000:\n",
    "        x = 600000+(m-600000)*0.025\n",
    "    else:\n",
    "        x = 1000000+(m-1000000)*0.01\n",
    "    return x\n",
    "f(950000)"
   ]
  },
  {
   "cell_type": "raw",
   "metadata": {},
   "source": [
    "11.平面上有四个圆，圆心分别为(2，2)， (-2, 2)，(-2， -2)，(2, -2)，圆半径为1。\n",
    "今输入任一点的坐标，判断该点是否在这四个圆中，如在则给出是在哪一个圆中。"
   ]
  },
  {
   "cell_type": "code",
   "execution_count": 100,
   "metadata": {},
   "outputs": [
    {
     "name": "stdout",
     "output_type": "stream",
     "text": [
      "该点不在四个圆里\n",
      "在（2，-2）的圆里\n",
      "该点不在四个圆里\n",
      "在（2，2）的圆里\n"
     ]
    }
   ],
   "source": [
    "def f(a,b):\n",
    "    z1 = (a-2)**2+(b-2)**2\n",
    "    z2 = (a-2)**2+(b+2)**2\n",
    "    z3 = (a+2)**2+(b-2)**2\n",
    "    z4 = (a+2)**2+(b+2)**2\n",
    "    if z1 <=1:\n",
    "        print(\"在（2，2）的圆里\")\n",
    "    elif z2 <=1: \n",
    "        print(\"在（2，-2）的圆里\")\n",
    "    elif z3 <=1:\n",
    "        print(\"在（-2，2）的圆里\")\n",
    "    elif z4 <=1:\n",
    "        print(\"在（-2，-2）的圆里\")\n",
    "    else:\n",
    "        print(\"该点不在四个圆里\")\n",
    "    \n",
    "f(-1,-4)  \n",
    "f(2,-1)\n",
    "f(-3,5)\n",
    "f(2,1)"
   ]
  },
  {
   "cell_type": "code",
   "execution_count": null,
   "metadata": {},
   "outputs": [],
   "source": []
  },
  {
   "cell_type": "code",
   "execution_count": null,
   "metadata": {},
   "outputs": [],
   "source": []
  }
 ],
 "metadata": {
  "kernelspec": {
   "display_name": "Python 3",
   "language": "python",
   "name": "python3"
  },
  "language_info": {
   "codemirror_mode": {
    "name": "ipython",
    "version": 3
   },
   "file_extension": ".py",
   "mimetype": "text/x-python",
   "name": "python",
   "nbconvert_exporter": "python",
   "pygments_lexer": "ipython3",
   "version": "3.7.4"
  }
 },
 "nbformat": 4,
 "nbformat_minor": 2
}
