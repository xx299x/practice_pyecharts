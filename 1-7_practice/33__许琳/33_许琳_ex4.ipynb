{
 "cells": [
  {
   "cell_type": "raw",
   "metadata": {},
   "source": [
    "1. 能直接修改字符串的某个字符吗？例如 s=\"abc\",s[0]= \"1\"可以吗？"
   ]
  },
  {
   "cell_type": "code",
   "execution_count": 8,
   "metadata": {},
   "outputs": [
    {
     "name": "stdout",
     "output_type": "stream",
     "text": [
      "abc\n"
     ]
    },
    {
     "ename": "TypeError",
     "evalue": "'str' object does not support item assignment",
     "output_type": "error",
     "traceback": [
      "\u001b[1;31m---------------------------------------------------------------------------\u001b[0m",
      "\u001b[1;31mTypeError\u001b[0m                                 Traceback (most recent call last)",
      "\u001b[1;32m<ipython-input-8-4d0af42bd662>\u001b[0m in \u001b[0;36m<module>\u001b[1;34m\u001b[0m\n\u001b[0;32m      1\u001b[0m \u001b[0ms\u001b[0m\u001b[1;33m=\u001b[0m\u001b[1;34m\"abc\"\u001b[0m\u001b[1;33m\u001b[0m\u001b[1;33m\u001b[0m\u001b[0m\n\u001b[0;32m      2\u001b[0m \u001b[0mprint\u001b[0m\u001b[1;33m(\u001b[0m\u001b[0ms\u001b[0m\u001b[1;33m)\u001b[0m\u001b[1;33m\u001b[0m\u001b[1;33m\u001b[0m\u001b[0m\n\u001b[1;32m----> 3\u001b[1;33m \u001b[0ms\u001b[0m\u001b[1;33m[\u001b[0m\u001b[1;36m0\u001b[0m\u001b[1;33m]\u001b[0m\u001b[1;33m=\u001b[0m\u001b[1;34m\"1\"\u001b[0m\u001b[1;33m\u001b[0m\u001b[1;33m\u001b[0m\u001b[0m\n\u001b[0m\u001b[0;32m      4\u001b[0m \u001b[1;33m\u001b[0m\u001b[0m\n\u001b[0;32m      5\u001b[0m \u001b[1;33m\u001b[0m\u001b[0m\n",
      "\u001b[1;31mTypeError\u001b[0m: 'str' object does not support item assignment"
     ]
    }
   ],
   "source": [
    "s=\"abc\"\n",
    "print(s)\n",
    "s[0]=\"1\"\n",
    "print(s)\n",
    "### 不能   s[0]=\"1\"不可以"
   ]
  },
  {
   "cell_type": "raw",
   "metadata": {},
   "source": [
    "2. 输入一个字符串，输出它所包含的所有数字，例如输入\"23me3e\"，输出\"233\""
   ]
  },
  {
   "cell_type": "code",
   "execution_count": 1,
   "metadata": {},
   "outputs": [
    {
     "name": "stdout",
     "output_type": "stream",
     "text": [
      "955diens34\n",
      "95534"
     ]
    }
   ],
   "source": [
    "s = input()\n",
    "for x in s:\n",
    "    if x >= \"0\" and x <= \"9\":\n",
    "        print(x, end = \"\")"
   ]
  },
  {
   "cell_type": "raw",
   "metadata": {},
   "source": [
    "3. 设计一个字符串函数 reverse(s)，它返回字符串 s 的反串，例如 reverse(\"abc\")返回\n",
    "\"cba\"。"
   ]
  },
  {
   "cell_type": "code",
   "execution_count": 2,
   "metadata": {},
   "outputs": [
    {
     "data": {
      "text/plain": [
       "'cba'"
      ]
     },
     "execution_count": 2,
     "metadata": {},
     "output_type": "execute_result"
    }
   ],
   "source": [
    "def reverse(s):\n",
    "    t = \"\"\n",
    "    for a in s:\n",
    "        t = a + t\n",
    "    return t\n",
    "reverse(\"abc\")"
   ]
  },
  {
   "cell_type": "raw",
   "metadata": {},
   "source": [
    "4. 元祖与列表有什么不同？"
   ]
  },
  {
   "cell_type": "code",
   "execution_count": null,
   "metadata": {},
   "outputs": [],
   "source": [
    "###元组不能被修改，列表可以进行删除、添加等操作。"
   ]
  },
  {
   "cell_type": "raw",
   "metadata": {},
   "source": [
    "5. 一个列表中的元素类型要求一致吗？例如 list=[1, \"a\"]是正确的吗？"
   ]
  },
  {
   "cell_type": "code",
   "execution_count": null,
   "metadata": {},
   "outputs": [],
   "source": [
    "###不需要一致     正确"
   ]
  },
  {
   "cell_type": "raw",
   "metadata": {},
   "source": [
    "6. 列表是否还可以嵌套别的列表？列举一个例子说明。"
   ]
  },
  {
   "cell_type": "code",
   "execution_count": 5,
   "metadata": {},
   "outputs": [
    {
     "name": "stdout",
     "output_type": "stream",
     "text": [
      "[['A1', 'A2', 'A3'], ['B1', 'B2', 'B3'], ['C1', 'C2', 'C3']]\n"
     ]
    }
   ],
   "source": [
    "###可以\n",
    "group = [['A1','A2','A3'],['B1','B2','B3'],['C1','C2','C3']]\n",
    "print(group)"
   ]
  },
  {
   "cell_type": "raw",
   "metadata": {},
   "source": [
    "7. 用一个字典描述一个日期，包含年 year、月 month、日 day 的键字。"
   ]
  },
  {
   "cell_type": "code",
   "execution_count": 10,
   "metadata": {},
   "outputs": [
    {
     "name": "stdout",
     "output_type": "stream",
     "text": [
      "{'年': 2020, '月': 2, '日': 25}\n"
     ]
    }
   ],
   "source": [
    "dic={}\n",
    "dic[\"年\"] = 2020\n",
    "dic[\"月\"] = 2\n",
    "dic[\"日\"] = 25\n",
    "print(dic)"
   ]
  },
  {
   "cell_type": "raw",
   "metadata": {},
   "source": [
    "8. Python 的字典数据类型与 JSON 数据类有很多相似的地方，说明有哪些共同点。"
   ]
  },
  {
   "cell_type": "code",
   "execution_count": 12,
   "metadata": {},
   "outputs": [
    {
     "name": "stdout",
     "output_type": "stream",
     "text": [
      "{'a': '2', 'b': '4'}\n"
     ]
    }
   ],
   "source": [
    "#形式上的相近也让python提供了json.loads()转换函数，方便json数据的调用。例如：\n",
    "\n",
    "import json\n",
    "a=json.loads('{\"a\":\"2\",\"b\":\"4\"}')\n",
    "print(a)"
   ]
  },
  {
   "cell_type": "raw",
   "metadata": {},
   "source": [
    "9. 写出下列程序执行的结果：\n",
    "d={\"students\":[{\"name\":\"A\",\"sex\":\"M\"},{\"name\":\"B\",\"sex\":\"C\"}]}\n",
    "for k1 in d.keys():\n",
    " for k2 in d[k1]:\n",
    " for k3 in k2.keys():\n",
    " print(k3,k2[k3])"
   ]
  },
  {
   "cell_type": "code",
   "execution_count": 13,
   "metadata": {},
   "outputs": [
    {
     "name": "stdout",
     "output_type": "stream",
     "text": [
      "name A\n",
      "sex M\n",
      "name B\n",
      "sex C\n"
     ]
    }
   ],
   "source": [
    "d={\"students\":[{\"name\":\"A\",\"sex\":\"M\"},{\"name\":\"B\",\"sex\":\"C\"}]}\n",
    "for k1 in d.keys():\n",
    "    for k2 in d[k1]:\n",
    "        for k3 in k2.keys():\n",
    "            print(k3,k2[k3])"
   ]
  },
  {
   "cell_type": "raw",
   "metadata": {},
   "source": [
    "10. 如果使用字典描述一个时间，例如 t={\" hour\":12, \"minute\":23, \"second\":34}表示\n",
    "时间\"12:23:34\",设计一个函数 interval(t1,t2)，计算时间 t1 与 t2 的时间差，返回相\n",
    "同结构的一个字典时间。"
   ]
  },
  {
   "cell_type": "code",
   "execution_count": 22,
   "metadata": {},
   "outputs": [
    {
     "name": "stdout",
     "output_type": "stream",
     "text": [
      "{'hour': -3, 'minute': 31, 'second': 20}\n"
     ]
    }
   ],
   "source": [
    "t1={\"hour\":12,\"minute\":23,\"second\":34}\n",
    "t2={\"hour\":14,\"minute\":52,\"second\":14}\n",
    "\n",
    "def interval(t1,t2):\n",
    "    second=[i for i in t1.values()]\n",
    "    second2=[i for i in t2.values()]\n",
    "\n",
    "\n",
    "    a,b,c=second\n",
    "    seconds=a*3600+b*60+c\n",
    "\n",
    "    A,B,C=second2\n",
    "    seconds2=A*3600+B*60+C\n",
    "\n",
    "    t=seconds-seconds2\n",
    "\n",
    "    h=t//3600\n",
    "    m=t%3600//60\n",
    "    s=t%60\n",
    "\n",
    "    interval_time={}\n",
    "    interval_time['hour']=h\n",
    "    interval_time['minute']=m\n",
    "    interval_time['second']=s\n",
    "\n",
    "    \n",
    "    return interval_time\n",
    "    \n",
    "\n",
    "\n",
    "print(interval(t1,t2))"
   ]
  },
  {
   "cell_type": "code",
   "execution_count": null,
   "metadata": {},
   "outputs": [],
   "source": []
  }
 ],
 "metadata": {
  "kernelspec": {
   "display_name": "Python 3",
   "language": "python",
   "name": "python3"
  },
  "language_info": {
   "codemirror_mode": {
    "name": "ipython",
    "version": 3
   },
   "file_extension": ".py",
   "mimetype": "text/x-python",
   "name": "python",
   "nbconvert_exporter": "python",
   "pygments_lexer": "ipython3",
   "version": "3.7.4"
  }
 },
 "nbformat": 4,
 "nbformat_minor": 2
}
