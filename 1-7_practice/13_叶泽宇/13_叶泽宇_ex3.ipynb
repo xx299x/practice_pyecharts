{
 "cells": [
  {
   "cell_type": "markdown",
   "metadata": {},
   "source": [
    "# 练习三"
   ]
  },
  {
   "cell_type": "markdown",
   "metadata": {},
   "source": [
    "## 1.计算1+2+4+.....+100的和。"
   ]
  },
  {
   "cell_type": "code",
   "execution_count": 1,
   "metadata": {},
   "outputs": [
    {
     "name": "stdout",
     "output_type": "stream",
     "text": [
      "和为2551\n"
     ]
    }
   ],
   "source": [
    "sum = 1\n",
    "for i in range(1,101):\n",
    "    if i % 2==0:\n",
    "        sum+=i\n",
    "print(\"和为\"+str(sum))"
   ]
  },
  {
   "cell_type": "markdown",
   "metadata": {},
   "source": [
    "## 2.计算1/3+1/5.....+1/99的和。  "
   ]
  },
  {
   "cell_type": "code",
   "execution_count": 3,
   "metadata": {},
   "outputs": [
    {
     "name": "stdout",
     "output_type": "stream",
     "text": [
      "和为2.937774848474907\n"
     ]
    }
   ],
   "source": [
    "sum = 0\n",
    "for i in range(1,100):\n",
    "    if i%2==1:\n",
    "        sum+=(1/i)\n",
    "print(\"和为\"+str(sum))"
   ]
  },
  {
   "cell_type": "markdown",
   "metadata": {},
   "source": [
    "## 3.从键盘输入-一个字符串，直到回车结束，统计字符串中的大小写英文字母各有多少个。"
   ]
  },
  {
   "cell_type": "code",
   "execution_count": 4,
   "metadata": {},
   "outputs": [
    {
     "name": "stdin",
     "output_type": "stream",
     "text": [
      "输入字符串： 1\n"
     ]
    },
    {
     "name": "stdout",
     "output_type": "stream",
     "text": [
      "大写字母有0\n",
      "小写字母有0\n"
     ]
    }
   ],
   "source": [
    "string = input(\"输入字符串：\")\n",
    "x = 0\n",
    "y = 0\n",
    "for i in string:\n",
    "    if 97<=ord(i)<=122:\n",
    "        x +=1\n",
    "    elif 65<=ord(i)<=90:\n",
    "        y +=1\n",
    "print(\"大写字母有\"+str(y))\n",
    "print(\"小写字母有\"+str(x))"
   ]
  },
  {
   "cell_type": "markdown",
   "metadata": {},
   "source": [
    "## 5.有一分数序列: 2/1， 3/2, 5/3, 8/5，13/8, 213--求出这个数列的前20项之和。"
   ]
  },
  {
   "cell_type": "code",
   "execution_count": 4,
   "metadata": {},
   "outputs": [
    {
     "name": "stdout",
     "output_type": "stream",
     "text": [
      "35.598035647116546\n"
     ]
    }
   ],
   "source": [
    "a = 2\n",
    "b = 1\n",
    "for i in range(1,21):\n",
    "    sum+=(a/b)\n",
    "    a,b = (a+b),a\n",
    "print(\"前二十项之和为\"+str(sum))"
   ]
  },
  {
   "cell_type": "markdown",
   "metadata": {},
   "source": [
    "## 6.输入若千个同学的成绩，计算平均成绩，输入的成绩为负数或大于100时表示结束输入。"
   ]
  },
  {
   "cell_type": "code",
   "execution_count": null,
   "metadata": {},
   "outputs": [],
   "source": [
    "ment = input(\"输入学生成绩：\")\n",
    "sum = 0\n",
    "count = 0\n",
    "for i in ment:\n",
    "    while 0<= int(i) <=100:\n",
    "        sum += int(i)\n",
    "        count += 1\n",
    "print(\"这些成绩的平均成绩为\"+str(sum/count))"
   ]
  },
  {
   "cell_type": "markdown",
   "metadata": {},
   "source": [
    "## 7.输入三个正整数a、b、 n,精确计算a/b的结果到小数后n位。"
   ]
  },
  {
   "cell_type": "code",
   "execution_count": 4,
   "metadata": {},
   "outputs": [
    {
     "name": "stdin",
     "output_type": "stream",
     "text": [
      "a= 5\n",
      "b= 3\n",
      "n= 6\n"
     ]
    },
    {
     "name": "stdout",
     "output_type": "stream",
     "text": [
      "1.666666\n"
     ]
    }
   ],
   "source": [
    "a = int(input(\"a=\"))\n",
    "b = int(input(\"b=\"))\n",
    "n = int(input(\"n=\"))\n",
    "x = a / b * (10**n) // 1 / (10**n)\n",
    "print(x)"
   ]
  },
  {
   "cell_type": "markdown",
   "metadata": {},
   "source": [
    "## 8.一个猴子第一天摘下若千个桃子， 当即吃了一半，还不过瘾，又多吃了一个。第二天早上又将剩下的桃子吃掉-一半,又多吃了一个。以后每天早上都吃了前一一天剩下的一半零一个。到第10天早上想再吃时，见只剩下一个桃子了。求第一天共摘了多少。"
   ]
  },
  {
   "cell_type": "code",
   "execution_count": 7,
   "metadata": {},
   "outputs": [
    {
     "name": "stdout",
     "output_type": "stream",
     "text": [
      "第一天共摘了1534个\n"
     ]
    }
   ],
   "source": [
    "x = 1\n",
    "count=9\n",
    "while count>0:\n",
    "    x = (x+1)*2\n",
    "    count -= 1\n",
    "print(\"第一天共摘了\"+str(x)+\"个\")"
   ]
  },
  {
   "cell_type": "markdown",
   "metadata": {},
   "source": [
    "## 9.有一序列: 1, 3, 5, 8, 13, 21...用while循环求出这个数列的前20项之和。"
   ]
  },
  {
   "cell_type": "code",
   "execution_count": 6,
   "metadata": {},
   "outputs": [
    {
     "name": "stdout",
     "output_type": "stream",
     "text": [
      "前二十项之和为46364\n"
     ]
    }
   ],
   "source": [
    "x = 2\n",
    "y = 3\n",
    "sum = 1\n",
    "count = 1\n",
    "while count < 20:\n",
    "    x,y = y,(x+y)\n",
    "    sum += x\n",
    "    count += 1\n",
    "print(\"前二十项之和为\"+str(sum))"
   ]
  },
  {
   "cell_type": "markdown",
   "metadata": {},
   "source": [
    "## 10.一个数如正好等于它的所有因子之和,则称为完数，例如6的因子有1.2.3, 而6=1+2+3,因此6是一个完数。编程序找出1000之内的所有完数。"
   ]
  },
  {
   "cell_type": "code",
   "execution_count": 7,
   "metadata": {},
   "outputs": [
    {
     "name": "stdout",
     "output_type": "stream",
     "text": [
      "[6, 28, 496]\n"
     ]
    }
   ],
   "source": [
    "x = []\n",
    "for number in range(1,1001):\n",
    "    count = 0 \n",
    "    for j in range(1,number):\n",
    "        if number%j==0:\n",
    "            count += j\n",
    "    if count == number:\n",
    "        x.append(count)\n",
    "print(x)         "
   ]
  },
  {
   "cell_type": "markdown",
   "metadata": {},
   "source": [
    "## 11.有近千名学生排队，7人一-行余3人，5人- -行余2人，3人-行余1人，编写程序求学生人数。"
   ]
  },
  {
   "cell_type": "code",
   "execution_count": 19,
   "metadata": {},
   "outputs": [
    {
     "name": "stdout",
     "output_type": "stream",
     "text": [
      "学生人数是997人\n"
     ]
    }
   ],
   "source": [
    "for number in range(900,1100):\n",
    "    if number%7==3 and number%5==2 and number%3==1:\n",
    "        x = number\n",
    "        break\n",
    "print(\"学生人数是\"+str(x)+\"人\")"
   ]
  },
  {
   "cell_type": "markdown",
   "metadata": {},
   "source": [
    "## 12.小华今年12岁，他妈妈比他大20岁,编写程序计算多少年后他妈妈年龄比他大一-倍。"
   ]
  },
  {
   "cell_type": "code",
   "execution_count": null,
   "metadata": {},
   "outputs": [],
   "source": [
    "hua = 12\n",
    "mama = 32\n",
    "year = 0\n",
    "while hua*2!=mama:\n",
    "    hua += 1\n",
    "    mama += 1\n",
    "    year += 1\n",
    "print(str(year)+\"年后他妈妈年龄比他大一倍\")\n",
    "    \n"
   ]
  },
  {
   "cell_type": "markdown",
   "metadata": {},
   "source": [
    "## 13.两个乒乓球队进行比赛，各出三人。甲队为a,b,c三人，乙队为x,y,z三人。已抽签决定比赛名单。有人向队员打听比赛的名单。a说他不和x比，c说他不和x,Z比,请编程序找出三队赛手的名单。"
   ]
  },
  {
   "cell_type": "code",
   "execution_count": 2,
   "metadata": {},
   "outputs": [
    {
     "name": "stdout",
     "output_type": "stream",
     "text": [
      "False\n"
     ]
    }
   ],
   "source": []
  },
  {
   "cell_type": "markdown",
   "metadata": {},
   "source": [
    "## 14.目前世界人口是60亿，如每年按1.5%的比例增长，则多少年后是80亿?"
   ]
  },
  {
   "cell_type": "code",
   "execution_count": null,
   "metadata": {},
   "outputs": [],
   "source": [
    "people = 60\n",
    "year = 0 \n",
    "while people<80:\n",
    "    people *= 1.015\n",
    "    year += 1\n",
    "print(str(year)+\"年后是80亿\")"
   ]
  },
  {
   "cell_type": "markdown",
   "metadata": {},
   "source": [
    "## 15.一球从80米高度自由下落，每次落地后返回原高度的一半,再落下。求它在第10次落地时共经过多少米?第10次反弹多高? ."
   ]
  },
  {
   "cell_type": "code",
   "execution_count": 13,
   "metadata": {},
   "outputs": [
    {
     "name": "stdout",
     "output_type": "stream",
     "text": [
      "第10次落地时共经过239.6875米第10次反弹0.078125米\n"
     ]
    }
   ],
   "source": [
    "high = 80 \n",
    "x = []\n",
    "for i in range(0,10):\n",
    "    if i == 0 :\n",
    "        sum = 80\n",
    "    else:\n",
    "        sum = sum + high/2*2\n",
    "        high /= 2\n",
    "    x.append(high)\n",
    "print(\"第10次落地时共经过\"+str(sum)+\"米第10次反弹\"+str(x[9]/2)+\"米\")"
   ]
  },
  {
   "cell_type": "code",
   "execution_count": null,
   "metadata": {},
   "outputs": [],
   "source": []
  },
  {
   "cell_type": "code",
   "execution_count": null,
   "metadata": {},
   "outputs": [],
   "source": []
  },
  {
   "cell_type": "code",
   "execution_count": null,
   "metadata": {},
   "outputs": [],
   "source": []
  },
  {
   "cell_type": "code",
   "execution_count": null,
   "metadata": {},
   "outputs": [],
   "source": []
  }
 ],
 "metadata": {
  "kernelspec": {
   "display_name": "Python 3",
   "language": "python",
   "name": "python3"
  },
  "language_info": {
   "codemirror_mode": {
    "name": "ipython",
    "version": 3
   },
   "file_extension": ".py",
   "mimetype": "text/x-python",
   "name": "python",
   "nbconvert_exporter": "python",
   "pygments_lexer": "ipython3",
   "version": "3.7.4"
  }
 },
 "nbformat": 4,
 "nbformat_minor": 4
}
