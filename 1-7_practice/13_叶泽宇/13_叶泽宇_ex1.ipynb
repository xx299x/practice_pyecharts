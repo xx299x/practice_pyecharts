{
 "cells": [
  {
   "cell_type": "markdown",
   "metadata": {},
   "source": [
    "# 1.输入矩形的长和宽，计算矩形面积。"
   ]
  },
  {
   "cell_type": "code",
   "execution_count": 1,
   "metadata": {},
   "outputs": [
    {
     "name": "stdout",
     "output_type": "stream",
     "text": [
      "20\n"
     ]
    }
   ],
   "source": [
    "def f(x,y):\n",
    "    S = x*y\n",
    "    return S\n",
    "print(f(4,5))   "
   ]
  },
  {
   "cell_type": "markdown",
   "metadata": {},
   "source": [
    "# 2.输入一个时间值s,它是距当日午夜的秒值，计算目前的时间，时间按HH:MM:SS格式输出。\n"
   ]
  },
  {
   "cell_type": "code",
   "execution_count": 12,
   "metadata": {},
   "outputs": [
    {
     "name": "stdout",
     "output_type": "stream",
     "text": [
      "22:59:59\n"
     ]
    }
   ],
   "source": [
    "def f(s):\n",
    "    left = 3600*24 - s\n",
    "    m = left/60\n",
    "    s = left%60\n",
    "    h = 0\n",
    "    if m > 59 :\n",
    "        h = m/60\n",
    "        m = m%60\n",
    "    print(\"%02d\"%h+\":\"+\"%02d\"%m+\":\"+\"%02d\"%s)\n",
    "f(3601)"
   ]
  },
  {
   "cell_type": "markdown",
   "metadata": {},
   "source": [
    "# 3.(1) flase(2) flase(3) true(4) flase(5) true(6) true(7) true(8) true"
   ]
  },
  {
   "cell_type": "markdown",
   "metadata": {},
   "source": [
    "# 4.(-5<=x>=0)"
   ]
  },
  {
   "cell_type": "markdown",
   "metadata": {},
   "source": [
    "# 5. (1)0 (2)0 (3)-3 (4)0 (5)3.5 (6)2"
   ]
  },
  {
   "cell_type": "code",
   "execution_count": null,
   "metadata": {},
   "outputs": [],
   "source": []
  }
 ],
 "metadata": {
  "kernelspec": {
   "display_name": "Python 3",
   "language": "python",
   "name": "python3"
  },
  "language_info": {
   "codemirror_mode": {
    "name": "ipython",
    "version": 3
   },
   "file_extension": ".py",
   "mimetype": "text/x-python",
   "name": "python",
   "nbconvert_exporter": "python",
   "pygments_lexer": "ipython3",
   "version": "3.7.4"
  }
 },
 "nbformat": 4,
 "nbformat_minor": 4
}
