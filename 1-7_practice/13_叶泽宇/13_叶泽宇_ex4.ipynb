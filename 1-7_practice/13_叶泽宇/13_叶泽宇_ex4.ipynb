{
 "cells": [
  {
   "cell_type": "markdown",
   "metadata": {},
   "source": [
    "# 练习四"
   ]
  },
  {
   "cell_type": "markdown",
   "metadata": {},
   "source": [
    "##    1.能直接修改字 符串的某个字符吗?例如s=''abc\",s[0]= \"1\"可以吗?"
   ]
  },
  {
   "cell_type": "markdown",
   "metadata": {},
   "source": [
    "### 不可以"
   ]
  },
  {
   "cell_type": "markdown",
   "metadata": {},
   "source": [
    "##    2. 输入一个字符串，输出它所包含的所有数字，例如输入*23me3e\", 输出”233\""
   ]
  },
  {
   "cell_type": "code",
   "execution_count": 12,
   "metadata": {},
   "outputs": [
    {
     "name": "stdin",
     "output_type": "stream",
     "text": [
      " 23me3e\n"
     ]
    },
    {
     "name": "stdout",
     "output_type": "stream",
     "text": [
      "233\n"
     ]
    }
   ],
   "source": [
    "x = input()\n",
    "a = list(x)\n",
    "b = []\n",
    "for i in a:\n",
    "    if 48<=ord(i)<=57:\n",
    "        b.append(i)\n",
    "new =''.join(b)\n",
    "print(new)\n"
   ]
  },
  {
   "cell_type": "markdown",
   "metadata": {},
   "source": [
    "##    3.设计一个字 符串函数reverse(s),它返回字符串s的反申，例如reverse(\"abc\")返回\"cba”."
   ]
  },
  {
   "cell_type": "code",
   "execution_count": 24,
   "metadata": {},
   "outputs": [
    {
     "name": "stdout",
     "output_type": "stream",
     "text": [
      "cba\n"
     ]
    }
   ],
   "source": [
    "def reverse(s):\n",
    "    x = list(s)\n",
    "    y = len(x)\n",
    "    for i in range(0,(y//2)):\n",
    "        x[i],x[y-i-1] = x[y-i-1],x[i]\n",
    "    newx = ''.join(x)\n",
    "    return newx\n",
    "print(reverse('abc'))"
   ]
  },
  {
   "cell_type": "markdown",
   "metadata": {},
   "source": [
    "##   4. 元祖与列表有什么不同?"
   ]
  },
  {
   "cell_type": "markdown",
   "metadata": {},
   "source": [
    "### 元组是使用（），列表是使用[]\n",
    "### 元组的数据是无法改变的，只能读取；列表是可以改变里面的数据的。"
   ]
  },
  {
   "cell_type": "markdown",
   "metadata": {},
   "source": [
    "##   5.一个列表中的元素类型要求- -致吗? 例如list=[1, \"a\"]是 正确的吗?"
   ]
  },
  {
   "cell_type": "markdown",
   "metadata": {},
   "source": [
    "### 不要求一致。 正确的"
   ]
  },
  {
   "cell_type": "markdown",
   "metadata": {},
   "source": [
    "##    6.列表是否还可 以嵌套别的列表?列举一个例子说明。"
   ]
  },
  {
   "cell_type": "code",
   "execution_count": 25,
   "metadata": {},
   "outputs": [
    {
     "name": "stdout",
     "output_type": "stream",
     "text": [
      "[1, 2, 3, ['a', 'b', 'c']]\n"
     ]
    }
   ],
   "source": [
    "x = [1,2,3]\n",
    "y = [\"a\",\"b\",\"c\"]\n",
    "x.append(y)\n",
    "print(x)"
   ]
  },
  {
   "cell_type": "markdown",
   "metadata": {},
   "source": [
    "##    7. 用一个字典描述一一个日期，包含年year.月month. 日day的键字。"
   ]
  },
  {
   "cell_type": "code",
   "execution_count": 28,
   "metadata": {},
   "outputs": [
    {
     "name": "stdout",
     "output_type": "stream",
     "text": [
      "{'year': 2020, 'month': 2, 'day': 26}\n"
     ]
    }
   ],
   "source": [
    "x = {'year':2020,'month':2,'day':26}\n",
    "print(x)"
   ]
  },
  {
   "cell_type": "markdown",
   "metadata": {},
   "source": [
    "##    8. Python 的字典数据类型与JSON数据类有很多相似的地方，说明有哪些共同点。"
   ]
  },
  {
   "cell_type": "markdown",
   "metadata": {},
   "source": [
    "### python 字典的数据格式就json的数据格式。 "
   ]
  },
  {
   "cell_type": "markdown",
   "metadata": {},
   "source": [
    "##    9. 写出下列程序执行的结果:\n",
    "##          d={\"students\" ;[l\"name\":\"A\", \"sex\":\"M\"), {\"name\":\"B\", \"sex\":\"C*}]}for k1 in d. keys():\n",
    "##          for k2 in d[k1]:\n",
    "##          for k3 in k2. keys0:\n",
    "##          print (k3, k2[k3])"
   ]
  },
  {
   "cell_type": "code",
   "execution_count": 32,
   "metadata": {},
   "outputs": [
    {
     "name": "stdout",
     "output_type": "stream",
     "text": [
      "name A\n",
      "sex M\n",
      "name B\n",
      "sex C\n"
     ]
    }
   ],
   "source": [
    "d={\"students\" :[{\"name\":\"A\", \"sex\":\"M\"}, {\"name\":\"B\", \"sex\":\"C\"}]}\n",
    "for k1 in d. keys():\n",
    "    for k2 in d[k1]:\n",
    "        for k3 in k2. keys():\n",
    "            print (k3, k2[k3])"
   ]
  },
  {
   "cell_type": "markdown",
   "metadata": {},
   "source": [
    "##  10.如果使用字典描述一 一个时间， 例如t={\" hour\" :12, \"minute\" :23，” second\":34}表示:\n",
    "##          时间\"12:23:34\",设计-一个函数interval (t1, t2),计算时间t1与t2的时间差，返回相同结构的一个字典时间。"
   ]
  },
  {
   "cell_type": "code",
   "execution_count": 10,
   "metadata": {},
   "outputs": [
    {
     "name": "stdout",
     "output_type": "stream",
     "text": [
      "29348 08 09 08 44614 73962\n",
      "{'hour': '08', 'minute': '09', 'second': '08'}\n"
     ]
    }
   ],
   "source": [
    "def internal(t1,t2):\n",
    "    time3 = {}\n",
    "    x = t1.split(\":\")\n",
    "    y = t2.split(\":\")\n",
    "    time1 = int(x[0])*60*60 + int(x[1])*60+int(x[2])\n",
    "    time2 = int(y[0])*60*60 + int(y[1])*60+int(y[2])\n",
    "    if time1 < time2:\n",
    "        left = time2 - time1\n",
    "    else:\n",
    "        left = time1 - time2\n",
    "    m = left//60\n",
    "    s = left%60\n",
    "    h = 0\n",
    "    if m > 59 :\n",
    "        h = m//60\n",
    "        m = m%60\n",
    "    if h < 10:\n",
    "        h = '0'+ str(h)\n",
    "    if m < 10:\n",
    "        m = '0' + str(m)\n",
    "    if s < 10:\n",
    "        s = '0' + str(s)\n",
    "    print(left,h,m,s,time1,time2)\n",
    "    time3['hour'] = h\n",
    "    time3['minute'] = m\n",
    "    time3['second'] = s\n",
    "    return time3\n",
    "print(internal(\"12:23:34\",\"20:32:42\"))"
   ]
  }
 ],
 "metadata": {
  "kernelspec": {
   "display_name": "Python 3",
   "language": "python",
   "name": "python3"
  },
  "language_info": {
   "codemirror_mode": {
    "name": "ipython",
    "version": 3
   },
   "file_extension": ".py",
   "mimetype": "text/x-python",
   "name": "python",
   "nbconvert_exporter": "python",
   "pygments_lexer": "ipython3",
   "version": "3.7.4"
  }
 },
 "nbformat": 4,
 "nbformat_minor": 4
}
