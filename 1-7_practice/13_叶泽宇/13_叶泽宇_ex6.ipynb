{
 "cells": [
  {
   "cell_type": "markdown",
   "metadata": {},
   "source": [
    "# 练习六"
   ]
  },
  {
   "cell_type": "markdown",
   "metadata": {},
   "source": [
    "## 1.编写一个程序建立一个文本文件abc.txt, 向其中入”abc\\n”并存盘，查看abc.txt是几个字节的文件，说明为什么。"
   ]
  },
  {
   "cell_type": "code",
   "execution_count": 2,
   "metadata": {},
   "outputs": [
    {
     "name": "stdout",
     "output_type": "stream",
     "text": [
      "4\n"
     ]
    }
   ],
   "source": [
    "f = open(\"abc.txt\",\"wt\")\n",
    "f.write(\"abc\\n\")\n",
    "f.close()\n",
    "\n",
    "print(len(\"abc\\n\"))"
   ]
  },
  {
   "cell_type": "markdown",
   "metadata": {},
   "source": [
    "## 2.用Windows记事本编写一个文本文件xyz.txt,在其中入”123”后打”Enter”键换行,存盘后查看文件应是5个字节长，用read(1)读该文件，看看要读5次还是4次就把文件读完，为什么?编写程序验证。"
   ]
  },
  {
   "cell_type": "code",
   "execution_count": 25,
   "metadata": {},
   "outputs": [
    {
     "name": "stdout",
     "output_type": "stream",
     "text": [
      "4次\n"
     ]
    }
   ],
   "source": [
    "f = open(\"xyz.txt\",\"rt\")\n",
    "x = True\n",
    "num = 0\n",
    "while x:\n",
    "    s = f.read(1)\n",
    "    if s != \"\":\n",
    "        num += 1\n",
    "    else:\n",
    "        x = False\n",
    "f.close()\n",
    "print(str(num)+\"次\")\n"
   ]
  },
  {
   "cell_type": "markdown",
   "metadata": {},
   "source": [
    "## 3.编写程序查找某个单词(键盘输入)所出现的行号及该行的内容，并统计该单词在文件共出现多少次。"
   ]
  },
  {
   "cell_type": "code",
   "execution_count": 10,
   "metadata": {},
   "outputs": [
    {
     "name": "stdin",
     "output_type": "stream",
     "text": [
      " is\n"
     ]
    },
    {
     "name": "stdout",
     "output_type": "stream",
     "text": [
      "4\n"
     ]
    }
   ],
   "source": [
    "f = open(\"3.txt\",\"rt\")    #打开关闭文件\n",
    "txt = f.read()\n",
    "f.close()\n",
    "\n",
    "import re                 \n",
    "x = str(input())          \n",
    "words = {}                 #建立字典\n",
    "txt = txt.lower()\n",
    "txt = re.sub('[.]','',txt)  #分割单词\n",
    "y = txt.split()\n",
    "for word in y:\n",
    "    if word not in words:\n",
    "        words[word] = 0\n",
    "    words[word] += 1\n",
    "print(words[x])"
   ]
  },
  {
   "cell_type": "markdown",
   "metadata": {},
   "source": [
    "## 4.设一个文本文件marks.txt中存储了学生的姓名及成绩如下:\n",
    "### 张三96\n",
    "### 李四\n",
    "### .....\n",
    "### 每行为学生姓名与成绩,编写一个程序读取这些学生的姓名与成绩并按成绩的从高到低的顺序输出到另外一个文件sorted.txt 中。"
   ]
  },
  {
   "cell_type": "code",
   "execution_count": 15,
   "metadata": {},
   "outputs": [],
   "source": [
    "f = open(\"marks.txt\",\"rt\")\n",
    "x = f.read()\n",
    "f.close()\n",
    "\n",
    "stus = {}\n",
    "y = x.split()\n",
    "for i in range(0,len(y),2):\n",
    "    stus[y[i]] = y[i+1]\n",
    "_stus=sorted(stus.items(),key=lambda x:x[1],reverse=True)\n",
    "\n",
    "f = open(\"sorted.txt\",\"wt\")\n",
    "f.write(str(_stus))\n",
    "f.close()\n",
    "    \n",
    "    "
   ]
  },
  {
   "cell_type": "markdown",
   "metadata": {},
   "source": [
    "## 5.用二进制方式创建文件abc并入”abc\\r\\nxyz\\n\\r123\\r456\\n\" 的字符串，查看该文件有多少个字节，再用文本文件的方式打开此文件并用fgetc来读，看看每次读出的是什么字符。"
   ]
  },
  {
   "cell_type": "code",
   "execution_count": 17,
   "metadata": {},
   "outputs": [
    {
     "name": "stdout",
     "output_type": "stream",
     "text": [
      "18\n"
     ]
    }
   ],
   "source": [
    "f = open(\"abc2.txt\",\"wt+\")       #由于上面有个abc.txt文件了，加个2\n",
    "f.write(\"abc\\r\\nxyz\\n\\r123\\r456\\n\")\n",
    "f.close()\n",
    "\n",
    "f = open(\"abc2.txt\",\"rt\")\n",
    "txt = f.read()\n",
    "print(len(txt))\n",
    "f.close()"
   ]
  },
  {
   "cell_type": "markdown",
   "metadata": {},
   "source": [
    "## 6.用文本文件方式创建文件并写入”abc\\nxyz\\r\\n123\\r”字符串，再用二进制方式打开读取每个字节，看看每个字节是什么。"
   ]
  },
  {
   "cell_type": "code",
   "execution_count": 21,
   "metadata": {},
   "outputs": [
    {
     "name": "stdout",
     "output_type": "stream",
     "text": [
      "a\n",
      "b\n",
      "c\n",
      "\n",
      "\n",
      "x\n",
      "y\n",
      "z\n",
      "\n",
      "\n",
      "\n",
      "\n",
      "1\n",
      "2\n",
      "3\n",
      "\n",
      "\n"
     ]
    }
   ],
   "source": [
    "f = open(\"abc2.txt\",\"wt\")       #由于上面有个abc.txt文件了，加个2\n",
    "f.write(\"abc\\nxyz\\r\\n123\\r\")\n",
    "f.close()\n",
    "\n",
    "f = open(\"abc2.txt\",\"rt+\")\n",
    "x = True\n",
    "while x:\n",
    "    s = f.read(1)\n",
    "    if s != \"\":\n",
    "        print(s)\n",
    "    else:\n",
    "        x = False\n",
    "f.close()"
   ]
  },
  {
   "cell_type": "markdown",
   "metadata": {},
   "source": [
    "## 7.编写一个程序，它能统计一篇英文文章中的a^ z各个字母出现的次数(不分大小写)，并按出现次数的多少按顺序输出。"
   ]
  },
  {
   "cell_type": "code",
   "execution_count": 24,
   "metadata": {},
   "outputs": [
    {
     "name": "stdout",
     "output_type": "stream",
     "text": [
      "('k', 2)\n",
      "('v', 2)\n",
      "('b', 4)\n",
      "('y', 5)\n",
      "('p', 6)\n",
      "('f', 7)\n",
      "('w', 8)\n",
      "('m', 9)\n",
      "('g', 11)\n",
      "('u', 12)\n",
      "('c', 13)\n",
      "('n', 15)\n",
      "('d', 15)\n",
      "('s', 18)\n",
      "('h', 19)\n",
      "('i', 23)\n",
      "('o', 25)\n",
      "('r', 25)\n",
      "('l', 28)\n",
      "('a', 33)\n",
      "('t', 34)\n",
      "('e', 48)\n"
     ]
    }
   ],
   "source": [
    "f = open(\"3.txt\",\"rt\")    #打开关闭文件\n",
    "txt = f.read().strip(\"\\n\")\n",
    "f.close()\n",
    "\n",
    "word = {}\n",
    "\n",
    "for i in txt:\n",
    "    if ord('a') <= ord(i) <=ord('z'):\n",
    "        if i not in word:\n",
    "            word[i] = 1\n",
    "        else:\n",
    "            word[i] += 1\n",
    "    else:\n",
    "        pass\n",
    "\n",
    "words=sorted(word.items(),key=lambda x:x[1],reverse=False)\n",
    "\n",
    "for i in range(0,len(words)):\n",
    "    print(words[i])"
   ]
  },
  {
   "cell_type": "code",
   "execution_count": null,
   "metadata": {},
   "outputs": [],
   "source": []
  },
  {
   "cell_type": "code",
   "execution_count": null,
   "metadata": {},
   "outputs": [],
   "source": []
  }
 ],
 "metadata": {
  "kernelspec": {
   "display_name": "Python 3",
   "language": "python",
   "name": "python3"
  },
  "language_info": {
   "codemirror_mode": {
    "name": "ipython",
    "version": 3
   },
   "file_extension": ".py",
   "mimetype": "text/x-python",
   "name": "python",
   "nbconvert_exporter": "python",
   "pygments_lexer": "ipython3",
   "version": "3.7.4"
  }
 },
 "nbformat": 4,
 "nbformat_minor": 4
}
