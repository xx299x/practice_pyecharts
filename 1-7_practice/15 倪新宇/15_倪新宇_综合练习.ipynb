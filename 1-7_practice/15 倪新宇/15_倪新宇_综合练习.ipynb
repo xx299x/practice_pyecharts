{
 "cells": [
  {
   "cell_type": "raw",
   "metadata": {},
   "source": [
    "1. 打印出所有的\"水仙花数\"，所谓\"水仙花数\"是指一个三位数，其各位数字立方和等于该数本身。例如：153是一个\"水仙花数\"，因为153=1的三次方＋5的三次方＋3的三次方。"
   ]
  },
  {
   "cell_type": "code",
   "execution_count": 16,
   "metadata": {},
   "outputs": [
    {
     "name": "stdout",
     "output_type": "stream",
     "text": [
      "153\n",
      "370\n",
      "371\n",
      "407\n"
     ]
    }
   ],
   "source": [
    "for i in range(100,1000):\n",
    "    a=i%10\n",
    "    b=int(i%100/10)\n",
    "    c=int(i/100)\n",
    "    if a*a*a+b*b*b+c*c*c==i:\n",
    "        print (i)"
   ]
  },
  {
   "cell_type": "raw",
   "metadata": {},
   "source": [
    "2. “回文”是指正读反读都能读通的句子，它是古今中外都有的一种修辞方式和文字游戏，如“我为人人，人人为我”等。在数学中也有这样一类数字有这样的特征，称为回文数（palindrome number），例如10001,9889等，设计一个函数f用于检查输入的数字是否为回文数，返回布尔类型"
   ]
  },
  {
   "cell_type": "code",
   "execution_count": 11,
   "metadata": {},
   "outputs": [
    {
     "name": "stdout",
     "output_type": "stream",
     "text": [
      "输入数字：111\n"
     ]
    },
    {
     "data": {
      "text/plain": [
       "True"
      ]
     },
     "execution_count": 11,
     "metadata": {},
     "output_type": "execute_result"
    }
   ],
   "source": [
    "def isPalindrome(f):\n",
    "    if len(f) < 2:\n",
    "        return True\n",
    "    if f[0]!=f[-1]:\n",
    "        return False\n",
    "    return isPalindrome(f[1:-1])\n",
    "\n",
    "str=input(\"输入数字：\")\n",
    "if isPalindrome(str):\n",
    "    return True\n",
    "else:\n",
    "    return False"
   ]
  },
  {
   "cell_type": "raw",
   "metadata": {},
   "source": [
    "3. \n",
    "有三个学生stu1,stu2,stu3如下所示：\n",
    "stu1 = {\"大学英语\":98,\"色彩学基础\":99,\"普通话\":70}\n",
    "stu2 = {\"大学英语\":97,\"音乐鉴赏\":90,\"会计基础\":89}\n",
    "stu3 = {\"大学英语\":44,\"普通话\":63,\"网店运营\":90}\n",
    "请编程完成下列要求：\n",
    "（1）全校（假设仅3个学生）总共开了多少门课程\n",
    "（2）找出三个学生都选的课程\n",
    "（3）stu3的大学英文课程进行了补考，更新stu3的大学英语的成绩为60，之后计算该学生的平均分（15分）"
   ]
  },
  {
   "cell_type": "code",
   "execution_count": 1,
   "metadata": {},
   "outputs": [
    {
     "name": "stdout",
     "output_type": "stream",
     "text": [
      "{'大学英语'}\n"
     ]
    }
   ],
   "source": [
    "#（2）\n",
    "lst1 =[\"大学英语\",\"色彩学基础\",\"普通话\"]\n",
    "lst2 =[\"大学英语\",\"音乐鉴赏\",\"会计基础\"]\n",
    "lst3 =[\"大学英语\",\"普通话\",\"网店运营\"]\n",
    "set1=set(lst1)\n",
    "set2=set(lst2)\n",
    "set3=set(lst3)\n",
    "print(set1&set2&set3)"
   ]
  },
  {
   "cell_type": "code",
   "execution_count": 28,
   "metadata": {},
   "outputs": [
    {
     "name": "stdout",
     "output_type": "stream",
     "text": [
      "71.0\n"
     ]
    }
   ],
   "source": [
    "#（3）\n",
    "stu1={\"大学英语\":98,\"色彩学基础\":99,\"普通话\":70}\n",
    "stu2={\"大学英语\":97,\"音乐鉴赏\":90,\"会计基础\":89}\n",
    "stu3={\"大学英语\":44,\"普通话\":63,\"网店运营\":90}\n",
    "stu3[\"大学英语\"]=60\n",
    "v=stu3.values()\n",
    "avg=sum(v)/3\n",
    "print(avg)"
   ]
  },
  {
   "cell_type": "raw",
   "metadata": {},
   "source": [
    "4.\n",
    "已知列表stus=[\n",
    "{\"NO\":\"2019201\",\"数学\":98,\"语文\":99},\n",
    "      {\"NO\":\"2019202\",\"数学\":97,\"语文\":90},\n",
    "      {\"NO\":\"2019203\",\"数学\":44,\"语文\":33},\n",
    "      {\"NO\":\"2019204\",\"数学\":44,\"语文\":60},...]\n",
    "存放着某班所有学生的学号、数学课成绩和语文课成绩。请编程完成下列要求：\n",
    "（1）分别求这个班数学和语文的平均分并输出。\n",
    "（2）找出两门课都不及格（<60）的学生，输出他们的学号和各科成绩。\n",
    "（3）找出两门课的平均分在90分以上的学生，输出他们的学号和各科成绩。\n",
    "建议用三个函数分别实现以上要求。"
   ]
  },
  {
   "cell_type": "code",
   "execution_count": 37,
   "metadata": {},
   "outputs": [
    {
     "name": "stdout",
     "output_type": "stream",
     "text": [
      "70.75\n",
      "70.5\n"
     ]
    }
   ],
   "source": [
    "#(1)\n",
    "stu1={\"NO\":\"2019201\",\"数学\":98,\"语文\":99}\n",
    "stu2={\"NO\":\"2019202\",\"数学\":97,\"语文\":90}\n",
    "stu3={\"NO\":\"2019203\",\"数学\":44,\"语文\":33}\n",
    "stu4={\"NO\":\"2019204\",\"数学\":44,\"语文\":60}\n",
    "a=stu1[\"数学\"]+stu2[\"数学\"]+stu3[\"数学\"]+stu4[\"数学\"]\n",
    "b=a/4          #数学平均分\n",
    "print(b)\n",
    "c=stu1[\"语文\"]+stu2[\"语文\"]+stu3[\"语文\"]+stu4[\"语文\"]\n",
    "d=c/4\n",
    "print(d)"
   ]
  },
  {
   "cell_type": "code",
   "execution_count": 38,
   "metadata": {},
   "outputs": [],
   "source": [
    "#(2)\n",
    "\n"
   ]
  },
  {
   "cell_type": "code",
   "execution_count": null,
   "metadata": {},
   "outputs": [],
   "source": []
  }
 ],
 "metadata": {
  "kernelspec": {
   "display_name": "Python 3",
   "language": "python",
   "name": "python3"
  },
  "language_info": {
   "codemirror_mode": {
    "name": "ipython",
    "version": 3
   },
   "file_extension": ".py",
   "mimetype": "text/x-python",
   "name": "python",
   "nbconvert_exporter": "python",
   "pygments_lexer": "ipython3",
   "version": "3.7.1"
  }
 },
 "nbformat": 4,
 "nbformat_minor": 2
}
