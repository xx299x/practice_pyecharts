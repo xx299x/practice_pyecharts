{
 "cells": [
  {
   "cell_type": "markdown",
   "metadata": {},
   "source": [
    "# 1.简述Python连接MySQL数据库的方法？"
   ]
  },
  {
   "cell_type": "code",
   "execution_count": 2,
   "metadata": {},
   "outputs": [
    {
     "name": "stdout",
     "output_type": "stream",
     "text": [
      "连接成功\n"
     ]
    }
   ],
   "source": [
    "import pymysql     #导入第三方库\n",
    "\n",
    "try:\n",
    "    con= pymysql.connect(host=\"127.0.0.1\", port=3306, user=\"root\", passwd=\"123456\" ,db=\"mydb\" , charset=\"utf8\") #配置参数\n",
    "    print(\"连接成功\")\n",
    "    con.close()\n",
    "except Exception as err:\n",
    "    print(err)  "
   ]
  },
  {
   "cell_type": "markdown",
   "metadata": {},
   "source": [
    "# 2.fetchone()怎么样判断读到数据库末尾？"
   ]
  },
  {
   "cell_type": "markdown",
   "metadata": {},
   "source": [
    "<font size=4> fetchone() 获取一行数据，第一次执行时得到第一行数据，再次执行时得到第二行数据，以此类推，<br>\n",
    "如果到了记录集的最后再次执行fetchone()返回 None。<br>\n",
    "\n",
    "示例：</font>"
   ]
  },
  {
   "cell_type": "code",
   "execution_count": 2,
   "metadata": {},
   "outputs": [
    {
     "name": "stdout",
     "output_type": "stream",
     "text": [
      "{'product_id': '0001', 'product_name': 'T恤衫', 'product_type': '衣服', 'sale_price': 1000, 'purchase_price': 500, 'regist_data': datetime.date(2020, 1, 21)}\n",
      "{'product_id': '0002', 'product_name': '打孔器', 'product_type': '办公用品', 'sale_price': 500, 'purchase_price': 320, 'regist_data': datetime.date(2020, 1, 22)}\n",
      "{'product_id': '0003', 'product_name': '运动T恤', 'product_type': '衣服', 'sale_price': 4000, 'purchase_price': 2800, 'regist_data': datetime.date(2020, 1, 23)}\n",
      "{'product_id': '0004', 'product_name': '菜刀', 'product_type': '厨房用具', 'sale_price': 40, 'purchase_price': 28, 'regist_data': datetime.date(2020, 1, 24)}\n",
      "None\n"
     ]
    }
   ],
   "source": [
    "import pymysql\n",
    "try:\n",
    "    con= pymysql.connect(host=\"127.0.0.1\", port=3306, user=\"root\", passwd=\"123456\" ,db=\"mydb\" , charset=\"utf8\") \n",
    "    cursor = con.cursor(pymysql.cursors.DictCursor)\n",
    "    cursor.execute(\"select * from product\")\n",
    "    while True:\n",
    "        row = cursor.fetchone()\n",
    "        print(row)\n",
    "        if not row:\n",
    "            break\n",
    "        con.close\n",
    "except Exception as err:\n",
    "    print(err)"
   ]
  },
  {
   "cell_type": "markdown",
   "metadata": {},
   "source": [
    "# 3.fetchall()与fetchone()有什么区别？"
   ]
  },
  {
   "cell_type": "markdown",
   "metadata": {},
   "source": [
    "<font face='微软雅黑' size='4'>fetchall一次读取所有行，fetchone()执行一次读取一行</font>"
   ]
  },
  {
   "cell_type": "code",
   "execution_count": 1,
   "metadata": {},
   "outputs": [
    {
     "name": "stdout",
     "output_type": "stream",
     "text": [
      "[{'product_id': '0001', 'product_name': 'T恤衫', 'product_type': '衣服', 'sale_price': 1000, 'purchase_price': 500, 'regist_data': datetime.date(2020, 1, 21)}, {'product_id': '0002', 'product_name': '打孔器', 'product_type': '办公用品', 'sale_price': 500, 'purchase_price': 320, 'regist_data': datetime.date(2020, 1, 22)}, {'product_id': '0003', 'product_name': '运动T恤', 'product_type': '衣服', 'sale_price': 4000, 'purchase_price': 2800, 'regist_data': datetime.date(2020, 1, 23)}, {'product_id': '0004', 'product_name': '菜刀', 'product_type': '厨房用具', 'sale_price': 40, 'purchase_price': 28, 'regist_data': datetime.date(2020, 1, 24)}]\n"
     ]
    }
   ],
   "source": [
    "import pymysql\n",
    "try:\n",
    "    con= pymysql.connect(host=\"127.0.0.1\", port=3306, user=\"root\", passwd=\"123456\" ,db=\"mydb\" , charset=\"utf8\") \n",
    "    cursor = con.cursor(pymysql.cursors.DictCursor)\n",
    "    cursor.execute(\"select * from product\")\n",
    "    row = cursor.fetchall()\n",
    "    print(row)\n",
    "\n",
    "    con.close\n",
    "except Exception as err:\n",
    "    print(err)"
   ]
  },
  {
   "cell_type": "markdown",
   "metadata": {},
   "source": [
    "# 4.rowcount() 返回值代表什么？\n",
    "<font size=4>rowcount来获取受影响的行数。</font>"
   ]
  },
  {
   "cell_type": "code",
   "execution_count": 2,
   "metadata": {},
   "outputs": [
    {
     "name": "stdout",
     "output_type": "stream",
     "text": [
      "4\n"
     ]
    }
   ],
   "source": [
    "import pymysql\n",
    "try:\n",
    "    con= pymysql.connect(host=\"127.0.0.1\", port=3306, user=\"root\", passwd=\"123456\" ,db=\"mydb\" , charset=\"utf8\") \n",
    "    cursor = con.cursor(pymysql.cursors.DictCursor)\n",
    "    cursor.execute(\"select * from product\")\n",
    "    print(cursor.rowcount)  #获取受影响的行数\n",
    "\n",
    "    con.close\n",
    "except Exception as err:\n",
    "    print(err)"
   ]
  },
  {
   "cell_type": "markdown",
   "metadata": {},
   "source": [
    "# 5.MySQL中怎么样使用带参数的SQL命令？\n",
    "<font size=4>其中带参数的SQL命令是SQL命令中把不确定的值用参数表示，MySQL数据库参数统一用\"%s\"表示，<br>\n",
    "参数列表是对应参数的具体值，它们放在一个元组或者列表中，例如：</font>"
   ]
  },
  {
   "cell_type": "code",
   "execution_count": 3,
   "metadata": {},
   "outputs": [
    {
     "name": "stdout",
     "output_type": "stream",
     "text": [
      "1 row inserted\n"
     ]
    }
   ],
   "source": [
    "import pymysql\n",
    "def insert(product_id,product_name ,product_type ,sale_price, purchase_price,regist_data):\n",
    "    try:\n",
    "        con= pymysql.connect(host=\"127.0.0.1\", port=3306, user=\"root\", passwd=\"123456\" ,db=\"mydb\" , charset=\"utf8\") \n",
    "        cursor = con.cursor(pymysql.cursors.DictCursor)\n",
    "\n",
    "        sql = \"insert into product (product_id,product_name ,product_type ,sale_price, purchase_price,regist_data) values (%s , %s ,%s, %s,%s,%s)\"\n",
    "\n",
    "        cursor.execute(sql,(product_id,product_name ,product_type ,sale_price, purchase_price,regist_data) )  \n",
    "        print(cursor.rowcount,\"row inserted\")\n",
    "        con.close\n",
    "    except Exception as err:\n",
    "        print(err)\n",
    "\n",
    "insert('0005','运动鞋','shoe','1000','200','2020-1-18')\n"
   ]
  },
  {
   "cell_type": "markdown",
   "metadata": {},
   "source": [
    "# 6.数据库操作完成后为什么要调用commit() 函数？"
   ]
  },
  {
   "cell_type": "markdown",
   "metadata": {},
   "source": [
    "<font size=4>commit在数据库编程的时候很常用，当你执行DML操作时，数据库并不会立刻修改表中数据，这时你需要commit，数据库中的数据就立刻修改了，</font>\n",
    "<font size=4 color=red>如果在没有commit之前，就算你把整个表中数据都删了，如果rollback的话，数据依然能够还原。</font>\n",
    "\n",
    "<font size=4><br>\n",
    "commit的提交针对的是:DML<br>\n",
    "Data Manipulation Language(DML) 需要提交，这部分是对数据管理操作，比如Insert(插入)、Update(修改)、Delete(删除)，<br>\n",
    "Data Definition Language(DDL) 不需要提交，这部分是对数据结构定义，比如 Create(创建)、Alter(修改)、Drop(删除)</font>"
   ]
  },
  {
   "cell_type": "markdown",
   "metadata": {},
   "source": [
    "# 7.什么是游标cursor，它有什么作用？"
   ]
  },
  {
   "cell_type": "markdown",
   "metadata": {},
   "source": [
    "<font size='4'>游标cursor是由连接创建的对象，可以在游标中执行查询，并设置数据返回的格式。<br>\n",
    "\n",
    "当执行select语句获取数据时，返回的数据行有两种格式：元组和字典，行的默认格式是元组  </font>"
   ]
  },
  {
   "cell_type": "markdown",
   "metadata": {},
   "source": [
    "# 8.Python怎么样连接Sqlite数据库？"
   ]
  },
  {
   "cell_type": "code",
   "execution_count": 15,
   "metadata": {},
   "outputs": [
    {
     "name": "stdout",
     "output_type": "stream",
     "text": [
      "连接成功\n"
     ]
    }
   ],
   "source": [
    "import pymysql\n",
    "import sqlite3\n",
    "\n",
    "\n",
    "try:\n",
    "    con=sqlite3.connect('students.db')\n",
    "    print('连接成功')\n",
    "    con.close()\n",
    "except Exception as err:\n",
    "    print(err)"
   ]
  },
  {
   "cell_type": "code",
   "execution_count": null,
   "metadata": {},
   "outputs": [],
   "source": []
  }
 ],
 "metadata": {
  "kernelspec": {
   "display_name": "Python 3",
   "language": "python",
   "name": "python3"
  },
  "language_info": {
   "codemirror_mode": {
    "name": "ipython",
    "version": 3
   },
   "file_extension": ".py",
   "mimetype": "text/x-python",
   "name": "python",
   "nbconvert_exporter": "python",
   "pygments_lexer": "ipython3",
   "version": "3.7.3"
  },
  "toc": {
   "base_numbering": 1,
   "nav_menu": {},
   "number_sections": true,
   "sideBar": true,
   "skip_h1_title": false,
   "title_cell": "Table of Contents",
   "title_sidebar": "Contents",
   "toc_cell": false,
   "toc_position": {},
   "toc_section_display": true,
   "toc_window_display": false
  }
 },
 "nbformat": 4,
 "nbformat_minor": 2
}
