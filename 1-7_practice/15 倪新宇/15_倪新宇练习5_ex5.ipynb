{
 "cells": [
  {
   "cell_type": "markdown",
   "metadata": {},
   "source": [
    "# 1.定义一个数学中的复数类 Complex，它有一个构造函数与一个显示函数,建立一个Complex 对象并调用该显示函数显示。"
   ]
  },
  {
   "cell_type": "code",
   "execution_count": 3,
   "metadata": {},
   "outputs": [
    {
     "name": "stdout",
     "output_type": "stream",
     "text": [
      "(1,2)\n"
     ]
    }
   ],
   "source": [
    "class Complex:\n",
    "    def __init__(self,x, y):\n",
    "        self.x=x\n",
    "        self.y=y\n",
    "    def show(self): \n",
    "        print(\"(\"+str(self.x)+\",\"+str(self.y)+\")\")\n",
    "c=Complex(1,2)\n",
    "c.show()"
   ]
  },
  {
   "cell_type": "markdown",
   "metadata": {},
   "source": [
    "# 2.定义一个计算机类 MyComputer，它包含 CPU 类型(String 类型）、RAM 内存大小(Integer类型)、HD 硬盘大小(Integer 类型)，设计它的构造函数，并设计一个显示函数，建立一个MyComputer 对象并调用该显示函数显示。"
   ]
  },
  {
   "cell_type": "code",
   "execution_count": 4,
   "metadata": {},
   "outputs": [
    {
     "name": "stdout",
     "output_type": "stream",
     "text": [
      "Intel i-7 8 500\n"
     ]
    }
   ],
   "source": [
    "class Computer:\n",
    "    def __init__(self,CPU,RAM,HD):\n",
    "        self.CPU=CPU\n",
    "        self.RAM=RAM\n",
    "        self.HD=HD\n",
    "    def show(self): \n",
    "        print (self.CPU,self.RAM,self.HD)         \n",
    "c=Computer(\"Intel i-7\", 8, 500)\n",
    "c.show()\n",
    "    "
   ]
  },
  {
   "cell_type": "markdown",
   "metadata": {},
   "source": [
    "# 3. 设计一个整数类 MyInteger，它有一个整数变量，并有一个 Value 属性，可以通过为 Value存取该变量的值，还有一个转二进制字符串的成员函数 toBin 及转十六进制字符串的成员函数 toHex。\n"
   ]
  },
  {
   "cell_type": "code",
   "execution_count": 6,
   "metadata": {},
   "outputs": [
    {
     "name": "stdout",
     "output_type": "stream",
     "text": [
      "10\n",
      "0xa\n",
      "0b1010\n"
     ]
    }
   ],
   "source": [
    "class MyInteger:\n",
    "    def __init__(self,Value):\n",
    "        self.Value=Value\n",
    "    def show(self):\n",
    "        print(self.Value)\n",
    "    def toHex(self):\n",
    "        return hex(self.Value)\n",
    "    def toBin(self):\n",
    "        return bin(self.Value)\n",
    "i=MyInteger(10) \n",
    "i.show()\n",
    "print(i.toHex())\n",
    "print(i.toBin())"
   ]
  },
  {
   "cell_type": "code",
   "execution_count": 9,
   "metadata": {},
   "outputs": [
    {
     "name": "stdout",
     "output_type": "stream",
     "text": [
      "10\n",
      "0xa\n",
      "0b1010\n"
     ]
    }
   ],
   "source": [
    "class MyInteger:\n",
    "    def __init__(self,Value):\n",
    "        self.Value=Value\n",
    "    def show(self):\n",
    "        print(self.Value)\n",
    "    def toHex(self):\n",
    "        print(hex(self.Value))\n",
    "    def toBin(self):\n",
    "        print(bin(self.Value))\n",
    "i=MyInteger(10)\n",
    "i.show()\n",
    "i.toHex()\n",
    "i.toBin()\n"
   ]
  },
  {
   "cell_type": "markdown",
   "metadata": {},
   "source": [
    "# 4. 建立一个普通人员类 Person，包含姓名(m_name)、性别(m_sex)、年龄(m_age)成员变量。\n",
    "(1) 建立 Person 类，包含 Private 成员 m_name、m_sex、m_age 成员变量；\n",
    "(2) 建立 Person 的构造函数；\n",
    "(3) 建立一个显示过程 Show()，显示该对象的数据；\n",
    "(4) 派生一个学生类 Student，增加班级(m_class)，专业(m_major)，设计这些类的构造函\n",
    "数；\n",
    "(5) 建立 m_class、m_major 对应的属性函数 sClass()、sMajor()；\n",
    "(6) 建立显示成员函数 Show()，显示该学生对象所有成员数据；\n"
   ]
  },
  {
   "cell_type": "code",
   "execution_count": 30,
   "metadata": {},
   "outputs": [
    {
     "name": "stdout",
     "output_type": "stream",
     "text": [
      "A M 20 Class A Computer\n"
     ]
    }
   ],
   "source": [
    "class Person:\n",
    "    def __init__(self,name,sex,age):\n",
    "        self.__m_name=name\n",
    "        self.__m_sex=sex\n",
    "        self.__m_age=age\n",
    "    def show(self,end=\"/n\"): \n",
    "        print(self.__m_name,self.__m_sex,self.__m_age,end=end)\n",
    "        \n",
    "        \n",
    "class Student(Person):\n",
    "    def __init__(self,name,sex,age,mclass,major):\n",
    "        Person.__init__(self,name,sex,age)\n",
    "        self.__m_class=mclass\n",
    "        self.__m_major=major\n",
    "    def sClass(self):\n",
    "        return self.__m_class\n",
    "    def sMajor(self):\n",
    "        return self.__m_major\n",
    "    def show(self):\n",
    "        Person.show(self,end=\" \")\n",
    "        print(self.__m_class,self.__m_major)\n",
    "s=Student(\"A\",\"M\",20,\"Class A\",\"Computer\")\n",
    "s.show()\n",
    "        \n",
    "    "
   ]
  },
  {
   "cell_type": "code",
   "execution_count": null,
   "metadata": {},
   "outputs": [],
   "source": []
  }
 ],
 "metadata": {
  "kernelspec": {
   "display_name": "Python 3",
   "language": "python",
   "name": "python3"
  },
  "language_info": {
   "codemirror_mode": {
    "name": "ipython",
    "version": 3
   },
   "file_extension": ".py",
   "mimetype": "text/x-python",
   "name": "python",
   "nbconvert_exporter": "python",
   "pygments_lexer": "ipython3",
   "version": "3.7.4"
  }
 },
 "nbformat": 4,
 "nbformat_minor": 2
}
