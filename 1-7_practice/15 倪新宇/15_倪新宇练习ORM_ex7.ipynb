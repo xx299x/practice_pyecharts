{
 "cells": [
  {
   "cell_type": "markdown",
   "metadata": {},
   "source": [
    "### 1.简述Python链接MySQL数据库的方法"
   ]
  },
  {
   "cell_type": "code",
   "execution_count": null,
   "metadata": {},
   "outputs": [],
   "source": [
    "Python没有自带对MySQL数据库的支持，必须另外安装。安装也很简单，进入Python的安装目录的scripts子目录，找到pip.exe文件执行：\n",
    "    pip install pumysql\n",
    "就可以安装pymysql的驱动程序，在Python中就可以使用import pymysql引入这个模块驱动 MySQL 数据库。\n",
    "Python 连接 MySQL 数据库的方法如下：\n",
    "    con=pymysql.connect(host=\"127.0.0.1\",port=3306,user=\"root”,passwd=\"123456,db=\"mydb\",charset=\"utf8\")"
   ]
  },
  {
   "cell_type": "markdown",
   "metadata": {},
   "source": [
    "### 2.fetchone()怎么样判断读到数据库末尾"
   ]
  },
  {
   "cell_type": "code",
   "execution_count": null,
   "metadata": {},
   "outputs": [],
   "source": [
    "fetchone()获取一行数据，第一次执行时得到第一行数据，再次执行时得到第二行数据，以此类推，如果到了记录集的最后再次执行fetchone()返回None。\n",
    "如果返回None时，就是读到了末尾。"
   ]
  },
  {
   "cell_type": "markdown",
   "metadata": {},
   "source": [
    "### 3.fetchall()与fetchone()有什么区别"
   ]
  },
  {
   "cell_type": "code",
   "execution_count": null,
   "metadata": {},
   "outputs": [],
   "source": [
    "fetchall()一次可以读取所有的行，读取后一般再次使用for循环取出每一行。\n",
    "fetchone()获取一行数据，第一次执行时得到第一行数据，再次执行时得到第二行数据，以此类推，如果到了记录集的最后再次执行fetchone()返回None。"
   ]
  },
  {
   "cell_type": "markdown",
   "metadata": {},
   "source": [
    "### 4.rowcount()返回值代表什么"
   ]
  },
  {
   "cell_type": "code",
   "execution_count": null,
   "metadata": {},
   "outputs": [],
   "source": [
    "返回满足条件的记录的数目"
   ]
  },
  {
   "cell_type": "markdown",
   "metadata": {},
   "source": [
    "### 5.MySQL中怎么样使用带参数的SQL命令"
   ]
  },
  {
   "cell_type": "code",
   "execution_count": null,
   "metadata": {},
   "outputs": [],
   "source": [
    "种命令基本形式是：\n",
    "    cursor.execute(带参数的 SQL 命令，(参数列表))\n",
    "其中带参数的SQL命令是SQL命令中把不确定的值用参数表示，MySQL数据库参数统一用\"%s\"表示,参数列表是对应参数的具体值,它们放在一个元组或者列表中"
   ]
  },
  {
   "cell_type": "markdown",
   "metadata": {},
   "source": [
    "### 6.数据库操作完成后为什么要调用commit()函数"
   ]
  },
  {
   "cell_type": "code",
   "execution_count": null,
   "metadata": {},
   "outputs": [],
   "source": [
    "如果调用commit()函数的话，更新的数据只在内存中，没有真正更新到数据库文件中"
   ]
  },
  {
   "cell_type": "markdown",
   "metadata": {},
   "source": [
    "### 7.什么是游标cursor，它有什么作用"
   ]
  },
  {
   "cell_type": "code",
   "execution_count": null,
   "metadata": {},
   "outputs": [],
   "source": [
    "游标（cursor）是系统为用户开设的一个数据缓冲区，存放SQL语句的执行结果。\n",
    "每个游标区都有一个名字,用户可以用SQL语句逐一从游标中获取记录，并赋给主变量，交由主语言进一步处理。\n",
    "\n",
    "作用：\n",
    "1.定位到结果集中的某一行。\n",
    "2.对当前位置的数据进行读写。\n",
    "3.可以对结果集中的数据单独操作，而不是整行执行相同的操作。\n",
    "4.是面向集合的数据库管理系统和面向行的程序设计之间的桥梁。"
   ]
  },
  {
   "cell_type": "markdown",
   "metadata": {},
   "source": [
    "### 8.Python怎样连接Sqlite数据库"
   ]
  },
  {
   "cell_type": "code",
   "execution_count": null,
   "metadata": {},
   "outputs": [],
   "source": [
    "Python自带对sqlite3数据库的支持,即安装了Python后就已经有了sqlite3数据库驱动。Python要连接sqlite3数据库,要先引入sqlite3模块，然后使用connect方法连接，例如：\n",
    "import sqlite3\n",
    "con=sqlite3.connect（\"test.db\")"
   ]
  },
  {
   "cell_type": "code",
   "execution_count": null,
   "metadata": {},
   "outputs": [],
   "source": [
    "import pymysql\n",
    "try:\n",
    "    con = sqlite3.connect(\"students.db\")\n",
    "    print(\"连接成功\")\n",
    "    con.close()\n",
    "except Exeception as err:\n",
    "    print(err)\n",
    "#执行该程序看到“连接成功”，如果student.db不存在就建立这个文件，并建立连接，如果student.db已经存在就仅仅建立连接。"
   ]
  }
 ],
 "metadata": {
  "kernelspec": {
   "display_name": "Python 3",
   "language": "python",
   "name": "python3"
  },
  "language_info": {
   "codemirror_mode": {
    "name": "ipython",
    "version": 3
   },
   "file_extension": ".py",
   "mimetype": "text/x-python",
   "name": "python",
   "nbconvert_exporter": "python",
   "pygments_lexer": "ipython3",
   "version": "3.7.0"
  }
 },
 "nbformat": 4,
 "nbformat_minor": 2
}
