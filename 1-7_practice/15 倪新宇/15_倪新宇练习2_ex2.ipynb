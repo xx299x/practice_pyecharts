{
 "cells": [
  {
   "cell_type": "markdown",
   "metadata": {},
   "source": [
    "# 1.输入a、b、c三个参数，求解ax2+bx+c=0的两个根，假定b2-4ac>0。"
   ]
  },
  {
   "cell_type": "code",
   "execution_count": 115,
   "metadata": {},
   "outputs": [
    {
     "name": "stdout",
     "output_type": "stream",
     "text": [
      "(-2.0916730868040165, -12.908326913195985)\n"
     ]
    }
   ],
   "source": [
    "import math\n",
    "def get_result(a,b,c):\n",
    "    x = b*b - 4*a*c\n",
    "    if x <=0:\n",
    "        return \"error\"\n",
    "    #一元二次方程\n",
    "    x1 = (-b+math.sqrt(x))/2*a\n",
    "    x2 = (-b-math.sqrt(x))/2*a\n",
    "    return (x1,x2)\n",
    "print(get_result(3,5,1))"
   ]
  },
  {
   "cell_type": "markdown",
   "metadata": {},
   "source": [
    "2.输入a、b、c三个参数，以它们作为三角形的三边，判断是否可以构成-一个三角形，如能则进一步计算其面积。三角形的面积s可以用以下公式计算:\n"
   ]
  },
  {
   "cell_type": "code",
   "execution_count": 116,
   "metadata": {},
   "outputs": [
    {
     "data": {
      "text/plain": [
       "9.921567416492215"
      ]
     },
     "execution_count": 116,
     "metadata": {},
     "output_type": "execute_result"
    }
   ],
   "source": [
    "import math\n",
    "def get_result(a,b,c):\n",
    "    x = a + b \n",
    "    y = a + c\n",
    "    z = b + c\n",
    "    p = (a+b+c)/2\n",
    "    if x<c and y<b and z<a:\n",
    "        return \"error\"\n",
    "    else:\n",
    "        s = math.sqrt(p*(p-a)*(p-b)*(p-c))\n",
    "    return s \n",
    "get_result(4,5,6)"
   ]
  },
  {
   "cell_type": "markdown",
   "metadata": {},
   "source": [
    "3.输入一个字母，判断它是否为小写英文字母。"
   ]
  },
  {
   "cell_type": "code",
   "execution_count": null,
   "metadata": {},
   "outputs": [],
   "source": [
    "def x (word):\n",
    "    if 97<=ord(word)<=122:\n",
    "        print(\"是小写字母\")\n",
    "    else:\n",
    "        print(\"不是小写字母\")\n",
    "x(\"c\")"
   ]
  },
  {
   "cell_type": "markdown",
   "metadata": {},
   "source": [
    "4.从键盘输入5个字符，统计’0’字符出现的次数。"
   ]
  },
  {
   "cell_type": "code",
   "execution_count": null,
   "metadata": {},
   "outputs": [],
   "source": [
    "m = input(\"输入五个字符:\")\n",
    "print(m.count(\"0\"))"
   ]
  },
  {
   "cell_type": "markdown",
   "metadata": {},
   "source": [
    "5.输入两个整数，判断哪个大并输出结果。"
   ]
  },
  {
   "cell_type": "code",
   "execution_count": 118,
   "metadata": {},
   "outputs": [
    {
     "name": "stdout",
     "output_type": "stream",
     "text": [
      "a小 大的值是 9\n"
     ]
    }
   ],
   "source": [
    "def x(a,b):\n",
    "    if a < b:\n",
    "        print(\"a小\",\"大的值是\",b)\n",
    "    else:\n",
    "        print(\"a大\",\"大的值是\",a)\n",
    "x(8,9)"
   ]
  },
  {
   "cell_type": "markdown",
   "metadata": {},
   "source": [
    "6.输入一个字母，如它是一个小写英文字母，则把它变为对应大写字母输出。"
   ]
  },
  {
   "cell_type": "code",
   "execution_count": 119,
   "metadata": {},
   "outputs": [
    {
     "name": "stdout",
     "output_type": "stream",
     "text": [
      "G\n"
     ]
    }
   ],
   "source": [
    "def x (word) :\n",
    "    if 97 <= ord(word) <= 122:\n",
    "        a = chr (ord (word) + (ord(\"A\")-ord(\"a\")))\n",
    "    else :\n",
    "        a =\"不是小写字母\"\n",
    "    return a\n",
    "print(x(\"g\"))"
   ]
  },
  {
   "cell_type": "markdown",
   "metadata": {},
   "source": [
    "7.输入一个年份，判断它是否为闰年。"
   ]
  },
  {
   "cell_type": "code",
   "execution_count": 120,
   "metadata": {},
   "outputs": [
    {
     "name": "stdout",
     "output_type": "stream",
     "text": [
      "不是闰年\n"
     ]
    }
   ],
   "source": [
    "import math\n",
    "def x(a):\n",
    "    if a % 400 == 0 or  a % 4 == 0:\n",
    "        print(\"是闰年\")\n",
    "    else:\n",
    "        print(\"不是闰年\")\n",
    "x(1999)"
   ]
  },
  {
   "cell_type": "markdown",
   "metadata": {},
   "source": [
    "8.从键盘输入a、b两个数，按大小顺序输出它们。"
   ]
  },
  {
   "cell_type": "code",
   "execution_count": 121,
   "metadata": {},
   "outputs": [
    {
     "name": "stdout",
     "output_type": "stream",
     "text": [
      "两者相等\n"
     ]
    }
   ],
   "source": [
    "def x(a,b):\n",
    "    if a < b: \n",
    "        print(b,a)\n",
    "    elif a > b:\n",
    "        print(a,b)\n",
    "    else:\n",
    "        print(\"两者相等\")\n",
    "x(7,7)"
   ]
  },
  {
   "cell_type": "markdown",
   "metadata": {},
   "source": [
    "9.输入a、b、c三个整数，找出最小的数。"
   ]
  },
  {
   "cell_type": "code",
   "execution_count": 122,
   "metadata": {},
   "outputs": [
    {
     "name": "stdout",
     "output_type": "stream",
     "text": [
      "5 是最小的数\n"
     ]
    }
   ],
   "source": [
    "def x(a,b,c):\n",
    "    min = a \n",
    "    if b<a:\n",
    "        if c<b:\n",
    "            min = c\n",
    "        else:\n",
    "            min = b\n",
    "    print(min,\"是最小的数\")\n",
    "x(8,5,7)"
   ]
  },
  {
   "cell_type": "markdown",
   "metadata": {},
   "source": [
    "10.某企业发放的奖金根据利润提成。利润低于或等于10万元时，奖金可提12%;利润高于10万元，低于20万元时，高于10万元的部分，可提成8.5%; 20万到40万之间时，高于20万\n",
    "元的部分，可提成6%; 40 万到60万之间时高于40万元的部分，可提成4%; 60 万到100万之间时，高于60万元的部分，可提成2.5%，高于100万元时，超过100万元的部分按1%提成\n",
    "，从键盘输入当月利润，求应发放奖金总数?"
   ]
  },
  {
   "cell_type": "code",
   "execution_count": 83,
   "metadata": {},
   "outputs": [
    {
     "data": {
      "text/plain": [
       "400734.884"
      ]
     },
     "execution_count": 83,
     "metadata": {},
     "output_type": "execute_result"
    }
   ],
   "source": [
    "def f(m):\n",
    "    if m<=100000:\n",
    "        x = m + m * 0.12\n",
    "    elif m<200000:\n",
    "        x = 100000 + (m-100000) * 0.085\n",
    "    elif m<400000:\n",
    "        x = 200000 + (m-200000) * 0.006\n",
    "    elif m<600000:\n",
    "        x = 400000 + (m-400000) * 0.004\n",
    "    elif m<1000000:\n",
    "        x = 600000 + (m-600000) * 0.0025\n",
    "    else:\n",
    "        x = 1000000 + (m-1000000) * 0.001\n",
    "    return x\n",
    "f(583721)"
   ]
  },
  {
   "cell_type": "markdown",
   "metadata": {},
   "source": [
    "11.平面上有四个圆，圆心分别为(2, 2)，(-2, 2)，(-2, -2)，(2, -2)， 圆半径为1。今输入任一点的坐标，判断该点是否在这四个圆中，如在则给出是在哪一 个圆中。"
   ]
  },
  {
   "cell_type": "code",
   "execution_count": 126,
   "metadata": {},
   "outputs": [
    {
     "name": "stdout",
     "output_type": "stream",
     "text": [
      "该点不在四个圆里\n",
      "该点不在四个圆里\n",
      "在(2, 2)的圆里\n",
      "在(2, -2)的圆里\n"
     ]
    }
   ],
   "source": [
    "def f(a, b):\n",
    "    y1 = (a-2) ** 2 + (b-2) **2\n",
    "    y2 = (a-2) ** 2 + (b+2) **2\n",
    "    y3 = (a+2) ** 2 + (b-2) **2\n",
    "    y4 = (a+2) ** 2 + (b+2) **2\n",
    "    if y1 <=1:\n",
    "        print(\"在(2, 2)的圆里\")\n",
    "    elif y2 <=1:\n",
    "        print(\"在(2, -2)的圆里\")\n",
    "    elif y3 <=1:\n",
    "        print(\"在(-2, 2)的圆里\")\n",
    "    elif y4 <=1:\n",
    "        print(\"在(-2, -2)的圆里\")\n",
    "    else:\n",
    "        print(\"该点不在四个圆里\")\n",
    "\n",
    "f(-8,-2)\n",
    "f(4,2)\n",
    "f(3, 2)\n",
    "f(2,-3)\n"
   ]
  },
  {
   "cell_type": "code",
   "execution_count": null,
   "metadata": {},
   "outputs": [],
   "source": []
  },
  {
   "cell_type": "code",
   "execution_count": null,
   "metadata": {},
   "outputs": [],
   "source": []
  },
  {
   "cell_type": "code",
   "execution_count": null,
   "metadata": {},
   "outputs": [],
   "source": []
  }
 ],
 "metadata": {
  "kernelspec": {
   "display_name": "Python 3",
   "language": "python",
   "name": "python3"
  },
  "language_info": {
   "codemirror_mode": {
    "name": "ipython",
    "version": 3
   },
   "file_extension": ".py",
   "mimetype": "text/x-python",
   "name": "python",
   "nbconvert_exporter": "python",
   "pygments_lexer": "ipython3",
   "version": "3.7.1"
  }
 },
 "nbformat": 4,
 "nbformat_minor": 2
}
