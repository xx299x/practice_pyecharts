{
 "cells": [
  {
   "cell_type": "markdown",
   "metadata": {},
   "source": [
    "# 1.编写一个程序建立一个文本文件abc.txt, 向其中写入”abc\\n\"并存盘，查看abc.txt是几个字节的文件，说明为什么。"
   ]
  },
  {
   "cell_type": "markdown",
   "metadata": {},
   "source": [
    "4个字节，因为“\\n”是转义字符，和字符一样只占一个字节。"
   ]
  },
  {
   "cell_type": "markdown",
   "metadata": {},
   "source": [
    "# 2.用Windows记事本编写一个文本文件xyz.txt,在其中存入”123”后打”Enter”键换行，存盘后查看文件应是5个字节长，用read(1)读该文件，看看要读5次还是4次就把文件读完，为什么?编写程序验证。"
   ]
  },
  {
   "cell_type": "markdown",
   "metadata": {},
   "source": [
    "4次就把文件读完"
   ]
  },
  {
   "cell_type": "code",
   "execution_count": 17,
   "metadata": {},
   "outputs": [
    {
     "name": "stdout",
     "output_type": "stream",
     "text": [
      "123\n",
      " llength= 4\n",
      " length= 0\n",
      " length= 0\n"
     ]
    }
   ],
   "source": [
    "def readFile() :\n",
    "    fobj=open(\"C:\\\\Users\\\\hp\\\\Desktop\\\\xyz.txt\",\"rt\")\n",
    "    s=fobj.readline ()\n",
    "    print (s, \"llength=\", len(s))\n",
    "    s=fobj.readline ()\n",
    "    print (s, \"length=\", len (s))\n",
    "    s=fobj.readline ()\n",
    "    print (s, \"length=\" , len(s))\n",
    "    fobj.close()\n",
    "try:\n",
    "    readFile ()\n",
    "except Exception as err: \n",
    "    print (err)"
   ]
  },
  {
   "cell_type": "markdown",
   "metadata": {},
   "source": [
    "# 3.编写程序查找某个单词(键盘输入)所出现的行号及该行的内容，并统计该单词在文件共出现多少次。"
   ]
  },
  {
   "cell_type": "code",
   "execution_count": 26,
   "metadata": {},
   "outputs": [],
   "source": [
    "# count = 0\n",
    "# def count_word( ):\n",
    "#     test=open (\"C:\\\\Users\\\\hp\\\\Desktop\\\\abc.txt\",\"rt\")\n",
    "#     i=test.readline()\n",
    "#     mark_word =\"x\"\n",
    "#     for l in line:\n",
    "#         for word in l.split():\n",
    "#             if word == mark_word:\n",
    "#                 count = count+1\n",
    "#     test.close()\n",
    "#     print(count)"
   ]
  },
  {
   "cell_type": "code",
   "execution_count": 60,
   "metadata": {},
   "outputs": [
    {
     "name": "stdout",
     "output_type": "stream",
     "text": [
      "['I', 'am', 'a', 'girl', 'girl']\n",
      "各单词出现次数为:\n",
      "1 1 1 2 2 "
     ]
    }
   ],
   "source": [
    "article=\"I am a girl girl\"\n",
    "words=[]\n",
    "n=[]\n",
    "words=article. split() \n",
    "print (words)\n",
    "l=len (words)\n",
    "for i in range(l):\n",
    "    n. append (words. count (words [i]))\n",
    "print(\"各单词出现次数为:\")\n",
    "for j in n:\n",
    "    print(j, end=' ')"
   ]
  },
  {
   "cell_type": "code",
   "execution_count": 61,
   "metadata": {},
   "outputs": [
    {
     "name": "stdout",
     "output_type": "stream",
     "text": [
      "abc123\n",
      "abcxyz\n",
      "apple\n",
      "apple\n",
      "\n"
     ]
    },
    {
     "ename": "NameError",
     "evalue": "name 's' is not defined",
     "output_type": "error",
     "traceback": [
      "\u001b[1;31m---------------------------------------------------------------------------\u001b[0m",
      "\u001b[1;31mNameError\u001b[0m                                 Traceback (most recent call last)",
      "\u001b[1;32m<ipython-input-61-cebea7d478c0>\u001b[0m in \u001b[0;36m<module>\u001b[1;34m()\u001b[0m\n\u001b[0;32m     14\u001b[0m \u001b[0mwords\u001b[0m\u001b[1;33m=\u001b[0m\u001b[1;33m[\u001b[0m\u001b[1;33m]\u001b[0m\u001b[1;33m\u001b[0m\u001b[0m\n\u001b[0;32m     15\u001b[0m \u001b[0mn\u001b[0m\u001b[1;33m=\u001b[0m\u001b[1;33m[\u001b[0m\u001b[1;33m]\u001b[0m\u001b[1;33m\u001b[0m\u001b[0m\n\u001b[1;32m---> 16\u001b[1;33m \u001b[0mwords\u001b[0m\u001b[1;33m=\u001b[0m\u001b[0ms\u001b[0m\u001b[1;33m.\u001b[0m \u001b[0msplit\u001b[0m\u001b[1;33m(\u001b[0m\u001b[1;33m)\u001b[0m\u001b[1;33m\u001b[0m\u001b[0m\n\u001b[0m\u001b[0;32m     17\u001b[0m \u001b[0mprint\u001b[0m \u001b[1;33m(\u001b[0m\u001b[0mwords\u001b[0m\u001b[1;33m)\u001b[0m\u001b[1;33m\u001b[0m\u001b[0m\n\u001b[0;32m     18\u001b[0m \u001b[0ml\u001b[0m\u001b[1;33m=\u001b[0m\u001b[0mlen\u001b[0m \u001b[1;33m(\u001b[0m\u001b[0mwords\u001b[0m\u001b[1;33m)\u001b[0m\u001b[1;33m\u001b[0m\u001b[0m\n",
      "\u001b[1;31mNameError\u001b[0m: name 's' is not defined"
     ]
    }
   ],
   "source": [
    "def readFile():\n",
    "    fobj=open(\"C:\\\\Users\\\\hp\\\\Desktop\\\\abc.txt\",\"rt\")\n",
    "    s=fobj.read ()\n",
    "    print (s)\n",
    "    fobj.close()\n",
    "try:\n",
    "    readFile ()\n",
    "except Exception as err:\n",
    "    print (err)\n",
    "    \n",
    "    \n",
    "\n",
    "word = input( \"输入单词：\")     \n",
    "words=[]\n",
    "n=[]\n",
    "words=s.split() \n",
    "print (words)\n",
    "l=len (words)\n",
    "for i in range(l):\n",
    "    n. append (words. count (words [i]))\n",
    "print(\"各单词出现次数为:\")\n",
    "for j in n:\n",
    "    print(j, end=' ')"
   ]
  },
  {
   "cell_type": "markdown",
   "metadata": {},
   "source": [
    "#  4.设一个文本文件marks.txt中存储了学生的姓名及成绩如下: \n",
    "#  张三96\n",
    "#  李四95\n",
    "#  ....\n",
    "#  每行为学生姓名与成绩,编写一个程序读取这些学生的姓名与成绩并按成绩的从高到低的顺序输出到另外一个文件sorted.txt中。"
   ]
  },
  {
   "cell_type": "code",
   "execution_count": 85,
   "metadata": {},
   "outputs": [
    {
     "name": "stdout",
     "output_type": "stream",
     "text": [
      "[Errno 22] Invalid argument: '\\u202aC:\\\\Users\\\\hp\\\\Desktop\\\\marks.txt'\n"
     ]
    }
   ],
   "source": [
    "def readFile() :\n",
    "    mark=open(\"‪C:\\\\Users\\\\hp\\\\Desktop\\\\marks.txt\",\"rt\")\n",
    "    s=mark.read ()\n",
    "    print(s)\n",
    "    mark.close()\n",
    "try:\n",
    "    readFile ()\n",
    "except Exception as err:\n",
    "    print (err)\n"
   ]
  },
  {
   "cell_type": "markdown",
   "metadata": {},
   "source": [
    "# 5.用二进制方式创建文件abc并写入”abc\\r\\nxyz\\n\\r123\\r456\\n\"的字符串，查看该文件有多少个字节，再用文本文件的方式打开此文件并用fgetc来读，看看每次读出的是什么字符。"
   ]
  },
  {
   "cell_type": "code",
   "execution_count": 79,
   "metadata": {},
   "outputs": [
    {
     "name": "stdout",
     "output_type": "stream",
     "text": [
      "abc\n",
      "xyz\n",
      "456\n",
      "\n"
     ]
    }
   ],
   "source": [
    "def save(s):     \n",
    "    f = open(\"d:\\\\data.txt\",\"wb\")       \n",
    "    f.write(s.encode())     \n",
    "    f.close() \n",
    "\n",
    "def read():     \n",
    "    f = open(\"d:\\\\data.txt\",\"rb\")       \n",
    "    data = f.read()     \n",
    "    s = data.decode()    \n",
    "    f.close()    \n",
    "    print(s)      \n",
    "s = \"abc\\r\\nxyz\\n\\r123\\r456\\n\" \n",
    "save(s) \n",
    "read() "
   ]
  },
  {
   "cell_type": "markdown",
   "metadata": {},
   "source": [
    "# 6.用文本文件方式创建文件并写入”abc\\nxyz\\r\\n123\\r\"字符串，再用二进制方式打开读取每个字节，看看每个字节是什么。"
   ]
  },
  {
   "cell_type": "code",
   "execution_count": 80,
   "metadata": {},
   "outputs": [
    {
     "name": "stdout",
     "output_type": "stream",
     "text": [
      "0x61 0x62 0x63 0xd 0xa 0x78 0x79 0x7a 0xd 0xd 0xa 0x31 0x32 0x33 0xd "
     ]
    }
   ],
   "source": [
    "def save(s):     \n",
    "    f = open(\"d:\\\\test.txt\",\"wt\")     \n",
    "    f.write(s)     \n",
    "    f.close() \n",
    "def read():     \n",
    "    f = open(\"d:\\\\test.txt\",\"rb\")        \n",
    "    data = f.read()     \n",
    "    for d in data:         \n",
    "        print(hex(d),end = \" \")     \n",
    "        f.close()      \n",
    "s = \"abc\\nxyz\\r\\n123\\r\" \n",
    "save(s) \n",
    "read()"
   ]
  },
  {
   "cell_type": "markdown",
   "metadata": {},
   "source": [
    "# 7.编写一个程序，它能统计一篇英文文章中的a~z各个字母出现的次数(不分大小写)，并按出现次数的多少按顺序输出。"
   ]
  },
  {
   "cell_type": "code",
   "execution_count": 90,
   "metadata": {},
   "outputs": [
    {
     "name": "stdin",
     "output_type": "stream",
     "text": [
      "输入文件： d:\\\\test.txt\n"
     ]
    },
    {
     "ename": "TypeError",
     "evalue": "'int' object does not support item assignment",
     "output_type": "error",
     "traceback": [
      "\u001b[1;31m---------------------------------------------------------------------------\u001b[0m",
      "\u001b[1;31mTypeError\u001b[0m                                 Traceback (most recent call last)",
      "\u001b[1;32m<ipython-input-90-530c61f73a57>\u001b[0m in \u001b[0;36m<module>\u001b[1;34m()\u001b[0m\n\u001b[0;32m     15\u001b[0m     \u001b[0mprint\u001b[0m\u001b[1;33m(\u001b[0m\u001b[0mi\u001b[0m\u001b[1;33m)\u001b[0m\u001b[1;33m\u001b[0m\u001b[0m\n\u001b[0;32m     16\u001b[0m \u001b[0mFilename\u001b[0m \u001b[1;33m=\u001b[0m \u001b[0minput\u001b[0m\u001b[1;33m(\u001b[0m \u001b[1;34m\"输入文件：\"\u001b[0m\u001b[1;33m)\u001b[0m\u001b[1;33m\u001b[0m\u001b[0m\n\u001b[1;32m---> 17\u001b[1;33m \u001b[0mcount\u001b[0m\u001b[1;33m(\u001b[0m\u001b[0mFilename\u001b[0m\u001b[1;33m)\u001b[0m\u001b[1;33m\u001b[0m\u001b[0m\n\u001b[0m",
      "\u001b[1;32m<ipython-input-90-530c61f73a57>\u001b[0m in \u001b[0;36mcount\u001b[1;34m(Filename)\u001b[0m\n\u001b[0;32m      3\u001b[0m     \u001b[1;32mfor\u001b[0m \u001b[0mi\u001b[0m \u001b[1;32min\u001b[0m \u001b[0mrange\u001b[0m\u001b[1;33m(\u001b[0m\u001b[1;36m26\u001b[0m\u001b[1;33m)\u001b[0m\u001b[1;33m:\u001b[0m\u001b[1;33m\u001b[0m\u001b[0m\n\u001b[0;32m      4\u001b[0m         \u001b[0mx\u001b[0m \u001b[1;33m=\u001b[0m \u001b[0mchr\u001b[0m\u001b[1;33m(\u001b[0m\u001b[0mord\u001b[0m\u001b[1;33m(\u001b[0m\u001b[1;34m'a'\u001b[0m\u001b[1;33m)\u001b[0m\u001b[1;33m+\u001b[0m\u001b[0mi\u001b[0m\u001b[1;33m)\u001b[0m\u001b[1;33m\u001b[0m\u001b[0m\n\u001b[1;32m----> 5\u001b[1;33m         \u001b[0mi\u001b[0m\u001b[1;33m[\u001b[0m\u001b[0mx\u001b[0m\u001b[1;33m]\u001b[0m \u001b[1;33m=\u001b[0m \u001b[1;36m0\u001b[0m\u001b[1;33m\u001b[0m\u001b[0m\n\u001b[0m\u001b[0;32m      6\u001b[0m     \u001b[0mf\u001b[0m \u001b[1;33m=\u001b[0m \u001b[0mopen\u001b[0m\u001b[1;33m(\u001b[0m\u001b[0mFilename\u001b[0m\u001b[1;33m,\u001b[0m\u001b[1;34m\"r\"\u001b[0m\u001b[1;33m)\u001b[0m\u001b[1;33m\u001b[0m\u001b[0m\n\u001b[0;32m      7\u001b[0m     \u001b[0mrows\u001b[0m \u001b[1;33m=\u001b[0m \u001b[0mf\u001b[0m\u001b[1;33m.\u001b[0m\u001b[0mreadlines\u001b[0m\u001b[1;33m(\u001b[0m\u001b[1;33m)\u001b[0m\u001b[1;33m\u001b[0m\u001b[0m\n",
      "\u001b[1;31mTypeError\u001b[0m: 'int' object does not support item assignment"
     ]
    }
   ],
   "source": [
    "def count(Filename):     \n",
    "    i = {}     \n",
    "    for i in range(26):         \n",
    "        x = chr(ord('a')+i)         \n",
    "        i[x] = 0     \n",
    "    f = open(Filename,\"r\")     \n",
    "    rows = f.readlines()     \n",
    "    for row in rows:         \n",
    "        s = row.strip(\"\\n\")         \n",
    "        for x in s:             \n",
    "            y = x.lower()             \n",
    "            if y >= 'a' and y <= 'z':                 \n",
    "                i[y] = i[y] + 1     \n",
    "    f.close()     \n",
    "    print(i) \n",
    "Filename = input( \"输入文件：\") \n",
    "count(Filename)"
   ]
  },
  {
   "cell_type": "code",
   "execution_count": 92,
   "metadata": {},
   "outputs": [
    {
     "name": "stdin",
     "output_type": "stream",
     "text": [
      "输入文件： C:\\\\Users\\\\hp\\\\Desktop\\\\abc.txt\n"
     ]
    },
    {
     "name": "stdout",
     "output_type": "stream",
     "text": [
      "{'a': 4, 'b': 2, 'c': 2, 'd': 0, 'e': 2, 'f': 0, 'g': 0, 'h': 0, 'i': 0, 'j': 0, 'k': 0, 'l': 2, 'm': 0, 'n': 0, 'o': 0, 'p': 4, 'q': 0, 'r': 0, 's': 0, 't': 0, 'u': 0, 'v': 0, 'w': 0, 'x': 1, 'y': 1, 'z': 1}\n"
     ]
    }
   ],
   "source": [
    "def count(fileName):     \n",
    "    n = {}     \n",
    "    for i in range(26):         \n",
    "        x = chr(ord('a')+i)         \n",
    "        n[x] = 0     \n",
    "    f = open(fileName,\"r\")     \n",
    "    rows = f.readlines()     \n",
    "    for row in rows:         \n",
    "        s = row.strip(\"\\n\")         \n",
    "        for x in s:             \n",
    "            y = x.lower()             \n",
    "            if y >= 'a' and y <= 'z':                 \n",
    "                n[y] = n[y] + 1     \n",
    "    f.close()     \n",
    "    print(n) \n",
    "fileName = input( \"输入文件：\") \n",
    "count(fileName)"
   ]
  },
  {
   "cell_type": "code",
   "execution_count": null,
   "metadata": {},
   "outputs": [],
   "source": []
  }
 ],
 "metadata": {
  "kernelspec": {
   "display_name": "Python 3",
   "language": "python",
   "name": "python3"
  },
  "language_info": {
   "codemirror_mode": {
    "name": "ipython",
    "version": 3
   },
   "file_extension": ".py",
   "mimetype": "text/x-python",
   "name": "python",
   "nbconvert_exporter": "python",
   "pygments_lexer": "ipython3",
   "version": "3.7.0"
  }
 },
 "nbformat": 4,
 "nbformat_minor": 2
}
