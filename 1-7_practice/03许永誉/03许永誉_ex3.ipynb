{
 "cells": [
  {
   "cell_type": "code",
   "execution_count": 2,
   "metadata": {},
   "outputs": [
    {
     "name": "stdout",
     "output_type": "stream",
     "text": [
      "2551\n"
     ]
    }
   ],
   "source": [
    "#计算 1+2+4+……+100 的和。\n",
    "sum=1\n",
    "for i in range(2,102,2):\n",
    "    sum=sum+i\n",
    "print(sum)"
   ]
  },
  {
   "cell_type": "code",
   "execution_count": 1,
   "metadata": {},
   "outputs": [
    {
     "name": "stdout",
     "output_type": "stream",
     "text": [
      "2.937774848474907\n"
     ]
    }
   ],
   "source": [
    "#计算 1+1/3+1/5+……+1/99 的和。\n",
    "def mysum(num):\n",
    "    sum=0\n",
    "    for i in range(num):\n",
    "        if(i%2) == 1:\n",
    "            sum=sum+1/i\n",
    "    return sum\n",
    "if __name__=='__main__':\n",
    "    res=mysum(100)\n",
    "    print(res)"
   ]
  },
  {
   "cell_type": "code",
   "execution_count": null,
   "metadata": {},
   "outputs": [],
   "source": [
    "# 从键盘输入一个字符串，直到回车结束，统计字符串中的大小写英文字母各有多少个。\n",
    "s = input('输入一段字符:')\n",
    "a = 0\n",
    "b = 0\n",
    "\n",
    "for x in s:\n",
    "    if x >='a' and x<='z':\n",
    "        a+=1\n",
    "    elif x>='A' and x<='Z':\n",
    "        b+=1\n",
    "        \n",
    "print('小写: ',a,'大写：',b)"
   ]
  },
  {
   "cell_type": "code",
   "execution_count": null,
   "metadata": {},
   "outputs": [],
   "source": [
    "# 有一分数序列：2/1，3/2，5/3，8/5，13/8，21/13…，求出这个数列的前 20 项之和。\n",
    "n = int(input('请输入项数： '))\n",
    " \n",
    "fenzi = 2#分子\n",
    "fenmu = 1#分母\n",
    "l = []\n",
    "s = 0\n",
    " \n",
    "for i in range(1,n+1):\n",
    "    a = fenzi\n",
    "    b = fenmu\n",
    "    \n",
    "    s += (a/b)\n",
    "    l.append('%s/%s'%(a,b))\n",
    "    \n",
    "    fenzi = a+b\n",
    "    fenmu = a\n",
    "    \n",
    "print('+'.join(str(i) for i in l),end = '')\n",
    "print('=%.2f'%s)"
   ]
  },
  {
   "cell_type": "code",
   "execution_count": null,
   "metadata": {},
   "outputs": [],
   "source": [
    "# 输入若干个同学的成绩，计算平均成绩，输入的成绩为负数或大于 100 时表示结束输入\n",
    "num=0\n",
    "score=0\n",
    "while True:\n",
    "        s=input(\"请输入学生的成绩:\")\n",
    "        if s==\"Q\" or s==\"q\":  # if s.upper()==\"Q\": 或 if s.lower()==\"q\":\n",
    "                break\n",
    "        if float(s)<0 or float(s)>100:\n",
    "                print(\"数据不合理，请重新输入:\")\n",
    "                continue\n",
    "        num+=1\n",
    "        score+=float(s)\n",
    "print(\"学生的人数:%d,学生的平均成绩%4.2f\"%(num,score/num))"
   ]
  },
  {
   "cell_type": "code",
   "execution_count": null,
   "metadata": {},
   "outputs": [],
   "source": [
    "# 输入三个正整数 a、b、n，精确计算 a/b 的结果到小数后 n 位。\n",
    "a=int(input('请输入正整数a:'))\n",
    "b=int(input('请输入正整数b:'))\n",
    "n=int(input('请输入正整数n:'))\n",
    "num=a/b\n",
    "d='%.{}f'.format(n)\n",
    "print(d)\n",
    "print(d %num)"
   ]
  },
  {
   "cell_type": "code",
   "execution_count": null,
   "metadata": {},
   "outputs": [],
   "source": [
    "# 一个猴子第一天摘下若干个桃子，当即吃了一半，还不过瘾，又多吃了一个。第二天早上又将剩下的桃子吃掉一半，又多吃了一个。以后每天早上都吃了前一天剩下的一半零一个。到第 10 天早上想再吃时，见只剩下一个桃子了。求第一天共摘了多少。#\n",
    "p = 1\n",
    "print('第10天吃之前就剩1个桃子')\n",
    "for i in range(1, 10):\n",
    "    p = (p+1) * 2\n",
    "    print('第%s天吃之前还有%s个桃子' % (i, p))\n",
    "print('第1天共摘了%s个桃子' % p)"
   ]
  },
  {
   "cell_type": "code",
   "execution_count": null,
   "metadata": {},
   "outputs": [],
   "source": [
    "# 有一序列：1，3，5，8，13，21...，用 while 循环求出这个数列的前 20 项之和\n",
    "a=1\n",
    "b=2\n",
    "s=1\n",
    "t=\"1+\"\n",
    "i=0\n",
    "while i < 19:\n",
    "    c = a+b\n",
    "    s = s+c\n",
    "    t = t+str(c)\n",
    "    if(i<18):\n",
    "        t =t+\"+\"\n",
    "    a = b\n",
    "    b = c\n",
    "    i = i+1\n",
    "print(t+\"=\"+str(s))"
   ]
  },
  {
   "cell_type": "code",
   "execution_count": 33,
   "metadata": {},
   "outputs": [
    {
     "name": "stdout",
     "output_type": "stream",
     "text": [
      "6\n",
      "[1, 2, 3]\n",
      "28\n",
      "[1, 2, 4, 7, 14]\n",
      "496\n",
      "[1, 2, 4, 8, 16, 31, 62, 124, 248]\n"
     ]
    }
   ],
   "source": [
    "#一个数如正好等于它的所有因子之和，则称为完数，例如 6 的因子有 1、2、3，而 6=1+2+3，因此 6 是一个完数。编程序找出 1000 之内的所有完数。\n",
    "from functools import reduce\n",
    "def sum(a,b):\n",
    "    return a+b\n",
    "for i in range(2,1001):\n",
    "    l = [1]\n",
    "    for j in range(2,int(i/2+1)):\n",
    "        if i%j==0:\n",
    "            l.append(j)\n",
    "    if i == reduce(sum,l):\n",
    "        print(i)\n",
    "        print(l)"
   ]
  },
  {
   "cell_type": "code",
   "execution_count": 32,
   "metadata": {},
   "outputs": [
    {
     "name": "stdout",
     "output_type": "stream",
     "text": [
      "6\n",
      "[1, 2, 3]\n",
      "28\n",
      "[1, 2, 4, 7, 14]\n",
      "496\n",
      "[1, 2, 4, 8, 16, 31, 62, 124, 248]\n"
     ]
    }
   ],
   "source": [
    "#有近千名学生排队，7 人一行余 3 人，5 人一行余 2 人，3 人一行余 1 人，编写程序求\n",
    "#学生人数。\n",
    "m=1000\n",
    "n=1000\n",
    "while True:\n",
    "    if m%7==3 and m%5==2 and m%3==1:\n",
    "        print(m)\n",
    "        break\n",
    "    if n%7==3 and n%5==2 and n%3==1:\n",
    "        print(n)\n",
    "        break\n",
    "    n=n+1  \n",
    "    m=m-1"
   ]
  },
  {
   "cell_type": "code",
   "execution_count": 34,
   "metadata": {},
   "outputs": [
    {
     "name": "stdout",
     "output_type": "stream",
     "text": [
      "8\n"
     ]
    }
   ],
   "source": [
    "#小华今年 12 岁，他妈妈比他大 20 岁，编写程序计算多少年后他妈妈年龄比他大一倍。\n",
    "y = 1\n",
    "while y < 150:\n",
    "    if 32 + y == 2*(12+y):\n",
    "        print(y)\n",
    "    y += "
   ]
  },
  {
   "cell_type": "code",
   "execution_count": 1,
   "metadata": {},
   "outputs": [
    {
     "name": "stdout",
     "output_type": "stream",
     "text": [
      "a的对手是z\n",
      "b的对手是x\n",
      "c的对手是y\n"
     ]
    }
   ],
   "source": [
    "#两个乒乓球队进行比赛，各出三人。甲队为 a,b,c 三人，乙队为 x,y,z 三人。已抽签决\n",
    "#定比赛名单。有人向队员打听比赛的名单。a 说他不和 x 比，c 说他不和 x,z 比，请编程序\n",
    "#找出三队赛手的名单。\n",
    "L1 = ['x', 'y', 'z']\n",
    "for a in L1:\n",
    "    for b in L1:\n",
    "        # 避免重复参赛\n",
    "        if a != b:\n",
    "            for c in L1:\n",
    "                # 避免重复参赛\n",
    "                if a != c and b != c:\n",
    "                    # 根据题意判断\n",
    "                    if a != 'x' and c != 'x' and c != 'z':\n",
    "                        print('a的对手是%s\\nb的对手是%s\\nc的对手是%s' % (a, b, c))"
   ]
  },
  {
   "cell_type": "code",
   "execution_count": 37,
   "metadata": {},
   "outputs": [
    {
     "name": "stdout",
     "output_type": "stream",
     "text": [
      "80.81130039300321 20\n"
     ]
    }
   ],
   "source": [
    "#目前世界人口是 60 亿，如每年按 1.5%的比例增长，则多少年后是 80 亿？\n",
    "x = 60\n",
    "year = 1\n",
    "while 1:\n",
    "    x *= 1.015\n",
    "    if x >= 80:\n",
    "        print(x,year)\n",
    "        break\n",
    "    else:\n",
    "        year += 1"
   ]
  },
  {
   "cell_type": "code",
   "execution_count": null,
   "metadata": {},
   "outputs": [],
   "source": [
    "#一球从 80 米高度自由下落，每次落地后返回原高度的一半，再落下。求它在第 10 次落\n",
    "#地时共经过多少米？第 10 次反弹多高？\n",
    "q = int(input('请输入高度：'))\n",
    "w = int(input('请输入落地的次数：'))\n",
    "lenth = q\n",
    "for i in range(1, w+1):\n",
    "    hight = q / 2 ** i\n",
    "    lenth =lenth+hight*2\n",
    "    if w == 1:\n",
    "        hight = 100\n",
    "        lenth = 100\n",
    "    if w - 1 == i:\n",
    "        print(\"第\", w, '反弹的高度为：', hight, '米')\n",
    "        print('共经过', lenth, '米')"
   ]
  }
 ],
 "metadata": {
  "kernelspec": {
   "display_name": "Python 3",
   "language": "python",
   "name": "python3"
  },
  "language_info": {
   "codemirror_mode": {
    "name": "ipython",
    "version": 3
   },
   "file_extension": ".py",
   "mimetype": "text/x-python",
   "name": "python",
   "nbconvert_exporter": "python",
   "pygments_lexer": "ipython3",
   "version": "3.7.1"
  }
 },
 "nbformat": 4,
 "nbformat_minor": 2
}
