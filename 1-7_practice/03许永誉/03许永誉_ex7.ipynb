{
 "cells": [
  {
   "cell_type": "markdown",
   "metadata": {},
   "source": [
    "# 练习七"
   ]
  },
  {
   "cell_type": "markdown",
   "metadata": {},
   "source": [
    "## 1.简述Python连接MySQL数据库的方法?"
   ]
  },
  {
   "cell_type": "code",
   "execution_count": null,
   "metadata": {},
   "outputs": [],
   "source": [
    " 1 在Windows命令行下进入到python安装目录下的Script目录下，运行命令：pip install PyMySQL。\n",
    " 2 连接到MySQL数据库，在python的shell命令行输入：db = pymysql.connect(\"localhost\",\"root\",\"123456\",\"world\" )，\n",
    "这里括号内的4个参数分别为：数据库所在的服务器地址（这里是本地主机），登陆用户名，登陆密码，要连接的数据库\n",
    "（这里是MySQL自带的一个示例数据库）。如果没有任何错误提示，则说明连接成功。\n",
    " 3 执行一句SQL语句，在python的shell命令行输入：\n",
    "   cursor = db.cursor() #创建游标对象\n",
    "  cursor.execute(\"SELECT VERSION()\") #执行SQL语句\n",
    "  data = cursor.fetchone() #获取返回数据\n",
    "  print (\"Database version : %s \" % data) #打印数据\n",
    "  db.close() # 关闭数据库连接"
   ]
  },
  {
   "cell_type": "markdown",
   "metadata": {},
   "source": [
    "## 2.fetchone ()怎么样判断读到数据库末尾?"
   ]
  },
  {
   "cell_type": "code",
   "execution_count": null,
   "metadata": {},
   "outputs": [],
   "source": []
  },
  {
   "cell_type": "markdown",
   "metadata": {},
   "source": [
    "## 3.fetchall()与fetchone ()有什么区别?"
   ]
  },
  {
   "cell_type": "code",
   "execution_count": null,
   "metadata": {},
   "outputs": [],
   "source": [
    "fetchone()返回的是一条查询结果！！！\n",
    "字段为空值null或是空字符串也会返回一个元祖，长度为1。\n",
    "\n",
    "fetchall()方法返回的是多条查询结果！！！\n",
    "对于空字符串（’’），返回的是二重元祖，里面的值是空字符串，长度为1。\n",
    "对于空值(null)返回的也是二重元祖，里面字段对应的值是None，len()得到的长度为1。"
   ]
  },
  {
   "cell_type": "markdown",
   "metadata": {},
   "source": [
    "## 4.rowcount()返回值代表什么?"
   ]
  },
  {
   "cell_type": "code",
   "execution_count": null,
   "metadata": {},
   "outputs": [],
   "source": [
    "类的对象。"
   ]
  },
  {
   "cell_type": "markdown",
   "metadata": {},
   "source": [
    "## 5.MySQL中怎么样使用带参数的SQL命令?"
   ]
  },
  {
   "cell_type": "code",
   "execution_count": null,
   "metadata": {},
   "outputs": [],
   "source": [
    "execute(self, query, args):执行单条sql语句,接收的参数为sql语句本身和使用的参数列表,返回值为受影响的行数"
   ]
  },
  {
   "cell_type": "markdown",
   "metadata": {},
   "source": [
    "## 6.数据库操作完成后为什么要调用commit()函数?"
   ]
  },
  {
   "cell_type": "code",
   "execution_count": null,
   "metadata": {},
   "outputs": [],
   "source": [
    "事务执行"
   ]
  },
  {
   "cell_type": "markdown",
   "metadata": {},
   "source": [
    "## 7.什么是游标cursor,它有什么作用?"
   ]
  },
  {
   "cell_type": "code",
   "execution_count": null,
   "metadata": {},
   "outputs": [],
   "source": [
    "游标（cursor）是系统为用户开设的一个数据缓冲区，存放SQL语句的执行结果。\n",
    "cursor用来读取数据库中的信息。cursor指向一条记录，cursor.next()能取到下一条记录"
   ]
  },
  {
   "cell_type": "markdown",
   "metadata": {},
   "source": [
    "## 8.Python怎么样连接Sqlite数据库?"
   ]
  },
  {
   "cell_type": "code",
   "execution_count": null,
   "metadata": {},
   "outputs": [],
   "source": [
    "1 将SQLite作为一个模块导入，模块名称为sqlite3（如果使用的是标准库）。\n",
    "之后可以创建一个到数据库文件的连接——如果文件不存在就会自动生成——通过提供一个文件名（可以是文件的绝对路径或相对路径）：\n",
    "import sqlite3\n",
    "conn = sqlite3.connect('F:/test/data.db')\n",
    "2 之后就能获得连接的游标：\n",
    "curs = conn.cursor()\n",
    "3 这个游标可以用来执行SQL查询。完成查询并且做出某些更改后确保已经进行了提交，这样才可以将这些修改真正的保存到文件中：\n",
    "conn.commit()\n",
    "4 可以在每次修改数据后都进行提交，准备关闭数据库时，使用close方法：\n",
    "conn.close()"
   ]
  }
 ],
 "metadata": {
  "kernelspec": {
   "display_name": "Python 3",
   "language": "python",
   "name": "python3"
  },
  "language_info": {
   "codemirror_mode": {
    "name": "ipython",
    "version": 3
   },
   "file_extension": ".py",
   "mimetype": "text/x-python",
   "name": "python",
   "nbconvert_exporter": "python",
   "pygments_lexer": "ipython3",
   "version": "3.7.4"
  }
 },
 "nbformat": 4,
 "nbformat_minor": 4
}
