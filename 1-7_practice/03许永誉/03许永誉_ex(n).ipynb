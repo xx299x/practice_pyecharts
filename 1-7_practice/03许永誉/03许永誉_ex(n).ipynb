{
 "cells": [
  {
   "cell_type": "code",
   "execution_count": 4,
   "metadata": {},
   "outputs": [],
   "source": [
    "from pony.orm import *\n",
    "\n",
    "\n",
    "db = Database()\n",
    "\n",
    "\n",
    "class Student(db.Entity):\n",
    "    id = PrimaryKey(int, auto=True)\n",
    "    Class = Required('Class')\n",
    "    name = Required(str, 30, column='name')\n",
    "    passwd = Optional(str, column='passwd')\n",
    "    no = Optional(str)\n",
    "    courses = Set('Course')\n",
    "    scores = Set('Score')\n",
    "\n",
    "\n",
    "class Class(db.Entity):\n",
    "    id = PrimaryKey(int, auto=True)\n",
    "    students = Set(Student)\n",
    "    name = Optional(str, 30, column='name')\n",
    "\n",
    "\n",
    "class Course(db.Entity):\n",
    "    id = PrimaryKey(int, auto=True)\n",
    "    name = Optional(str, 30, column='name')\n",
    "    students = Set(Student)\n",
    "    teacher = Required('Teacher')\n",
    "\n",
    "\n",
    "class Teacher(db.Entity):\n",
    "    id = PrimaryKey(int, auto=True)\n",
    "    name = Optional(str, 30, column='name')\n",
    "    passwd = Optional(str, column='passwd')\n",
    "    no = Optional(str, column='no')\n",
    "    courses = Set(Course)\n",
    "\n",
    "\n",
    "class Answer(db.Entity):\n",
    "    id = PrimaryKey(int, auto=True)\n",
    "    question_id = Optional(str, column='question_id')\n",
    "    answer = Optional(str, column='answer')\n",
    "    score = Required('Score')\n",
    "\n",
    "\n",
    "class Question(db.Entity):\n",
    "    id = PrimaryKey(int, auto=True)\n",
    "    question = Optional(str, 30, column='name')\n",
    "    exams = Set('Exam')\n",
    "\n",
    "\n",
    "class Exam(db.Entity):\n",
    "    id = PrimaryKey(int, auto=True)\n",
    "    name = Optional(str, 30, column='name')\n",
    "    scores = Set('Score')\n",
    "    questions = Set(Question)\n",
    "\n",
    "\n",
    "class Score(db.Entity):\n",
    "    id = PrimaryKey(int, auto=True)\n",
    "    score = Optional(str)\n",
    "    student = Required(Student)\n",
    "    answers = Set(Answer)\n",
    "    exam = Required(Exam)\n",
    "\n",
    "\n",
    "\n",
    "# db.generate_mapping()"
   ]
  },
  {
   "cell_type": "code",
   "execution_count": 5,
   "metadata": {},
   "outputs": [
    {
     "name": "stdout",
     "output_type": "stream",
     "text": [
      "GET NEW CONNECTION\n",
      "RELEASE CONNECTION\n",
      "GET CONNECTION FROM THE LOCAL POOL\n",
      "PRAGMA foreign_keys = false\n",
      "BEGIN IMMEDIATE TRANSACTION\n",
      "SELECT \"Answer\".\"id\", \"Answer\".\"question_id\", \"Answer\".\"answer\", \"Answer\".\"score\"\n",
      "FROM \"Answer\" \"Answer\"\n",
      "WHERE 0 = 1\n",
      "\n",
      "SELECT \"Class\".\"id\", \"Class\".\"name\"\n",
      "FROM \"Class\" \"Class\"\n",
      "WHERE 0 = 1\n",
      "\n",
      "SELECT \"Course\".\"id\", \"Course\".\"name\", \"Course\".\"teacher\"\n",
      "FROM \"Course\" \"Course\"\n",
      "WHERE 0 = 1\n",
      "\n",
      "SELECT \"Course_Student\".\"course\", \"Course_Student\".\"student\"\n",
      "FROM \"Course_Student\" \"Course_Student\"\n",
      "WHERE 0 = 1\n",
      "\n",
      "SELECT \"Exam\".\"id\", \"Exam\".\"name\"\n",
      "FROM \"Exam\" \"Exam\"\n",
      "WHERE 0 = 1\n",
      "\n",
      "SELECT \"Exam_Question\".\"exam\", \"Exam_Question\".\"question\"\n",
      "FROM \"Exam_Question\" \"Exam_Question\"\n",
      "WHERE 0 = 1\n",
      "\n",
      "SELECT \"Question\".\"id\", \"Question\".\"name\"\n",
      "FROM \"Question\" \"Question\"\n",
      "WHERE 0 = 1\n",
      "\n",
      "SELECT \"Score\".\"id\", \"Score\".\"score\", \"Score\".\"student\", \"Score\".\"exam\"\n",
      "FROM \"Score\" \"Score\"\n",
      "WHERE 0 = 1\n",
      "\n",
      "SELECT \"Student\".\"id\", \"Student\".\"Class\", \"Student\".\"name\", \"Student\".\"passwd\", \"Student\".\"no\"\n",
      "FROM \"Student\" \"Student\"\n",
      "WHERE 0 = 1\n",
      "\n",
      "SELECT \"Teacher\".\"id\", \"Teacher\".\"name\", \"Teacher\".\"passwd\", \"Teacher\".\"no\"\n",
      "FROM \"Teacher\" \"Teacher\"\n",
      "WHERE 0 = 1\n",
      "\n",
      "COMMIT\n",
      "PRAGMA foreign_keys = true\n",
      "CLOSE CONNECTION\n"
     ]
    }
   ],
   "source": [
    "# db.generate_mapping()\n",
    "db.bind(provider='sqlite', filename='d:\\code.sqlite')\n",
    "db.generate_mapping(create_tables=True)\n",
    "set_sql_debug(True)"
   ]
  },
  {
   "cell_type": "markdown",
   "metadata": {},
   "source": [
    "# 创建数据"
   ]
  },
  {
   "cell_type": "code",
   "execution_count": 6,
   "metadata": {},
   "outputs": [
    {
     "name": "stdout",
     "output_type": "stream",
     "text": [
      "GET NEW CONNECTION\n",
      "BEGIN IMMEDIATE TRANSACTION\n",
      "INSERT INTO \"Teacher\" (\"name\", \"passwd\", \"no\") VALUES (?, ?, ?)\n",
      "['毛凌志', '', '']\n",
      "\n",
      "INSERT INTO \"Teacher\" (\"name\", \"passwd\", \"no\") VALUES (?, ?, ?)\n",
      "['范薇娜', '', '']\n",
      "\n",
      "INSERT INTO \"Teacher\" (\"name\", \"passwd\", \"no\") VALUES (?, ?, ?)\n",
      "['张鑫', '', '']\n",
      "\n",
      "INSERT INTO \"Teacher\" (\"name\", \"passwd\", \"no\") VALUES (?, ?, ?)\n",
      "['张三', '', '']\n",
      "\n",
      "INSERT INTO \"Teacher\" (\"name\", \"passwd\", \"no\") VALUES (?, ?, ?)\n",
      "['李四', '', '']\n",
      "\n",
      "INSERT INTO \"Class\" (\"name\") VALUES (?)\n",
      "['商数181']\n",
      "\n",
      "INSERT INTO \"Course\" (\"name\", \"teacher\") VALUES (?, ?)\n",
      "['数据采集与处理', 1]\n",
      "\n",
      "INSERT INTO \"Course\" (\"name\", \"teacher\") VALUES (?, ?)\n",
      "['数据可视化高级应用', 2]\n",
      "\n",
      "INSERT INTO \"Course\" (\"name\", \"teacher\") VALUES (?, ?)\n",
      "['运营数据分析', 3]\n",
      "\n",
      "INSERT INTO \"Course\" (\"name\", \"teacher\") VALUES (?, ?)\n",
      "['茶文化', 4]\n",
      "\n",
      "INSERT INTO \"Course\" (\"name\", \"teacher\") VALUES (?, ?)\n",
      "['电商美工', 5]\n",
      "\n",
      "INSERT INTO \"Student\" (\"Class\", \"name\", \"passwd\", \"no\") VALUES (?, ?, ?, ?)\n",
      "[1, 'lqb', '', '20182090104']\n",
      "\n",
      "INSERT INTO \"Student\" (\"Class\", \"name\", \"passwd\", \"no\") VALUES (?, ?, ?, ?)\n",
      "[1, 'wq', '', '20182090146']\n",
      "\n",
      "EXECUTEMANY (8)\n",
      "INSERT INTO \"Course_Student\" (\"course\", \"student\") VALUES (?, ?)\n",
      "[3, 2]\n",
      "[2, 2]\n",
      "[4, 1]\n",
      "[3, 1]\n",
      "[2, 1]\n",
      "[5, 2]\n",
      "[1, 2]\n",
      "[1, 1]\n",
      "\n",
      "COMMIT\n"
     ]
    }
   ],
   "source": [
    "t1 = Teacher(name=\"毛凌志\")\n",
    "t2 = Teacher(name=\"范薇娜\")\n",
    "t3 = Teacher(name=\"张鑫\")\n",
    "t4 = Teacher(name=\"张三\")\n",
    "t5 = Teacher(name=\"李四\")\n",
    "cls = Class(name=\"商数181\")\n",
    "course1 = Course(name=\"数据采集与处理\",teacher=t1)\n",
    "course2 = Course(name=\"数据可视化高级应用\",teacher=t2)\n",
    "course3 = Course(name=\"运营数据分析\",teacher=t3)\n",
    "course4 = Course(name=\"茶文化\",teacher=t4)\n",
    "course5 = Course(name=\"电商美工\",teacher=t5)\n",
    "s1 = Student(name=\"lqb\",no=\"20182090104\",Class = cls,courses=(course1,course2,course3,course4))\n",
    "s2 = Student(name=\"wq\",no=\"20182090146\",Class = cls,courses=(course1,course2,course3,course5))\n",
    "db.commit()"
   ]
  },
  {
   "cell_type": "markdown",
   "metadata": {},
   "source": [
    "# 查询学生集合"
   ]
  },
  {
   "cell_type": "code",
   "execution_count": 7,
   "metadata": {},
   "outputs": [
    {
     "name": "stdout",
     "output_type": "stream",
     "text": [
      "<pony.orm.core.Query object at 0x00000229359DCA90>\n"
     ]
    }
   ],
   "source": [
    "s = Student.select(lambda p:p.name=='lqb')\n",
    "print(s)"
   ]
  },
  {
   "cell_type": "code",
   "execution_count": 9,
   "metadata": {},
   "outputs": [
    {
     "name": "stdout",
     "output_type": "stream",
     "text": [
      "BEGIN IMMEDIATE TRANSACTION\n",
      "SELECT \"p\".\"id\", \"p\".\"Class\", \"p\".\"name\", \"p\".\"passwd\", \"p\".\"no\"\n",
      "FROM \"Student\" \"p\"\n",
      "WHERE \"p\".\"name\" = 'lqb'\n",
      "\n",
      "1\n"
     ]
    }
   ],
   "source": [
    "print(len(s))"
   ]
  },
  {
   "cell_type": "code",
   "execution_count": 10,
   "metadata": {},
   "outputs": [
    {
     "name": "stdout",
     "output_type": "stream",
     "text": [
      "20182090104\n"
     ]
    }
   ],
   "source": [
    "print(list(s)[0].no)"
   ]
  },
  {
   "cell_type": "markdown",
   "metadata": {},
   "source": [
    "# 商数181共有多少学生"
   ]
  },
  {
   "cell_type": "code",
   "execution_count": 12,
   "metadata": {},
   "outputs": [
    {
     "name": "stdout",
     "output_type": "stream",
     "text": [
      "SELECT \"c\".\"id\", \"c\".\"name\"\n",
      "FROM \"Class\" \"c\"\n",
      "WHERE \"c\".\"name\" = '商数181'\n",
      "\n",
      "<pony.orm.core.Query object at 0x0000022935A21320> 1\n",
      "20182090146\n",
      "电商美工\n",
      "数据采集与处理\n",
      "运营数据分析\n",
      "数据可视化高级应用\n",
      "==========\n",
      "20182090104\n",
      "茶文化\n",
      "数据采集与处理\n",
      "运营数据分析\n",
      "数据可视化高级应用\n",
      "==========\n",
      "<class 'pony.orm.core.Query'>\n",
      "2\n",
      "2\n"
     ]
    }
   ],
   "source": [
    "c = Class.select(lambda c:c.name=='商数181')\n",
    "print(c,len(c))\n",
    "for x in c:\n",
    "    for stu in x.students:\n",
    "        print(stu.no)\n",
    "        for course in stu.courses:\n",
    "            print(course.name)\n",
    "        print(\"=\"*10)\n",
    "print(type(c))\n",
    "#以下两种方法均可\n",
    "print(list(c)[0].students.count())\n",
    "print(len(list(c)[0].students))"
   ]
  },
  {
   "cell_type": "markdown",
   "metadata": {},
   "source": [
    "# 查询特定的单个学生"
   ]
  },
  {
   "cell_type": "code",
   "execution_count": 13,
   "metadata": {},
   "outputs": [
    {
     "name": "stdout",
     "output_type": "stream",
     "text": [
      "SELECT \"id\", \"Class\", \"name\", \"passwd\", \"no\"\n",
      "FROM \"Student\"\n",
      "WHERE \"name\" = ?\n",
      "LIMIT 2\n",
      "['20182090104']\n",
      "\n"
     ]
    }
   ],
   "source": [
    "stu = Student.get(name='20182090104')\n",
    "if stu != None:\n",
    "    stu.name=\"lqb\"\n",
    "    db.commit()"
   ]
  },
  {
   "cell_type": "markdown",
   "metadata": {},
   "source": [
    "# 查询学生学的课程"
   ]
  },
  {
   "cell_type": "code",
   "execution_count": 17,
   "metadata": {},
   "outputs": [
    {
     "name": "stdout",
     "output_type": "stream",
     "text": [
      "CourseSet([Course[4], Course[1], Course[3], Course[2]])\n",
      "茶文化\n",
      "数据采集与处理\n",
      "运营数据分析\n",
      "数据可视化高级应用\n"
     ]
    }
   ],
   "source": [
    "i = list(s)[0]\n",
    "print(i.courses)\n",
    "for course in i.courses:\n",
    "    print(course.name)"
   ]
  },
  {
   "cell_type": "code",
   "execution_count": 18,
   "metadata": {},
   "outputs": [
    {
     "name": "stdout",
     "output_type": "stream",
     "text": [
      "茶文化 张三\n",
      "茶文化\n",
      "数据采集与处理 毛凌志\n",
      "数据采集与处理\n",
      "运营数据分析 张鑫\n",
      "运营数据分析\n",
      "数据可视化高级应用 范薇娜\n",
      "数据可视化高级应用\n"
     ]
    }
   ],
   "source": [
    "for course in i.courses:\n",
    "    print(course.name,course.teacher.name)#链式表达\n",
    "    for teacher_course in course.teacher.courses:\n",
    "        print(teacher_course.name)"
   ]
  },
  {
   "cell_type": "markdown",
   "metadata": {},
   "source": [
    "# 查询老师相关信息"
   ]
  },
  {
   "cell_type": "code",
   "execution_count": 23,
   "metadata": {},
   "outputs": [
    {
     "name": "stdout",
     "output_type": "stream",
     "text": [
      "茶文化\n"
     ]
    }
   ],
   "source": [
    "for h in list(i.courses)[0].teacher.courses:\n",
    "    print(h.name)"
   ]
  },
  {
   "cell_type": "markdown",
   "metadata": {},
   "source": [
    "# 查询相关课程老师的姓名"
   ]
  },
  {
   "cell_type": "code",
   "execution_count": 22,
   "metadata": {},
   "outputs": [
    {
     "data": {
      "text/plain": [
       "'张三'"
      ]
     },
     "execution_count": 22,
     "metadata": {},
     "output_type": "execute_result"
    }
   ],
   "source": [
    "list(i.courses)[0].teacher.name"
   ]
  },
  {
   "cell_type": "code",
   "execution_count": null,
   "metadata": {},
   "outputs": [],
   "source": []
  }
 ],
 "metadata": {
  "kernelspec": {
   "display_name": "Python 3",
   "language": "python",
   "name": "python3"
  },
  "language_info": {
   "codemirror_mode": {
    "name": "ipython",
    "version": 3
   },
   "file_extension": ".py",
   "mimetype": "text/x-python",
   "name": "python",
   "nbconvert_exporter": "python",
   "pygments_lexer": "ipython3",
   "version": "3.7.0"
  }
 },
 "nbformat": 4,
 "nbformat_minor": 2
}
