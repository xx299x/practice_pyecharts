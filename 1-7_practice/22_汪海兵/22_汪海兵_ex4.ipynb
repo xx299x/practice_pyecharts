{
 "cells": [
  {
   "cell_type": "markdown",
   "metadata": {},
   "source": [
    "# 1. 能直接修改字符串的某个字符吗？例如 s=\"abc\",s[0]= \"1\"可以吗？"
   ]
  },
  {
   "cell_type": "markdown",
   "metadata": {},
   "source": [
    "# 答：在Python中字符串是不可改变的对象(immutable)，因此无法直接修改字符串的某一位字符。\n",
    "一种可行的方式，是将字符串转换为列表，修改列表的元素后，在重新连接为字符串"
   ]
  },
  {
   "cell_type": "markdown",
   "metadata": {},
   "source": [
    "# 2.从键盘输入一个字符串，直到回车结束，统计字符串中的大小写英文字母各有多少个。"
   ]
  },
  {
   "cell_type": "code",
   "execution_count": 48,
   "metadata": {},
   "outputs": [
    {
     "name": "stdout",
     "output_type": "stream",
     "text": [
      "gkg123\n",
      "123\n"
     ]
    }
   ],
   "source": [
    "s=input ()\n",
    "for x in s:\n",
    "    if x>=\"0\" and x<=\"9\":\n",
    "        print(x, end=\"\")\n",
    "print ()"
   ]
  },
  {
   "cell_type": "markdown",
   "metadata": {},
   "source": [
    "# 3. 设计一个字符串函数 reverse(s)，它返回字符串 s 的反串，例如 reverse(\"abc\")返回\"cba"
   ]
  },
  {
   "cell_type": "code",
   "execution_count": 49,
   "metadata": {},
   "outputs": [
    {
     "name": "stdout",
     "output_type": "stream",
     "text": [
      "dsadas\n"
     ]
    }
   ],
   "source": [
    "def reverse(s):\n",
    "    t=\"\"\n",
    "    for e in s:\n",
    "        t=e+t\n",
    "    return t\n",
    "print(reverse(\"sadasd\"))"
   ]
  },
  {
   "cell_type": "markdown",
   "metadata": {},
   "source": [
    "# 4. 元祖与列表有什么不同？"
   ]
  },
  {
   "cell_type": "markdown",
   "metadata": {},
   "source": [
    "# 答：1.tuple是不可变类型，大小固定，而 list 是可变类型、数据可以动态变化\n",
    "2.tuple 用于存储异构(heterogeneous)数据，当做没有字段名的记录来用，比如用 tuple 来记录一个人的身高、体重、年龄。列表一般用于存储同构数据(homogenous)，同构数据就是具有相同意义的数据"
   ]
  },
  {
   "cell_type": "markdown",
   "metadata": {},
   "source": [
    "# 5. 一个列表中的元素类型要求一致吗？例如 list=[1, \"a\"]是正确的吗？"
   ]
  },
  {
   "cell_type": "code",
   "execution_count": 47,
   "metadata": {},
   "outputs": [
    {
     "name": "stdout",
     "output_type": "stream",
     "text": [
      "[1, 'a']\n"
     ]
    }
   ],
   "source": [
    "list=[1, \"a\"]\n",
    "print(list)"
   ]
  },
  {
   "cell_type": "markdown",
   "metadata": {},
   "source": [
    "# 6. 列表是否还可以嵌套别的列表？列举一个例子说明。"
   ]
  },
  {
   "cell_type": "markdown",
   "metadata": {},
   "source": [
    "# 答：可 例如:seasons = [[1,2,3],[4,5,6],[7,8,9],[10,11,12]]上面就是列表的嵌套，看变量定义就知道是每个季节的月份"
   ]
  },
  {
   "cell_type": "markdown",
   "metadata": {},
   "source": [
    "# 7. 用一个字典描述一个日期，包含年 year、月 month、日 day 的键字。"
   ]
  },
  {
   "cell_type": "code",
   "execution_count": 56,
   "metadata": {},
   "outputs": [
    {
     "name": "stdout",
     "output_type": "stream",
     "text": [
      "2020\n",
      "3\n",
      "2\n"
     ]
    }
   ],
   "source": [
    "d={'year':2020,'month':3,'day':2}\n",
    "print(d['year'])\n",
    "print(d['month'])\n",
    "print(d['day'])"
   ]
  },
  {
   "cell_type": "markdown",
   "metadata": {},
   "source": [
    "# 8. Python 的字典数据类型与 JSON 数据类有很多相似的地方，说明有哪些共同点。"
   ]
  },
  {
   "cell_type": "markdown",
   "metadata": {},
   "source": [
    "# 答： python dict 字符串用单引号，json强制规定双引号。\n",
    "python dict 里可以嵌套tuple, json里只有arrayjson.dumps({1:2}) 的结果是 {“1”:2}，而python中的json模块函数：json.dumps((1,2)) 的结果是[1,2]\n",
    "json key name 必须是字符串, python 是hashable, {(1,2):1} 在python里是合法的,因为tuple是hashable type;{[1,2]:1} 在python里TypeError: unhashable “list”\n",
    "json: true false null ；python:,True False None\n",
    "Python中提供了json.loads()转换函数，方便json数据的调用"
   ]
  },
  {
   "cell_type": "markdown",
   "metadata": {},
   "source": [
    "# 9. 写出下列程序执行的结果：\n",
    "d={\"students\":[{\"name\":\"A\",\"sex\":\"M\"},{\"name\":\"B\",\"sex\":\"C\"}]}\n",
    "for k1 in d.keys():\n",
    " for k2 in d[k1]:\n",
    " for k3 in k2.keys():\n",
    " print(k3,k2[k3])"
   ]
  },
  {
   "cell_type": "code",
   "execution_count": 45,
   "metadata": {},
   "outputs": [
    {
     "name": "stdout",
     "output_type": "stream",
     "text": [
      "name A\n",
      "sex M\n",
      "name B\n",
      "sex C\n"
     ]
    }
   ],
   "source": [
    "d={\"students\":[{\"name\":\"A\",\"sex\":\"M\"},{\"name\":\"B\",\"sex\":\"C\"}]}\n",
    "for k1 in d.keys():\n",
    "    \n",
    "    for k2 in d[k1]:\n",
    "       \n",
    "        for k3 in k2.keys():\n",
    "            \n",
    "            print(k3,k2[k3])"
   ]
  },
  {
   "cell_type": "markdown",
   "metadata": {},
   "source": [
    "# 10. 如果使用字典描述一个时间，例如 t={\" hour\":12, \"minute\":23, \"second\":34}表示\n",
    "时间\"12:23:34\",设计一个函数 interval(t1,t2)，计算时间 t1 与 t2 的时间差，返回相\n",
    "同结构的一个字典时间。"
   ]
  },
  {
   "cell_type": "code",
   "execution_count": null,
   "metadata": {},
   "outputs": [],
   "source": []
  }
 ],
 "metadata": {
  "kernelspec": {
   "display_name": "Python 3",
   "language": "python",
   "name": "python3"
  },
  "language_info": {
   "codemirror_mode": {
    "name": "ipython",
    "version": 3
   },
   "file_extension": ".py",
   "mimetype": "text/x-python",
   "name": "python",
   "nbconvert_exporter": "python",
   "pygments_lexer": "ipython3",
   "version": "3.7.4"
  }
 },
 "nbformat": 4,
 "nbformat_minor": 2
}
