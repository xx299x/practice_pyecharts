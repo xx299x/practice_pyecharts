{
 "cells": [
  {
   "cell_type": "markdown",
   "metadata": {},
   "source": [
    "# 1.简述 Python 连接 MySQL 数据库的方法？\n"
   ]
  },
  {
   "cell_type": "code",
   "execution_count": null,
   "metadata": {},
   "outputs": [],
   "source": [
    "Python没有自带对MySQL数据库的支持，必须另外安装。安装也很简单，进入Python的安装目录的scripts 子目录，找到pip.exe文件执行:pip install pumysql\n",
    "就可以安装pymysql的驱动程序，在Python中就可以使用import pymysq1引入这个模块驱动MySQL数据库。\n",
    "Python连接MySQL数据库的方法如下:\n",
    "    con=\n",
    "pymysql.connect (host=\" 127.0.0.1 , port=3306, user=' root' , passwd=' 123456 , db=' mydb”, charset=\" utf8\")    "
   ]
  },
  {
   "cell_type": "markdown",
   "metadata": {},
   "source": [
    "# 2.fetchone()怎么样判断读到数据库末尾？\n"
   ]
  },
  {
   "cell_type": "code",
   "execution_count": null,
   "metadata": {},
   "outputs": [],
   "source": [
    "执行该语句的时候返回None"
   ]
  },
  {
   "cell_type": "markdown",
   "metadata": {},
   "source": [
    "# 3.fetchall()与 fetchone()有什么区别？"
   ]
  },
  {
   "cell_type": "code",
   "execution_count": null,
   "metadata": {},
   "outputs": [],
   "source": [
    "fetchone() 返回单个的元组，也就是一条记录(row)，如果没有结果，则python返回 None\n",
    "fetchall() 返回多个元组，即返回多个记录(rows),如果没有结果 则返回 ()"
   ]
  },
  {
   "cell_type": "markdown",
   "metadata": {},
   "source": [
    "# 4.rowcount()返回值代表什么？"
   ]
  },
  {
   "cell_type": "code",
   "execution_count": null,
   "metadata": {},
   "outputs": [],
   "source": [
    "对数据库进行操作后获得受影响的行数"
   ]
  },
  {
   "cell_type": "markdown",
   "metadata": {},
   "source": [
    "# 5.MySQL 中怎么样使用带参数的 SQL 命令？# "
   ]
  },
  {
   "cell_type": "code",
   "execution_count": null,
   "metadata": {},
   "outputs": [],
   "source": [
    "cursor.execute (带参数的SQL命令，(參数列表))其中带参数的SQL命令是SQL命令中把不确定的值用参数表示，MySQL数据库参数统-用\"%s\"表示，参数列表是对应参数的具体值，它们放在-一个元组或者列表中，例如:\n",
    "    cursor.execute (”insert into students (pNo, pName) values (%s, %s)\", (' 1',' R\"J'))\n",
    "    在执行时pNo, pName的值时参数%s, %s表示的，具体的值由后面的(1',' R\"J' )提供,因此pNo=' 1’，pName='R\"J'。                "
   ]
  },
  {
   "cell_type": "markdown",
   "metadata": {},
   "source": [
    "# 6.数据库操作完成后为什么要调用 commit()函数？"
   ]
  },
  {
   "cell_type": "code",
   "execution_count": null,
   "metadata": {},
   "outputs": [],
   "source": [
    "所有数据库更新操作完毕后要记住执行con.commit() 命令，不然这些更新只在内存中，没有真正更新到数据库文件中。"
   ]
  },
  {
   "cell_type": "markdown",
   "metadata": {},
   "source": [
    "# 7.什么是游标 cursor，它有什么作用？"
   ]
  },
  {
   "cell_type": "code",
   "execution_count": null,
   "metadata": {},
   "outputs": [],
   "source": [
    "1.cursor是-一个重要的对象\n",
    "2.可以使用它执行各种各样的SQL命令,方法是:cursor.execute (SQL)"
   ]
  },
  {
   "cell_type": "markdown",
   "metadata": {},
   "source": [
    "# 8.Python 怎么样连接 Sqlite 数据库？\n"
   ]
  },
  {
   "cell_type": "code",
   "execution_count": 1,
   "metadata": {},
   "outputs": [],
   "source": [
    "import sqlite3\n",
    "con=sqlite3.connect(\" test.db\" )\n",
    "#其中connect是sqlite3的一一个方法，test.db 是sqlite3数据库文件，\n",
    "#文件名称与扩展名可以任意，test.db 对应当前目录下的一一个数据库文件。\n",
    "#如果test.db不存在就创建它，并打开对它的连接，如果test.db已经存在就打开连接。connect 返回的对象con时一一个数据库连接对象，用它可以操作数据库。"
   ]
  },
  {
   "cell_type": "code",
   "execution_count": null,
   "metadata": {},
   "outputs": [],
   "source": []
  }
 ],
 "metadata": {
  "kernelspec": {
   "display_name": "Python 3",
   "language": "python",
   "name": "python3"
  },
  "language_info": {
   "codemirror_mode": {
    "name": "ipython",
    "version": 3
   },
   "file_extension": ".py",
   "mimetype": "text/x-python",
   "name": "python",
   "nbconvert_exporter": "python",
   "pygments_lexer": "ipython3",
   "version": "3.7.4"
  }
 },
 "nbformat": 4,
 "nbformat_minor": 2
}
