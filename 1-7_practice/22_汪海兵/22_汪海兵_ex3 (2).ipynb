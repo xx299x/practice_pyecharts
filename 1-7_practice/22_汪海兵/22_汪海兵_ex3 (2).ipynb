{
 "cells": [
  {
   "cell_type": "code",
   "execution_count": 1,
   "metadata": {},
   "outputs": [],
   "source": [
    "from pony.orm import *\n",
    "\n",
    "\n",
    "db = Database()\n",
    "\n",
    "\n",
    "class Student(db.Entity):\n",
    "    id = PrimaryKey(int, auto=True)\n",
    "    Class = Required('Class')\n",
    "    no = Optional(str, column='no')\n",
    "    passwd = Optional(str, column='passwd')\n",
    "    courses = Set('Course')\n",
    "    name = Optional(str, column='name')\n",
    "\n",
    "\n",
    "class Class(db.Entity):\n",
    "    id = PrimaryKey(int, auto=True)\n",
    "    students = Set(Student)\n",
    "    name = Optional(str, column='name')\n",
    "\n",
    "\n",
    "class Course(db.Entity):\n",
    "    id = PrimaryKey(int, auto=True)\n",
    "    students = Set(Student)\n",
    "    name = Optional(str, column='name')\n",
    "\n",
    "\n",
    "\n",
    "\n",
    "\n",
    "\n",
    "\n",
    "\n",
    "#db.generate_mapping()"
   ]
  },
  {
   "cell_type": "code",
   "execution_count": 2,
   "metadata": {},
   "outputs": [],
   "source": [
    "db.bind(provider='sqlite',filename='C:/Users/86176/pony1.sqlite')\n",
    "db.generate_mapping(create_tables=True)\n",
    "set_sql_debug(True)"
   ]
  },
  {
   "cell_type": "code",
   "execution_count": 3,
   "metadata": {
    "scrolled": true
   },
   "outputs": [
    {
     "name": "stdout",
     "output_type": "stream",
     "text": [
      "GET NEW CONNECTION\n",
      "BEGIN IMMEDIATE TRANSACTION\n",
      "INSERT INTO \"Class\" (\"name\") VALUES (?)\n",
      "['菜鸟集中营']\n",
      "\n",
      "INSERT INTO \"Course\" (\"name\") VALUES (?)\n",
      "['混子的自我修养']\n",
      "\n",
      "INSERT INTO \"Course\" (\"name\") VALUES (?)\n",
      "['单杀河蟹教学']\n",
      "\n",
      "INSERT INTO \"Course\" (\"name\") VALUES (?)\n",
      "['演员入门指南']\n",
      "\n",
      "INSERT INTO \"Course\" (\"name\") VALUES (?)\n",
      "['被打爆如何点投降']\n",
      "\n",
      "INSERT INTO \"Course\" (\"name\") VALUES (?)\n",
      "['精神语录300首']\n",
      "\n",
      "INSERT INTO \"Student\" (\"Class\", \"no\", \"passwd\", \"name\") VALUES (?, ?, ?, ?)\n",
      "[1, '01', '123456', '黄忠']\n",
      "\n",
      "INSERT INTO \"Student\" (\"Class\", \"no\", \"passwd\", \"name\") VALUES (?, ?, ?, ?)\n",
      "[1, '02', '123456', '马超']\n",
      "\n",
      "INSERT INTO \"Student\" (\"Class\", \"no\", \"passwd\", \"name\") VALUES (?, ?, ?, ?)\n",
      "[1, '03', '123456', '关羽']\n",
      "\n",
      "EXECUTEMANY (12)\n",
      "INSERT INTO \"Course_Student\" (\"course\", \"student\") VALUES (?, ?)\n",
      "[5, 2]\n",
      "[1, 2]\n",
      "[1, 1]\n",
      "[2, 2]\n",
      "[2, 1]\n",
      "[3, 3]\n",
      "[5, 3]\n",
      "[3, 1]\n",
      "[2, 3]\n",
      "[3, 2]\n",
      "[1, 3]\n",
      "[4, 1]\n",
      "\n",
      "COMMIT\n"
     ]
    }
   ],
   "source": [
    "cls1 = Class(name=\"菜鸟集中营\")\n",
    "c1 = Course(name=\"混子的自我修养\")\n",
    "c2 = Course(name=\"单杀河蟹教学\")\n",
    "c3 = Course(name=\"演员入门指南\")\n",
    "c4 = Course(name=\"被打爆如何点投降\")\n",
    "c5 = Course(name=\"精神语录300首\")\n",
    "s1 = Student(name=\"黄忠\",no=\"01\",Class = cls1,passwd=\"123456\",courses=(c1,c2,c3,c4))\n",
    "s2 = Student(name=\"马超\",no=\"02\",Class = cls1,passwd=\"123456\",courses=(c1,c2,c3,c5))\n",
    "s3 = Student(name=\"关羽\",no=\"03\",Class = cls1,passwd=\"123456\",courses=(c1,c2,c3,c5))\n",
    "db.commit()"
   ]
  },
  {
   "cell_type": "markdown",
   "metadata": {},
   "source": [
    "# 菜鸟集中营有多少学生分？"
   ]
  },
  {
   "cell_type": "code",
   "execution_count": 4,
   "metadata": {
    "scrolled": true
   },
   "outputs": [
    {
     "name": "stdout",
     "output_type": "stream",
     "text": [
      "BEGIN IMMEDIATE TRANSACTION\n",
      "SELECT \"c\".\"id\", \"c\".\"name\"\n",
      "FROM \"Class\" \"c\"\n",
      "WHERE \"c\".\"name\" = '菜鸟集中营'\n",
      "\n",
      "3\n"
     ]
    }
   ],
   "source": [
    "cc = Class.select(lambda c:c.name=='菜鸟集中营')\n",
    "print(len(list(cc)[0].students))"
   ]
  },
  {
   "cell_type": "markdown",
   "metadata": {},
   "source": [
    "# 该班级学生分别学习了什么课程？\n"
   ]
  },
  {
   "cell_type": "code",
   "execution_count": 5,
   "metadata": {},
   "outputs": [
    {
     "name": "stdout",
     "output_type": "stream",
     "text": [
      "马超\n",
      "演员入门指南\n",
      "混子的自我修养\n",
      "精神语录300首\n",
      "单杀河蟹教学\n",
      "=====\n",
      "黄忠\n",
      "演员入门指南\n",
      "混子的自我修养\n",
      "被打爆如何点投降\n",
      "单杀河蟹教学\n",
      "=====\n",
      "关羽\n",
      "演员入门指南\n",
      "混子的自我修养\n",
      "精神语录300首\n",
      "单杀河蟹教学\n",
      "=====\n"
     ]
    }
   ],
   "source": [
    "for c in cc:\n",
    "    for stu in c.students:\n",
    "        print(stu.name)\n",
    "        for course in stu.courses :\n",
    "            print(course.name)\n",
    "        print(\"=\"*5)\n",
    "            \n",
    "        \n",
    "    "
   ]
  },
  {
   "cell_type": "code",
   "execution_count": null,
   "metadata": {},
   "outputs": [],
   "source": []
  }
 ],
 "metadata": {
  "kernelspec": {
   "display_name": "Python 3",
   "language": "python",
   "name": "python3"
  },
  "language_info": {
   "codemirror_mode": {
    "name": "ipython",
    "version": 3
   },
   "file_extension": ".py",
   "mimetype": "text/x-python",
   "name": "python",
   "nbconvert_exporter": "python",
   "pygments_lexer": "ipython3",
   "version": "3.7.4"
  }
 },
 "nbformat": 4,
 "nbformat_minor": 2
}
