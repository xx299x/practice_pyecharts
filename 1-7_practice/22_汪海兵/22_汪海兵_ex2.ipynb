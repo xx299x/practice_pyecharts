{
 "cells": [
  {
   "cell_type": "code",
   "execution_count": 12,
   "metadata": {},
   "outputs": [
    {
     "ename": "NameError",
     "evalue": "name 'sqrt' is not defined",
     "output_type": "error",
     "traceback": [
      "\u001b[1;31m---------------------------------------------------------------------------\u001b[0m",
      "\u001b[1;31mNameError\u001b[0m                                 Traceback (most recent call last)",
      "\u001b[1;32m<ipython-input-12-526893a353c8>\u001b[0m in \u001b[0;36m<module>\u001b[1;34m\u001b[0m\n\u001b[0;32m      7\u001b[0m     \u001b[1;32mreturn\u001b[0m\u001b[1;33m(\u001b[0m\u001b[0mx1\u001b[0m\u001b[1;33m,\u001b[0m\u001b[0mx2\u001b[0m\u001b[1;33m)\u001b[0m\u001b[1;33m\u001b[0m\u001b[1;33m\u001b[0m\u001b[0m\n\u001b[0;32m      8\u001b[0m \u001b[1;33m\u001b[0m\u001b[0m\n\u001b[1;32m----> 9\u001b[1;33m \u001b[0mprint\u001b[0m\u001b[1;33m(\u001b[0m\u001b[0mget_result\u001b[0m\u001b[1;33m(\u001b[0m\u001b[1;36m3\u001b[0m\u001b[1;33m,\u001b[0m\u001b[1;36m5\u001b[0m\u001b[1;33m,\u001b[0m\u001b[1;36m1\u001b[0m\u001b[1;33m)\u001b[0m\u001b[1;33m)\u001b[0m\u001b[1;33m\u001b[0m\u001b[1;33m\u001b[0m\u001b[0m\n\u001b[0m",
      "\u001b[1;32m<ipython-input-12-526893a353c8>\u001b[0m in \u001b[0;36mget_result\u001b[1;34m(a, b, c)\u001b[0m\n\u001b[0;32m      3\u001b[0m     \u001b[1;32mif\u001b[0m \u001b[0mx\u001b[0m\u001b[1;33m<=\u001b[0m\u001b[1;36m0\u001b[0m\u001b[1;33m:\u001b[0m\u001b[1;33m\u001b[0m\u001b[1;33m\u001b[0m\u001b[0m\n\u001b[0;32m      4\u001b[0m         \u001b[1;32mreturn\u001b[0m\u001b[1;34m\"error\"\u001b[0m\u001b[1;33m\u001b[0m\u001b[1;33m\u001b[0m\u001b[0m\n\u001b[1;32m----> 5\u001b[1;33m     \u001b[0mx1\u001b[0m \u001b[1;33m=\u001b[0m \u001b[1;33m(\u001b[0m\u001b[1;33m-\u001b[0m\u001b[0mb\u001b[0m\u001b[1;33m+\u001b[0m\u001b[0msqrt\u001b[0m\u001b[1;33m(\u001b[0m\u001b[0mx\u001b[0m\u001b[1;33m)\u001b[0m\u001b[1;33m)\u001b[0m\u001b[1;33m/\u001b[0m\u001b[1;36m2\u001b[0m\u001b[1;33m*\u001b[0m\u001b[0ma\u001b[0m\u001b[1;33m\u001b[0m\u001b[1;33m\u001b[0m\u001b[0m\n\u001b[0m\u001b[0;32m      6\u001b[0m     \u001b[0mx2\u001b[0m \u001b[1;33m=\u001b[0m \u001b[1;33m(\u001b[0m\u001b[1;33m-\u001b[0m\u001b[0mb\u001b[0m\u001b[1;33m-\u001b[0m\u001b[0msqrt\u001b[0m\u001b[1;33m(\u001b[0m\u001b[0mx\u001b[0m\u001b[1;33m)\u001b[0m\u001b[1;33m)\u001b[0m\u001b[1;33m/\u001b[0m\u001b[1;36m2\u001b[0m\u001b[1;33m*\u001b[0m\u001b[0ma\u001b[0m\u001b[1;33m\u001b[0m\u001b[1;33m\u001b[0m\u001b[0m\n\u001b[0;32m      7\u001b[0m     \u001b[1;32mreturn\u001b[0m\u001b[1;33m(\u001b[0m\u001b[0mx1\u001b[0m\u001b[1;33m,\u001b[0m\u001b[0mx2\u001b[0m\u001b[1;33m)\u001b[0m\u001b[1;33m\u001b[0m\u001b[1;33m\u001b[0m\u001b[0m\n",
      "\u001b[1;31mNameError\u001b[0m: name 'sqrt' is not defined"
     ]
    }
   ],
   "source": [
    "def get_result(a,b,c):\n",
    "    x= b*b - 4*a*c\n",
    "    if x<=0:\n",
    "        return\"error\"\n",
    "    x1 = (-b+5sqrt(x))/2*a\n",
    "    x2 = (-b-sqrt(x))/2*a\n",
    "    return(x1,x2)\n",
    "    \n",
    "print(get_result(3,5,1))\n"
   ]
  },
  {
   "cell_type": "code",
   "execution_count": 19,
   "metadata": {},
   "outputs": [
    {
     "name": "stdout",
     "output_type": "stream",
     "text": [
      "三角形的一边长5\n",
      "三角形的第二边长5\n",
      "三角形的第三边长4\n",
      "三角形的面积等于 9.16515138991168\n"
     ]
    }
   ],
   "source": [
    "import math\n",
    "a=int(input('三角形的一边长'))\n",
    "b=int(input('三角形的第二边长'))\n",
    "c=int(input('三角形的第三边长'))\n",
    "\n",
    "p =( a+b+c)/2\n",
    "\n",
    "s = math.sqrt(p*(p-a)*(p-b)*(p-c))\n",
    "print('三角形的面积等于',s)\n"
   ]
  },
  {
   "cell_type": "code",
   "execution_count": null,
   "metadata": {},
   "outputs": [],
   "source": [
    "b=str(input(‘请输入一个英文字母’))\n",
    "if  ‘a’ <= b <=’z’:\n",
    "print(是)\n",
    "else ‘A’<=b<=’Z’:\n",
    "print(不是)\n",
    "print(‘这个英文字母’b’小写字母’) \n"
   ]
  },
  {
   "cell_type": "code",
   "execution_count": null,
   "metadata": {},
   "outputs": [],
   "source": [
    "a=0\n",
    "list1 = list( a )\n",
    "count1 = list1.count( \"\\\\\" )   # 统计字符串中 \\\\ 出现的次数\n",
    "print( count1 )\n"
   ]
  },
  {
   "cell_type": "code",
   "execution_count": null,
   "metadata": {},
   "outputs": [],
   "source": [
    "5\n",
    "a=int(input(‘请输入第一个整数’))\n",
    "b=int(input(‘请输入第二个整数’))\n",
    "if a>b:\n",
    "    print(‘a值最大’)\n",
    "else:\n",
    "    print(‘b值最大’)\n",
    "\n"
   ]
  },
  {
   "cell_type": "code",
   "execution_count": null,
   "metadata": {},
   "outputs": [],
   "source": [
    "6\n",
    "b=str(input(‘请输入一个英文字母’))\n",
    "if  ‘a’ <= b <=’z’:\n",
    "print(b)\n",
    "else ‘A’<=b<=’Z’:\n",
    "    print(b ) \n"
   ]
  },
  {
   "cell_type": "code",
   "execution_count": null,
   "metadata": {},
   "outputs": [],
   "source": [
    "years = int(input(\"请输入查询的年份： \"))\n",
    "if years % 4 == 0 and years % 100 != 0:\n",
    "    print(years, \"普通闰年\")\n",
    "elif years % 400 == 0:\n",
    "    print(years, \"是世纪闰年\")\n",
    "else:\n",
    "print(\"不是闰年\")\n"
   ]
  },
  {
   "cell_type": "code",
   "execution_count": null,
   "metadata": {},
   "outputs": [],
   "source": [
    "8\n",
    "a = int(input('请输入第一个整数：'))\n",
    " b = int(input('请输入第二个整数：'))\n",
    "c = int(input('请输入第三个整数：'))\n",
    " if a >  b > c:\n",
    " \tprint(c,b,a)\n",
    "    elif a > c > b:\n",
    "\tprint(b, c, a)\n",
    "    elif b > a > c:\n",
    " \tprint(c, a, b)\n",
    "    elif b > c > a:\n",
    " \tprint(a, c, b)\n",
    "    elif c > a > b:\n",
    " \tprint(b, a, c)\n",
    "    else:\n",
    " \tprint(a, b, c)\n"
   ]
  },
  {
   "cell_type": "code",
   "execution_count": null,
   "metadata": {},
   "outputs": [],
   "source": [
    "def min(x, y, z):\n",
    "    min = x\n",
    "    if x>y>z:\n",
    "        min = z\n",
    "    else x>z>y:\n",
    "        min = y\n",
    "    elif:\n",
    "        min = z\n",
    "return ( min)\n",
    "print(min’是最小值’)\n",
    "\n"
   ]
  },
  {
   "cell_type": "code",
   "execution_count": null,
   "metadata": {},
   "outputs": [],
   "source": []
  }
 ],
 "metadata": {
  "kernelspec": {
   "display_name": "Python 3",
   "language": "python",
   "name": "python3"
  },
  "language_info": {
   "codemirror_mode": {
    "name": "ipython",
    "version": 3
   },
   "file_extension": ".py",
   "mimetype": "text/x-python",
   "name": "python",
   "nbconvert_exporter": "python",
   "pygments_lexer": "ipython3",
   "version": "3.7.1"
  }
 },
 "nbformat": 4,
 "nbformat_minor": 2
}
