{
 "cells": [
  {
   "cell_type": "markdown",
   "metadata": {},
   "source": [
    "# 1． 编写一个程序建立一个文本文件 abc.txt，向其中写入”abc\\n”并存盘，查看 abc.txt 是几个字节的文件，说明为什么。"
   ]
  },
  {
   "cell_type": "code",
   "execution_count": 2,
   "metadata": {},
   "outputs": [
    {
     "name": "stdout",
     "output_type": "stream",
     "text": [
      "abc\n",
      " 4\n"
     ]
    }
   ],
   "source": [
    "def writeFile():\n",
    "    f=open(\"abc.txt\",\"wt\")\n",
    "    f.write(\"abc\\n\")               #abc分别为一个字节加上换行符\\n一共四个字符\n",
    "    f.close()\n",
    "def readFile():\n",
    "    f=open(\"abc.txt\",\"rt\")\n",
    "    s=f.readline()\n",
    "    print(s,len(s))\n",
    "    f.close()\n",
    "writeFile()\n",
    "readFile()\n",
    "    "
   ]
  },
  {
   "cell_type": "markdown",
   "metadata": {},
   "source": [
    "# 2． 用 Windows 记事本编写一个文本文件 xyz.txt，在其中存入”123”后打”Enter”键换行，存盘后查看文件应是 5 个字节长，用 read(1)读该文件，看看要读 5 次还是 4 次就把文件读完，为什么？编写程序验证。"
   ]
  },
  {
   "cell_type": "code",
   "execution_count": 5,
   "metadata": {},
   "outputs": [
    {
     "name": "stdout",
     "output_type": "stream",
     "text": [
      "123\n",
      "2\n"
     ]
    }
   ],
   "source": [
    "def readFile():\n",
    "    f=open(\"C:/Users/86176/Desktop/xyz.txt\",\"rt\")\n",
    "    while True :\n",
    "        s=f.readline()\n",
    "        i=1\n",
    "        if s!=\"\":\n",
    "            i=i+1\n",
    "            print(s,end=\"\")\n",
    "            print(i)\n",
    "        \n",
    "        else:\n",
    "            break\n",
    "    f.close()\n",
    "readFile()            \n",
    "\n"
   ]
  },
  {
   "cell_type": "markdown",
   "metadata": {},
   "source": [
    "# 3．编写程序查找某个单词（键盘输入）所出现的行号及该行的内容，并统计该单词在文件共出现多少次。\n"
   ]
  },
  {
   "cell_type": "code",
   "execution_count": null,
   "metadata": {},
   "outputs": [],
   "source": []
  },
  {
   "cell_type": "markdown",
   "metadata": {},
   "source": [
    "# 4．设一个文本文件 marks.txt 中存储了学生的姓名及成绩如下：\n",
    "\n",
    "张三 96\n",
    "李四 95\n",
    "……\n",
    "每行为学生姓名与成绩，编写一个程序读取这些学生的姓名与成绩并按成绩的从高到低的顺\n",
    "序输出到另外一个文件 sorted.txt 中。\n"
   ]
  },
  {
   "cell_type": "code",
   "execution_count": null,
   "metadata": {},
   "outputs": [],
   "source": []
  },
  {
   "cell_type": "markdown",
   "metadata": {},
   "source": [
    "# 5．用二进制方式创建文件 abc 并写入”abc\\r\\nxyz\\n\\r123\\r456\\n”的字符串，查看该文件有多少个字节，再用文本文件的方式打开此文件并用 fgetc 来读，看看每次读出的是什么字符。\n"
   ]
  },
  {
   "cell_type": "code",
   "execution_count": 10,
   "metadata": {},
   "outputs": [
    {
     "name": "stdout",
     "output_type": "stream",
     "text": [
      "abc\r\n",
      "xyz\n",
      "456\n",
      "\n"
     ]
    }
   ],
   "source": [
    "def write():\n",
    "    f=open(\"abc\",\"wb\")\n",
    "    f.write(\"abc\\r\\nxyz\\n\\r123\\r456\\n\".encode())\n",
    "    f.close()\n",
    "def read():\n",
    "    f=open(\"abc\",\"rb\")\n",
    "    data=f.read()\n",
    "    s=data.decode()\n",
    "    f.close()\n",
    "    print(s)\n",
    "\n",
    "\n",
    "write()\n",
    "read()\n"
   ]
  },
  {
   "cell_type": "markdown",
   "metadata": {},
   "source": [
    "# 6．用文本文件方式创建文件并写入”abc\\nxyz\\r\\n123\\r”字符串，再用二进制方式打开读取每个字节，看看每个字节是什么。"
   ]
  },
  {
   "cell_type": "code",
   "execution_count": 3,
   "metadata": {},
   "outputs": [
    {
     "name": "stdout",
     "output_type": "stream",
     "text": [
      "0x61 0x62 0x63 0xd 0xa 0x78 0x79 0x7a 0xd 0xd 0xa 0x31 0x32 0x33 0xd "
     ]
    }
   ],
   "source": [
    "def write():\n",
    "    f=open(\"txt\",\"w\")\n",
    "    f.write(\"abc\\nxyz\\r\\n123\\r\")\n",
    "    f.close()\n",
    "def read():\n",
    "    f=open(\"txt\",\"rb\")\n",
    "    data=f.read()\n",
    "    for d in data:\n",
    "        print(hex(d),end=\" \")\n",
    "    f.close()\n",
    "\n",
    "write()\n",
    "read()"
   ]
  },
  {
   "cell_type": "markdown",
   "metadata": {},
   "source": [
    "# 7. 编写一个程序，它能统计一篇英文文章中的 a~z 各个字母出现的次数（不分大小写），并按出现次数的多少按顺序输出。\n"
   ]
  },
  {
   "cell_type": "code",
   "execution_count": 19,
   "metadata": {},
   "outputs": [
    {
     "name": "stdout",
     "output_type": "stream",
     "text": [
      "输入文件：txt\n",
      "{'a': 1, 'b': 1, 'c': 1, 'd': 0, 'e': 0, 'f': 0, 'g': 0, 'h': 0, 'i': 0, 'j': 0, 'k': 0, 'l': 0, 'm': 0, 'n': 0, 'o': 0, 'p': 0, 'q': 0, 'r': 0, 's': 0, 't': 0, 'u': 0, 'v': 0, 'w': 0, 'x': 1, 'y': 1, 'z': 1}\n"
     ]
    }
   ],
   "source": [
    "def count(filename):\n",
    "    n={}\n",
    "    for i in range(26):\n",
    "        x=chr(ord('a')+i)\n",
    "        n[x]=0\n",
    "        f=open(filename,\"r\")\n",
    "        rows=f.readlines()\n",
    "    for row in rows:\n",
    "        s=row.strip(\"\\n\")\n",
    "        for x in s:\n",
    "            y=x.lower()\n",
    "            if y>='a' and y<='z':\n",
    "                n[y]=n[y]+1\n",
    "        f.close()\n",
    "    print(n)\n",
    "filename=input( \"输入文件：\")\n",
    "count(filename)\n"
   ]
  },
  {
   "cell_type": "code",
   "execution_count": null,
   "metadata": {},
   "outputs": [],
   "source": []
  }
 ],
 "metadata": {
  "kernelspec": {
   "display_name": "Python 3",
   "language": "python",
   "name": "python3"
  },
  "language_info": {
   "codemirror_mode": {
    "name": "ipython",
    "version": 3
   },
   "file_extension": ".py",
   "mimetype": "text/x-python",
   "name": "python",
   "nbconvert_exporter": "python",
   "pygments_lexer": "ipython3",
   "version": "3.7.4"
  }
 },
 "nbformat": 4,
 "nbformat_minor": 2
}
